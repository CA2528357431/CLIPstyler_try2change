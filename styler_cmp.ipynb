{
 "cells": [
  {
   "cell_type": "code",
   "execution_count": 1,
   "metadata": {
    "collapsed": true
   },
   "outputs": [],
   "source": [
    "import torch\n",
    "import torch.optim as optim\n",
    "import torchvision\n",
    "import torchvision.transforms as transforms\n",
    "from PIL import Image\n",
    "\n",
    "from network.styler import Unet\n",
    "from loss.loss import CLIPLoss\n",
    "from utils.func import get_features,vgg_normalize\n",
    "\n",
    "import time"
   ]
  },
  {
   "cell_type": "code",
   "execution_count": 2,
   "outputs": [],
   "source": [
    "device = \"cuda\" if torch.cuda.is_available() else \"cpu\"\n",
    "\n",
    "lr1 = 0.0001\n",
    "lr2 = 0.0005\n",
    "# model = Unet(device)\n",
    "model = Unet().to(device)\n",
    "cliploss = CLIPLoss(device)\n",
    "# mseloss = torch.nn.MSELoss()\n",
    "vgg = torchvision.models.vgg19(pretrained=True).features.to(device)\n",
    "for x in vgg.parameters():\n",
    "    x.requires_grad = False\n",
    "\n",
    "\n",
    "topil = transforms.ToPILImage()\n",
    "topic = transforms.ToTensor()\n",
    "\n",
    "dir_lambda = 500\n",
    "content_lambda = 150\n",
    "patch_lambda = 9000\n",
    "norm_lambda = 0.002\n",
    "gol_lambda = 300"
   ],
   "metadata": {
    "collapsed": false,
    "pycharm": {
     "name": "#%%\n"
    }
   }
  },
  {
   "cell_type": "code",
   "execution_count": 3,
   "outputs": [],
   "source": [
    "file_cmp_outer = open(\"neo_cmp_outer.txt\", \"r\")\n",
    "loss_li = file_cmp_outer.readline()\n",
    "loss_li = [float(x) for x in loss_li.split()]\n",
    "if not loss_li:\n",
    "    loss_li = [0]*200\n",
    "\n",
    "cur_times = int(file_cmp_outer.readline())"
   ],
   "metadata": {
    "collapsed": false,
    "pycharm": {
     "name": "#%%\n"
    }
   }
  },
  {
   "cell_type": "code",
   "execution_count": 4,
   "outputs": [],
   "source": [
    "def train(iteration1, iteration2, pic, source, target, path):\n",
    "    input = pic\n",
    "\n",
    "    # opt = optim.Adam(model.parameters(), lr=lr1)\n",
    "    # for i in range(iteration1):\n",
    "    #     opt.zero_grad()\n",
    "    #     neo_pic = model(input)\n",
    "    #     loss = mseloss(pic, neo_pic) * 1\n",
    "    #     loss.backward()\n",
    "    #     opt.step()\n",
    "    #     pil = topil(neo_pic.squeeze(0).cpu())\n",
    "    #     print(\"iter:\", i + 1, \"loss:\", loss.item())\n",
    "    #     if ((i + 1) % 50) == 0:\n",
    "    #         pil.save(f\"./pic1/{(i + 1) // 50}.jpg\")\n",
    "    #\n",
    "    #\n",
    "    # torch.save(model,'unet.pth')\n",
    "\n",
    "\n",
    "    # model = torch.load('unet.pth')\n",
    "\n",
    "    pic_f = get_features(vgg_normalize(pic),vgg)\n",
    "\n",
    "    opt = optim.Adam(model.parameters(), lr=lr2)\n",
    "    sch = torch.optim.lr_scheduler.StepLR(opt, step_size=100, gamma=0.5)\n",
    "    for i in range(iteration2):\n",
    "\n",
    "\n",
    "        opt.zero_grad()\n",
    "        neo_pic = model(input)\n",
    "\n",
    "        dir_loss = 0\n",
    "        dir_loss += cliploss.forward_dir(pic, source, neo_pic, target)\n",
    "\n",
    "        gol_loss = 0\n",
    "        # gol_loss += cliploss.forward_gol(pic, source, neo_pic, target)\n",
    "\n",
    "        content_loss = 0\n",
    "        neo_pic_f = get_features(vgg_normalize(neo_pic), vgg)\n",
    "        content_loss += torch.mean((pic_f['conv4_2'] - neo_pic_f['conv4_2']) ** 2)\n",
    "        content_loss += torch.mean((pic_f['conv5_2'] - neo_pic_f['conv5_2']) ** 2)\n",
    "\n",
    "        patch_loss = 0\n",
    "        patch_loss += cliploss.forward_patch(pic, source, neo_pic, target)\n",
    "\n",
    "        norm_loss = 0\n",
    "        norm_loss += cliploss.forward_prior(pic, source, neo_pic, target)\n",
    "\n",
    "        loss = dir_loss * dir_lambda + \\\n",
    "               content_loss * content_lambda + \\\n",
    "               patch_loss * patch_lambda + \\\n",
    "               norm_loss * norm_lambda + \\\n",
    "               gol_loss * gol_lambda\n",
    "\n",
    "        loss.backward()\n",
    "        opt.step()\n",
    "        sch.step()\n",
    "\n",
    "        loss_li[i]+=(loss.item())\n",
    "\n",
    "        print(\"iter:\", i + 1, \"loss:\", loss.item())\n",
    "        with torch.no_grad():\n",
    "            neo_pic = model(input)\n",
    "            pil = topil(neo_pic.squeeze(0).cpu())\n",
    "            pil = transforms.Resize(size=ori_size, interpolation=Image.BICUBIC)(pil)\n",
    "            pil.save(f\"mid.jpg\")\n",
    "\n",
    "        # pil = topil(neo_pic.squeeze(0).cpu())\n",
    "        # if ((i + 1) % 10) == 0:\n",
    "        #     pil.save(f\"./pic2/{(i + 1) // 10}.jpg\")\n",
    "\n",
    "    # neo_pic = model(input)\n",
    "    # pil = topil(neo_pic.squeeze(0).cpu())\n",
    "    # # pil.save(f\"{source}-{target}.jpg\")\n",
    "    # pil.save(path)"
   ],
   "metadata": {
    "collapsed": false,
    "pycharm": {
     "name": "#%%\n"
    }
   }
  },
  {
   "cell_type": "code",
   "execution_count": 5,
   "outputs": [
    {
     "name": "stderr",
     "output_type": "stream",
     "text": [
      "C:\\Users\\win10\\AppData\\Local\\Temp\\ipykernel_26940\\511628581.py:3: DeprecationWarning: BICUBIC is deprecated and will be removed in Pillow 10 (2023-07-01). Use Resampling.BICUBIC instead.\n",
      "  pil = transforms.Resize(size=(512, 512), interpolation=Image.BICUBIC)(pil)\n",
      "E:\\Anaconda\\envs\\sth\\lib\\site-packages\\torchvision\\transforms\\transforms.py:257: UserWarning: Argument interpolation should be of type InterpolationMode instead of int. Please, use InterpolationMode enum.\n",
      "  warnings.warn(\n"
     ]
    }
   ],
   "source": [
    "pil = Image.open(f\"./source_pic/face5.jpg\")\n",
    "ori_size = pil.size[::-1]\n",
    "pil = transforms.Resize(size=(512, 512), interpolation=Image.BICUBIC)(pil)\n",
    "pic = topic(pil).unsqueeze(0).to(device)\n",
    "# pic = torch.ones(1, 3, 512, 512).to(device)\n",
    "pic.requires_grad = False"
   ],
   "metadata": {
    "collapsed": false,
    "pycharm": {
     "name": "#%%\n"
    }
   }
  },
  {
   "cell_type": "code",
   "execution_count": 6,
   "outputs": [],
   "source": [
    "source = \"a photo\"\n",
    "# source = \"black swan\"\n",
    "\n",
    "target = \"Metal\"\n",
    "# target = \"Neon Light\"\n",
    "# target = \"white swan\"\n",
    "# target = \"Pixar\"\n",
    "# target = \"pop art of night city\"\n",
    "# target = \"Van Gogh\"\n",
    "# target = \"the scream by Edvard Munch\"\n",
    "# target = \"Monet\"\n",
    "# target = \"cyberpunk 2077\"\n",
    "# target = \"Chinese Ink and wash painting\"\n",
    "# target = \"fire\"\n",
    "# target = \"woman\"\n",
    "# target = \"man with dark black skin and black hair\"\n",
    "# target = \"gold boat\"\n",
    "# target = \"The great wave off kanagawa by Hokusai\"\n",
    "# target = \"angry peppa pig\"\n",
    "\n",
    "path = \"result/result3.jpg\""
   ],
   "metadata": {
    "collapsed": false,
    "pycharm": {
     "name": "#%%\n"
    }
   }
  },
  {
   "cell_type": "code",
   "execution_count": 7,
   "outputs": [
    {
     "name": "stdout",
     "output_type": "stream",
     "text": [
      "iter: 1 loss: 9903.58203125\n",
      "iter: 2 loss: 9669.09765625\n",
      "iter: 3 loss: 9684.96484375\n",
      "iter: 4 loss: 9552.2158203125\n",
      "iter: 5 loss: 9513.7119140625\n",
      "iter: 6 loss: 9405.232421875\n",
      "iter: 7 loss: 9377.7314453125\n",
      "iter: 8 loss: 9322.7333984375\n",
      "iter: 9 loss: 9204.244140625\n",
      "iter: 10 loss: 9170.779296875\n",
      "iter: 11 loss: 9112.720703125\n",
      "iter: 12 loss: 8997.09765625\n",
      "iter: 13 loss: 9001.7216796875\n",
      "iter: 14 loss: 8952.123046875\n",
      "iter: 15 loss: 8807.9248046875\n",
      "iter: 16 loss: 8826.5322265625\n",
      "iter: 17 loss: 8735.6279296875\n",
      "iter: 18 loss: 8588.544921875\n",
      "iter: 19 loss: 8649.8046875\n",
      "iter: 20 loss: 8527.2568359375\n",
      "iter: 21 loss: 8449.091796875\n",
      "iter: 22 loss: 8376.2666015625\n",
      "iter: 23 loss: 8366.220703125\n",
      "iter: 24 loss: 8215.931640625\n",
      "iter: 25 loss: 8118.69384765625\n",
      "iter: 26 loss: 8197.123046875\n",
      "iter: 27 loss: 8218.2392578125\n",
      "iter: 28 loss: 8118.2001953125\n",
      "iter: 29 loss: 8138.00439453125\n",
      "iter: 30 loss: 7891.71826171875\n",
      "iter: 31 loss: 7747.83642578125\n",
      "iter: 32 loss: 7580.06494140625\n",
      "iter: 33 loss: 7797.0087890625\n",
      "iter: 34 loss: 7318.873046875\n",
      "iter: 35 loss: 7392.13671875\n",
      "iter: 36 loss: 7401.4833984375\n",
      "iter: 37 loss: 7303.31787109375\n",
      "iter: 38 loss: 7172.86376953125\n",
      "iter: 39 loss: 6970.134765625\n",
      "iter: 40 loss: 6946.328125\n",
      "iter: 41 loss: 6382.96484375\n",
      "iter: 42 loss: 5697.77978515625\n",
      "iter: 43 loss: 6523.61279296875\n",
      "iter: 44 loss: 5835.64404296875\n",
      "iter: 45 loss: 6066.31005859375\n",
      "iter: 46 loss: 5697.26220703125\n",
      "iter: 47 loss: 5411.96484375\n",
      "iter: 48 loss: 5206.9208984375\n",
      "iter: 49 loss: 5205.267578125\n",
      "iter: 50 loss: 3933.457763671875\n",
      "iter: 51 loss: 4438.2568359375\n",
      "iter: 52 loss: 4849.19091796875\n",
      "iter: 53 loss: 3428.017333984375\n",
      "iter: 54 loss: 4405.09375\n",
      "iter: 55 loss: 4299.2177734375\n",
      "iter: 56 loss: 3482.318359375\n",
      "iter: 57 loss: 3380.792724609375\n",
      "iter: 58 loss: 3588.354736328125\n",
      "iter: 59 loss: 3433.923828125\n",
      "iter: 60 loss: 3967.659423828125\n",
      "iter: 61 loss: 3340.142333984375\n",
      "iter: 62 loss: 2907.315185546875\n",
      "iter: 63 loss: 3426.288330078125\n",
      "iter: 64 loss: 3495.878662109375\n",
      "iter: 65 loss: 2982.560302734375\n",
      "iter: 66 loss: 3087.385986328125\n",
      "iter: 67 loss: 2682.826904296875\n",
      "iter: 68 loss: 2950.033935546875\n",
      "iter: 69 loss: 2884.237548828125\n",
      "iter: 70 loss: 3190.7939453125\n",
      "iter: 71 loss: 2560.031494140625\n",
      "iter: 72 loss: 3236.619384765625\n",
      "iter: 73 loss: 3417.409423828125\n",
      "iter: 74 loss: 3011.592041015625\n",
      "iter: 75 loss: 3715.689453125\n",
      "iter: 76 loss: 3105.18798828125\n",
      "iter: 77 loss: 3203.480224609375\n",
      "iter: 78 loss: 2597.760498046875\n",
      "iter: 79 loss: 3096.224609375\n",
      "iter: 80 loss: 2898.324462890625\n",
      "iter: 81 loss: 1976.704833984375\n",
      "iter: 82 loss: 2991.181640625\n",
      "iter: 83 loss: 2363.6513671875\n",
      "iter: 84 loss: 2758.177978515625\n",
      "iter: 85 loss: 2154.71875\n",
      "iter: 86 loss: 2751.49853515625\n",
      "iter: 87 loss: 2659.11767578125\n",
      "iter: 88 loss: 2726.04345703125\n",
      "iter: 89 loss: 2724.932373046875\n",
      "iter: 90 loss: 1724.828125\n",
      "iter: 91 loss: 2126.21630859375\n",
      "iter: 92 loss: 2328.805419921875\n",
      "iter: 93 loss: 3012.782470703125\n",
      "iter: 94 loss: 2320.87939453125\n",
      "iter: 95 loss: 2103.4326171875\n",
      "iter: 96 loss: 2201.058349609375\n",
      "iter: 97 loss: 1701.8282470703125\n",
      "iter: 98 loss: 2481.431640625\n",
      "iter: 99 loss: 2582.245849609375\n",
      "iter: 100 loss: 2088.48828125\n",
      "iter: 101 loss: 1882.4688720703125\n",
      "iter: 102 loss: 1769.7630615234375\n",
      "iter: 103 loss: 1561.9285888671875\n",
      "iter: 104 loss: 2556.332763671875\n",
      "iter: 105 loss: 2057.3955078125\n",
      "iter: 106 loss: 1452.2579345703125\n",
      "iter: 107 loss: 2057.75341796875\n",
      "iter: 108 loss: 1548.33740234375\n",
      "iter: 109 loss: 1946.2554931640625\n",
      "iter: 110 loss: 2037.3125\n",
      "iter: 111 loss: 2344.060302734375\n",
      "iter: 112 loss: 2239.95361328125\n",
      "iter: 113 loss: 1630.750732421875\n",
      "iter: 114 loss: 1627.3353271484375\n",
      "iter: 115 loss: 1829.0162353515625\n",
      "iter: 116 loss: 1426.0745849609375\n",
      "iter: 117 loss: 2027.4921875\n",
      "iter: 118 loss: 1519.32275390625\n",
      "iter: 119 loss: 1616.5294189453125\n",
      "iter: 120 loss: 1213.7781982421875\n",
      "iter: 121 loss: 2020.4765625\n",
      "iter: 122 loss: 2001.5849609375\n",
      "iter: 123 loss: 2424.9375\n",
      "iter: 124 loss: 2112.27001953125\n",
      "iter: 125 loss: 1817.658447265625\n",
      "iter: 126 loss: 1702.6995849609375\n",
      "iter: 127 loss: 1316.4544677734375\n",
      "iter: 128 loss: 2001.7774658203125\n",
      "iter: 129 loss: 1295.61474609375\n",
      "iter: 130 loss: 1695.981201171875\n",
      "iter: 131 loss: 1488.8037109375\n",
      "iter: 132 loss: 1779.0860595703125\n",
      "iter: 133 loss: 1690.8929443359375\n",
      "iter: 134 loss: 1788.6995849609375\n",
      "iter: 135 loss: 1188.3170166015625\n",
      "iter: 136 loss: 1777.927001953125\n",
      "iter: 137 loss: 1477.5089111328125\n",
      "iter: 138 loss: 1378.9429931640625\n",
      "iter: 139 loss: 1978.860107421875\n",
      "iter: 140 loss: 1577.2275390625\n",
      "iter: 141 loss: 1867.6966552734375\n",
      "iter: 142 loss: 1471.3128662109375\n",
      "iter: 143 loss: 1867.3536376953125\n",
      "iter: 144 loss: 1770.4544677734375\n",
      "iter: 145 loss: 1371.4273681640625\n",
      "iter: 146 loss: 1678.1715087890625\n",
      "iter: 147 loss: 1664.6217041015625\n",
      "iter: 148 loss: 1560.9444580078125\n",
      "iter: 149 loss: 1370.618896484375\n",
      "iter: 150 loss: 1362.030517578125\n",
      "iter: 151 loss: 1759.2344970703125\n",
      "iter: 152 loss: 1659.15380859375\n",
      "iter: 153 loss: 1458.3397216796875\n",
      "iter: 154 loss: 1259.98681640625\n",
      "iter: 155 loss: 1658.936767578125\n",
      "iter: 156 loss: 1160.5897216796875\n",
      "iter: 157 loss: 1258.1656494140625\n",
      "iter: 158 loss: 1852.8978271484375\n",
      "iter: 159 loss: 1854.0904541015625\n",
      "iter: 160 loss: 1050.01220703125\n",
      "iter: 161 loss: 1154.209228515625\n",
      "iter: 162 loss: 1235.744384765625\n",
      "iter: 163 loss: 1939.258544921875\n",
      "iter: 164 loss: 2144.299560546875\n",
      "iter: 165 loss: 940.3568725585938\n",
      "iter: 166 loss: 1429.94677734375\n",
      "iter: 167 loss: 1433.562744140625\n",
      "iter: 168 loss: 1544.0450439453125\n",
      "iter: 169 loss: 1527.422607421875\n",
      "iter: 170 loss: 1532.1925048828125\n",
      "iter: 171 loss: 1933.2410888671875\n",
      "iter: 172 loss: 2218.675048828125\n",
      "iter: 173 loss: 1533.1373291015625\n",
      "iter: 174 loss: 1427.2578125\n",
      "iter: 175 loss: 1131.4434814453125\n",
      "iter: 176 loss: 1133.16552734375\n",
      "iter: 177 loss: 1525.4515380859375\n",
      "iter: 178 loss: 1632.6226806640625\n",
      "iter: 179 loss: 1225.0496826171875\n",
      "iter: 180 loss: 1622.620361328125\n",
      "iter: 181 loss: 1423.510498046875\n",
      "iter: 182 loss: 1526.365234375\n",
      "iter: 183 loss: 1828.7852783203125\n",
      "iter: 184 loss: 1721.2864990234375\n",
      "iter: 185 loss: 1718.9969482421875\n",
      "iter: 186 loss: 918.071533203125\n",
      "iter: 187 loss: 1516.1109619140625\n",
      "iter: 188 loss: 1409.7762451171875\n",
      "iter: 189 loss: 1511.929443359375\n",
      "iter: 190 loss: 1307.915283203125\n",
      "iter: 191 loss: 806.8309936523438\n",
      "iter: 192 loss: 1505.9537353515625\n",
      "iter: 193 loss: 1600.950927734375\n",
      "iter: 194 loss: 1403.700927734375\n",
      "iter: 195 loss: 1411.8914794921875\n",
      "iter: 196 loss: 1510.8887939453125\n",
      "iter: 197 loss: 1006.8671875\n",
      "iter: 198 loss: 1003.5858154296875\n",
      "iter: 199 loss: 998.6227416992188\n",
      "iter: 200 loss: 1396.10400390625\n",
      "usetime: 103.5076653957367\n"
     ]
    },
    {
     "name": "stderr",
     "output_type": "stream",
     "text": [
      "C:\\Users\\win10\\AppData\\Local\\Temp\\ipykernel_26940\\2798518496.py:65: DeprecationWarning: BICUBIC is deprecated and will be removed in Pillow 10 (2023-07-01). Use Resampling.BICUBIC instead.\n",
      "  pil = transforms.Resize(size=ori_size, interpolation=Image.BICUBIC)(pil)\n"
     ]
    }
   ],
   "source": [
    "start = time.time()\n",
    "train(200, 200, pic, source, target, path)\n",
    "end = time.time()\n",
    "usetime = end - start\n",
    "print(f\"usetime: {usetime}\")"
   ],
   "metadata": {
    "collapsed": false,
    "pycharm": {
     "name": "#%%\n"
    }
   }
  },
  {
   "cell_type": "code",
   "execution_count": 8,
   "outputs": [
    {
     "name": "stderr",
     "output_type": "stream",
     "text": [
      "C:\\Users\\win10\\AppData\\Local\\Temp\\ipykernel_26940\\1981065163.py:3: DeprecationWarning: BICUBIC is deprecated and will be removed in Pillow 10 (2023-07-01). Use Resampling.BICUBIC instead.\n",
      "  pil = transforms.Resize(size=ori_size, interpolation=Image.BICUBIC)(pil)\n"
     ]
    }
   ],
   "source": [
    "neo_pic = model(pic)\n",
    "pil = topil(neo_pic.squeeze(0).cpu())\n",
    "pil = transforms.Resize(size=ori_size, interpolation=Image.BICUBIC)(pil)\n",
    "pil.save(path)\n"
   ],
   "metadata": {
    "collapsed": false,
    "pycharm": {
     "name": "#%%\n"
    }
   }
  },
  {
   "cell_type": "code",
   "execution_count": 9,
   "outputs": [],
   "source": [
    "# with open(file = \"neo_cmp_outer.txt\", mode = \"w\") as file:\n",
    "#     for i in loss_li:\n",
    "#         file.write(str(i)+\" \")\n",
    "#     file.write(\"\\n\")\n",
    "#     file.write(str(cur_times+1))"
   ],
   "metadata": {
    "collapsed": false,
    "pycharm": {
     "name": "#%%\n"
    }
   }
  },
  {
   "cell_type": "code",
   "execution_count": 10,
   "outputs": [
    {
     "data": {
      "text/plain": "[<matplotlib.lines.Line2D at 0x15730061dc0>]"
     },
     "execution_count": 10,
     "metadata": {},
     "output_type": "execute_result"
    },
    {
     "data": {
      "text/plain": "<Figure size 640x480 with 1 Axes>",
      "image/png": "[encoded data removed]"
     },
     "metadata": {},
     "output_type": "display_data"
    }
   ],
   "source": [
    "import matplotlib.pyplot as plt\n",
    "\n",
    "x = [i for i in range(200)]\n",
    "loss_li = [x/(cur_times+1) for x in loss_li]\n",
    "plt.plot(x,loss_li,color=\"red\",marker=\"o\")\n",
    "\n"
   ],
   "metadata": {
    "collapsed": false,
    "pycharm": {
     "name": "#%%\n"
    }
   }
  }
 ],
 "metadata": {
  "kernelspec": {
   "display_name": "Python 3",
   "language": "python",
   "name": "python3"
  },
  "language_info": {
   "codemirror_mode": {
    "name": "ipython",
    "version": 2
   },
   "file_extension": ".py",
   "mimetype": "text/x-python",
   "name": "python",
   "nbconvert_exporter": "python",
   "pygments_lexer": "ipython2",
   "version": "2.7.6"
  }
 },
 "nbformat": 4,
 "nbformat_minor": 0
}