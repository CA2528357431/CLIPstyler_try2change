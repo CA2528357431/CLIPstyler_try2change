{
 "cells": [
  {
   "cell_type": "code",
   "execution_count": 1,
   "metadata": {
    "collapsed": true
   },
   "outputs": [],
   "source": [
    "import torch\n",
    "import torch.optim as optim\n",
    "import torchvision\n",
    "import torchvision.transforms as transforms\n",
    "from PIL import Image\n",
    "\n",
    "from network.styler import Unet\n",
    "from loss.loss import CLIPLoss\n",
    "from utils.func import get_features,vgg_normalize\n",
    "\n",
    "import time"
   ]
  },
  {
   "cell_type": "code",
   "execution_count": 2,
   "outputs": [],
   "source": [
    "device = \"cuda\" if torch.cuda.is_available() else \"cpu\"\n",
    "\n",
    "lr1 = 0.001\n",
    "lr2 = 0.0005\n",
    "# lr_fast = 0.0002\n",
    "# lr_slow = 0.00005\n",
    "\n",
    "# model = Unet(device).to(device)\n",
    "model = Unet().to(device)\n",
    "cliploss = CLIPLoss(device)\n",
    "mseloss = torch.nn.MSELoss()\n",
    "# vgg = torchvision.models.vgg19(pretrained=True).features.to(device)\n",
    "# for x in vgg.parameters():\n",
    "#     x.requires_grad = False\n",
    "\n",
    "topil = transforms.ToPILImage()\n",
    "topic = transforms.ToTensor()\n",
    "\n",
    "dir_lambda = 500\n",
    "content_lambda = 150\n",
    "patch_lambda = 9000\n",
    "norm_lambda = 0.002\n",
    "gol_lambda = 300"
   ],
   "metadata": {
    "collapsed": false,
    "pycharm": {
     "name": "#%%\n"
    }
   }
  },
  {
   "cell_type": "code",
   "execution_count": 3,
   "outputs": [],
   "source": [
    "file_u = open(\"neo.txt\", \"r\")\n",
    "loss_li = file_u.readline()\n",
    "loss_li = [float(x) for x in loss_li.split()]\n",
    "if not loss_li:\n",
    "    loss_li = [0]*100\n",
    "\n",
    "cur_times = int(file_u.readline())\n"
   ],
   "metadata": {
    "collapsed": false,
    "pycharm": {
     "name": "#%%\n"
    }
   }
  },
  {
   "cell_type": "code",
   "execution_count": 4,
   "outputs": [],
   "source": [
    "def train(iteration1, iteration2, pic, source, target):\n",
    "    input = pic\n",
    "\n",
    "    # pic_f = get_features(vgg_normalize(pic), vgg)\n",
    "    # print(model.parameters())\n",
    "    opt = optim.Adam(model.parameters(), lr=lr1)\n",
    "    for i in range(iteration1):\n",
    "        opt.zero_grad()\n",
    "        neo_pic = model(input)\n",
    "        loss = mseloss(pic, neo_pic) * 1\n",
    "\n",
    "        # loss = 0\n",
    "        # neo_pic_f = get_features(vgg_normalize(neo_pic), vgg)\n",
    "        # loss += torch.mean((pic_f['conv4_2'] - neo_pic_f['conv4_2']) ** 2)\n",
    "        # loss += torch.mean((pic_f['conv5_2'] - neo_pic_f['conv5_2']) ** 2)\n",
    "\n",
    "        loss.backward()\n",
    "        opt.step()\n",
    "\n",
    "        print(\"iter:\", i + 1, \"loss:\", loss.item())\n",
    "\n",
    "        # pil = topil(neo_pic.squeeze(0).cpu())\n",
    "        # if ((i + 1) % 50) == 0:\n",
    "        #     pil.save(f\"./pic1/{(i + 1) // 50}.jpg\")\n",
    "    # neo_pic = model(input)\n",
    "    # pil = topil(neo_pic.squeeze(0).cpu())\n",
    "    # # pil.save(f\"{source}-{target}.jpg\")\n",
    "    # pil.save(path)\n",
    "\n",
    "\n",
    "    # torch.save(model,'unet.pth')\n",
    "\n",
    "    # model = torch.load('unet.pth')\n",
    "\n",
    "    # pic_f = get_features(vgg_normalize(pic),vgg)\n",
    "\n",
    "    opt = optim.Adam(model.parameters(), lr=lr2)\n",
    "    # opt_fast = optim.Adam(model.parameters(), lr=lr2)\n",
    "    # opt_slow = optim.Adam(model.parameters(), lr=lr_fast)\n",
    "    # opt_loss = optim.Adam(cliploss.parameters(), lr=lr_slow)\n",
    "    for i in range(iteration2):\n",
    "\n",
    "\n",
    "        opt.zero_grad()\n",
    "        # opt_slow.zero_grad()\n",
    "        # opt_fast.zero_grad()\n",
    "\n",
    "        neo_pic = model(input)\n",
    "\n",
    "        dir_loss = 0\n",
    "        dir_loss += cliploss.forward_dir(pic, source, neo_pic, target)\n",
    "\n",
    "        gol_loss = 0\n",
    "        gol_loss += cliploss.forward_gol(pic, source, neo_pic, target)\n",
    "\n",
    "        content_loss = 0\n",
    "        # content_loss += mseloss(pic, neo_pic)\n",
    "        # neo_pic_f = get_features(vgg_normalize(neo_pic), vgg)\n",
    "        # content_loss += torch.mean((pic_f['conv4_2'] - neo_pic_f['conv4_2']) ** 2)\n",
    "        # content_loss += torch.mean((pic_f['conv5_2'] - neo_pic_f['conv5_2']) ** 2)\n",
    "\n",
    "        patch_loss = 0\n",
    "        patch_loss += cliploss.forward_patch(pic, source, neo_pic, target)\n",
    "\n",
    "        norm_loss = 0\n",
    "        norm_loss += cliploss.forward_prior(pic, source, neo_pic, target)\n",
    "\n",
    "        loss = dir_loss * dir_lambda + \\\n",
    "               content_loss * content_lambda + \\\n",
    "               patch_loss * patch_lambda + \\\n",
    "               norm_loss * norm_lambda + \\\n",
    "               gol_loss * gol_lambda\n",
    "\n",
    "\n",
    "\n",
    "        # patch_loss_fast,patch_loss_slow = cliploss.forward_patch_sec(pic, source, neo_pic, target)\n",
    "        # patch_loss_fast.backward(retain_graph=True)\n",
    "        # patch_loss_slow.backward(retain_graph=True)\n",
    "\n",
    "\n",
    "        loss.backward()\n",
    "        opt.step()\n",
    "\n",
    "        # opt_fast.step()\n",
    "        # opt_slow.step()\n",
    "\n",
    "        loss_li[i]+=(loss.item())\n",
    "\n",
    "        print(\"iter:\", i + 1, \"loss:\", loss.item())\n",
    "\n",
    "\n",
    "        # pil = topil(neo_pic.squeeze(0).cpu())\n",
    "        # if ((i + 1) % 10) == 0:\n",
    "        #     pil.save(f\"./pic2/{(i + 1) // 10}.jpg\")\n",
    "\n",
    "    # return  model(input)\n",
    "    # neo_pic = model(input)\n",
    "    # pil = topil(neo_pic.squeeze(0).cpu())\n",
    "    # # pil.save(f\"{source}-{target}.jpg\")\n",
    "    # pil.save(path)\n"
   ],
   "metadata": {
    "collapsed": false,
    "pycharm": {
     "name": "#%%\n"
    }
   }
  },
  {
   "cell_type": "code",
   "execution_count": 5,
   "outputs": [
    {
     "name": "stderr",
     "output_type": "stream",
     "text": [
      "C:\\Users\\win10\\AppData\\Local\\Temp\\ipykernel_44160\\4288263320.py:3: DeprecationWarning: BICUBIC is deprecated and will be removed in Pillow 10 (2023-07-01). Use Resampling.BICUBIC instead.\n",
      "  pil = transforms.Resize(size=(512, 512), interpolation=Image.BICUBIC)(pil)\n"
     ]
    }
   ],
   "source": [
    "pil = Image.open(f\"./source_pic/face2.jpeg\")\n",
    "ori_size = pil.size[::-1]\n",
    "pil = transforms.Resize(size=(512, 512), interpolation=Image.BICUBIC)(pil)\n",
    "pic = topic(pil).unsqueeze(0).to(device)\n",
    "# pic = torch.ones(1, 3, 512, 512).to(device)\n",
    "pic.requires_grad = False\n",
    "\n",
    "source = \"man\"\n",
    "target = \"woman\"\n",
    "# target = \"pop art of night city\"\n",
    "# target = \"starry night by Van Gogh\"\n",
    "# target = \"the scream by Edvard Munch\"\n",
    "# target = \"Chinese Ink and wash painting\"\n",
    "# target = \"The great wave off kanagawa by Hokusai\"\n",
    "path = \"result1.jpg\""
   ],
   "metadata": {
    "collapsed": false,
    "pycharm": {
     "name": "#%%\n"
    }
   }
  },
  {
   "cell_type": "code",
   "execution_count": 6,
   "outputs": [
    {
     "name": "stderr",
     "output_type": "stream",
     "text": [
      "E:\\Anaconda\\envs\\sth\\lib\\site-packages\\torch\\nn\\functional.py:3060: UserWarning: Default upsampling behavior when mode=bilinear is changed to align_corners=False since 0.4.0. Please specify align_corners=True if the old behavior is desired. See the documentation of nn.Upsample for details.\n",
      "  warnings.warn(\"Default upsampling behavior when mode={} is changed \"\n"
     ]
    },
    {
     "name": "stdout",
     "output_type": "stream",
     "text": [
      "iter: 1 loss: 0.14234063029289246\n",
      "iter: 2 loss: 0.1069144532084465\n",
      "iter: 3 loss: 0.08757026493549347\n",
      "iter: 4 loss: 0.07309681177139282\n",
      "iter: 5 loss: 0.06229148432612419\n",
      "iter: 6 loss: 0.05296371132135391\n",
      "iter: 7 loss: 0.045060575008392334\n",
      "iter: 8 loss: 0.038136258721351624\n",
      "iter: 9 loss: 0.031086549162864685\n",
      "iter: 10 loss: 0.024987690150737762\n",
      "iter: 11 loss: 0.019626252353191376\n",
      "iter: 12 loss: 0.015118088573217392\n",
      "iter: 13 loss: 0.010734958574175835\n",
      "iter: 14 loss: 0.006775034125894308\n",
      "iter: 15 loss: 0.004229745361953974\n",
      "iter: 16 loss: 0.003991636447608471\n",
      "iter: 17 loss: 0.004917659796774387\n",
      "iter: 18 loss: 0.005414718296378851\n",
      "iter: 19 loss: 0.005169674754142761\n",
      "iter: 20 loss: 0.0051515912637114525\n",
      "iter: 21 loss: 0.0045612589456140995\n",
      "iter: 22 loss: 0.0038250915240496397\n",
      "iter: 23 loss: 0.003478136844933033\n",
      "iter: 24 loss: 0.0033160573802888393\n",
      "iter: 25 loss: 0.003052894724532962\n",
      "iter: 26 loss: 0.0027398427482694387\n",
      "iter: 27 loss: 0.002465183613821864\n",
      "iter: 28 loss: 0.002151123248040676\n",
      "iter: 29 loss: 0.001927983365021646\n",
      "iter: 30 loss: 0.0017784405499696732\n",
      "iter: 31 loss: 0.0016463135834783316\n",
      "iter: 32 loss: 0.001605871133506298\n",
      "iter: 33 loss: 0.0015671607106924057\n",
      "iter: 34 loss: 0.001503205276094377\n",
      "iter: 35 loss: 0.0014387009432539344\n",
      "iter: 36 loss: 0.0013883020728826523\n",
      "iter: 37 loss: 0.0013366967905312777\n",
      "iter: 38 loss: 0.0013017667224630713\n",
      "iter: 39 loss: 0.0012514329282566905\n",
      "iter: 40 loss: 0.0011997352121397853\n",
      "iter: 41 loss: 0.0011523576686158776\n",
      "iter: 42 loss: 0.0010905253002420068\n",
      "iter: 43 loss: 0.0010492004221305251\n",
      "iter: 44 loss: 0.0010024604853242636\n",
      "iter: 45 loss: 0.0009787394665181637\n",
      "iter: 46 loss: 0.0009486852213740349\n",
      "iter: 47 loss: 0.0009242224041372538\n",
      "iter: 48 loss: 0.000902527361176908\n",
      "iter: 49 loss: 0.0008841445669531822\n",
      "iter: 50 loss: 0.0008617191342636943\n",
      "iter: 51 loss: 0.0008403640240430832\n",
      "iter: 52 loss: 0.0008262693881988525\n",
      "iter: 53 loss: 0.0008098359103314579\n",
      "iter: 54 loss: 0.0007933080196380615\n",
      "iter: 55 loss: 0.0007742560701444745\n",
      "iter: 56 loss: 0.0007570649031549692\n",
      "iter: 57 loss: 0.0007419289322569966\n",
      "iter: 58 loss: 0.0007248272886499763\n",
      "iter: 59 loss: 0.0007101049413904548\n",
      "iter: 60 loss: 0.0006986693479120731\n",
      "iter: 61 loss: 0.0006868077325634658\n",
      "iter: 62 loss: 0.0006734539638273418\n",
      "iter: 63 loss: 0.00066230574157089\n",
      "iter: 64 loss: 0.0006516416324302554\n",
      "iter: 65 loss: 0.0006413310766220093\n",
      "iter: 66 loss: 0.0006322077242657542\n",
      "iter: 67 loss: 0.0006224214448593557\n",
      "iter: 68 loss: 0.0006116295116953552\n",
      "iter: 69 loss: 0.0006013864185661077\n",
      "iter: 70 loss: 0.0005928276223130524\n",
      "iter: 71 loss: 0.0005841524689458311\n",
      "iter: 72 loss: 0.0005756801692768931\n",
      "iter: 73 loss: 0.0005673508276231587\n",
      "iter: 74 loss: 0.0005594929680228233\n",
      "iter: 75 loss: 0.000551651872228831\n",
      "iter: 76 loss: 0.0005444808630272746\n",
      "iter: 77 loss: 0.0005375110195018351\n",
      "iter: 78 loss: 0.0005307206301949918\n",
      "iter: 79 loss: 0.0005241184262558818\n",
      "iter: 80 loss: 0.0005180356092751026\n",
      "iter: 81 loss: 0.0005120948771946132\n",
      "iter: 82 loss: 0.000506215263158083\n",
      "iter: 83 loss: 0.0005002261605113745\n",
      "iter: 84 loss: 0.0004945434629917145\n",
      "iter: 85 loss: 0.0004891828866675496\n",
      "iter: 86 loss: 0.0004840774927288294\n",
      "iter: 87 loss: 0.0004789195372723043\n",
      "iter: 88 loss: 0.00047379755415022373\n",
      "iter: 89 loss: 0.0004686809261329472\n",
      "iter: 90 loss: 0.0004637242527678609\n",
      "iter: 91 loss: 0.00045899051474407315\n",
      "iter: 92 loss: 0.00045433075865730643\n",
      "iter: 93 loss: 0.00044965287088416517\n",
      "iter: 94 loss: 0.0004449983243830502\n",
      "iter: 95 loss: 0.0004404975916258991\n",
      "iter: 96 loss: 0.0004361070168670267\n",
      "iter: 97 loss: 0.0004318461287766695\n",
      "iter: 98 loss: 0.00042762537486851215\n",
      "iter: 99 loss: 0.0004234137886669487\n",
      "iter: 100 loss: 0.0004193023487459868\n",
      "iter: 1 loss: 9523.7138671875\n",
      "iter: 2 loss: 8931.6953125\n",
      "iter: 3 loss: 8471.431640625\n",
      "iter: 4 loss: 8247.419921875\n",
      "iter: 5 loss: 7759.4091796875\n",
      "iter: 6 loss: 7523.40234375\n",
      "iter: 7 loss: 7567.3994140625\n",
      "iter: 8 loss: 7539.3974609375\n",
      "iter: 9 loss: 7423.3955078125\n",
      "iter: 10 loss: 7399.39599609375\n",
      "iter: 11 loss: 7135.39697265625\n",
      "iter: 12 loss: 7135.39794921875\n",
      "iter: 13 loss: 7235.3984375\n",
      "iter: 14 loss: 7071.400390625\n",
      "iter: 15 loss: 6975.40234375\n",
      "iter: 16 loss: 6963.4033203125\n",
      "iter: 17 loss: 7087.4052734375\n",
      "iter: 18 loss: 7103.4072265625\n",
      "iter: 19 loss: 6867.408203125\n",
      "iter: 20 loss: 6831.4091796875\n",
      "iter: 21 loss: 7015.4111328125\n",
      "iter: 22 loss: 6675.41357421875\n",
      "iter: 23 loss: 6715.4150390625\n",
      "iter: 24 loss: 6691.4169921875\n",
      "iter: 25 loss: 6703.41845703125\n",
      "iter: 26 loss: 6655.4189453125\n",
      "iter: 27 loss: 6579.419921875\n",
      "iter: 28 loss: 6547.42138671875\n",
      "iter: 29 loss: 6635.42236328125\n",
      "iter: 30 loss: 6519.423828125\n",
      "iter: 31 loss: 6599.42626953125\n",
      "iter: 32 loss: 6639.42822265625\n",
      "iter: 33 loss: 6667.42919921875\n",
      "iter: 34 loss: 6451.4306640625\n",
      "iter: 35 loss: 6523.43115234375\n",
      "iter: 36 loss: 6251.43017578125\n",
      "iter: 37 loss: 6539.4296875\n",
      "iter: 38 loss: 6547.431640625\n",
      "iter: 39 loss: 6331.43359375\n",
      "iter: 40 loss: 6539.43603515625\n",
      "iter: 41 loss: 6467.4404296875\n",
      "iter: 42 loss: 6199.443359375\n",
      "iter: 43 loss: 6535.4453125\n",
      "iter: 44 loss: 6187.44580078125\n",
      "iter: 45 loss: 6351.44677734375\n",
      "iter: 46 loss: 6319.44775390625\n",
      "iter: 47 loss: 6179.4482421875\n",
      "iter: 48 loss: 6071.4501953125\n",
      "iter: 49 loss: 6103.44873046875\n",
      "iter: 50 loss: 6199.44775390625\n",
      "iter: 51 loss: 6359.44921875\n",
      "iter: 52 loss: 6227.45166015625\n",
      "iter: 53 loss: 6259.45166015625\n",
      "iter: 54 loss: 6071.4521484375\n",
      "iter: 55 loss: 6111.45458984375\n",
      "iter: 56 loss: 6059.4560546875\n",
      "iter: 57 loss: 6159.45703125\n",
      "iter: 58 loss: 6215.45849609375\n",
      "iter: 59 loss: 6247.46044921875\n",
      "iter: 60 loss: 5839.46240234375\n",
      "iter: 61 loss: 6007.46435546875\n",
      "iter: 62 loss: 5883.46533203125\n",
      "iter: 63 loss: 5815.4658203125\n",
      "iter: 64 loss: 5975.4658203125\n",
      "iter: 65 loss: 5863.466796875\n",
      "iter: 66 loss: 6087.4697265625\n",
      "iter: 67 loss: 6083.4736328125\n",
      "iter: 68 loss: 5783.474609375\n",
      "iter: 69 loss: 5899.47412109375\n",
      "iter: 70 loss: 5835.4765625\n",
      "iter: 71 loss: 5971.47998046875\n",
      "iter: 72 loss: 6175.482421875\n",
      "iter: 73 loss: 5683.4814453125\n",
      "iter: 74 loss: 5783.4814453125\n",
      "iter: 75 loss: 5839.48291015625\n",
      "iter: 76 loss: 5655.484375\n",
      "iter: 77 loss: 5691.484375\n",
      "iter: 78 loss: 5715.4833984375\n",
      "iter: 79 loss: 5899.48095703125\n",
      "iter: 80 loss: 5847.47900390625\n",
      "iter: 81 loss: 6023.47998046875\n",
      "iter: 82 loss: 5823.48291015625\n",
      "iter: 83 loss: 5667.484375\n",
      "iter: 84 loss: 5759.48681640625\n",
      "iter: 85 loss: 5811.48828125\n",
      "iter: 86 loss: 5683.48974609375\n",
      "iter: 87 loss: 5763.49365234375\n",
      "iter: 88 loss: 5875.49365234375\n",
      "iter: 89 loss: 5771.4921875\n",
      "iter: 90 loss: 5763.49267578125\n",
      "iter: 91 loss: 5599.49462890625\n",
      "iter: 92 loss: 5619.49951171875\n",
      "iter: 93 loss: 5539.5029296875\n",
      "iter: 94 loss: 5543.50244140625\n",
      "iter: 95 loss: 5759.5\n",
      "iter: 96 loss: 5583.50048828125\n",
      "iter: 97 loss: 5775.50146484375\n",
      "iter: 98 loss: 5615.5048828125\n",
      "iter: 99 loss: 5751.50732421875\n",
      "iter: 100 loss: 5667.50732421875\n",
      "usetime: 84.60175776481628\n"
     ]
    }
   ],
   "source": [
    "start = time.time()\n",
    "train(100, 100, pic, source, target)\n",
    "end = time.time()\n",
    "usetime = end - start\n",
    "print(f\"usetime: {usetime}\")"
   ],
   "metadata": {
    "collapsed": false,
    "pycharm": {
     "name": "#%%\n"
    }
   }
  },
  {
   "cell_type": "code",
   "execution_count": 7,
   "outputs": [
    {
     "name": "stderr",
     "output_type": "stream",
     "text": [
      "C:\\Users\\win10\\AppData\\Local\\Temp\\ipykernel_44160\\3060622835.py:3: DeprecationWarning: BICUBIC is deprecated and will be removed in Pillow 10 (2023-07-01). Use Resampling.BICUBIC instead.\n",
      "  pil = transforms.Resize(size=ori_size, interpolation=Image.BICUBIC)(pil)\n"
     ]
    }
   ],
   "source": [
    "neo_pic = model(pic)\n",
    "pil = topil(neo_pic.squeeze(0).cpu())\n",
    "pil = transforms.Resize(size=ori_size, interpolation=Image.BICUBIC)(pil)\n",
    "pil.save(path)\n",
    "\n",
    "\n",
    "\n",
    "# 186.4968602657318\n"
   ],
   "metadata": {
    "collapsed": false,
    "pycharm": {
     "name": "#%%\n"
    }
   }
  },
  {
   "cell_type": "code",
   "execution_count": 8,
   "outputs": [],
   "source": [
    "with open(file = \"neo.txt\", mode = \"w\") as file:\n",
    "    for i in loss_li:\n",
    "        file.write(str(i)+\" \")\n",
    "    file.write(\"\\n\")\n",
    "    file.write(str(cur_times+1))\n"
   ],
   "metadata": {
    "collapsed": false,
    "pycharm": {
     "name": "#%%\n"
    }
   }
  },
  {
   "cell_type": "code",
   "execution_count": 9,
   "outputs": [
    {
     "data": {
      "text/plain": "[<matplotlib.lines.Line2D at 0x23c0f440f10>]"
     },
     "execution_count": 9,
     "metadata": {},
     "output_type": "execute_result"
    },
    {
     "data": {
      "text/plain": "<Figure size 640x480 with 1 Axes>",
      "image/png": "[encoded data removed]"
     },
     "metadata": {},
     "output_type": "display_data"
    }
   ],
   "source": [
    "import matplotlib.pyplot as plt\n",
    "\n",
    "x = [i for i in range(100)]\n",
    "loss_li = [x/(cur_times+1) for x in loss_li]\n",
    "plt.plot(x,loss_li,color=\"red\",marker=\"o\")\n",
    "\n",
    "\n"
   ],
   "metadata": {
    "collapsed": false,
    "pycharm": {
     "name": "#%%\n"
    }
   }
  }
 ],
 "metadata": {
  "kernelspec": {
   "display_name": "Python 3",
   "language": "python",
   "name": "python3"
  },
  "language_info": {
   "codemirror_mode": {
    "name": "ipython",
    "version": 2
   },
   "file_extension": ".py",
   "mimetype": "text/x-python",
   "name": "python",
   "nbconvert_exporter": "python",
   "pygments_lexer": "ipython2",
   "version": "2.7.6"
  }
 },
 "nbformat": 4,
 "nbformat_minor": 0
}