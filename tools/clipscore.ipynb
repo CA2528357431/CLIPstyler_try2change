{
 "cells": [
  {
   "cell_type": "code",
   "execution_count": 1,
   "outputs": [],
   "source": [
    "from PIL import Image\n",
    "import numpy as np\n",
    "\n",
    "import torch\n",
    "import torch.nn\n",
    "import torch.optim as optim\n",
    "from torchvision import transforms, models\n",
    "\n",
    "import network.styler as StyleNet\n",
    "\n",
    "import utils.func as func\n",
    "\n",
    "\n",
    "import clip\n",
    "import torch.nn.functional as F\n",
    "from utils.text_templates import imagenet_templates\n",
    "\n",
    "import random\n",
    "\n",
    "from PIL import Image \n",
    "import PIL \n",
    "from torchvision import utils as vutils\n",
    "import argparse\n",
    "from torchvision.transforms.functional import adjust_contrast\n",
    "\n",
    "from matplotlib import pyplot as plt"
   ],
   "metadata": {
    "collapsed": false,
    "pycharm": {
     "name": "#%%\n"
    }
   }
  },
  {
   "cell_type": "code",
   "execution_count": 2,
   "outputs": [],
   "source": [
    "topil = transforms.ToPILImage()\n",
    "topic = transforms.ToTensor()\n"
   ],
   "metadata": {
    "collapsed": false,
    "pycharm": {
     "name": "#%%\n"
    }
   }
  },
  {
   "cell_type": "code",
   "execution_count": 3,
   "outputs": [],
   "source": [
    "def random_patch(img, size):\n",
    "\n",
    "\n",
    "\n",
    "        channels, height, width = img.shape\n",
    "        half = size // 2\n",
    "\n",
    "        point_x = random.randint(half, width - half)\n",
    "        point_y = random.randint(half, height - half)\n",
    "\n",
    "        patch = img[:, point_y - half:point_y + half, point_x - half:point_x + half].cpu()\n",
    "\n",
    "        pil = topil(patch)\n",
    "\n",
    "        return pil"
   ],
   "metadata": {
    "collapsed": false,
    "pycharm": {
     "name": "#%%\n"
    }
   }
  },
  {
   "cell_type": "code",
   "execution_count": 4,
   "outputs": [],
   "source": [
    "model,pre = clip.load('ViT-B/32', device=\"cuda\")"
   ],
   "metadata": {
    "collapsed": false,
    "pycharm": {
     "name": "#%%\n"
    }
   }
  },
  {
   "cell_type": "code",
   "execution_count": 5,
   "outputs": [],
   "source": [
    "score_func = torch.nn.CosineSimilarity()\n",
    "\n"
   ],
   "metadata": {
    "collapsed": false,
    "pycharm": {
     "name": "#%%\n"
    }
   }
  },
  {
   "cell_type": "code",
   "execution_count": 6,
   "outputs": [],
   "source": [
    "def get_patch_score(path, text):\n",
    "    pic1 = topic(Image.open(path))\n",
    "    size1 = random.randint(32,112)*2\n",
    "    p1 = pre(random_patch(pic1,size1)).unsqueeze(0).to(\"cuda\")\n",
    "    v1 = model.encode_image(p1)\n",
    "\n",
    "    text = [text]\n",
    "    token = clip.tokenize(text).to(\"cuda\")\n",
    "    v2 = model.encode_text(token)\n",
    "\n",
    "    res = score_func(v1,v2)\n",
    "\n",
    "    return res.item()\n"
   ],
   "metadata": {
    "collapsed": false,
    "pycharm": {
     "name": "#%%\n"
    }
   }
  },
  {
   "cell_type": "code",
   "execution_count": 7,
   "outputs": [],
   "source": [
    "length = 64\n",
    "\n",
    "# path = \"../temp/{}.jpg\"\n",
    "# texts = [\"boat\", \"girl\", \"man\", \"lotus\"]\n",
    "# num = 4\n",
    "\n",
    "path = \"../temp1/{}.jpg\"\n",
    "texts = [\"angry\", \"Mark Elliot Zuckerberg\", \"Pixar\", \"man with dark black skin and black hair\"]\n",
    "num = 4"
   ],
   "metadata": {
    "collapsed": false,
    "pycharm": {
     "name": "#%%\n"
    }
   }
  },
  {
   "cell_type": "code",
   "execution_count": 8,
   "outputs": [],
   "source": [
    "resli1 = []\n",
    "for i in range(num):\n",
    "    for j in range(length):\n",
    "        resli1.append(get_patch_score(path.format(i+1),texts[i]))\n",
    "\n",
    "resli2 = []\n",
    "for i in range(num):\n",
    "    for j in range(length):\n",
    "        resli2.append(get_patch_score(path.format((i+1)*11),texts[i]))\n"
   ],
   "metadata": {
    "collapsed": false,
    "pycharm": {
     "name": "#%%\n"
    }
   }
  },
  {
   "cell_type": "code",
   "execution_count": 9,
   "outputs": [
    {
     "name": "stdout",
     "output_type": "stream",
     "text": [
      "0.2543561728263861\n",
      "0.2102286663954002\n"
     ]
    }
   ],
   "source": [
    "res1 = (sum([x**2 for x in resli1])/(length*num))**0.5\n",
    "print(res1)\n",
    "res2 = (sum([x**2 for x in resli2])/(length*num))**0.5\n",
    "print(res2)"
   ],
   "metadata": {
    "collapsed": false,
    "pycharm": {
     "name": "#%%\n"
    }
   }
  },
  {
   "cell_type": "code",
   "execution_count": 10,
   "outputs": [],
   "source": [
    "lli = [resli1,resli2]"
   ],
   "metadata": {
    "collapsed": false,
    "pycharm": {
     "name": "#%%\n"
    }
   }
  },
  {
   "cell_type": "code",
   "execution_count": 11,
   "outputs": [
    {
     "data": {
      "text/plain": "<Figure size 640x480 with 1 Axes>",
      "image/png": "[encoded data removed]"
     },
     "metadata": {},
     "output_type": "display_data"
    }
   ],
   "source": [
    "plt.hist(lli, bins=64, alpha=0.5, color=[\"r\",\"b\"], histtype='stepfilled')\n",
    "\n",
    "li1 = [\n",
    "    0.2544645265322486,\n",
    "    0.2675407289560878,\n",
    "    0.3388551131359217,\n",
    "    0.23511448272211505,\n",
    "    ]\n",
    "\n",
    "li2 = [\n",
    "    0.30561701119962764,\n",
    "    0.3388551131359217,\n",
    "    0.299122750439292,\n",
    "    0.26629640945130206,\n",
    "    ]"
   ],
   "metadata": {
    "collapsed": false,
    "pycharm": {
     "name": "#%%\n"
    }
   }
  },
  {
   "cell_type": "code",
   "execution_count": 12,
   "outputs": [],
   "source": [
    "def get_score(path, text):\n",
    "    pil = Image.open(path)\n",
    "    p1 = pre(pil).unsqueeze(0).to(\"cuda\")\n",
    "    v1 = model.encode_image(p1)\n",
    "\n",
    "    text = [text]\n",
    "    token = clip.tokenize(text).to(\"cuda\")\n",
    "    v2 = model.encode_text(token)\n",
    "\n",
    "    res = score_func(v1,v2)\n",
    "\n",
    "    return res.item()"
   ],
   "metadata": {
    "collapsed": false,
    "pycharm": {
     "name": "#%%\n"
    }
   }
  },
  {
   "cell_type": "code",
   "execution_count": 14,
   "outputs": [
    {
     "name": "stdout",
     "output_type": "stream",
     "text": [
      "ours\n",
      "0.2763671875\n",
      "0.353759765625\n",
      "0.233642578125\n",
      "0.349853515625\n",
      "avg: 0.30340576171875\n",
      "\n",
      "styleclip\n",
      "0.2171630859375\n",
      "0.256103515625\n",
      "0.2041015625\n",
      "0.2191162109375\n",
      "avg: 0.22412109375\n"
     ]
    }
   ],
   "source": [
    "print(\"ours\")\n",
    "t1 = 0\n",
    "for i in range(num):\n",
    "    res = get_score(path.format(i+1),texts[i])\n",
    "    print(res)\n",
    "    t1+=res\n",
    "print(\"avg:\",t1/num)\n",
    "\n",
    "print()\n",
    "\n",
    "# print(\"clip styler\")\n",
    "print(\"styleclip\")\n",
    "t2=0\n",
    "for i in range(num):\n",
    "    res = get_score(path.format((i+1)*11),texts[i])\n",
    "    print(res)\n",
    "    t2+=res\n",
    "print(\"avg:\",t2/num)"
   ],
   "metadata": {
    "collapsed": false,
    "pycharm": {
     "name": "#%%\n"
    }
   }
  }
 ],
 "metadata": {
  "kernelspec": {
   "display_name": "Python 3",
   "language": "python",
   "name": "python3"
  },
  "language_info": {
   "codemirror_mode": {
    "name": "ipython",
    "version": 2
   },
   "file_extension": ".py",
   "mimetype": "text/x-python",
   "name": "python",
   "nbconvert_exporter": "python",
   "pygments_lexer": "ipython2",
   "version": "2.7.6"
  }
 },
 "nbformat": 4,
 "nbformat_minor": 0
}