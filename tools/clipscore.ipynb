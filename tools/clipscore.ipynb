{
 "cells": [
  {
   "cell_type": "code",
   "execution_count": 1,
   "outputs": [],
   "source": [
    "from PIL import Image\n",
    "import numpy as np\n",
    "\n",
    "import torch\n",
    "import torch.nn\n",
    "import torch.optim as optim\n",
    "from torchvision import transforms, models\n",
    "\n",
    "import network.styler as StyleNet\n",
    "\n",
    "import utils.func as func\n",
    "\n",
    "\n",
    "import clip\n",
    "import torch.nn.functional as F\n",
    "from utils.text_templates import imagenet_templates\n",
    "\n",
    "import random\n",
    "\n",
    "from PIL import Image \n",
    "import PIL \n",
    "from torchvision import utils as vutils\n",
    "import argparse\n",
    "from torchvision.transforms.functional import adjust_contrast"
   ],
   "metadata": {
    "collapsed": false,
    "pycharm": {
     "name": "#%%\n"
    }
   }
  },
  {
   "cell_type": "code",
   "execution_count": 2,
   "outputs": [],
   "source": [
    "topil = transforms.ToPILImage()\n",
    "topic = transforms.ToTensor()\n"
   ],
   "metadata": {
    "collapsed": false,
    "pycharm": {
     "name": "#%%\n"
    }
   }
  },
  {
   "cell_type": "code",
   "execution_count": 3,
   "outputs": [],
   "source": [
    "def random_patch(img, size):\n",
    "\n",
    "\n",
    "\n",
    "        channels, height, width = img.shape\n",
    "        half = size // 2\n",
    "\n",
    "        point_x = random.randint(half, width - half)\n",
    "        point_y = random.randint(half, height - half)\n",
    "\n",
    "        patch = img[:, point_y - half:point_y + half, point_x - half:point_x + half].cpu()\n",
    "\n",
    "        pil = topil(patch)\n",
    "\n",
    "        return pil"
   ],
   "metadata": {
    "collapsed": false,
    "pycharm": {
     "name": "#%%\n"
    }
   }
  },
  {
   "cell_type": "code",
   "execution_count": 4,
   "outputs": [],
   "source": [
    "model,pre = clip.load('ViT-B/32', device=\"cuda\")"
   ],
   "metadata": {
    "collapsed": false,
    "pycharm": {
     "name": "#%%\n"
    }
   }
  },
  {
   "cell_type": "code",
   "execution_count": 5,
   "outputs": [],
   "source": [
    "score_func = torch.nn.CosineSimilarity()\n",
    "\n"
   ],
   "metadata": {
    "collapsed": false,
    "pycharm": {
     "name": "#%%\n"
    }
   }
  },
  {
   "cell_type": "code",
   "execution_count": 6,
   "outputs": [],
   "source": [
    "pic2 = topic(Image.open(\"source_pic/bridge.jpg\"))"
   ],
   "metadata": {
    "collapsed": false,
    "pycharm": {
     "name": "#%%\n"
    }
   }
  },
  {
   "cell_type": "code",
   "execution_count": 7,
   "outputs": [],
   "source": [
    "def getscore():\n",
    "    pic1 = topic(Image.open(\"result/result1.jpg\"))\n",
    "    size1 = random.randint(32,112)*2\n",
    "    p1 = pre(random_patch(pic1,size1)).unsqueeze(0).to(\"cuda\")\n",
    "    v1 = model.encode_image(p1)\n",
    "\n",
    "    text = [\"fire\"]\n",
    "    token = clip.tokenize(text).to(\"cuda\")\n",
    "    v2 = model.encode_text(token)\n",
    "\n",
    "    res = score_func(v1,v2)\n",
    "\n",
    "    return res\n"
   ],
   "metadata": {
    "collapsed": false,
    "pycharm": {
     "name": "#%%\n"
    }
   }
  },
  {
   "cell_type": "code",
   "execution_count": 8,
   "outputs": [],
   "source": [
    "length = 64\n",
    "\n",
    "resli = [getscore() for i in range(length)]\n",
    "res = sum(resli)/length"
   ],
   "metadata": {
    "collapsed": false,
    "pycharm": {
     "name": "#%%\n"
    }
   }
  },
  {
   "cell_type": "code",
   "execution_count": 9,
   "outputs": [
    {
     "name": "stdout",
     "output_type": "stream",
     "text": [
      "0.234619140625\n"
     ]
    }
   ],
   "source": [
    "print(res.item())\n",
    "\n",
    "\n"
   ],
   "metadata": {
    "collapsed": false,
    "pycharm": {
     "name": "#%%\n"
    }
   }
  }
 ],
 "metadata": {
  "kernelspec": {
   "display_name": "Python 3",
   "language": "python",
   "name": "python3"
  },
  "language_info": {
   "codemirror_mode": {
    "name": "ipython",
    "version": 2
   },
   "file_extension": ".py",
   "mimetype": "text/x-python",
   "name": "python",
   "nbconvert_exporter": "python",
   "pygments_lexer": "ipython2",
   "version": "2.7.6"
  }
 },
 "nbformat": 4,
 "nbformat_minor": 0
}