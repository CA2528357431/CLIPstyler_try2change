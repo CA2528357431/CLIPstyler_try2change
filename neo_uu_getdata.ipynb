{
 "cells": [
  {
   "cell_type": "code",
   "execution_count": 1,
   "metadata": {
    "collapsed": true
   },
   "outputs": [],
   "source": [
    "import torch\n",
    "import torch.optim as optim\n",
    "import torchvision\n",
    "import torchvision.transforms as transforms\n",
    "from PIL import Image\n",
    "\n",
    "from network.mynetwork_uu import Unet\n",
    "from loss.loss import CLIPLoss\n",
    "from utils.func import get_features,vgg_normalize\n",
    "\n",
    "import time"
   ]
  },
  {
   "cell_type": "code",
   "execution_count": 2,
   "outputs": [
    {
     "name": "stdout",
     "output_type": "stream",
     "text": [
      "cuda\n",
      "True\n"
     ]
    }
   ],
   "source": [
    "device = \"cuda\" if torch.cuda.is_available() else \"cpu\"\n",
    "print(device)\n",
    "print(torch.cuda.is_available())"
   ],
   "metadata": {
    "collapsed": false,
    "pycharm": {
     "name": "#%%\n"
    }
   }
  },
  {
   "cell_type": "code",
   "execution_count": 3,
   "outputs": [],
   "source": [
    "model = Unet(device).to(device)\n",
    "# model = Unet().to(device)\n",
    "cliploss = CLIPLoss(device)\n",
    "mseloss = torch.nn.MSELoss()\n",
    "# vgg = torchvision.models.vgg19(pretrained=True).features.to(device)\n",
    "# for x in vgg.parameters():\n",
    "#     x.requires_grad = False\n",
    "\n",
    "topil = transforms.ToPILImage()\n",
    "topic = transforms.ToTensor()"
   ],
   "metadata": {
    "collapsed": false,
    "pycharm": {
     "name": "#%%\n"
    }
   }
  },
  {
   "cell_type": "code",
   "execution_count": 4,
   "outputs": [],
   "source": [
    "lr1 = 0.001\n",
    "lr2 = 0.0003\n",
    "\n",
    "# lr_fast = 0.0003\n",
    "# lr_slow = 0.0004\n",
    "\n",
    "dir_lambda = 500\n",
    "content_lambda = 150\n",
    "patch_lambda = 9000\n",
    "norm_lambda = 0.002\n",
    "gol_lambda = 300\n"
   ],
   "metadata": {
    "collapsed": false,
    "pycharm": {
     "name": "#%%\n"
    }
   }
  },
  {
   "cell_type": "code",
   "execution_count": 5,
   "outputs": [],
   "source": [
    "loss_li = [0]*100\n"
   ],
   "metadata": {
    "collapsed": false,
    "pycharm": {
     "name": "#%%\n"
    }
   }
  },
  {
   "cell_type": "code",
   "execution_count": 6,
   "outputs": [
    {
     "name": "stderr",
     "output_type": "stream",
     "text": [
      "C:\\Users\\win10\\AppData\\Local\\Temp\\ipykernel_9080\\39558398.py:3: DeprecationWarning: BICUBIC is deprecated and will be removed in Pillow 10 (2023-07-01). Use Resampling.BICUBIC instead.\n",
      "  pil = transforms.Resize(size=(512, 512), interpolation=Image.BICUBIC)(pil)\n",
      "E:\\Anaconda\\envs\\sth\\lib\\site-packages\\torchvision\\transforms\\transforms.py:257: UserWarning: Argument interpolation should be of type InterpolationMode instead of int. Please, use InterpolationMode enum.\n",
      "  warnings.warn(\n"
     ]
    }
   ],
   "source": [
    "pil = Image.open(f\"./source_pic/emma.jpg\")\n",
    "ori_size = pil.size[::-1]\n",
    "pil = transforms.Resize(size=(512, 512), interpolation=Image.BICUBIC)(pil)\n",
    "pic = topic(pil).unsqueeze(0).to(device)\n",
    "# pic = torch.ones(1, 3, 512, 512).to(device)\n",
    "pic.requires_grad = False\n",
    "# pic[:,1,:,:] = 0"
   ],
   "metadata": {
    "collapsed": false,
    "pycharm": {
     "name": "#%%\n"
    }
   }
  },
  {
   "cell_type": "code",
   "execution_count": 7,
   "outputs": [],
   "source": [
    "# source = \"photo\"\n",
    "# source = \"cat\"\n",
    "# source = \"CG picture\"\n",
    "source = \"happy\"\n",
    "# source = \"man\"\n",
    "# source = \"cartoon\"\n",
    "# source = \"red car\"\n",
    "\n",
    "# target = \"gold car\"\n",
    "# target = \"Mark Elliot Zuckerberg\"\n",
    "# target = \"Mona Lisa by Leonardo da Vinci\"\n",
    "target = \"angry\"\n",
    "# target = \"girl\"\n",
    "# target = \"Neon Light\"\n",
    "# target = \"black car\"\n",
    "# target = \"pop art\"\n",
    "# target = \"baby girl\"\n",
    "# target = \"Watercolor Art with Thick Brush\"\n",
    "# target = \"Pixar\"\n",
    "# target = \"watercolor painting with thick brush\"\n",
    "# target = \"starry night by Van Gogh\"\n",
    "# target = \"the scream by Edvard Munch\"\n",
    "# target = \"Monet\"\n",
    "# target = \"cyberpunk 2077\"\n",
    "# target = \"oil painting with thick brush\"\n",
    "# target = \"man with dark black skin and black hair\"\n",
    "# target = \"The great wave off kanagawa by Hokusai\"\n",
    "# target = \"mosaic\"\n",
    "# target = \"fire\"\n",
    "# target = \"Chinese Brush Painting of mountains in black and white\"\n",
    "# target = \"snowy\"\n",
    "# target = \"sketch with pencil\"\n",
    "# target = \"pop art of night city\"\n",
    "# target = \"cubism\"\n",
    "# target = \"Cartoon\"\n",
    "# target = \"anime\"\n",
    "# target = \"white marble carving\"\n",
    "# target = \"steampunk\"\n"
   ],
   "metadata": {
    "collapsed": false,
    "pycharm": {
     "name": "#%%\n"
    }
   }
  },
  {
   "cell_type": "code",
   "execution_count": 8,
   "outputs": [],
   "source": [
    "path = \"result/result02.jpg\""
   ],
   "metadata": {
    "collapsed": false,
    "pycharm": {
     "name": "#%%\n"
    }
   }
  },
  {
   "cell_type": "code",
   "execution_count": 9,
   "outputs": [],
   "source": [
    "dli = []\n",
    "nli = []"
   ],
   "metadata": {
    "collapsed": false,
    "pycharm": {
     "name": "#%%\n"
    }
   }
  },
  {
   "cell_type": "code",
   "execution_count": 10,
   "outputs": [],
   "source": [
    "patch_file = open(f\"./data/nums.txt\", mode=\"w\")"
   ],
   "metadata": {
    "collapsed": false,
    "pycharm": {
     "name": "#%%\n"
    }
   }
  },
  {
   "cell_type": "code",
   "execution_count": 11,
   "outputs": [],
   "source": [
    "def train(iteration1, iteration2, pic, source, target):\n",
    "\n",
    "\n",
    "    input = pic\n",
    "\n",
    "    # pic_f = get_features(vgg_normalize(pic), vgg)\n",
    "    # print(model.parameters())\n",
    "    opt = optim.Adam(model.parameters(), lr=lr1)\n",
    "    for i in range(iteration1):\n",
    "        opt.zero_grad()\n",
    "        neo_pic = model(input)\n",
    "        loss = mseloss(pic, neo_pic) * 1\n",
    "\n",
    "        # loss = 0\n",
    "        # neo_pic_f = get_features(vgg_normalize(neo_pic), vgg)\n",
    "        # loss += torch.mean((pic_f['conv4_2'] - neo_pic_f['conv4_2']) ** 2)\n",
    "        # loss += torch.mean((pic_f['conv5_2'] - neo_pic_f['conv5_2']) ** 2)\n",
    "\n",
    "        loss.backward()\n",
    "        opt.step()\n",
    "\n",
    "        with torch.no_grad():\n",
    "            print(\"iter:\", i + 1, \"loss:\", loss.item())\n",
    "\n",
    "        # pil = topil(neo_pic.squeeze(0).cpu())\n",
    "        # if ((i + 1) % 50) == 0:\n",
    "        #     pil.save(f\"./pic1/{(i + 1) // 50}.jpg\")\n",
    "    with torch.no_grad():\n",
    "        neo_pic = model(input)\n",
    "        pil = topil(neo_pic.squeeze(0).cpu())\n",
    "        pil = transforms.Resize(size=ori_size, interpolation=Image.BICUBIC)(pil)\n",
    "        pil.save(f\"mid.jpg\")\n",
    "\n",
    "\n",
    "    # torch.save(model,'unet.pth')\n",
    "\n",
    "    # model = torch.load('unet.pth')\n",
    "\n",
    "    # pic_f = get_features(vgg_normalize(pic),vgg)\n",
    "\n",
    "    opt = optim.Adam(model.parameters(), lr=lr2)\n",
    "    # opt_fast = optim.Adam(model.parameters(), lr=lr_fast)\n",
    "    # opt_slow = optim.Adam(model.parameters(), lr=lr_slow)\n",
    "    # opt_loss = optim.Adam(cliploss.parameters(), lr=lr_slow)\n",
    "\n",
    "    for i in range(iteration2):\n",
    "\n",
    "\n",
    "        opt.zero_grad()\n",
    "        # opt_slow.zero_grad()\n",
    "        # opt_fast.zero_grad()\n",
    "\n",
    "        neo_pic = model(input)\n",
    "\n",
    "        dir_loss = 0\n",
    "        dir_loss += cliploss.forward_dir(pic, source, neo_pic, target)\n",
    "\n",
    "        gol_loss = 0\n",
    "        # gol_loss += cliploss.forward_gol(pic, source, neo_pic, target)\n",
    "\n",
    "        content_loss = 0\n",
    "        # content_loss += mseloss(pic, neo_pic)\n",
    "        # neo_pic_f = get_features(vgg_normalize(neo_pic), vgg)\n",
    "        # content_loss += torch.mean((pic_f['conv4_2'] - neo_pic_f['conv4_2']) ** 2)\n",
    "        # content_loss += torch.mean((pic_f['conv5_2'] - neo_pic_f['conv5_2']) ** 2)\n",
    "\n",
    "        patch_loss = 0\n",
    "        # patch_loss += cliploss.forward_patch(pic, source, neo_pic, target)\n",
    "\n",
    "        norm_loss = 0\n",
    "        norm_loss += cliploss.forward_prior(pic, source, neo_pic, target)\n",
    "\n",
    "        loss = dir_loss * dir_lambda + \\\n",
    "               content_loss * content_lambda + \\\n",
    "               patch_loss * patch_lambda + \\\n",
    "               norm_loss * norm_lambda + \\\n",
    "               gol_loss * gol_lambda\n",
    "\n",
    "\n",
    "        patch_loss_fast,patch_loss_slow, li = cliploss.forward_patch_sec(pic, source, neo_pic, target)\n",
    "        patch_loss_fast *= patch_lambda\n",
    "        patch_loss_slow *= patch_lambda\n",
    "\n",
    "        for x in model.res2.parameters():\n",
    "            x.requires_grad = False\n",
    "        patch_loss_slow.backward(retain_graph=True)\n",
    "        for x in model.res2.parameters():\n",
    "            x.requires_grad = True\n",
    "\n",
    "        for x in model.res.parameters():\n",
    "            x.requires_grad = False\n",
    "        for x in model.conv3.parameters():\n",
    "            x.requires_grad = False\n",
    "        for x in model.upsample3.parameters():\n",
    "            x.requires_grad = False\n",
    "        for x in model.deconv3.parameters():\n",
    "            x.requires_grad = False\n",
    "        patch_loss_fast.backward(retain_graph=True)\n",
    "        for x in model.res.parameters():\n",
    "            x.requires_grad = True\n",
    "        for x in model.conv3.parameters():\n",
    "            x.requires_grad = True\n",
    "        for x in model.upsample3.parameters():\n",
    "            x.requires_grad = True\n",
    "        for x in model.deconv3.parameters():\n",
    "            x.requires_grad = True\n",
    "\n",
    "        loss.backward()\n",
    "        # (loss+patch_loss_fast+patch_loss_slow).backward()\n",
    "\n",
    "\n",
    "        opt.step()\n",
    "\n",
    "        # opt_fast.step()\n",
    "        # opt_slow.step()\n",
    "\n",
    "        with torch.no_grad():\n",
    "            # loss_li[i]+=(loss+patch_loss_fast+patch_loss_slow).item()\n",
    "            # print(\"iter:\", i + 1, \"fast_loss:\", patch_loss_fast.item(), \"slow_loss:\", patch_loss_slow.item())\n",
    "            # print(\"iter:\", i + 1, \"loss:\", (loss+patch_loss_fast+patch_loss_slow).item())\n",
    "\n",
    "            patch_loss += cliploss.forward_patch(pic, source, neo_pic, target)*patch_lambda\n",
    "            loss_li[i] += (loss+patch_loss).item()\n",
    "            print(\"iter:\", i + 1, \"loss:\", (loss+patch_loss).item())\n",
    "\n",
    "\n",
    "            for x in li:\n",
    "                patch_file.write(str(x)+\" \")\n",
    "\n",
    "            patch_file.write(\"\\n\")\n",
    "\n",
    "            if (i+1)%10==0  or i==0:\n",
    "                neo_pic = model(input)\n",
    "                pil = topil(neo_pic.squeeze(0).cpu())\n",
    "                pil = transforms.Resize(size=ori_size, interpolation=Image.BICUBIC)(pil)\n",
    "                pil.save(f\"mid/{i//10}.jpg\")\n",
    "\n",
    "            # gli.append(gol_loss.item()*gol_lambda)\n",
    "            dli.append(dir_loss.item()*dir_lambda)\n",
    "            nli.append(norm_loss.item()*norm_lambda)\n",
    "\n",
    "            # if (i+1)%4==0 and cliploss.patch_size>=64:\n",
    "            #     cliploss.patch_size-=8\n",
    "\n",
    "\n",
    "\n",
    "        # pil = topil(neo_pic.squeeze(0).cpu())\n",
    "        # if ((i + 1) % 10) == 0:\n",
    "        #     pil.save(f\"./pic2/{(i + 1) // 10}.jpg\")\n",
    "\n",
    "    # return  model(input)\n",
    "    # neo_pic = model(input)\n",
    "    # pil = topil(neo_pic.squeeze(0).cpu())\n",
    "    # # pil.save(f\"{source}-{target}.jpg\")\n",
    "    # pil.save(path)\n",
    "\n",
    "\n",
    "\n"
   ],
   "metadata": {
    "collapsed": false,
    "pycharm": {
     "name": "#%%\n"
    }
   }
  },
  {
   "cell_type": "code",
   "execution_count": 12,
   "outputs": [
    {
     "name": "stdout",
     "output_type": "stream",
     "text": [
      "iter: 1 loss: 0.07268472015857697\n",
      "iter: 2 loss: 0.03409094363451004\n",
      "iter: 3 loss: 0.018431544303894043\n",
      "iter: 4 loss: 0.010410664603114128\n",
      "iter: 5 loss: 0.006109039299190044\n",
      "iter: 6 loss: 0.0037842988967895508\n",
      "iter: 7 loss: 0.0024261660873889923\n",
      "iter: 8 loss: 0.0017546284943819046\n",
      "iter: 9 loss: 0.0015074418624863029\n",
      "iter: 10 loss: 0.0014612569939345121\n",
      "iter: 11 loss: 0.0014824771787971258\n",
      "iter: 12 loss: 0.0015189655823633075\n",
      "iter: 13 loss: 0.001550815301015973\n",
      "iter: 14 loss: 0.001563135883770883\n",
      "iter: 15 loss: 0.0015458952402696013\n",
      "iter: 16 loss: 0.0014968812465667725\n",
      "iter: 17 loss: 0.00142448372207582\n",
      "iter: 18 loss: 0.001341901603154838\n",
      "iter: 19 loss: 0.0012599111068993807\n",
      "iter: 20 loss: 0.0011840184452012181\n",
      "iter: 21 loss: 0.0011161116417497396\n",
      "iter: 22 loss: 0.001057910150848329\n",
      "iter: 23 loss: 0.001011430169455707\n",
      "iter: 24 loss: 0.0009750449098646641\n",
      "iter: 25 loss: 0.0009442446753382683\n",
      "iter: 26 loss: 0.000913680880330503\n",
      "iter: 27 loss: 0.0008805395918898284\n",
      "iter: 28 loss: 0.0008450399036519229\n",
      "iter: 29 loss: 0.0008087246096692979\n",
      "iter: 30 loss: 0.0007726837648078799\n",
      "iter: 31 loss: 0.0007378246518783271\n",
      "iter: 32 loss: 0.0007057100301608443\n",
      "iter: 33 loss: 0.0006776779773645103\n",
      "iter: 34 loss: 0.0006540034664794803\n",
      "iter: 35 loss: 0.0006340832333080471\n",
      "iter: 36 loss: 0.0006158322212286294\n",
      "iter: 37 loss: 0.0005971768987365067\n",
      "iter: 38 loss: 0.0005777154583483934\n",
      "iter: 39 loss: 0.0005582910962402821\n",
      "iter: 40 loss: 0.0005397633649408817\n",
      "iter: 41 loss: 0.0005224443739280105\n",
      "iter: 42 loss: 0.0005064241122454405\n",
      "iter: 43 loss: 0.00049172731814906\n",
      "iter: 44 loss: 0.0004784955526702106\n",
      "iter: 45 loss: 0.00046650192234665155\n",
      "iter: 46 loss: 0.00045490937191061676\n",
      "iter: 47 loss: 0.00044296932173892856\n",
      "iter: 48 loss: 0.0004308393399696797\n",
      "iter: 49 loss: 0.00041943229734897614\n",
      "iter: 50 loss: 0.0004094146133866161\n",
      "iter: 51 loss: 0.0004004320071544498\n",
      "iter: 52 loss: 0.00039180618477985263\n",
      "iter: 53 loss: 0.00038350746035575867\n",
      "iter: 54 loss: 0.00037592300213873386\n",
      "iter: 55 loss: 0.0003691127640195191\n",
      "iter: 56 loss: 0.00036279315827414393\n",
      "iter: 57 loss: 0.0003566867671906948\n",
      "iter: 58 loss: 0.00035071949241682887\n",
      "iter: 59 loss: 0.0003449715441092849\n",
      "iter: 60 loss: 0.0003395892563275993\n",
      "iter: 61 loss: 0.0003346022858750075\n",
      "iter: 62 loss: 0.0003297911898698658\n",
      "iter: 63 loss: 0.00032493608887307346\n",
      "iter: 64 loss: 0.00032006273977458477\n",
      "iter: 65 loss: 0.0003152946010231972\n",
      "iter: 66 loss: 0.00031064433278515935\n",
      "iter: 67 loss: 0.0003060673188883811\n",
      "iter: 68 loss: 0.0003015762777067721\n",
      "iter: 69 loss: 0.0002971561625599861\n",
      "iter: 70 loss: 0.0002927895402535796\n",
      "iter: 71 loss: 0.0002884694840759039\n",
      "iter: 72 loss: 0.000284177134744823\n",
      "iter: 73 loss: 0.00027990539092570543\n",
      "iter: 74 loss: 0.00027572718681767583\n",
      "iter: 75 loss: 0.000271727389190346\n",
      "iter: 76 loss: 0.0002678771270439029\n",
      "iter: 77 loss: 0.00026410934515297413\n",
      "iter: 78 loss: 0.0002604103065095842\n",
      "iter: 79 loss: 0.0002567923511378467\n",
      "iter: 80 loss: 0.000253248552326113\n",
      "iter: 81 loss: 0.0002497710520401597\n",
      "iter: 82 loss: 0.00024633979774080217\n",
      "iter: 83 loss: 0.0002429455053061247\n",
      "iter: 84 loss: 0.00023960767430253327\n",
      "iter: 85 loss: 0.00023633257660549134\n",
      "iter: 86 loss: 0.00023310043616220355\n",
      "iter: 87 loss: 0.0002299193583894521\n",
      "iter: 88 loss: 0.00022680722759105265\n",
      "iter: 89 loss: 0.00022377001005224884\n",
      "iter: 90 loss: 0.00022080715280026197\n",
      "iter: 91 loss: 0.00021790424943901598\n",
      "iter: 92 loss: 0.0002150564396288246\n",
      "iter: 93 loss: 0.00021227267279755324\n",
      "iter: 94 loss: 0.00020954327192157507\n",
      "iter: 95 loss: 0.00020686464267782867\n",
      "iter: 96 loss: 0.00020424125250428915\n",
      "iter: 97 loss: 0.00020167492039036006\n",
      "iter: 98 loss: 0.00019916871679015458\n",
      "iter: 99 loss: 0.0001967158605111763\n",
      "iter: 100 loss: 0.00019431526015978307\n",
      "iter: 1 loss: 9873.2138671875\n",
      "iter: 2 loss: 9704.7099609375\n",
      "iter: 3 loss: 9550.7109375\n",
      "iter: 4 loss: 9530.7080078125\n",
      "iter: 5 loss: 9440.205078125\n",
      "iter: 6 loss: 9468.7041015625\n",
      "iter: 7 loss: 9447.953125\n",
      "iter: 8 loss: 9223.453125\n",
      "iter: 9 loss: 9304.453125\n",
      "iter: 10 loss: 9402.703125\n",
      "iter: 11 loss: 9194.953125\n",
      "iter: 12 loss: 9385.2021484375\n",
      "iter: 13 loss: 9224.451171875\n",
      "iter: 14 loss: 9191.201171875\n",
      "iter: 15 loss: 9169.951171875\n",
      "iter: 16 loss: 9130.9521484375\n",
      "iter: 17 loss: 9082.9541015625\n",
      "iter: 18 loss: 9087.7060546875\n",
      "iter: 19 loss: 9116.9580078125\n",
      "iter: 20 loss: 8935.7099609375\n",
      "iter: 21 loss: 8990.4619140625\n",
      "iter: 22 loss: 9030.962890625\n",
      "iter: 23 loss: 9116.462890625\n",
      "iter: 24 loss: 8994.212890625\n",
      "iter: 25 loss: 8971.2138671875\n",
      "iter: 26 loss: 8875.2138671875\n",
      "iter: 27 loss: 8884.71484375\n",
      "iter: 28 loss: 8836.2138671875\n",
      "iter: 29 loss: 9040.712890625\n",
      "iter: 30 loss: 8977.7119140625\n",
      "iter: 31 loss: 8959.7109375\n",
      "iter: 32 loss: 8917.4599609375\n",
      "iter: 33 loss: 8914.9580078125\n",
      "iter: 34 loss: 8879.7060546875\n",
      "iter: 35 loss: 8805.7041015625\n",
      "iter: 36 loss: 9045.453125\n",
      "iter: 37 loss: 8785.703125\n",
      "iter: 38 loss: 8891.4521484375\n",
      "iter: 39 loss: 8819.4521484375\n",
      "iter: 40 loss: 8893.7021484375\n",
      "iter: 41 loss: 8721.953125\n",
      "iter: 42 loss: 8890.9541015625\n",
      "iter: 43 loss: 8895.2041015625\n",
      "iter: 44 loss: 8842.453125\n",
      "iter: 45 loss: 8599.2041015625\n",
      "iter: 46 loss: 8791.2060546875\n",
      "iter: 47 loss: 8966.20703125\n",
      "iter: 48 loss: 8733.4560546875\n",
      "iter: 49 loss: 8783.9541015625\n",
      "iter: 50 loss: 8885.7021484375\n",
      "iter: 51 loss: 8894.9501953125\n",
      "iter: 52 loss: 8707.4482421875\n",
      "iter: 53 loss: 8738.9462890625\n",
      "iter: 54 loss: 8793.9462890625\n",
      "iter: 55 loss: 8768.1962890625\n",
      "iter: 56 loss: 8783.447265625\n",
      "iter: 57 loss: 8908.447265625\n",
      "iter: 58 loss: 8684.947265625\n",
      "iter: 59 loss: 8694.697265625\n",
      "iter: 60 loss: 8734.697265625\n",
      "iter: 61 loss: 8601.4462890625\n",
      "iter: 62 loss: 8905.1953125\n",
      "iter: 63 loss: 8747.9443359375\n",
      "iter: 64 loss: 8576.1943359375\n",
      "iter: 65 loss: 8762.4423828125\n",
      "iter: 66 loss: 8611.69140625\n",
      "iter: 67 loss: 8557.6904296875\n",
      "iter: 68 loss: 8672.689453125\n",
      "iter: 69 loss: 8764.439453125\n",
      "iter: 70 loss: 8692.439453125\n",
      "iter: 71 loss: 8659.439453125\n",
      "iter: 72 loss: 8532.439453125\n",
      "iter: 73 loss: 8516.689453125\n",
      "iter: 74 loss: 8458.689453125\n",
      "iter: 75 loss: 8711.4384765625\n",
      "iter: 76 loss: 8519.9375\n",
      "iter: 77 loss: 8513.185546875\n",
      "iter: 78 loss: 8646.6845703125\n",
      "iter: 79 loss: 8479.18359375\n",
      "iter: 80 loss: 8517.43359375\n",
      "iter: 81 loss: 8489.18359375\n",
      "iter: 82 loss: 8624.18359375\n",
      "iter: 83 loss: 8568.93359375\n",
      "iter: 84 loss: 8391.6826171875\n",
      "iter: 85 loss: 8606.6826171875\n",
      "iter: 86 loss: 8357.6826171875\n",
      "iter: 87 loss: 8212.681640625\n",
      "iter: 88 loss: 8401.4296875\n",
      "iter: 89 loss: 8244.927734375\n",
      "iter: 90 loss: 8261.4267578125\n",
      "iter: 91 loss: 8312.9267578125\n",
      "iter: 92 loss: 8212.6767578125\n",
      "iter: 93 loss: 8270.6767578125\n",
      "iter: 94 loss: 8210.427734375\n",
      "iter: 95 loss: 8349.9287109375\n",
      "iter: 96 loss: 8265.9296875\n",
      "iter: 97 loss: 8261.9306640625\n",
      "iter: 98 loss: 8382.9306640625\n",
      "iter: 99 loss: 8289.9306640625\n",
      "iter: 100 loss: 8215.431640625\n",
      "usetime: 97.40383315086365\n"
     ]
    },
    {
     "name": "stderr",
     "output_type": "stream",
     "text": [
      "C:\\Users\\win10\\AppData\\Local\\Temp\\ipykernel_9080\\1332957929.py:31: DeprecationWarning: BICUBIC is deprecated and will be removed in Pillow 10 (2023-07-01). Use Resampling.BICUBIC instead.\n",
      "  pil = transforms.Resize(size=ori_size, interpolation=Image.BICUBIC)(pil)\n",
      "C:\\Users\\win10\\AppData\\Local\\Temp\\ipykernel_9080\\1332957929.py:135: DeprecationWarning: BICUBIC is deprecated and will be removed in Pillow 10 (2023-07-01). Use Resampling.BICUBIC instead.\n",
      "  pil = transforms.Resize(size=ori_size, interpolation=Image.BICUBIC)(pil)\n"
     ]
    }
   ],
   "source": [
    "start = time.time()\n",
    "train(100, 100, pic, source, target)\n",
    "end = time.time()\n",
    "usetime = end - start\n",
    "print(f\"usetime: {usetime}\")"
   ],
   "metadata": {
    "collapsed": false,
    "pycharm": {
     "name": "#%%\n"
    }
   }
  },
  {
   "cell_type": "code",
   "execution_count": 13,
   "outputs": [
    {
     "name": "stderr",
     "output_type": "stream",
     "text": [
      "C:\\Users\\win10\\AppData\\Local\\Temp\\ipykernel_9080\\3219620664.py:3: DeprecationWarning: BICUBIC is deprecated and will be removed in Pillow 10 (2023-07-01). Use Resampling.BICUBIC instead.\n",
      "  pil = transforms.Resize(size=ori_size, interpolation=Image.BICUBIC)(pil)\n"
     ]
    }
   ],
   "source": [
    "neo_pic = model(pic)\n",
    "pil = topil(neo_pic.squeeze(0).cpu())\n",
    "pil = transforms.Resize(size=ori_size, interpolation=Image.BICUBIC)(pil)\n",
    "pil.save(path)"
   ],
   "metadata": {
    "collapsed": false,
    "pycharm": {
     "name": "#%%\n"
    }
   }
  },
  {
   "cell_type": "code",
   "execution_count": 14,
   "outputs": [],
   "source": [
    "patch_file.close()"
   ],
   "metadata": {
    "collapsed": false,
    "pycharm": {
     "name": "#%%\n"
    }
   }
  },
  {
   "cell_type": "code",
   "execution_count": 15,
   "outputs": [],
   "source": [
    "file_uu = open(\"neo_uu.txt\", \"r\")\n",
    "read_loss_li = file_uu.readline()\n",
    "read_loss_li = [float(x) for x in read_loss_li.split()]\n",
    "if not read_loss_li:\n",
    "    read_loss_li = [0]*100\n",
    "\n",
    "cur_times = int(file_uu.readline())\n",
    "file_uu.close()"
   ],
   "metadata": {
    "collapsed": false,
    "pycharm": {
     "name": "#%%\n"
    }
   }
  },
  {
   "cell_type": "code",
   "execution_count": 16,
   "outputs": [
    {
     "data": {
      "text/plain": "[<matplotlib.lines.Line2D at 0x1996ee09f70>]"
     },
     "execution_count": 16,
     "metadata": {},
     "output_type": "execute_result"
    },
    {
     "data": {
      "text/plain": "<Figure size 640x480 with 1 Axes>",
      "image/png": "[encoded data removed]"
     },
     "metadata": {},
     "output_type": "display_data"
    }
   ],
   "source": [
    "import matplotlib.pyplot as plt\n",
    "x = [i for i in range(100)]\n",
    "plt.plot(x,loss_li,color=\"red\",marker=\"o\")\n"
   ],
   "metadata": {
    "collapsed": false,
    "pycharm": {
     "name": "#%%\n"
    }
   }
  },
  {
   "cell_type": "code",
   "execution_count": 17,
   "outputs": [],
   "source": [
    "for i in range(100):\n",
    "    loss_li[i]+=read_loss_li[i]\n",
    "with open(file = \"neo_uu.txt\", mode = \"w\") as file:\n",
    "    for i in loss_li:\n",
    "        file.write(str(i)+\" \")\n",
    "    file.write(\"\\n\")\n",
    "    file.write(str(cur_times+1))\n"
   ],
   "metadata": {
    "collapsed": false,
    "pycharm": {
     "name": "#%%\n"
    }
   }
  },
  {
   "cell_type": "code",
   "execution_count": 18,
   "outputs": [],
   "source": [
    "# x = [i for i in range(100)]\n",
    "# plt.plot(x,gli,color=\"red\",marker=\"o\")"
   ],
   "metadata": {
    "collapsed": false,
    "pycharm": {
     "name": "#%%\n"
    }
   }
  },
  {
   "cell_type": "code",
   "execution_count": 19,
   "outputs": [
    {
     "data": {
      "text/plain": "[<matplotlib.lines.Line2D at 0x1996f0b0760>]"
     },
     "execution_count": 19,
     "metadata": {},
     "output_type": "execute_result"
    },
    {
     "data": {
      "text/plain": "<Figure size 640x480 with 1 Axes>",
      "image/png": "[encoded data removed]"
     },
     "metadata": {},
     "output_type": "display_data"
    }
   ],
   "source": [
    "x = [i for i in range(100)]\n",
    "plt.plot(x,dli,color=\"red\",marker=\"o\")"
   ],
   "metadata": {
    "collapsed": false,
    "pycharm": {
     "name": "#%%\n"
    }
   }
  },
  {
   "cell_type": "code",
   "execution_count": 20,
   "outputs": [
    {
     "data": {
      "text/plain": "[<matplotlib.lines.Line2D at 0x19976bc2160>]"
     },
     "execution_count": 20,
     "metadata": {},
     "output_type": "execute_result"
    },
    {
     "data": {
      "text/plain": "<Figure size 640x480 with 1 Axes>",
      "image/png": "[encoded data removed]"
     },
     "metadata": {},
     "output_type": "display_data"
    }
   ],
   "source": [
    "x = [i for i in range(100)]\n",
    "plt.plot(x,nli,color=\"red\",marker=\"o\")"
   ],
   "metadata": {
    "collapsed": false,
    "pycharm": {
     "name": "#%%\n"
    }
   }
  },
  {
   "cell_type": "code",
   "execution_count": 21,
   "outputs": [
    {
     "data": {
      "text/plain": "[<matplotlib.lines.Line2D at 0x19976c1a790>]"
     },
     "execution_count": 21,
     "metadata": {},
     "output_type": "execute_result"
    },
    {
     "data": {
      "text/plain": "<Figure size 640x480 with 1 Axes>",
      "image/png": "[encoded data removed]"
     },
     "metadata": {},
     "output_type": "display_data"
    }
   ],
   "source": [
    "x = [i for i in range(100)]\n",
    "# li = [gli[i]+dli[i]+nli[i] for i in range(100)]\n",
    "li = [dli[i]+nli[i] for i in range(100)]\n",
    "plt.plot(x,li,color=\"red\",marker=\"o\")"
   ],
   "metadata": {
    "collapsed": false,
    "pycharm": {
     "name": "#%%\n"
    }
   }
  },
  {
   "cell_type": "code",
   "execution_count": 22,
   "outputs": [
    {
     "name": "stdout",
     "output_type": "stream",
     "text": [
      "0.50796875\n"
     ]
    },
    {
     "data": {
      "text/plain": "<Figure size 640x480 with 1 Axes>",
      "image/png": "[encoded data removed]"
     },
     "metadata": {},
     "output_type": "display_data"
    }
   ],
   "source": [
    "x = [i for i in range(100)]\n",
    "li = [x/64 for x in cliploss.right_patch]\n",
    "plt.plot(x,li,color=\"red\",marker=\"o\")\n",
    "print(sum(cliploss.right_patch)/6400)"
   ],
   "metadata": {
    "collapsed": false,
    "pycharm": {
     "name": "#%%\n"
    }
   }
  }
 ],
 "metadata": {
  "kernelspec": {
   "display_name": "Python 3",
   "language": "python",
   "name": "python3"
  },
  "language_info": {
   "codemirror_mode": {
    "name": "ipython",
    "version": 2
   },
   "file_extension": ".py",
   "mimetype": "text/x-python",
   "name": "python",
   "nbconvert_exporter": "python",
   "pygments_lexer": "ipython2",
   "version": "2.7.6"
  }
 },
 "nbformat": 4,
 "nbformat_minor": 0
}