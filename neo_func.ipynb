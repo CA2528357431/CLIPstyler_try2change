{
 "cells": [
  {
   "cell_type": "code",
   "execution_count": 1,
   "metadata": {
    "collapsed": true
   },
   "outputs": [],
   "source": [
    "import torch\n",
    "import torch.optim as optim\n",
    "import torchvision\n",
    "import torchvision.transforms as transforms\n",
    "from PIL import Image\n",
    "\n",
    "from network.mynetwork_uu import Unet\n",
    "from loss.loss import CLIPLoss\n",
    "from utils.func import get_features,vgg_normalize\n",
    "\n",
    "import time"
   ]
  },
  {
   "cell_type": "code",
   "execution_count": 2,
   "outputs": [],
   "source": [
    "device = \"cuda\" if torch.cuda.is_available() else \"cpu\""
   ],
   "metadata": {
    "collapsed": false,
    "pycharm": {
     "name": "#%%\n"
    }
   }
  },
  {
   "cell_type": "code",
   "execution_count": 3,
   "outputs": [],
   "source": [
    "model = Unet(device).to(device)\n",
    "# model = Unet().to(device)\n",
    "cliploss = CLIPLoss(device)\n",
    "mseloss = torch.nn.MSELoss()\n",
    "# vgg = torchvision.models.vgg19(pretrained=True).features.to(device)\n",
    "# for x in vgg.parameters():\n",
    "#     x.requires_grad = False\n",
    "\n",
    "topil = transforms.ToPILImage()\n",
    "topic = transforms.ToTensor()"
   ],
   "metadata": {
    "collapsed": false,
    "pycharm": {
     "name": "#%%\n"
    }
   }
  },
  {
   "cell_type": "code",
   "execution_count": 4,
   "outputs": [],
   "source": [
    "lr1 = 0.001\n",
    "lr2 = 0.0003\n",
    "\n",
    "# lr_fast = 0.0003\n",
    "# lr_slow = 0.0004\n",
    "\n",
    "dir_lambda = 500\n",
    "content_lambda = 1\n",
    "patch_lambda = 9000\n",
    "norm_lambda = 0.002\n",
    "gol_lambda = 300\n"
   ],
   "metadata": {
    "collapsed": false,
    "pycharm": {
     "name": "#%%\n"
    }
   }
  },
  {
   "cell_type": "code",
   "execution_count": 5,
   "outputs": [],
   "source": [
    "loss_li = []\n",
    "\n"
   ],
   "metadata": {
    "collapsed": false,
    "pycharm": {
     "name": "#%%\n"
    }
   }
  },
  {
   "cell_type": "code",
   "execution_count": 6,
   "outputs": [],
   "source": [
    "def train(iteration1, iteration2, pic, source, target):\n",
    "    input = pic\n",
    "\n",
    "    # pic_f = get_features(vgg_normalize(pic), vgg)\n",
    "    # print(model.parameters())\n",
    "    opt = optim.Adam(model.parameters(), lr=lr1)\n",
    "    for i in range(iteration1):\n",
    "        opt.zero_grad()\n",
    "        neo_pic = model(input)\n",
    "        loss = mseloss(pic, neo_pic) * 1\n",
    "\n",
    "        # loss = 0\n",
    "        # neo_pic_f = get_features(vgg_normalize(neo_pic), vgg)\n",
    "        # loss += torch.mean((pic_f['conv4_2'] - neo_pic_f['conv4_2']) ** 2)\n",
    "        # loss += torch.mean((pic_f['conv5_2'] - neo_pic_f['conv5_2']) ** 2)\n",
    "\n",
    "        loss.backward()\n",
    "        opt.step()\n",
    "\n",
    "        print(\"iter:\", i + 1, \"loss:\", loss.item())\n",
    "\n",
    "        # pil = topil(neo_pic.squeeze(0).cpu())\n",
    "        # if ((i + 1) % 50) == 0:\n",
    "        #     pil.save(f\"./pic1/{(i + 1) // 50}.jpg\")\n",
    "\n",
    "    neo_pic = model(input)\n",
    "    pil = topil(neo_pic.squeeze(0).cpu())\n",
    "    pil.save(f\"mid.jpg\")\n",
    "\n",
    "\n",
    "    # torch.save(model,'unet.pth')\n",
    "\n",
    "    # model = torch.load('unet.pth')\n",
    "\n",
    "    # pic_f = get_features(vgg_normalize(pic),vgg)\n",
    "\n",
    "    opt = optim.Adam(model.parameters(), lr=lr2)\n",
    "    # opt_fast = optim.Adam(model.parameters(), lr=lr_fast)\n",
    "    # opt_slow = optim.Adam(model.parameters(), lr=lr_slow)\n",
    "    # opt_loss = optim.Adam(cliploss.parameters(), lr=lr_slow)\n",
    "    for i in range(iteration2):\n",
    "\n",
    "\n",
    "        opt.zero_grad()\n",
    "        # opt_slow.zero_grad()\n",
    "        # opt_fast.zero_grad()\n",
    "\n",
    "        neo_pic = model(input)\n",
    "\n",
    "        dir_loss = 0\n",
    "        dir_loss += cliploss.forward_dir(pic, source, neo_pic, target)\n",
    "\n",
    "        gol_loss = 0\n",
    "        gol_loss += cliploss.forward_gol(pic, source, neo_pic, target)\n",
    "\n",
    "        content_loss = 0\n",
    "        # content_loss += mseloss(pic, neo_pic)\n",
    "        # neo_pic_f = get_features(vgg_normalize(neo_pic), vgg)\n",
    "        # content_loss += torch.mean((pic_f['conv4_2'] - neo_pic_f['conv4_2']) ** 2)\n",
    "        # content_loss += torch.mean((pic_f['conv5_2'] - neo_pic_f['conv5_2']) ** 2)\n",
    "\n",
    "        patch_loss = 0\n",
    "        patch_loss += cliploss.forward_patch(pic, source, neo_pic, target)\n",
    "\n",
    "        norm_loss = 0\n",
    "        norm_loss += cliploss.get_image_prior_losses(neo_pic)\n",
    "\n",
    "        loss = dir_loss * dir_lambda + \\\n",
    "               content_loss * content_lambda + \\\n",
    "               patch_loss * patch_lambda + \\\n",
    "               norm_loss * norm_lambda + \\\n",
    "               gol_loss * gol_lambda\n",
    "\n",
    "\n",
    "\n",
    "        # patch_loss_fast,patch_loss_slow = cliploss.forward_patch_sec(pic, source, neo_pic, target)\n",
    "        # patch_loss_fast *= patch_lambda\n",
    "        # patch_loss_slow *= patch_lambda\n",
    "\n",
    "\n",
    "\n",
    "        loss.backward()\n",
    "        opt.step()\n",
    "\n",
    "        # opt_fast.step()\n",
    "        # opt_slow.step()\n",
    "\n",
    "        with torch.no_grad():\n",
    "            loss_li.append(loss.item())\n",
    "\n",
    "            # print(\"iter:\", i + 1, \"fast_loss:\", patch_loss_fast.item(), \"slow_loss:\", patch_loss_slow.item())\n",
    "            print(\"iter:\", i + 1, \"loss:\", loss.item())\n",
    "\n",
    "\n",
    "        # pil = topil(neo_pic.squeeze(0).cpu())\n",
    "        # if ((i + 1) % 10) == 0:\n",
    "        #     pil.save(f\"./pic2/{(i + 1) // 10}.jpg\")\n",
    "\n",
    "    # return  model(input)\n",
    "    # neo_pic = model(input)\n",
    "    # pil = topil(neo_pic.squeeze(0).cpu())\n",
    "    # # pil.save(f\"{source}-{target}.jpg\")\n",
    "    # pil.save(path)\n",
    "\n"
   ],
   "metadata": {
    "collapsed": false,
    "pycharm": {
     "name": "#%%\n"
    }
   }
  },
  {
   "cell_type": "code",
   "execution_count": 7,
   "outputs": [],
   "source": [
    "pil = Image.open(f\"./source_pic/church.jpeg\")\n",
    "ori_size = pil.size[::-1]\n",
    "pil = transforms.Resize(size=(512, 512), interpolation=Image.BICUBIC)(pil)\n",
    "pic = topic(pil).unsqueeze(0).to(device)\n",
    "# pic = torch.ones(1, 3, 512, 512).to(device)\n",
    "pic.requires_grad = False"
   ],
   "metadata": {
    "collapsed": false,
    "pycharm": {
     "name": "#%%\n"
    }
   }
  },
  {
   "cell_type": "code",
   "execution_count": 8,
   "outputs": [],
   "source": [
    "source = \"photo\"\n",
    "# source = \"CG picture\"\n",
    "# source = \"human\"\n",
    "\n",
    "# target = \"starry night by Van Gogh\"\n",
    "# target = \"the scream by Edvard Munch\"\n",
    "# target = \"Monet\"\n",
    "# target = \"cyberpunk 2077\"\n",
    "# target = \"oil painting of flowers\"\n",
    "# target = \"neon light\"\n",
    "# target = \"The great wave off kanagawa by Hokusai\"\n",
    "# target = \"fire\"\n",
    "# target = \"Chinese Ink and wash painting\"\n",
    "# target = \"Expressionism\"\n",
    "# target = \"sketch\"\n",
    "# target = \"abstract paintings by picasso\"\n",
    "target = \"pop art of night city\"\n",
    "# target = \"wall paintings\"\n",
    "# target = \"Japanese anime\"\n",
    "\n",
    "\n",
    "path = \"result4.jpg\""
   ],
   "metadata": {
    "collapsed": false,
    "pycharm": {
     "name": "#%%\n"
    }
   }
  },
  {
   "cell_type": "code",
   "execution_count": 9,
   "outputs": [
    {
     "name": "stdout",
     "output_type": "stream",
     "text": [
      "iter: 1 loss: 0.06386147439479828\n",
      "iter: 2 loss: 0.03284440189599991\n",
      "iter: 3 loss: 0.019330568611621857\n",
      "iter: 4 loss: 0.013440454378724098\n",
      "iter: 5 loss: 0.010071499273180962\n",
      "iter: 6 loss: 0.00800398737192154\n",
      "iter: 7 loss: 0.0066473460756242275\n",
      "iter: 8 loss: 0.005683891475200653\n",
      "iter: 9 loss: 0.004998903721570969\n",
      "iter: 10 loss: 0.0045382799580693245\n",
      "iter: 11 loss: 0.004219710361212492\n",
      "iter: 12 loss: 0.00395479379221797\n",
      "iter: 13 loss: 0.0037159137427806854\n",
      "iter: 14 loss: 0.003489285707473755\n",
      "iter: 15 loss: 0.0032588092144578695\n",
      "iter: 16 loss: 0.0030332214664667845\n",
      "iter: 17 loss: 0.002838103100657463\n",
      "iter: 18 loss: 0.002685894025489688\n",
      "iter: 19 loss: 0.002566421404480934\n",
      "iter: 20 loss: 0.0024606490042060614\n",
      "iter: 21 loss: 0.0023592025972902775\n",
      "iter: 22 loss: 0.002263056579977274\n",
      "iter: 23 loss: 0.002177418675273657\n",
      "iter: 24 loss: 0.002099820412695408\n",
      "iter: 25 loss: 0.002022547647356987\n",
      "iter: 26 loss: 0.0019458383321762085\n",
      "iter: 27 loss: 0.0018719433574005961\n",
      "iter: 28 loss: 0.0018013939261436462\n",
      "iter: 29 loss: 0.0017362870275974274\n",
      "iter: 30 loss: 0.0016798656433820724\n",
      "iter: 31 loss: 0.0016360159497708082\n",
      "iter: 32 loss: 0.0015889386413618922\n",
      "iter: 33 loss: 0.0015377592062577605\n",
      "iter: 34 loss: 0.001494003226980567\n",
      "iter: 35 loss: 0.0014529591426253319\n",
      "iter: 36 loss: 0.0014130165800452232\n",
      "iter: 37 loss: 0.0013745829928666353\n",
      "iter: 38 loss: 0.0013381498865783215\n",
      "iter: 39 loss: 0.0013034556759521365\n",
      "iter: 40 loss: 0.0012696327175945044\n",
      "iter: 41 loss: 0.0012366697192192078\n",
      "iter: 42 loss: 0.001205716049298644\n",
      "iter: 43 loss: 0.0011770434211939573\n",
      "iter: 44 loss: 0.001149799209088087\n",
      "iter: 45 loss: 0.0011234619887545705\n",
      "iter: 46 loss: 0.0010983224492520094\n",
      "iter: 47 loss: 0.0010747404303401709\n",
      "iter: 48 loss: 0.001052642590366304\n",
      "iter: 49 loss: 0.0010316435946151614\n",
      "iter: 50 loss: 0.0010113036260008812\n",
      "iter: 51 loss: 0.0009912888053804636\n",
      "iter: 52 loss: 0.0009714823681861162\n",
      "iter: 53 loss: 0.0009521035244688392\n",
      "iter: 54 loss: 0.000933372532017529\n",
      "iter: 55 loss: 0.0009152154671028256\n",
      "iter: 56 loss: 0.0008975343662314117\n",
      "iter: 57 loss: 0.0008804174140095711\n",
      "iter: 58 loss: 0.0008639771840535104\n",
      "iter: 59 loss: 0.0008480952819809318\n",
      "iter: 60 loss: 0.000832674908451736\n",
      "iter: 61 loss: 0.0008178355055861175\n",
      "iter: 62 loss: 0.0008034090278670192\n",
      "iter: 63 loss: 0.000789027544669807\n",
      "iter: 64 loss: 0.0007748191128484905\n",
      "iter: 65 loss: 0.0007613000343553722\n",
      "iter: 66 loss: 0.0007486410322599113\n",
      "iter: 67 loss: 0.0007365877972915769\n",
      "iter: 68 loss: 0.00072484090924263\n",
      "iter: 69 loss: 0.0007136088679544628\n",
      "iter: 70 loss: 0.0007031172863207757\n",
      "iter: 71 loss: 0.0006930850213393569\n",
      "iter: 72 loss: 0.0006831357022747397\n",
      "iter: 73 loss: 0.0006732877809554338\n",
      "iter: 74 loss: 0.0006637279293499887\n",
      "iter: 75 loss: 0.0006545087089762092\n",
      "iter: 76 loss: 0.0006456546252593398\n",
      "iter: 77 loss: 0.0006370991468429565\n",
      "iter: 78 loss: 0.0006287901196628809\n",
      "iter: 79 loss: 0.0006208250997588038\n",
      "iter: 80 loss: 0.0006133790593594313\n",
      "iter: 81 loss: 0.0006065000779926777\n",
      "iter: 82 loss: 0.0005998704582452774\n",
      "iter: 83 loss: 0.0005929418839514256\n",
      "iter: 84 loss: 0.0005855439230799675\n",
      "iter: 85 loss: 0.0005782264634035528\n",
      "iter: 86 loss: 0.0005713472492061555\n",
      "iter: 87 loss: 0.0005647595971822739\n",
      "iter: 88 loss: 0.0005583047168329358\n",
      "iter: 89 loss: 0.0005520715494640172\n",
      "iter: 90 loss: 0.000546223483979702\n",
      "iter: 91 loss: 0.0005407209973782301\n",
      "iter: 92 loss: 0.0005352013977244496\n",
      "iter: 93 loss: 0.0005294108996167779\n",
      "iter: 94 loss: 0.0005234499694779515\n",
      "iter: 95 loss: 0.0005177194834686816\n",
      "iter: 96 loss: 0.0005123786395415664\n",
      "iter: 97 loss: 0.0005071830819360912\n",
      "iter: 98 loss: 0.0005020342068746686\n",
      "iter: 99 loss: 0.000497329281643033\n",
      "iter: 100 loss: 0.0004933513118885458\n",
      "iter: 1 loss: 10043.5986328125\n",
      "iter: 2 loss: 9603.6064453125\n",
      "iter: 3 loss: 9275.607421875\n",
      "iter: 4 loss: 9043.6083984375\n",
      "iter: 5 loss: 8875.607421875\n",
      "iter: 6 loss: 8683.607421875\n",
      "iter: 7 loss: 8515.60546875\n",
      "iter: 8 loss: 8507.603515625\n",
      "iter: 9 loss: 8431.6015625\n",
      "iter: 10 loss: 8407.599609375\n",
      "iter: 11 loss: 8351.59765625\n",
      "iter: 12 loss: 8319.595703125\n",
      "iter: 13 loss: 8175.59423828125\n",
      "iter: 14 loss: 8087.59326171875\n",
      "iter: 15 loss: 7967.59375\n",
      "iter: 16 loss: 8003.5947265625\n",
      "iter: 17 loss: 8011.59619140625\n",
      "iter: 18 loss: 8007.59814453125\n",
      "iter: 19 loss: 7947.60009765625\n",
      "iter: 20 loss: 7879.6025390625\n",
      "iter: 21 loss: 7911.60595703125\n",
      "iter: 22 loss: 7739.60986328125\n",
      "iter: 23 loss: 7715.61376953125\n",
      "iter: 24 loss: 7599.6162109375\n",
      "iter: 25 loss: 7667.61767578125\n",
      "iter: 26 loss: 7555.61962890625\n",
      "iter: 27 loss: 7527.6201171875\n",
      "iter: 28 loss: 7507.6201171875\n",
      "iter: 29 loss: 7407.623046875\n",
      "iter: 30 loss: 7435.6259765625\n",
      "iter: 31 loss: 7471.62939453125\n",
      "iter: 32 loss: 7395.63134765625\n",
      "iter: 33 loss: 7423.63330078125\n",
      "iter: 34 loss: 7391.63427734375\n",
      "iter: 35 loss: 7331.63427734375\n",
      "iter: 36 loss: 7283.63427734375\n",
      "iter: 37 loss: 7283.6337890625\n",
      "iter: 38 loss: 7235.63330078125\n",
      "iter: 39 loss: 7239.63134765625\n",
      "iter: 40 loss: 7195.62841796875\n",
      "iter: 41 loss: 7259.626953125\n",
      "iter: 42 loss: 7203.62646484375\n",
      "iter: 43 loss: 7151.626953125\n",
      "iter: 44 loss: 7207.62939453125\n",
      "iter: 45 loss: 7135.63232421875\n",
      "iter: 46 loss: 7163.6357421875\n",
      "iter: 47 loss: 7103.63818359375\n",
      "iter: 48 loss: 7135.6396484375\n",
      "iter: 49 loss: 7103.642578125\n",
      "iter: 50 loss: 7059.64501953125\n",
      "iter: 51 loss: 7039.6474609375\n",
      "iter: 52 loss: 7039.64990234375\n",
      "iter: 53 loss: 7003.65087890625\n",
      "iter: 54 loss: 6979.65283203125\n",
      "iter: 55 loss: 6951.65478515625\n",
      "iter: 56 loss: 6967.65673828125\n",
      "iter: 57 loss: 6971.65771484375\n",
      "iter: 58 loss: 6907.658203125\n",
      "iter: 59 loss: 6963.65869140625\n",
      "iter: 60 loss: 6919.65869140625\n",
      "iter: 61 loss: 6915.66015625\n",
      "iter: 62 loss: 6887.6630859375\n",
      "iter: 63 loss: 6883.66650390625\n",
      "iter: 64 loss: 6871.66943359375\n",
      "iter: 65 loss: 6907.67236328125\n",
      "iter: 66 loss: 6859.6767578125\n",
      "iter: 67 loss: 6851.6796875\n",
      "iter: 68 loss: 6879.68017578125\n",
      "iter: 69 loss: 6847.6787109375\n",
      "iter: 70 loss: 6827.67578125\n",
      "iter: 71 loss: 6851.67529296875\n",
      "iter: 72 loss: 6843.677734375\n",
      "iter: 73 loss: 6791.68359375\n",
      "iter: 74 loss: 6759.68603515625\n",
      "iter: 75 loss: 6759.68701171875\n",
      "iter: 76 loss: 6779.6884765625\n",
      "iter: 77 loss: 6827.6904296875\n",
      "iter: 78 loss: 6759.6923828125\n",
      "iter: 79 loss: 6763.6953125\n",
      "iter: 80 loss: 6775.69873046875\n",
      "iter: 81 loss: 6715.69921875\n",
      "iter: 82 loss: 6735.70068359375\n",
      "iter: 83 loss: 6763.70263671875\n",
      "iter: 84 loss: 6715.701171875\n",
      "iter: 85 loss: 6747.70166015625\n",
      "iter: 86 loss: 6687.70458984375\n",
      "iter: 87 loss: 6695.705078125\n",
      "iter: 88 loss: 6719.70654296875\n",
      "iter: 89 loss: 6651.70849609375\n",
      "iter: 90 loss: 6667.7119140625\n",
      "iter: 91 loss: 6667.71337890625\n",
      "iter: 92 loss: 6699.7119140625\n",
      "iter: 93 loss: 6623.71142578125\n",
      "iter: 94 loss: 6647.7119140625\n",
      "iter: 95 loss: 6639.71533203125\n",
      "iter: 96 loss: 6679.71826171875\n",
      "iter: 97 loss: 6671.7197265625\n",
      "iter: 98 loss: 6635.71875\n",
      "iter: 99 loss: 6631.7197265625\n",
      "iter: 100 loss: 6611.72119140625\n",
      "usetime: 91.52138590812683\n"
     ]
    }
   ],
   "source": [
    "start = time.time()\n",
    "train(100, 100, pic, source, target)\n",
    "end = time.time()\n",
    "usetime = end - start\n",
    "print(f\"usetime: {usetime}\")"
   ],
   "metadata": {
    "collapsed": false,
    "pycharm": {
     "name": "#%%\n"
    }
   }
  },
  {
   "cell_type": "code",
   "execution_count": 10,
   "outputs": [],
   "source": [
    "neo_pic = model(pic)\n",
    "pil = topil(neo_pic.squeeze(0).cpu())\n",
    "pil = transforms.Resize(size=ori_size, interpolation=Image.BICUBIC)(pil)\n",
    "pil.save(path)\n",
    "\n",
    "\n",
    "\n",
    "# 186.4968602657318\n"
   ],
   "metadata": {
    "collapsed": false,
    "pycharm": {
     "name": "#%%\n"
    }
   }
  },
  {
   "cell_type": "code",
   "execution_count": 11,
   "outputs": [],
   "source": [
    "with open(file = \"neo0.txt\", mode = \"w\") as file:\n",
    "    for i in loss_li:\n",
    "        file.write(str(i)+\" \")\n"
   ],
   "metadata": {
    "collapsed": false,
    "pycharm": {
     "name": "#%%\n"
    }
   }
  },
  {
   "cell_type": "code",
   "execution_count": 12,
   "outputs": [
    {
     "data": {
      "text/plain": "[<matplotlib.lines.Line2D at 0x175fd6057c0>]"
     },
     "execution_count": 12,
     "metadata": {},
     "output_type": "execute_result"
    },
    {
     "data": {
      "text/plain": "<Figure size 640x480 with 1 Axes>",
      "image/png": "[encoded data removed]"
     },
     "metadata": {},
     "output_type": "display_data"
    }
   ],
   "source": [
    "import matplotlib.pyplot as plt\n",
    "\n",
    "x = [i for i in range(100)]\n",
    "plt.plot(x,loss_li,color=\"red\",marker=\"o\")\n"
   ],
   "metadata": {
    "collapsed": false,
    "pycharm": {
     "name": "#%%\n"
    }
   }
  }
 ],
 "metadata": {
  "kernelspec": {
   "display_name": "Python 3",
   "language": "python",
   "name": "python3"
  },
  "language_info": {
   "codemirror_mode": {
    "name": "ipython",
    "version": 2
   },
   "file_extension": ".py",
   "mimetype": "text/x-python",
   "name": "python",
   "nbconvert_exporter": "python",
   "pygments_lexer": "ipython2",
   "version": "2.7.6"
  }
 },
 "nbformat": 4,
 "nbformat_minor": 0
}