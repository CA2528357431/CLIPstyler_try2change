{
 "cells": [
  {
   "cell_type": "code",
   "execution_count": 1,
   "metadata": {
    "collapsed": true
   },
   "outputs": [],
   "source": [
    "import torch\n",
    "import torch.optim as optim\n",
    "import torchvision\n",
    "import torchvision.transforms as transforms\n",
    "from PIL import Image\n",
    "\n",
    "from network.styler import Unet\n",
    "from loss.loss import CLIPLoss\n",
    "from utils.func import get_features,vgg_normalize\n",
    "\n",
    "import time"
   ]
  },
  {
   "cell_type": "code",
   "execution_count": 2,
   "outputs": [],
   "source": [
    "device = \"cuda\" if torch.cuda.is_available() else \"cpu\"\n",
    "\n",
    "lr1 = 0.0001\n",
    "lr2 = 0.0005\n",
    "# model = Unet(device)\n",
    "model = Unet().to(device)\n",
    "cliploss = CLIPLoss(device)\n",
    "# mseloss = torch.nn.MSELoss()\n",
    "vgg = torchvision.models.vgg19(pretrained=True).features.to(device)\n",
    "for x in vgg.parameters():\n",
    "    x.requires_grad = False\n",
    "\n",
    "topil = transforms.ToPILImage()\n",
    "topic = transforms.ToTensor()\n",
    "\n",
    "dir_lambda = 500\n",
    "content_lambda = 150\n",
    "patch_lambda = 9000\n",
    "norm_lambda = 0.002\n",
    "gol_lambda = 300"
   ],
   "metadata": {
    "collapsed": false,
    "pycharm": {
     "name": "#%%\n"
    }
   }
  },
  {
   "cell_type": "code",
   "execution_count": 3,
   "outputs": [],
   "source": [
    "file_cmp_outer = open(\"neo_cmp_outer.txt\", \"r\")\n",
    "loss_li = file_cmp_outer.readline()\n",
    "loss_li = [float(x) for x in loss_li.split()]+[0]*100\n",
    "if not loss_li:\n",
    "    loss_li = [0]*200\n",
    "\n",
    "cur_times = int(file_cmp_outer.readline())"
   ],
   "metadata": {
    "collapsed": false,
    "pycharm": {
     "name": "#%%\n"
    }
   }
  },
  {
   "cell_type": "code",
   "execution_count": 4,
   "outputs": [],
   "source": [
    "def train(iteration1, iteration2, pic, source, target, path):\n",
    "    input = pic\n",
    "\n",
    "    # opt = optim.Adam(model.parameters(), lr=lr1)\n",
    "    # for i in range(iteration1):\n",
    "    #     opt.zero_grad()\n",
    "    #     neo_pic = model(input)\n",
    "    #     loss = mseloss(pic, neo_pic) * 1\n",
    "    #     loss.backward()\n",
    "    #     opt.step()\n",
    "    #     pil = topil(neo_pic.squeeze(0).cpu())\n",
    "    #     print(\"iter:\", i + 1, \"loss:\", loss.item())\n",
    "    #     if ((i + 1) % 50) == 0:\n",
    "    #         pil.save(f\"./pic1/{(i + 1) // 50}.jpg\")\n",
    "    #\n",
    "    #\n",
    "    # torch.save(model,'unet.pth')\n",
    "\n",
    "\n",
    "    # model = torch.load('unet.pth')\n",
    "\n",
    "    pic_f = get_features(vgg_normalize(pic),vgg)\n",
    "\n",
    "    opt = optim.Adam(model.parameters(), lr=lr2)\n",
    "    sch = torch.optim.lr_scheduler.StepLR(opt, step_size=100, gamma=0.5)\n",
    "    for i in range(iteration2):\n",
    "\n",
    "\n",
    "        opt.zero_grad()\n",
    "        neo_pic = model(input)\n",
    "\n",
    "        dir_loss = 0\n",
    "        dir_loss += cliploss.forward_dir(pic, source, neo_pic, target)\n",
    "\n",
    "        gol_loss = 0\n",
    "        gol_loss += cliploss.forward_gol(pic, source, neo_pic, target)\n",
    "\n",
    "        content_loss = 0\n",
    "        neo_pic_f = get_features(vgg_normalize(neo_pic), vgg)\n",
    "        content_loss += torch.mean((pic_f['conv4_2'] - neo_pic_f['conv4_2']) ** 2)\n",
    "        content_loss += torch.mean((pic_f['conv5_2'] - neo_pic_f['conv5_2']) ** 2)\n",
    "\n",
    "        patch_loss = 0\n",
    "        patch_loss += cliploss.forward_patch(pic, source, neo_pic, target)\n",
    "\n",
    "        norm_loss = 0\n",
    "        norm_loss += cliploss.forward_prior(pic, source, neo_pic, target)\n",
    "\n",
    "        loss = dir_loss * dir_lambda + \\\n",
    "               content_loss * content_lambda + \\\n",
    "               patch_loss * patch_lambda + \\\n",
    "               norm_loss * norm_lambda + \\\n",
    "               gol_loss * gol_lambda\n",
    "\n",
    "        loss.backward()\n",
    "        opt.step()\n",
    "        sch.step()\n",
    "\n",
    "        loss_li[i]+=(loss.item())\n",
    "\n",
    "        print(\"iter:\", i + 1, \"loss:\", loss.item())\n",
    "\n",
    "        # pil = topil(neo_pic.squeeze(0).cpu())\n",
    "        # if ((i + 1) % 10) == 0:\n",
    "        #     pil.save(f\"./pic2/{(i + 1) // 10}.jpg\")\n",
    "\n",
    "    # neo_pic = model(input)\n",
    "    # pil = topil(neo_pic.squeeze(0).cpu())\n",
    "    # # pil.save(f\"{source}-{target}.jpg\")\n",
    "    # pil.save(path)"
   ],
   "metadata": {
    "collapsed": false,
    "pycharm": {
     "name": "#%%\n"
    }
   }
  },
  {
   "cell_type": "code",
   "execution_count": 5,
   "outputs": [
    {
     "name": "stderr",
     "output_type": "stream",
     "text": [
      "C:\\Users\\win10\\AppData\\Local\\Temp\\ipykernel_38764\\3799126218.py:3: DeprecationWarning: BICUBIC is deprecated and will be removed in Pillow 10 (2023-07-01). Use Resampling.BICUBIC instead.\n",
      "  pil = transforms.Resize(size=(512, 512), interpolation=Image.BICUBIC)(pil)\n"
     ]
    }
   ],
   "source": [
    "pil = Image.open(f\"./source_pic/emma.jpg\")\n",
    "ori_size = pil.size[::-1]\n",
    "pil = transforms.Resize(size=(512, 512), interpolation=Image.BICUBIC)(pil)\n",
    "pic = topic(pil).unsqueeze(0).to(device)\n",
    "# pic = torch.ones(1, 3, 512, 512).to(device)\n",
    "pic.requires_grad = False"
   ],
   "metadata": {
    "collapsed": false,
    "pycharm": {
     "name": "#%%\n"
    }
   }
  },
  {
   "cell_type": "code",
   "execution_count": 6,
   "outputs": [],
   "source": [
    "source = \"woman\"\n",
    "\n",
    "\n",
    "# target = \"pop art of night city\"\n",
    "# target = \"starry night by Van Gogh\"\n",
    "# target = \"the scream by Edvard Munch\"\n",
    "# target = \"Monet\"\n",
    "# target = \"cyberpunk 2077\"\n",
    "# target = \"Chinese Ink and wash painting\"\n",
    "# target = \"fire\"\n",
    "# target = \"woman\"\n",
    "target = \"man with dark black skin and black black hair\"\n",
    "# target = \"man\"\n",
    "\n",
    "path = \"result4.jpg\""
   ],
   "metadata": {
    "collapsed": false,
    "pycharm": {
     "name": "#%%\n"
    }
   }
  },
  {
   "cell_type": "code",
   "execution_count": 7,
   "outputs": [
    {
     "name": "stderr",
     "output_type": "stream",
     "text": [
      "E:\\Anaconda\\envs\\sth\\lib\\site-packages\\torch\\nn\\functional.py:3060: UserWarning: Default upsampling behavior when mode=bilinear is changed to align_corners=False since 0.4.0. Please specify align_corners=True if the old behavior is desired. See the documentation of nn.Upsample for details.\n",
      "  warnings.warn(\"Default upsampling behavior when mode={} is changed \"\n"
     ]
    },
    {
     "name": "stdout",
     "output_type": "stream",
     "text": [
      "iter: 1 loss: 10290.8251953125\n",
      "iter: 2 loss: 10237.7216796875\n",
      "iter: 3 loss: 9920.052734375\n",
      "iter: 4 loss: 9711.7724609375\n",
      "iter: 5 loss: 9449.4375\n",
      "iter: 6 loss: 9376.880859375\n",
      "iter: 7 loss: 9053.9619140625\n",
      "iter: 8 loss: 9122.1689453125\n",
      "iter: 9 loss: 8845.7021484375\n",
      "iter: 10 loss: 8700.8994140625\n",
      "iter: 11 loss: 8522.26953125\n",
      "iter: 12 loss: 8619.8310546875\n",
      "iter: 13 loss: 8470.12890625\n",
      "iter: 14 loss: 8307.77734375\n",
      "iter: 15 loss: 8353.2001953125\n",
      "iter: 16 loss: 8314.12109375\n",
      "iter: 17 loss: 8076.568359375\n",
      "iter: 18 loss: 8234.353515625\n",
      "iter: 19 loss: 8220.8349609375\n",
      "iter: 20 loss: 8061.1416015625\n",
      "iter: 21 loss: 7993.4091796875\n",
      "iter: 22 loss: 7924.64111328125\n",
      "iter: 23 loss: 7866.39453125\n",
      "iter: 24 loss: 7751.72705078125\n",
      "iter: 25 loss: 7672.15283203125\n",
      "iter: 26 loss: 7624.3095703125\n",
      "iter: 27 loss: 7548.29052734375\n",
      "iter: 28 loss: 7543.521484375\n",
      "iter: 29 loss: 7614.587890625\n",
      "iter: 30 loss: 7579.4033203125\n",
      "iter: 31 loss: 7500.625\n",
      "iter: 32 loss: 7452.86572265625\n",
      "iter: 33 loss: 7498.6845703125\n",
      "iter: 34 loss: 7430.740234375\n",
      "iter: 35 loss: 7411.25634765625\n",
      "iter: 36 loss: 7286.9736328125\n",
      "iter: 37 loss: 7271.701171875\n",
      "iter: 38 loss: 7205.57373046875\n",
      "iter: 39 loss: 7313.63134765625\n",
      "iter: 40 loss: 7136.33740234375\n",
      "iter: 41 loss: 7117.5615234375\n",
      "iter: 42 loss: 7211.74951171875\n",
      "iter: 43 loss: 7074.02587890625\n",
      "iter: 44 loss: 7126.52587890625\n",
      "iter: 45 loss: 7168.869140625\n",
      "iter: 46 loss: 6974.28271484375\n",
      "iter: 47 loss: 7082.91943359375\n",
      "iter: 48 loss: 6922.78466796875\n",
      "iter: 49 loss: 6975.724609375\n",
      "iter: 50 loss: 7037.6513671875\n",
      "iter: 51 loss: 6912.23388671875\n",
      "iter: 52 loss: 6978.244140625\n",
      "iter: 53 loss: 6861.8359375\n",
      "iter: 54 loss: 7036.970703125\n",
      "iter: 55 loss: 6902.6083984375\n",
      "iter: 56 loss: 6849.8916015625\n",
      "iter: 57 loss: 6752.66748046875\n",
      "iter: 58 loss: 6746.6513671875\n",
      "iter: 59 loss: 6749.0439453125\n",
      "iter: 60 loss: 6766.20458984375\n",
      "iter: 61 loss: 6681.626953125\n",
      "iter: 62 loss: 6702.57763671875\n",
      "iter: 63 loss: 6613.63232421875\n",
      "iter: 64 loss: 6728.29296875\n",
      "iter: 65 loss: 6626.6611328125\n",
      "iter: 66 loss: 6543.4677734375\n",
      "iter: 67 loss: 6555.3671875\n",
      "iter: 68 loss: 6546.1796875\n",
      "iter: 69 loss: 6502.8388671875\n",
      "iter: 70 loss: 6489.3310546875\n",
      "iter: 71 loss: 6473.49169921875\n",
      "iter: 72 loss: 6540.6787109375\n",
      "iter: 73 loss: 6467.99462890625\n",
      "iter: 74 loss: 6386.9736328125\n",
      "iter: 75 loss: 6417.91748046875\n",
      "iter: 76 loss: 6312.3837890625\n",
      "iter: 77 loss: 6358.42578125\n",
      "iter: 78 loss: 6428.4677734375\n",
      "iter: 79 loss: 6421.31591796875\n",
      "iter: 80 loss: 6317.34716796875\n",
      "iter: 81 loss: 6310.26513671875\n",
      "iter: 82 loss: 6311.27099609375\n",
      "iter: 83 loss: 6340.65087890625\n",
      "iter: 84 loss: 6311.34814453125\n",
      "iter: 85 loss: 6361.4951171875\n",
      "iter: 86 loss: 6318.14208984375\n",
      "iter: 87 loss: 6318.04150390625\n",
      "iter: 88 loss: 6117.88232421875\n",
      "iter: 89 loss: 6246.68603515625\n",
      "iter: 90 loss: 6198.3193359375\n",
      "iter: 91 loss: 6174.392578125\n",
      "iter: 92 loss: 6204.43994140625\n",
      "iter: 93 loss: 6202.2080078125\n",
      "iter: 94 loss: 6222.74462890625\n",
      "iter: 95 loss: 6322.26904296875\n",
      "iter: 96 loss: 6151.60791015625\n",
      "iter: 97 loss: 6085.48828125\n",
      "iter: 98 loss: 6195.02294921875\n",
      "iter: 99 loss: 6119.45556640625\n",
      "iter: 100 loss: 6140.2939453125\n",
      "iter: 101 loss: 6024.3408203125\n",
      "iter: 102 loss: 6122.9873046875\n",
      "iter: 103 loss: 6054.10595703125\n",
      "iter: 104 loss: 6021.8115234375\n",
      "iter: 105 loss: 6010.56689453125\n",
      "iter: 106 loss: 6102.205078125\n",
      "iter: 107 loss: 5999.11328125\n",
      "iter: 108 loss: 5992.18115234375\n",
      "iter: 109 loss: 5943.25\n",
      "iter: 110 loss: 5960.94384765625\n",
      "iter: 111 loss: 6032.17578125\n",
      "iter: 112 loss: 6030.3271484375\n",
      "iter: 113 loss: 5957.2685546875\n",
      "iter: 114 loss: 5906.3046875\n",
      "iter: 115 loss: 5886.27978515625\n",
      "iter: 116 loss: 5942.80322265625\n",
      "iter: 117 loss: 5944.50048828125\n",
      "iter: 118 loss: 5846.6494140625\n",
      "iter: 119 loss: 5932.64306640625\n",
      "iter: 120 loss: 5809.37646484375\n",
      "iter: 121 loss: 5841.43896484375\n",
      "iter: 122 loss: 5937.00634765625\n",
      "iter: 123 loss: 5918.24755859375\n",
      "iter: 124 loss: 5800.8837890625\n",
      "iter: 125 loss: 5804.552734375\n",
      "iter: 126 loss: 5819.25634765625\n",
      "iter: 127 loss: 5756.35107421875\n",
      "iter: 128 loss: 5800.7041015625\n",
      "iter: 129 loss: 5776.75537109375\n",
      "iter: 130 loss: 5893.17919921875\n",
      "iter: 131 loss: 5782.05615234375\n",
      "iter: 132 loss: 5848.7724609375\n",
      "iter: 133 loss: 5808.5888671875\n",
      "iter: 134 loss: 5730.58984375\n",
      "iter: 135 loss: 5727.3681640625\n",
      "iter: 136 loss: 5693.85693359375\n",
      "iter: 137 loss: 5734.3125\n",
      "iter: 138 loss: 5752.6533203125\n",
      "iter: 139 loss: 5759.66796875\n",
      "iter: 140 loss: 5789.13427734375\n",
      "iter: 141 loss: 5745.64453125\n",
      "iter: 142 loss: 5701.2734375\n",
      "iter: 143 loss: 5634.98876953125\n",
      "iter: 144 loss: 5650.775390625\n",
      "iter: 145 loss: 5734.62548828125\n",
      "iter: 146 loss: 5739.27880859375\n",
      "iter: 147 loss: 5746.56884765625\n",
      "iter: 148 loss: 5653.21875\n",
      "iter: 149 loss: 5662.80224609375\n",
      "iter: 150 loss: 5691.01806640625\n",
      "iter: 151 loss: 5707.83447265625\n",
      "iter: 152 loss: 5693.896484375\n",
      "iter: 153 loss: 5696.470703125\n",
      "iter: 154 loss: 5704.99658203125\n",
      "iter: 155 loss: 5597.85205078125\n",
      "iter: 156 loss: 5709.25390625\n",
      "iter: 157 loss: 5618.68603515625\n",
      "iter: 158 loss: 5677.93408203125\n",
      "iter: 159 loss: 5739.611328125\n",
      "iter: 160 loss: 5602.01806640625\n",
      "iter: 161 loss: 5548.234375\n",
      "iter: 162 loss: 5722.0361328125\n",
      "iter: 163 loss: 5650.60791015625\n",
      "iter: 164 loss: 5682.3330078125\n",
      "iter: 165 loss: 5606.35107421875\n",
      "iter: 166 loss: 5593.193359375\n",
      "iter: 167 loss: 5646.48486328125\n",
      "iter: 168 loss: 5583.185546875\n",
      "iter: 169 loss: 5630.8642578125\n",
      "iter: 170 loss: 5561.810546875\n",
      "iter: 171 loss: 5674.0869140625\n",
      "iter: 172 loss: 5488.51611328125\n",
      "iter: 173 loss: 5616.91845703125\n",
      "iter: 174 loss: 5653.80859375\n",
      "iter: 175 loss: 5684.36376953125\n",
      "iter: 176 loss: 5494.06005859375\n",
      "iter: 177 loss: 5599.91259765625\n",
      "iter: 178 loss: 5627.2353515625\n",
      "iter: 179 loss: 5661.9384765625\n",
      "iter: 180 loss: 5671.70166015625\n",
      "iter: 181 loss: 5550.505859375\n",
      "iter: 182 loss: 5537.95166015625\n",
      "iter: 183 loss: 5552.490234375\n",
      "iter: 184 loss: 5623.1826171875\n",
      "iter: 185 loss: 5540.05810546875\n",
      "iter: 186 loss: 5623.05029296875\n",
      "iter: 187 loss: 5645.52197265625\n",
      "iter: 188 loss: 5623.55419921875\n",
      "iter: 189 loss: 5584.1298828125\n",
      "iter: 190 loss: 5501.5498046875\n",
      "iter: 191 loss: 5502.32568359375\n",
      "iter: 192 loss: 5655.47802734375\n",
      "iter: 193 loss: 5542.69287109375\n",
      "iter: 194 loss: 5560.02490234375\n",
      "iter: 195 loss: 5560.40380859375\n",
      "iter: 196 loss: 5468.91162109375\n",
      "iter: 197 loss: 5524.35986328125\n",
      "iter: 198 loss: 5640.02001953125\n",
      "iter: 199 loss: 5530.88623046875\n",
      "iter: 200 loss: 5348.96484375\n",
      "usetime: 165.25454115867615\n"
     ]
    }
   ],
   "source": [
    "start = time.time()\n",
    "train(200, 200, pic, source, target, path)\n",
    "end = time.time()\n",
    "usetime = end - start\n",
    "print(f\"usetime: {usetime}\")"
   ],
   "metadata": {
    "collapsed": false,
    "pycharm": {
     "name": "#%%\n"
    }
   }
  },
  {
   "cell_type": "code",
   "execution_count": 8,
   "outputs": [
    {
     "name": "stderr",
     "output_type": "stream",
     "text": [
      "C:\\Users\\win10\\AppData\\Local\\Temp\\ipykernel_38764\\1981065163.py:3: DeprecationWarning: BICUBIC is deprecated and will be removed in Pillow 10 (2023-07-01). Use Resampling.BICUBIC instead.\n",
      "  pil = transforms.Resize(size=ori_size, interpolation=Image.BICUBIC)(pil)\n"
     ]
    }
   ],
   "source": [
    "neo_pic = model(pic)\n",
    "pil = topil(neo_pic.squeeze(0).cpu())\n",
    "pil = transforms.Resize(size=ori_size, interpolation=Image.BICUBIC)(pil)\n",
    "pil.save(path)\n"
   ],
   "metadata": {
    "collapsed": false,
    "pycharm": {
     "name": "#%%\n"
    }
   }
  },
  {
   "cell_type": "code",
   "execution_count": 9,
   "outputs": [],
   "source": [
    "with open(file = \"neo_cmp_outer.txt\", mode = \"w\") as file:\n",
    "    for i in loss_li:\n",
    "        file.write(str(i)+\" \")\n",
    "    file.write(\"\\n\")\n",
    "    file.write(str(cur_times+1))"
   ],
   "metadata": {
    "collapsed": false,
    "pycharm": {
     "name": "#%%\n"
    }
   }
  },
  {
   "cell_type": "code",
   "execution_count": 10,
   "outputs": [
    {
     "ename": "ValueError",
     "evalue": "x and y must have same first dimension, but have shapes (200,) and (1000,)",
     "output_type": "error",
     "traceback": [
      "\u001B[1;31m---------------------------------------------------------------------------\u001B[0m",
      "\u001B[1;31mValueError\u001B[0m                                Traceback (most recent call last)",
      "Cell \u001B[1;32mIn [10], line 5\u001B[0m\n\u001B[0;32m      3\u001B[0m x \u001B[38;5;241m=\u001B[39m [i \u001B[38;5;28;01mfor\u001B[39;00m i \u001B[38;5;129;01min\u001B[39;00m \u001B[38;5;28mrange\u001B[39m(\u001B[38;5;241m200\u001B[39m)]\n\u001B[0;32m      4\u001B[0m loss_li \u001B[38;5;241m=\u001B[39m [x\u001B[38;5;241m/\u001B[39m(cur_times\u001B[38;5;241m+\u001B[39m\u001B[38;5;241m1\u001B[39m) \u001B[38;5;28;01mfor\u001B[39;00m x \u001B[38;5;129;01min\u001B[39;00m loss_li]\n\u001B[1;32m----> 5\u001B[0m \u001B[43mplt\u001B[49m\u001B[38;5;241;43m.\u001B[39;49m\u001B[43mplot\u001B[49m\u001B[43m(\u001B[49m\u001B[43mx\u001B[49m\u001B[43m,\u001B[49m\u001B[43mloss_li\u001B[49m\u001B[43m,\u001B[49m\u001B[43mcolor\u001B[49m\u001B[38;5;241;43m=\u001B[39;49m\u001B[38;5;124;43m\"\u001B[39;49m\u001B[38;5;124;43mred\u001B[39;49m\u001B[38;5;124;43m\"\u001B[39;49m\u001B[43m,\u001B[49m\u001B[43mmarker\u001B[49m\u001B[38;5;241;43m=\u001B[39;49m\u001B[38;5;124;43m\"\u001B[39;49m\u001B[38;5;124;43mo\u001B[39;49m\u001B[38;5;124;43m\"\u001B[39;49m\u001B[43m)\u001B[49m\n",
      "File \u001B[1;32mE:\\Anaconda\\envs\\sth\\lib\\site-packages\\matplotlib\\pyplot.py:2767\u001B[0m, in \u001B[0;36mplot\u001B[1;34m(scalex, scaley, data, *args, **kwargs)\u001B[0m\n\u001B[0;32m   2765\u001B[0m \u001B[38;5;129m@_copy_docstring_and_deprecators\u001B[39m(Axes\u001B[38;5;241m.\u001B[39mplot)\n\u001B[0;32m   2766\u001B[0m \u001B[38;5;28;01mdef\u001B[39;00m \u001B[38;5;21mplot\u001B[39m(\u001B[38;5;241m*\u001B[39margs, scalex\u001B[38;5;241m=\u001B[39m\u001B[38;5;28;01mTrue\u001B[39;00m, scaley\u001B[38;5;241m=\u001B[39m\u001B[38;5;28;01mTrue\u001B[39;00m, data\u001B[38;5;241m=\u001B[39m\u001B[38;5;28;01mNone\u001B[39;00m, \u001B[38;5;241m*\u001B[39m\u001B[38;5;241m*\u001B[39mkwargs):\n\u001B[1;32m-> 2767\u001B[0m     \u001B[38;5;28;01mreturn\u001B[39;00m \u001B[43mgca\u001B[49m\u001B[43m(\u001B[49m\u001B[43m)\u001B[49m\u001B[38;5;241;43m.\u001B[39;49m\u001B[43mplot\u001B[49m\u001B[43m(\u001B[49m\n\u001B[0;32m   2768\u001B[0m \u001B[43m        \u001B[49m\u001B[38;5;241;43m*\u001B[39;49m\u001B[43margs\u001B[49m\u001B[43m,\u001B[49m\u001B[43m \u001B[49m\u001B[43mscalex\u001B[49m\u001B[38;5;241;43m=\u001B[39;49m\u001B[43mscalex\u001B[49m\u001B[43m,\u001B[49m\u001B[43m \u001B[49m\u001B[43mscaley\u001B[49m\u001B[38;5;241;43m=\u001B[39;49m\u001B[43mscaley\u001B[49m\u001B[43m,\u001B[49m\n\u001B[0;32m   2769\u001B[0m \u001B[43m        \u001B[49m\u001B[38;5;241;43m*\u001B[39;49m\u001B[38;5;241;43m*\u001B[39;49m\u001B[43m(\u001B[49m\u001B[43m{\u001B[49m\u001B[38;5;124;43m\"\u001B[39;49m\u001B[38;5;124;43mdata\u001B[39;49m\u001B[38;5;124;43m\"\u001B[39;49m\u001B[43m:\u001B[49m\u001B[43m \u001B[49m\u001B[43mdata\u001B[49m\u001B[43m}\u001B[49m\u001B[43m \u001B[49m\u001B[38;5;28;43;01mif\u001B[39;49;00m\u001B[43m \u001B[49m\u001B[43mdata\u001B[49m\u001B[43m \u001B[49m\u001B[38;5;129;43;01mis\u001B[39;49;00m\u001B[43m \u001B[49m\u001B[38;5;129;43;01mnot\u001B[39;49;00m\u001B[43m \u001B[49m\u001B[38;5;28;43;01mNone\u001B[39;49;00m\u001B[43m \u001B[49m\u001B[38;5;28;43;01melse\u001B[39;49;00m\u001B[43m \u001B[49m\u001B[43m{\u001B[49m\u001B[43m}\u001B[49m\u001B[43m)\u001B[49m\u001B[43m,\u001B[49m\u001B[43m \u001B[49m\u001B[38;5;241;43m*\u001B[39;49m\u001B[38;5;241;43m*\u001B[39;49m\u001B[43mkwargs\u001B[49m\u001B[43m)\u001B[49m\n",
      "File \u001B[1;32mE:\\Anaconda\\envs\\sth\\lib\\site-packages\\matplotlib\\axes\\_axes.py:1635\u001B[0m, in \u001B[0;36mAxes.plot\u001B[1;34m(self, scalex, scaley, data, *args, **kwargs)\u001B[0m\n\u001B[0;32m   1393\u001B[0m \u001B[38;5;124;03m\"\"\"\u001B[39;00m\n\u001B[0;32m   1394\u001B[0m \u001B[38;5;124;03mPlot y versus x as lines and/or markers.\u001B[39;00m\n\u001B[0;32m   1395\u001B[0m \n\u001B[1;32m   (...)\u001B[0m\n\u001B[0;32m   1632\u001B[0m \u001B[38;5;124;03m(``'green'``) or hex strings (``'#008000'``).\u001B[39;00m\n\u001B[0;32m   1633\u001B[0m \u001B[38;5;124;03m\"\"\"\u001B[39;00m\n\u001B[0;32m   1634\u001B[0m kwargs \u001B[38;5;241m=\u001B[39m cbook\u001B[38;5;241m.\u001B[39mnormalize_kwargs(kwargs, mlines\u001B[38;5;241m.\u001B[39mLine2D)\n\u001B[1;32m-> 1635\u001B[0m lines \u001B[38;5;241m=\u001B[39m [\u001B[38;5;241m*\u001B[39m\u001B[38;5;28mself\u001B[39m\u001B[38;5;241m.\u001B[39m_get_lines(\u001B[38;5;241m*\u001B[39margs, data\u001B[38;5;241m=\u001B[39mdata, \u001B[38;5;241m*\u001B[39m\u001B[38;5;241m*\u001B[39mkwargs)]\n\u001B[0;32m   1636\u001B[0m \u001B[38;5;28;01mfor\u001B[39;00m line \u001B[38;5;129;01min\u001B[39;00m lines:\n\u001B[0;32m   1637\u001B[0m     \u001B[38;5;28mself\u001B[39m\u001B[38;5;241m.\u001B[39madd_line(line)\n",
      "File \u001B[1;32mE:\\Anaconda\\envs\\sth\\lib\\site-packages\\matplotlib\\axes\\_base.py:312\u001B[0m, in \u001B[0;36m_process_plot_var_args.__call__\u001B[1;34m(self, data, *args, **kwargs)\u001B[0m\n\u001B[0;32m    310\u001B[0m     this \u001B[38;5;241m+\u001B[39m\u001B[38;5;241m=\u001B[39m args[\u001B[38;5;241m0\u001B[39m],\n\u001B[0;32m    311\u001B[0m     args \u001B[38;5;241m=\u001B[39m args[\u001B[38;5;241m1\u001B[39m:]\n\u001B[1;32m--> 312\u001B[0m \u001B[38;5;28;01myield from\u001B[39;00m \u001B[38;5;28;43mself\u001B[39;49m\u001B[38;5;241;43m.\u001B[39;49m\u001B[43m_plot_args\u001B[49m\u001B[43m(\u001B[49m\u001B[43mthis\u001B[49m\u001B[43m,\u001B[49m\u001B[43m \u001B[49m\u001B[43mkwargs\u001B[49m\u001B[43m)\u001B[49m\n",
      "File \u001B[1;32mE:\\Anaconda\\envs\\sth\\lib\\site-packages\\matplotlib\\axes\\_base.py:498\u001B[0m, in \u001B[0;36m_process_plot_var_args._plot_args\u001B[1;34m(self, tup, kwargs, return_kwargs)\u001B[0m\n\u001B[0;32m    495\u001B[0m     \u001B[38;5;28mself\u001B[39m\u001B[38;5;241m.\u001B[39maxes\u001B[38;5;241m.\u001B[39myaxis\u001B[38;5;241m.\u001B[39mupdate_units(y)\n\u001B[0;32m    497\u001B[0m \u001B[38;5;28;01mif\u001B[39;00m x\u001B[38;5;241m.\u001B[39mshape[\u001B[38;5;241m0\u001B[39m] \u001B[38;5;241m!=\u001B[39m y\u001B[38;5;241m.\u001B[39mshape[\u001B[38;5;241m0\u001B[39m]:\n\u001B[1;32m--> 498\u001B[0m     \u001B[38;5;28;01mraise\u001B[39;00m \u001B[38;5;167;01mValueError\u001B[39;00m(\u001B[38;5;124mf\u001B[39m\u001B[38;5;124m\"\u001B[39m\u001B[38;5;124mx and y must have same first dimension, but \u001B[39m\u001B[38;5;124m\"\u001B[39m\n\u001B[0;32m    499\u001B[0m                      \u001B[38;5;124mf\u001B[39m\u001B[38;5;124m\"\u001B[39m\u001B[38;5;124mhave shapes \u001B[39m\u001B[38;5;132;01m{\u001B[39;00mx\u001B[38;5;241m.\u001B[39mshape\u001B[38;5;132;01m}\u001B[39;00m\u001B[38;5;124m and \u001B[39m\u001B[38;5;132;01m{\u001B[39;00my\u001B[38;5;241m.\u001B[39mshape\u001B[38;5;132;01m}\u001B[39;00m\u001B[38;5;124m\"\u001B[39m)\n\u001B[0;32m    500\u001B[0m \u001B[38;5;28;01mif\u001B[39;00m x\u001B[38;5;241m.\u001B[39mndim \u001B[38;5;241m>\u001B[39m \u001B[38;5;241m2\u001B[39m \u001B[38;5;129;01mor\u001B[39;00m y\u001B[38;5;241m.\u001B[39mndim \u001B[38;5;241m>\u001B[39m \u001B[38;5;241m2\u001B[39m:\n\u001B[0;32m    501\u001B[0m     \u001B[38;5;28;01mraise\u001B[39;00m \u001B[38;5;167;01mValueError\u001B[39;00m(\u001B[38;5;124mf\u001B[39m\u001B[38;5;124m\"\u001B[39m\u001B[38;5;124mx and y can be no greater than 2D, but have \u001B[39m\u001B[38;5;124m\"\u001B[39m\n\u001B[0;32m    502\u001B[0m                      \u001B[38;5;124mf\u001B[39m\u001B[38;5;124m\"\u001B[39m\u001B[38;5;124mshapes \u001B[39m\u001B[38;5;132;01m{\u001B[39;00mx\u001B[38;5;241m.\u001B[39mshape\u001B[38;5;132;01m}\u001B[39;00m\u001B[38;5;124m and \u001B[39m\u001B[38;5;132;01m{\u001B[39;00my\u001B[38;5;241m.\u001B[39mshape\u001B[38;5;132;01m}\u001B[39;00m\u001B[38;5;124m\"\u001B[39m)\n",
      "\u001B[1;31mValueError\u001B[0m: x and y must have same first dimension, but have shapes (200,) and (1000,)"
     ]
    },
    {
     "data": {
      "text/plain": "<Figure size 640x480 with 1 Axes>",
      "image/png": "[encoded data removed]"
     },
     "metadata": {},
     "output_type": "display_data"
    }
   ],
   "source": [
    "import matplotlib.pyplot as plt\n",
    "\n",
    "x = [i for i in range(200)]\n",
    "loss_li = [x/(cur_times+1) for x in loss_li]\n",
    "plt.plot(x,loss_li,color=\"red\",marker=\"o\")\n",
    "\n"
   ],
   "metadata": {
    "collapsed": false,
    "pycharm": {
     "name": "#%%\n"
    }
   }
  }
 ],
 "metadata": {
  "kernelspec": {
   "display_name": "Python 3",
   "language": "python",
   "name": "python3"
  },
  "language_info": {
   "codemirror_mode": {
    "name": "ipython",
    "version": 2
   },
   "file_extension": ".py",
   "mimetype": "text/x-python",
   "name": "python",
   "nbconvert_exporter": "python",
   "pygments_lexer": "ipython2",
   "version": "2.7.6"
  }
 },
 "nbformat": 4,
 "nbformat_minor": 0
}