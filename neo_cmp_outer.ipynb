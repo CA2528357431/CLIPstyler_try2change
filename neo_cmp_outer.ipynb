{
 "cells": [
  {
   "cell_type": "code",
   "execution_count": 1,
   "metadata": {
    "collapsed": true
   },
   "outputs": [],
   "source": [
    "import torch\n",
    "import torch.optim as optim\n",
    "import torchvision\n",
    "import torchvision.transforms as transforms\n",
    "from PIL import Image\n",
    "\n",
    "from network.styler import Unet\n",
    "from loss.loss import CLIPLoss\n",
    "from utils.func import get_features,vgg_normalize\n",
    "\n",
    "import time"
   ]
  },
  {
   "cell_type": "code",
   "execution_count": 2,
   "outputs": [],
   "source": [
    "device = \"cuda\" if torch.cuda.is_available() else \"cpu\"\n",
    "\n",
    "lr1 = 0.0001\n",
    "lr2 = 0.0005\n",
    "# model = Unet(device)\n",
    "model = Unet().to(device)\n",
    "cliploss = CLIPLoss(device)\n",
    "# mseloss = torch.nn.MSELoss()\n",
    "vgg = torchvision.models.vgg19(pretrained=True).features.to(device)\n",
    "for x in vgg.parameters():\n",
    "    x.requires_grad = False\n",
    "\n",
    "\n",
    "topil = transforms.ToPILImage()\n",
    "topic = transforms.ToTensor()\n",
    "\n",
    "dir_lambda = 500\n",
    "content_lambda = 150\n",
    "patch_lambda = 9000\n",
    "norm_lambda = 0.002\n",
    "gol_lambda = 300"
   ],
   "metadata": {
    "collapsed": false,
    "pycharm": {
     "name": "#%%\n"
    }
   }
  },
  {
   "cell_type": "code",
   "execution_count": 3,
   "outputs": [],
   "source": [
    "file_cmp_outer = open(\"neo_cmp_outer.txt\", \"r\")\n",
    "loss_li = file_cmp_outer.readline()\n",
    "loss_li = [float(x) for x in loss_li.split()]\n",
    "if not loss_li:\n",
    "    loss_li = [0]*200\n",
    "\n",
    "cur_times = int(file_cmp_outer.readline())"
   ],
   "metadata": {
    "collapsed": false,
    "pycharm": {
     "name": "#%%\n"
    }
   }
  },
  {
   "cell_type": "code",
   "execution_count": 4,
   "outputs": [],
   "source": [
    "def train(iteration1, iteration2, pic, source, target, path):\n",
    "    input = pic\n",
    "\n",
    "    # opt = optim.Adam(model.parameters(), lr=lr1)\n",
    "    # for i in range(iteration1):\n",
    "    #     opt.zero_grad()\n",
    "    #     neo_pic = model(input)\n",
    "    #     loss = mseloss(pic, neo_pic) * 1\n",
    "    #     loss.backward()\n",
    "    #     opt.step()\n",
    "    #     pil = topil(neo_pic.squeeze(0).cpu())\n",
    "    #     print(\"iter:\", i + 1, \"loss:\", loss.item())\n",
    "    #     if ((i + 1) % 50) == 0:\n",
    "    #         pil.save(f\"./pic1/{(i + 1) // 50}.jpg\")\n",
    "    #\n",
    "    #\n",
    "    # torch.save(model,'unet.pth')\n",
    "\n",
    "\n",
    "    # model = torch.load('unet.pth')\n",
    "\n",
    "    pic_f = get_features(vgg_normalize(pic),vgg)\n",
    "\n",
    "    opt = optim.Adam(model.parameters(), lr=lr2)\n",
    "    sch = torch.optim.lr_scheduler.StepLR(opt, step_size=100, gamma=0.5)\n",
    "    for i in range(iteration2):\n",
    "\n",
    "\n",
    "        opt.zero_grad()\n",
    "        neo_pic = model(input)\n",
    "\n",
    "        dir_loss = 0\n",
    "        dir_loss += cliploss.forward_dir(pic, source, neo_pic, target)\n",
    "\n",
    "        gol_loss = 0\n",
    "        # gol_loss += cliploss.forward_gol(pic, source, neo_pic, target)\n",
    "\n",
    "        content_loss = 0\n",
    "        neo_pic_f = get_features(vgg_normalize(neo_pic), vgg)\n",
    "        content_loss += torch.mean((pic_f['conv4_2'] - neo_pic_f['conv4_2']) ** 2)\n",
    "        content_loss += torch.mean((pic_f['conv5_2'] - neo_pic_f['conv5_2']) ** 2)\n",
    "\n",
    "        patch_loss = 0\n",
    "        patch_loss += cliploss.forward_patch(pic, source, neo_pic, target)\n",
    "\n",
    "        norm_loss = 0\n",
    "        norm_loss += cliploss.forward_prior(pic, source, neo_pic, target)\n",
    "\n",
    "        loss = dir_loss * dir_lambda + \\\n",
    "               content_loss * content_lambda + \\\n",
    "               patch_loss * patch_lambda + \\\n",
    "               norm_loss * norm_lambda + \\\n",
    "               gol_loss * gol_lambda\n",
    "\n",
    "        loss.backward()\n",
    "        opt.step()\n",
    "        sch.step()\n",
    "\n",
    "        loss_li[i]+=(loss.item())\n",
    "\n",
    "        print(\"iter:\", i + 1, \"loss:\", loss.item())\n",
    "\n",
    "        # pil = topil(neo_pic.squeeze(0).cpu())\n",
    "        # if ((i + 1) % 10) == 0:\n",
    "        #     pil.save(f\"./pic2/{(i + 1) // 10}.jpg\")\n",
    "\n",
    "    # neo_pic = model(input)\n",
    "    # pil = topil(neo_pic.squeeze(0).cpu())\n",
    "    # # pil.save(f\"{source}-{target}.jpg\")\n",
    "    # pil.save(path)"
   ],
   "metadata": {
    "collapsed": false,
    "pycharm": {
     "name": "#%%\n"
    }
   }
  },
  {
   "cell_type": "code",
   "execution_count": 5,
   "outputs": [
    {
     "name": "stderr",
     "output_type": "stream",
     "text": [
      "C:\\Users\\win10\\AppData\\Local\\Temp\\ipykernel_34632\\3799126218.py:3: DeprecationWarning: BICUBIC is deprecated and will be removed in Pillow 10 (2023-07-01). Use Resampling.BICUBIC instead.\n",
      "  pil = transforms.Resize(size=(512, 512), interpolation=Image.BICUBIC)(pil)\n",
      "E:\\Anaconda\\envs\\sth\\lib\\site-packages\\torchvision\\transforms\\transforms.py:257: UserWarning: Argument interpolation should be of type InterpolationMode instead of int. Please, use InterpolationMode enum.\n",
      "  warnings.warn(\n"
     ]
    }
   ],
   "source": [
    "pil = Image.open(f\"./source_pic/emma.jpg\")\n",
    "ori_size = pil.size[::-1]\n",
    "pil = transforms.Resize(size=(512, 512), interpolation=Image.BICUBIC)(pil)\n",
    "pic = topic(pil).unsqueeze(0).to(device)\n",
    "# pic = torch.ones(1, 3, 512, 512).to(device)\n",
    "pic.requires_grad = False"
   ],
   "metadata": {
    "collapsed": false,
    "pycharm": {
     "name": "#%%\n"
    }
   }
  },
  {
   "cell_type": "code",
   "execution_count": 6,
   "outputs": [],
   "source": [
    "source = \"a photo\"\n",
    "# source = \"black swan\"\n",
    "\n",
    "# target = \"white swan\"\n",
    "# target = \"Pixar\"\n",
    "# target = \"pop art of night city\"\n",
    "# target = \"Van Gogh\"\n",
    "# target = \"the scream by Edvard Munch\"\n",
    "# target = \"Monet\"\n",
    "# target = \"cyberpunk 2077\"\n",
    "# target = \"Chinese Ink and wash painting\"\n",
    "target = \"fire\"\n",
    "# target = \"woman\"\n",
    "# target = \"man with dark black skin and black hair\"\n",
    "# target = \"gold boat\"\n",
    "# target = \"The great wave off kanagawa by Hokusai\"\n",
    "# target = \"angry peppa pig\"\n",
    "\n",
    "path = \"result/result3.jpg\""
   ],
   "metadata": {
    "collapsed": false,
    "pycharm": {
     "name": "#%%\n"
    }
   }
  },
  {
   "cell_type": "code",
   "execution_count": 7,
   "outputs": [
    {
     "name": "stdout",
     "output_type": "stream",
     "text": [
      "iter: 1 loss: 9821.578125\n",
      "iter: 2 loss: 9688.001953125\n",
      "iter: 3 loss: 9600.2412109375\n",
      "iter: 4 loss: 9587.0380859375\n",
      "iter: 5 loss: 9415.03515625\n",
      "iter: 6 loss: 9300.7421875\n",
      "iter: 7 loss: 9232.51953125\n",
      "iter: 8 loss: 9217.025390625\n",
      "iter: 9 loss: 9094.6904296875\n",
      "iter: 10 loss: 9068.50390625\n",
      "iter: 11 loss: 8995.251953125\n",
      "iter: 12 loss: 8951.39453125\n",
      "iter: 13 loss: 8927.4150390625\n",
      "iter: 14 loss: 8783.4599609375\n",
      "iter: 15 loss: 8750.5791015625\n",
      "iter: 16 loss: 8694.5439453125\n",
      "iter: 17 loss: 8683.6328125\n",
      "iter: 18 loss: 8616.6259765625\n",
      "iter: 19 loss: 8566.7919921875\n",
      "iter: 20 loss: 8394.36328125\n",
      "iter: 21 loss: 8288.8154296875\n",
      "iter: 22 loss: 7981.3037109375\n",
      "iter: 23 loss: 8124.3037109375\n",
      "iter: 24 loss: 8064.99169921875\n",
      "iter: 25 loss: 7663.54736328125\n",
      "iter: 26 loss: 7640.7236328125\n",
      "iter: 27 loss: 7239.068359375\n",
      "iter: 28 loss: 6731.212890625\n",
      "iter: 29 loss: 6475.01318359375\n",
      "iter: 30 loss: 6801.0078125\n",
      "iter: 31 loss: 5437.822265625\n",
      "iter: 32 loss: 5450.56103515625\n",
      "iter: 33 loss: 5876.91943359375\n",
      "iter: 34 loss: 5509.869140625\n",
      "iter: 35 loss: 4426.28759765625\n",
      "iter: 36 loss: 5109.779296875\n",
      "iter: 37 loss: 4777.4541015625\n",
      "iter: 38 loss: 4163.146484375\n",
      "iter: 39 loss: 4907.3466796875\n",
      "iter: 40 loss: 5200.9189453125\n",
      "iter: 41 loss: 4299.6953125\n",
      "iter: 42 loss: 4890.478515625\n",
      "iter: 43 loss: 4163.43017578125\n",
      "iter: 44 loss: 4131.02001953125\n",
      "iter: 45 loss: 3804.673095703125\n",
      "iter: 46 loss: 4512.41943359375\n",
      "iter: 47 loss: 4609.0126953125\n",
      "iter: 48 loss: 4426.86962890625\n",
      "iter: 49 loss: 4069.092041015625\n",
      "iter: 50 loss: 4050.18505859375\n",
      "iter: 51 loss: 3722.45556640625\n",
      "iter: 52 loss: 4028.11279296875\n",
      "iter: 53 loss: 3507.46533203125\n",
      "iter: 54 loss: 4896.1708984375\n",
      "iter: 55 loss: 3482.544921875\n",
      "iter: 56 loss: 4090.92041015625\n",
      "iter: 57 loss: 3490.150390625\n",
      "iter: 58 loss: 2941.63623046875\n",
      "iter: 59 loss: 2438.833251953125\n",
      "iter: 60 loss: 4265.35595703125\n",
      "iter: 61 loss: 4004.909423828125\n",
      "iter: 62 loss: 3322.87744140625\n",
      "iter: 63 loss: 3014.31396484375\n",
      "iter: 64 loss: 2689.771484375\n",
      "iter: 65 loss: 3085.4267578125\n",
      "iter: 66 loss: 2981.45751953125\n",
      "iter: 67 loss: 2655.461669921875\n",
      "iter: 68 loss: 3255.239013671875\n",
      "iter: 69 loss: 3437.52197265625\n",
      "iter: 70 loss: 3236.53955078125\n",
      "iter: 71 loss: 2344.55029296875\n",
      "iter: 72 loss: 2909.46875\n",
      "iter: 73 loss: 3033.207275390625\n",
      "iter: 74 loss: 2613.15087890625\n",
      "iter: 75 loss: 2610.759033203125\n",
      "iter: 76 loss: 2308.0693359375\n",
      "iter: 77 loss: 2784.85302734375\n",
      "iter: 78 loss: 1889.0841064453125\n",
      "iter: 79 loss: 2098.19970703125\n",
      "iter: 80 loss: 2080.7509765625\n",
      "iter: 81 loss: 2250.183349609375\n",
      "iter: 82 loss: 2857.9951171875\n",
      "iter: 83 loss: 3055.225341796875\n",
      "iter: 84 loss: 2639.542724609375\n",
      "iter: 85 loss: 2247.869384765625\n",
      "iter: 86 loss: 2240.235107421875\n",
      "iter: 87 loss: 1834.550537109375\n",
      "iter: 88 loss: 1526.3135986328125\n",
      "iter: 89 loss: 1821.6781005859375\n",
      "iter: 90 loss: 3009.984375\n",
      "iter: 91 loss: 2017.8876953125\n",
      "iter: 92 loss: 2500.390625\n",
      "iter: 93 loss: 1802.76953125\n",
      "iter: 94 loss: 2093.08203125\n",
      "iter: 95 loss: 1786.279052734375\n",
      "iter: 96 loss: 2392.3916015625\n",
      "iter: 97 loss: 2689.7314453125\n",
      "iter: 98 loss: 2084.605224609375\n",
      "iter: 99 loss: 1282.2025146484375\n",
      "iter: 100 loss: 1767.591064453125\n",
      "iter: 101 loss: 1272.13134765625\n",
      "iter: 102 loss: 2954.056396484375\n",
      "iter: 103 loss: 2058.0634765625\n",
      "iter: 104 loss: 2052.50341796875\n",
      "iter: 105 loss: 2063.04833984375\n",
      "iter: 106 loss: 1253.488525390625\n",
      "iter: 107 loss: 1855.5035400390625\n",
      "iter: 108 loss: 1547.3936767578125\n",
      "iter: 109 loss: 1440.35791015625\n",
      "iter: 110 loss: 2028.3699951171875\n",
      "iter: 111 loss: 1029.666015625\n",
      "iter: 112 loss: 1722.6424560546875\n",
      "iter: 113 loss: 1830.0625\n",
      "iter: 114 loss: 1820.71484375\n",
      "iter: 115 loss: 1414.861328125\n",
      "iter: 116 loss: 1617.5655517578125\n",
      "iter: 117 loss: 1709.6759033203125\n",
      "iter: 118 loss: 1111.3897705078125\n",
      "iter: 119 loss: 1405.064208984375\n",
      "iter: 120 loss: 1803.5345458984375\n",
      "iter: 121 loss: 1300.4173583984375\n",
      "iter: 122 loss: 1194.057373046875\n",
      "iter: 123 loss: 1506.571533203125\n",
      "iter: 124 loss: 2002.759765625\n",
      "iter: 125 loss: 1287.3792724609375\n",
      "iter: 126 loss: 1287.898681640625\n",
      "iter: 127 loss: 1488.5010986328125\n",
      "iter: 128 loss: 1781.8076171875\n",
      "iter: 129 loss: 1379.6123046875\n",
      "iter: 130 loss: 1379.3719482421875\n",
      "iter: 131 loss: 1376.7347412109375\n",
      "iter: 132 loss: 1171.3953857421875\n",
      "iter: 133 loss: 1171.7008056640625\n",
      "iter: 134 loss: 1565.1971435546875\n",
      "iter: 135 loss: 763.6689453125\n",
      "iter: 136 loss: 1358.87353515625\n",
      "iter: 137 loss: 1548.171875\n",
      "iter: 138 loss: 1147.0855712890625\n",
      "iter: 139 loss: 1764.07958984375\n",
      "iter: 140 loss: 1670.9305419921875\n",
      "iter: 141 loss: 1854.0604248046875\n",
      "iter: 142 loss: 1260.011474609375\n",
      "iter: 143 loss: 1157.8709716796875\n",
      "iter: 144 loss: 1151.59375\n",
      "iter: 145 loss: 954.8262939453125\n",
      "iter: 146 loss: 1651.347412109375\n",
      "iter: 147 loss: 1350.3900146484375\n",
      "iter: 148 loss: 1337.967529296875\n",
      "iter: 149 loss: 1147.58740234375\n",
      "iter: 150 loss: 1631.599365234375\n",
      "iter: 151 loss: 1539.566650390625\n",
      "iter: 152 loss: 1735.4942626953125\n",
      "iter: 153 loss: 642.6139526367188\n",
      "iter: 154 loss: 1540.5770263671875\n",
      "iter: 155 loss: 1639.978271484375\n",
      "iter: 156 loss: 1238.81689453125\n",
      "iter: 157 loss: 1237.7227783203125\n",
      "iter: 158 loss: 1244.260986328125\n",
      "iter: 159 loss: 1362.013427734375\n",
      "iter: 160 loss: 1139.7493896484375\n",
      "iter: 161 loss: 1635.09814453125\n",
      "iter: 162 loss: 1436.0643310546875\n",
      "iter: 163 loss: 1644.149169921875\n",
      "iter: 164 loss: 1658.482666015625\n",
      "iter: 165 loss: 1755.5291748046875\n",
      "iter: 166 loss: 1649.061279296875\n",
      "iter: 167 loss: 1254.3074951171875\n",
      "iter: 168 loss: 1439.036865234375\n",
      "iter: 169 loss: 839.9605102539062\n",
      "iter: 170 loss: 1335.8087158203125\n",
      "iter: 171 loss: 1335.0870361328125\n",
      "iter: 172 loss: 1429.246826171875\n",
      "iter: 173 loss: 1029.9091796875\n",
      "iter: 174 loss: 1222.3597412109375\n",
      "iter: 175 loss: 515.7935180664062\n",
      "iter: 176 loss: 1310.6712646484375\n",
      "iter: 177 loss: 1819.505126953125\n",
      "iter: 178 loss: 1211.5118408203125\n",
      "iter: 179 loss: 1510.4146728515625\n",
      "iter: 180 loss: 1204.10009765625\n",
      "iter: 181 loss: 1203.5906982421875\n",
      "iter: 182 loss: 1296.3173828125\n",
      "iter: 183 loss: 908.6793823242188\n",
      "iter: 184 loss: 903.41015625\n",
      "iter: 185 loss: 997.3413696289062\n",
      "iter: 186 loss: 899.587646484375\n",
      "iter: 187 loss: 890.1395263671875\n",
      "iter: 188 loss: 1196.8365478515625\n",
      "iter: 189 loss: 1101.27490234375\n",
      "iter: 190 loss: 1288.9351806640625\n",
      "iter: 191 loss: 1695.48486328125\n",
      "iter: 192 loss: 797.9899291992188\n",
      "iter: 193 loss: 492.0341796875\n",
      "iter: 194 loss: 1495.911376953125\n",
      "iter: 195 loss: 1197.1632080078125\n",
      "iter: 196 loss: 1010.8187255859375\n",
      "iter: 197 loss: 1202.4658203125\n",
      "iter: 198 loss: 798.9944458007812\n",
      "iter: 199 loss: 2005.1470947265625\n",
      "iter: 200 loss: 1197.6444091796875\n",
      "usetime: 95.113778591156\n"
     ]
    }
   ],
   "source": [
    "start = time.time()\n",
    "train(200, 200, pic, source, target, path)\n",
    "end = time.time()\n",
    "usetime = end - start\n",
    "print(f\"usetime: {usetime}\")"
   ],
   "metadata": {
    "collapsed": false,
    "pycharm": {
     "name": "#%%\n"
    }
   }
  },
  {
   "cell_type": "code",
   "execution_count": 8,
   "outputs": [
    {
     "name": "stderr",
     "output_type": "stream",
     "text": [
      "C:\\Users\\win10\\AppData\\Local\\Temp\\ipykernel_34632\\1981065163.py:3: DeprecationWarning: BICUBIC is deprecated and will be removed in Pillow 10 (2023-07-01). Use Resampling.BICUBIC instead.\n",
      "  pil = transforms.Resize(size=ori_size, interpolation=Image.BICUBIC)(pil)\n"
     ]
    }
   ],
   "source": [
    "neo_pic = model(pic)\n",
    "pil = topil(neo_pic.squeeze(0).cpu())\n",
    "pil = transforms.Resize(size=ori_size, interpolation=Image.BICUBIC)(pil)\n",
    "pil.save(path)\n"
   ],
   "metadata": {
    "collapsed": false,
    "pycharm": {
     "name": "#%%\n"
    }
   }
  },
  {
   "cell_type": "code",
   "execution_count": 9,
   "outputs": [],
   "source": [
    "# with open(file = \"neo_cmp_outer.txt\", mode = \"w\") as file:\n",
    "#     for i in loss_li:\n",
    "#         file.write(str(i)+\" \")\n",
    "#     file.write(\"\\n\")\n",
    "#     file.write(str(cur_times+1))"
   ],
   "metadata": {
    "collapsed": false,
    "pycharm": {
     "name": "#%%\n"
    }
   }
  },
  {
   "cell_type": "code",
   "execution_count": 10,
   "outputs": [
    {
     "data": {
      "text/plain": "[<matplotlib.lines.Line2D at 0x220e37b4b80>]"
     },
     "execution_count": 10,
     "metadata": {},
     "output_type": "execute_result"
    },
    {
     "data": {
      "text/plain": "<Figure size 640x480 with 1 Axes>",
      "image/png": "[encoded data removed]"
     },
     "metadata": {},
     "output_type": "display_data"
    }
   ],
   "source": [
    "import matplotlib.pyplot as plt\n",
    "\n",
    "x = [i for i in range(200)]\n",
    "loss_li = [x/(cur_times+1) for x in loss_li]\n",
    "plt.plot(x,loss_li,color=\"red\",marker=\"o\")\n",
    "\n"
   ],
   "metadata": {
    "collapsed": false,
    "pycharm": {
     "name": "#%%\n"
    }
   }
  }
 ],
 "metadata": {
  "kernelspec": {
   "display_name": "Python 3",
   "language": "python",
   "name": "python3"
  },
  "language_info": {
   "codemirror_mode": {
    "name": "ipython",
    "version": 2
   },
   "file_extension": ".py",
   "mimetype": "text/x-python",
   "name": "python",
   "nbconvert_exporter": "python",
   "pygments_lexer": "ipython2",
   "version": "2.7.6"
  }
 },
 "nbformat": 4,
 "nbformat_minor": 0
}