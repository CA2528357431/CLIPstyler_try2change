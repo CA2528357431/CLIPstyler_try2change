{
 "cells": [
  {
   "cell_type": "code",
   "execution_count": 1,
   "metadata": {
    "collapsed": true
   },
   "outputs": [],
   "source": [
    "import torch\n",
    "import torch.optim as optim\n",
    "import torchvision\n",
    "import torchvision.transforms as transforms\n",
    "from PIL import Image\n",
    "\n",
    "from network.styler import Unet\n",
    "from loss.loss import CLIPLoss\n",
    "from utils.func import get_features,vgg_normalize\n",
    "\n",
    "import time"
   ]
  },
  {
   "cell_type": "code",
   "execution_count": 2,
   "outputs": [],
   "source": [
    "device = \"cuda\" if torch.cuda.is_available() else \"cpu\"\n",
    "\n",
    "lr1 = 0.0001\n",
    "lr2 = 0.0003\n",
    "# model = Unet(device)\n",
    "model = Unet().to(device)\n",
    "cliploss = CLIPLoss(device)\n",
    "# mseloss = torch.nn.MSELoss()\n",
    "vgg = torchvision.models.vgg19(pretrained=True).features.to(device)\n",
    "for x in vgg.parameters():\n",
    "    x.requires_grad = False\n",
    "\n",
    "topil = transforms.ToPILImage()\n",
    "topic = transforms.ToTensor()\n",
    "\n",
    "dir_lambda = 500\n",
    "content_lambda = 150\n",
    "patch_lambda = 9000\n",
    "norm_lambda = 0.002\n",
    "gol_lambda = 300"
   ],
   "metadata": {
    "collapsed": false,
    "pycharm": {
     "name": "#%%\n"
    }
   }
  },
  {
   "cell_type": "code",
   "execution_count": 3,
   "outputs": [],
   "source": [
    "loss_li = []"
   ],
   "metadata": {
    "collapsed": false,
    "pycharm": {
     "name": "#%%\n"
    }
   }
  },
  {
   "cell_type": "code",
   "execution_count": 4,
   "outputs": [],
   "source": [
    "def train(iteration1, iteration2, pic, source, target, path):\n",
    "    input = pic\n",
    "\n",
    "    # opt = optim.Adam(model.parameters(), lr=lr1)\n",
    "    # for i in range(iteration1):\n",
    "    #     opt.zero_grad()\n",
    "    #     neo_pic = model(input)\n",
    "    #     loss = mseloss(pic, neo_pic) * 1\n",
    "    #     loss.backward()\n",
    "    #     opt.step()\n",
    "    #     pil = topil(neo_pic.squeeze(0).cpu())\n",
    "    #     print(\"iter:\", i + 1, \"loss:\", loss.item())\n",
    "    #     if ((i + 1) % 50) == 0:\n",
    "    #         pil.save(f\"./pic1/{(i + 1) // 50}.jpg\")\n",
    "    #\n",
    "    #\n",
    "    # torch.save(model,'unet.pth')\n",
    "\n",
    "\n",
    "    # model = torch.load('unet.pth')\n",
    "\n",
    "    pic_f = get_features(vgg_normalize(pic),vgg)\n",
    "\n",
    "    opt = optim.Adam(model.parameters(), lr=lr2)\n",
    "    sch = torch.optim.lr_scheduler.StepLR(opt, step_size=100, gamma=0.5)\n",
    "    for i in range(iteration2):\n",
    "\n",
    "\n",
    "        opt.zero_grad()\n",
    "        neo_pic = model(input)\n",
    "\n",
    "        dir_loss = 0\n",
    "        dir_loss += cliploss.forward_dir(pic, source, neo_pic, target)\n",
    "\n",
    "        gol_loss = 0\n",
    "        gol_loss += cliploss.forward_gol(pic, source, neo_pic, target)\n",
    "\n",
    "        content_loss = 0\n",
    "        neo_pic_f = get_features(vgg_normalize(neo_pic), vgg)\n",
    "        content_loss += torch.mean((pic_f['conv4_2'] - neo_pic_f['conv4_2']) ** 2)\n",
    "        content_loss += torch.mean((pic_f['conv5_2'] - neo_pic_f['conv5_2']) ** 2)\n",
    "\n",
    "        patch_loss = 0\n",
    "        patch_loss += cliploss.forward_patch(pic, source, neo_pic, target)\n",
    "\n",
    "        norm_loss = 0\n",
    "        norm_loss += cliploss.get_image_prior_losses(neo_pic)\n",
    "\n",
    "        loss = dir_loss * dir_lambda + \\\n",
    "               content_loss * content_lambda + \\\n",
    "               patch_loss * patch_lambda + \\\n",
    "               norm_loss * norm_lambda + \\\n",
    "               gol_loss * gol_lambda\n",
    "\n",
    "        loss.backward()\n",
    "        opt.step()\n",
    "        sch.step()\n",
    "\n",
    "        loss_li.append(loss.item())\n",
    "\n",
    "        print(\"iter:\", i + 1, \"loss:\", loss.item())\n",
    "\n",
    "        # pil = topil(neo_pic.squeeze(0).cpu())\n",
    "        # if ((i + 1) % 10) == 0:\n",
    "        #     pil.save(f\"./pic2/{(i + 1) // 10}.jpg\")\n",
    "\n",
    "    # neo_pic = model(input)\n",
    "    # pil = topil(neo_pic.squeeze(0).cpu())\n",
    "    # # pil.save(f\"{source}-{target}.jpg\")\n",
    "    # pil.save(path)"
   ],
   "metadata": {
    "collapsed": false,
    "pycharm": {
     "name": "#%%\n"
    }
   }
  },
  {
   "cell_type": "code",
   "execution_count": 5,
   "outputs": [],
   "source": [
    "pil = Image.open(f\"./source_pic/church.jpeg\")\n",
    "ori_size = pil.size[::-1]\n",
    "pil = transforms.Resize(size=(512, 512), interpolation=Image.BICUBIC)(pil)\n",
    "pic = topic(pil).unsqueeze(0).to(device)\n",
    "# pic = torch.ones(1, 3, 512, 512).to(device)\n",
    "pic.requires_grad = False"
   ],
   "metadata": {
    "collapsed": false,
    "pycharm": {
     "name": "#%%\n"
    }
   }
  },
  {
   "cell_type": "code",
   "execution_count": 6,
   "outputs": [],
   "source": [
    "source = \"photo\"\n",
    "target = \"pop art of night city\"\n",
    "# target = \"starry night by Van Gogh\"\n",
    "# target = \"the scream by Edvard Munch\"\n",
    "# target = \"Monet\"\n",
    "# target = \"cyberpunk 2077\"\n",
    "# target = \"Chinese Ink and wash painting\"\n",
    "path = \"result3.jpg\""
   ],
   "metadata": {
    "collapsed": false,
    "pycharm": {
     "name": "#%%\n"
    }
   }
  },
  {
   "cell_type": "code",
   "execution_count": 7,
   "outputs": [
    {
     "name": "stdout",
     "output_type": "stream",
     "text": [
      "iter: 1 loss: 10985.6953125\n",
      "iter: 2 loss: 10658.93359375\n",
      "iter: 3 loss: 10466.4541015625\n",
      "iter: 4 loss: 10221.1787109375\n",
      "iter: 5 loss: 9983.015625\n",
      "iter: 6 loss: 9866.2080078125\n",
      "iter: 7 loss: 9730.45703125\n",
      "iter: 8 loss: 9595.509765625\n",
      "iter: 9 loss: 9487.3232421875\n",
      "iter: 10 loss: 9402.9521484375\n",
      "iter: 11 loss: 9331.3876953125\n",
      "iter: 12 loss: 9215.9501953125\n",
      "iter: 13 loss: 9084.7333984375\n",
      "iter: 14 loss: 9036.6435546875\n",
      "iter: 15 loss: 8947.4453125\n",
      "iter: 16 loss: 8893.6767578125\n",
      "iter: 17 loss: 8835.013671875\n",
      "iter: 18 loss: 8768.3642578125\n",
      "iter: 19 loss: 8655.986328125\n",
      "iter: 20 loss: 8620.912109375\n",
      "iter: 21 loss: 8592.5498046875\n",
      "iter: 22 loss: 8527.865234375\n",
      "iter: 23 loss: 8493.3515625\n",
      "iter: 24 loss: 8446.0283203125\n",
      "iter: 25 loss: 8391.6669921875\n",
      "iter: 26 loss: 8357.095703125\n",
      "iter: 27 loss: 8300.7265625\n",
      "iter: 28 loss: 8293.32421875\n",
      "iter: 29 loss: 8218.134765625\n",
      "iter: 30 loss: 8233.134765625\n",
      "iter: 31 loss: 8122.80810546875\n",
      "iter: 32 loss: 8081.07958984375\n",
      "iter: 33 loss: 8056.52001953125\n",
      "iter: 34 loss: 8083.66064453125\n",
      "iter: 35 loss: 7998.77294921875\n",
      "iter: 36 loss: 8007.46630859375\n",
      "iter: 37 loss: 7911.40869140625\n",
      "iter: 38 loss: 7907.18896484375\n",
      "iter: 39 loss: 7906.01025390625\n",
      "iter: 40 loss: 7887.35107421875\n",
      "iter: 41 loss: 7825.20166015625\n",
      "iter: 42 loss: 7811.484375\n",
      "iter: 43 loss: 7779.80712890625\n",
      "iter: 44 loss: 7822.892578125\n",
      "iter: 45 loss: 7773.02099609375\n",
      "iter: 46 loss: 7743.6494140625\n",
      "iter: 47 loss: 7706.43994140625\n",
      "iter: 48 loss: 7697.47998046875\n",
      "iter: 49 loss: 7635.3740234375\n",
      "iter: 50 loss: 7655.93994140625\n",
      "iter: 51 loss: 7604.37255859375\n",
      "iter: 52 loss: 7612.1787109375\n",
      "iter: 53 loss: 7589.14501953125\n",
      "iter: 54 loss: 7540.87841796875\n",
      "iter: 55 loss: 7542.306640625\n",
      "iter: 56 loss: 7550.5087890625\n",
      "iter: 57 loss: 7501.70751953125\n",
      "iter: 58 loss: 7485.6044921875\n",
      "iter: 59 loss: 7476.92578125\n",
      "iter: 60 loss: 7438.46875\n",
      "iter: 61 loss: 7410.00048828125\n",
      "iter: 62 loss: 7407.58642578125\n",
      "iter: 63 loss: 7399.15283203125\n",
      "iter: 64 loss: 7361.73291015625\n",
      "iter: 65 loss: 7367.390625\n",
      "iter: 66 loss: 7351.3388671875\n",
      "iter: 67 loss: 7305.7548828125\n",
      "iter: 68 loss: 7313.6982421875\n",
      "iter: 69 loss: 7322.8466796875\n",
      "iter: 70 loss: 7227.99169921875\n",
      "iter: 71 loss: 7284.2626953125\n",
      "iter: 72 loss: 7242.6318359375\n",
      "iter: 73 loss: 7218.76123046875\n",
      "iter: 74 loss: 7229.509765625\n",
      "iter: 75 loss: 7208.6826171875\n",
      "iter: 76 loss: 7166.921875\n",
      "iter: 77 loss: 7179.4560546875\n",
      "iter: 78 loss: 7152.6953125\n",
      "iter: 79 loss: 7138.72607421875\n",
      "iter: 80 loss: 7124.1748046875\n",
      "iter: 81 loss: 7178.11376953125\n",
      "iter: 82 loss: 7122.36962890625\n",
      "iter: 83 loss: 7082.9609375\n",
      "iter: 84 loss: 7095.68798828125\n",
      "iter: 85 loss: 7088.82275390625\n",
      "iter: 86 loss: 7032.8037109375\n",
      "iter: 87 loss: 7037.9541015625\n",
      "iter: 88 loss: 7070.66455078125\n",
      "iter: 89 loss: 7019.89599609375\n",
      "iter: 90 loss: 6988.95068359375\n",
      "iter: 91 loss: 7017.19091796875\n",
      "iter: 92 loss: 7014.44921875\n",
      "iter: 93 loss: 7019.78076171875\n",
      "iter: 94 loss: 6989.88916015625\n",
      "iter: 95 loss: 7014.16845703125\n",
      "iter: 96 loss: 6950.48095703125\n",
      "iter: 97 loss: 6954.5302734375\n",
      "iter: 98 loss: 6915.21044921875\n",
      "iter: 99 loss: 6940.2353515625\n",
      "iter: 100 loss: 6956.46435546875\n",
      "iter: 101 loss: 6878.6591796875\n",
      "iter: 102 loss: 6887.14990234375\n",
      "iter: 103 loss: 6894.3173828125\n",
      "iter: 104 loss: 6832.13330078125\n",
      "iter: 105 loss: 6830.61376953125\n",
      "iter: 106 loss: 6822.6572265625\n",
      "iter: 107 loss: 6804.8701171875\n",
      "iter: 108 loss: 6796.603515625\n",
      "iter: 109 loss: 6849.71875\n",
      "iter: 110 loss: 6780.123046875\n",
      "iter: 111 loss: 6821.5048828125\n",
      "iter: 112 loss: 6739.0390625\n",
      "iter: 113 loss: 6760.291015625\n",
      "iter: 114 loss: 6708.40380859375\n",
      "iter: 115 loss: 6709.8583984375\n",
      "iter: 116 loss: 6747.7880859375\n",
      "iter: 117 loss: 6686.5908203125\n",
      "iter: 118 loss: 6696.66650390625\n",
      "iter: 119 loss: 6695.72119140625\n",
      "iter: 120 loss: 6680.3115234375\n",
      "iter: 121 loss: 6715.5478515625\n",
      "iter: 122 loss: 6685.8662109375\n",
      "iter: 123 loss: 6675.24365234375\n",
      "iter: 124 loss: 6664.7568359375\n",
      "iter: 125 loss: 6671.4873046875\n",
      "iter: 126 loss: 6667.17724609375\n",
      "iter: 127 loss: 6662.43798828125\n",
      "iter: 128 loss: 6650.7060546875\n",
      "iter: 129 loss: 6621.533203125\n",
      "iter: 130 loss: 6652.37353515625\n",
      "iter: 131 loss: 6631.5654296875\n",
      "iter: 132 loss: 6635.96044921875\n",
      "iter: 133 loss: 6640.61083984375\n",
      "iter: 134 loss: 6627.7197265625\n",
      "iter: 135 loss: 6612.15966796875\n",
      "iter: 136 loss: 6612.60107421875\n",
      "iter: 137 loss: 6609.74365234375\n",
      "iter: 138 loss: 6584.5537109375\n",
      "iter: 139 loss: 6543.0927734375\n",
      "iter: 140 loss: 6569.1572265625\n",
      "iter: 141 loss: 6597.1845703125\n",
      "iter: 142 loss: 6566.0771484375\n",
      "iter: 143 loss: 6607.08203125\n",
      "iter: 144 loss: 6520.46044921875\n",
      "iter: 145 loss: 6592.41845703125\n",
      "iter: 146 loss: 6555.45849609375\n",
      "iter: 147 loss: 6499.62841796875\n",
      "iter: 148 loss: 6521.7587890625\n",
      "iter: 149 loss: 6547.69970703125\n",
      "iter: 150 loss: 6552.35400390625\n",
      "iter: 151 loss: 6540.08544921875\n",
      "iter: 152 loss: 6536.12353515625\n",
      "iter: 153 loss: 6559.34326171875\n",
      "iter: 154 loss: 6521.8837890625\n",
      "iter: 155 loss: 6491.27734375\n",
      "iter: 156 loss: 6474.0400390625\n",
      "iter: 157 loss: 6476.59765625\n",
      "iter: 158 loss: 6518.99609375\n",
      "iter: 159 loss: 6499.00927734375\n",
      "iter: 160 loss: 6503.2041015625\n",
      "iter: 161 loss: 6485.06298828125\n",
      "iter: 162 loss: 6461.74560546875\n",
      "iter: 163 loss: 6481.1982421875\n",
      "iter: 164 loss: 6484.31005859375\n",
      "iter: 165 loss: 6466.64892578125\n",
      "iter: 166 loss: 6518.0244140625\n",
      "iter: 167 loss: 6478.64404296875\n",
      "iter: 168 loss: 6478.08447265625\n",
      "iter: 169 loss: 6437.0322265625\n",
      "iter: 170 loss: 6472.83349609375\n",
      "iter: 171 loss: 6446.837890625\n",
      "iter: 172 loss: 6422.88916015625\n",
      "iter: 173 loss: 6439.412109375\n",
      "iter: 174 loss: 6471.78564453125\n",
      "iter: 175 loss: 6461.935546875\n",
      "iter: 176 loss: 6456.83544921875\n",
      "iter: 177 loss: 6484.484375\n",
      "iter: 178 loss: 6455.337890625\n",
      "iter: 179 loss: 6435.92626953125\n",
      "iter: 180 loss: 6464.45458984375\n",
      "iter: 181 loss: 6412.68017578125\n",
      "iter: 182 loss: 6429.6611328125\n",
      "iter: 183 loss: 6377.943359375\n",
      "iter: 184 loss: 6417.91357421875\n",
      "iter: 185 loss: 6452.66552734375\n",
      "iter: 186 loss: 6343.47412109375\n",
      "iter: 187 loss: 6409.4326171875\n",
      "iter: 188 loss: 6343.66357421875\n",
      "iter: 189 loss: 6330.92431640625\n",
      "iter: 190 loss: 6366.3203125\n",
      "iter: 191 loss: 6368.56494140625\n",
      "iter: 192 loss: 6372.77197265625\n",
      "iter: 193 loss: 6412.7568359375\n",
      "iter: 194 loss: 6330.24365234375\n",
      "iter: 195 loss: 6377.146484375\n",
      "iter: 196 loss: 6350.35888671875\n",
      "iter: 197 loss: 6330.06884765625\n",
      "iter: 198 loss: 6345.16259765625\n",
      "iter: 199 loss: 6305.1806640625\n",
      "iter: 200 loss: 6294.8662109375\n",
      "usetime: 169.56729006767273\n"
     ]
    }
   ],
   "source": [
    "start = time.time()\n",
    "train(200, 200, pic, source, target, path)\n",
    "end = time.time()\n",
    "usetime = end - start\n",
    "print(f\"usetime: {usetime}\")"
   ],
   "metadata": {
    "collapsed": false,
    "pycharm": {
     "name": "#%%\n"
    }
   }
  },
  {
   "cell_type": "code",
   "execution_count": 8,
   "outputs": [],
   "source": [
    "neo_pic = model(pic)\n",
    "pil = topil(neo_pic.squeeze(0).cpu())\n",
    "pil = transforms.Resize(size=ori_size, interpolation=Image.BICUBIC)(pil)\n",
    "pil.save(path)"
   ],
   "metadata": {
    "collapsed": false,
    "pycharm": {
     "name": "#%%\n"
    }
   }
  },
  {
   "cell_type": "code",
   "execution_count": 9,
   "outputs": [
    {
     "data": {
      "text/plain": "[<matplotlib.lines.Line2D at 0x202f76a9eb0>]"
     },
     "execution_count": 9,
     "metadata": {},
     "output_type": "execute_result"
    },
    {
     "data": {
      "text/plain": "<Figure size 640x480 with 1 Axes>",
      "image/png": "[encoded data removed]"
     },
     "metadata": {},
     "output_type": "display_data"
    }
   ],
   "source": [
    "import matplotlib.pyplot as plt\n",
    "\n",
    "x = [i for i in range(200)]\n",
    "plt.plot(x,loss_li,color=\"red\",marker=\"o\")\n"
   ],
   "metadata": {
    "collapsed": false,
    "pycharm": {
     "name": "#%%\n"
    }
   }
  },
  {
   "cell_type": "code",
   "execution_count": 10,
   "outputs": [],
   "source": [
    "with open(file = \"neo_cmp_outer.txt\", mode = \"w\") as file:\n",
    "    for i in loss_li:\n",
    "        file.write(str(i)+\" \")"
   ],
   "metadata": {
    "collapsed": false,
    "pycharm": {
     "name": "#%%\n"
    }
   }
  }
 ],
 "metadata": {
  "kernelspec": {
   "display_name": "Python 3",
   "language": "python",
   "name": "python3"
  },
  "language_info": {
   "codemirror_mode": {
    "name": "ipython",
    "version": 2
   },
   "file_extension": ".py",
   "mimetype": "text/x-python",
   "name": "python",
   "nbconvert_exporter": "python",
   "pygments_lexer": "ipython2",
   "version": "2.7.6"
  }
 },
 "nbformat": 4,
 "nbformat_minor": 0
}