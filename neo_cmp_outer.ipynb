{
 "cells": [
  {
   "cell_type": "code",
   "execution_count": 1,
   "metadata": {
    "collapsed": true
   },
   "outputs": [],
   "source": [
    "import torch\n",
    "import torch.optim as optim\n",
    "import torchvision\n",
    "import torchvision.transforms as transforms\n",
    "from PIL import Image\n",
    "\n",
    "from network.styler import Unet\n",
    "from loss.loss import CLIPLoss\n",
    "from utils.func import get_features,vgg_normalize\n",
    "\n",
    "import time"
   ]
  },
  {
   "cell_type": "code",
   "execution_count": 2,
   "outputs": [],
   "source": [
    "device = \"cuda\" if torch.cuda.is_available() else \"cpu\"\n",
    "\n",
    "lr1 = 0.0001\n",
    "lr2 = 0.0003\n",
    "# model = Unet(device)\n",
    "model = Unet().to(device)\n",
    "cliploss = CLIPLoss(device)\n",
    "# mseloss = torch.nn.MSELoss()\n",
    "vgg = torchvision.models.vgg19(pretrained=True).features.to(device)\n",
    "for x in vgg.parameters():\n",
    "    x.requires_grad = False\n",
    "\n",
    "topil = transforms.ToPILImage()\n",
    "topic = transforms.ToTensor()\n",
    "\n",
    "dir_lambda = 500\n",
    "content_lambda = 150\n",
    "patch_lambda = 9000\n",
    "norm_lambda = 0.002\n",
    "gol_lambda = 300"
   ],
   "metadata": {
    "collapsed": false,
    "pycharm": {
     "name": "#%%\n"
    }
   }
  },
  {
   "cell_type": "code",
   "execution_count": 3,
   "outputs": [],
   "source": [
    "file_cmp_outer = open(\"neo_cmp_outer.txt\", \"r\")\n",
    "loss_li = file_cmp_outer.readline()\n",
    "loss_li = [float(x) for x in loss_li.split()]\n",
    "if not loss_li:\n",
    "    loss_li = [0]*200\n",
    "\n",
    "cur_times = int(file_cmp_outer.readline())"
   ],
   "metadata": {
    "collapsed": false,
    "pycharm": {
     "name": "#%%\n"
    }
   }
  },
  {
   "cell_type": "code",
   "execution_count": 4,
   "outputs": [],
   "source": [
    "def train(iteration1, iteration2, pic, source, target, path):\n",
    "    input = pic\n",
    "\n",
    "    # opt = optim.Adam(model.parameters(), lr=lr1)\n",
    "    # for i in range(iteration1):\n",
    "    #     opt.zero_grad()\n",
    "    #     neo_pic = model(input)\n",
    "    #     loss = mseloss(pic, neo_pic) * 1\n",
    "    #     loss.backward()\n",
    "    #     opt.step()\n",
    "    #     pil = topil(neo_pic.squeeze(0).cpu())\n",
    "    #     print(\"iter:\", i + 1, \"loss:\", loss.item())\n",
    "    #     if ((i + 1) % 50) == 0:\n",
    "    #         pil.save(f\"./pic1/{(i + 1) // 50}.jpg\")\n",
    "    #\n",
    "    #\n",
    "    # torch.save(model,'unet.pth')\n",
    "\n",
    "\n",
    "    # model = torch.load('unet.pth')\n",
    "\n",
    "    pic_f = get_features(vgg_normalize(pic),vgg)\n",
    "\n",
    "    opt = optim.Adam(model.parameters(), lr=lr2)\n",
    "    sch = torch.optim.lr_scheduler.StepLR(opt, step_size=100, gamma=0.5)\n",
    "    for i in range(iteration2):\n",
    "\n",
    "\n",
    "        opt.zero_grad()\n",
    "        neo_pic = model(input)\n",
    "\n",
    "        dir_loss = 0\n",
    "        dir_loss += cliploss.forward_dir(pic, source, neo_pic, target)\n",
    "\n",
    "        gol_loss = 0\n",
    "        gol_loss += cliploss.forward_gol(pic, source, neo_pic, target)\n",
    "\n",
    "        content_loss = 0\n",
    "        neo_pic_f = get_features(vgg_normalize(neo_pic), vgg)\n",
    "        content_loss += torch.mean((pic_f['conv4_2'] - neo_pic_f['conv4_2']) ** 2)\n",
    "        content_loss += torch.mean((pic_f['conv5_2'] - neo_pic_f['conv5_2']) ** 2)\n",
    "\n",
    "        patch_loss = 0\n",
    "        patch_loss += cliploss.forward_patch(pic, source, neo_pic, target)\n",
    "\n",
    "        norm_loss = 0\n",
    "        norm_loss += cliploss.forward_prior(pic, source, neo_pic, target)\n",
    "\n",
    "        loss = dir_loss * dir_lambda + \\\n",
    "               content_loss * content_lambda + \\\n",
    "               patch_loss * patch_lambda + \\\n",
    "               norm_loss * norm_lambda + \\\n",
    "               gol_loss * gol_lambda\n",
    "\n",
    "        loss.backward()\n",
    "        opt.step()\n",
    "        sch.step()\n",
    "\n",
    "        loss_li[i]+=(loss.item())\n",
    "\n",
    "        print(\"iter:\", i + 1, \"loss:\", loss.item())\n",
    "\n",
    "        # pil = topil(neo_pic.squeeze(0).cpu())\n",
    "        # if ((i + 1) % 10) == 0:\n",
    "        #     pil.save(f\"./pic2/{(i + 1) // 10}.jpg\")\n",
    "\n",
    "    # neo_pic = model(input)\n",
    "    # pil = topil(neo_pic.squeeze(0).cpu())\n",
    "    # # pil.save(f\"{source}-{target}.jpg\")\n",
    "    # pil.save(path)"
   ],
   "metadata": {
    "collapsed": false,
    "pycharm": {
     "name": "#%%\n"
    }
   }
  },
  {
   "cell_type": "code",
   "execution_count": 5,
   "outputs": [
    {
     "name": "stderr",
     "output_type": "stream",
     "text": [
      "C:\\Users\\win10\\AppData\\Local\\Temp\\ipykernel_34080\\1855053385.py:3: DeprecationWarning: BICUBIC is deprecated and will be removed in Pillow 10 (2023-07-01). Use Resampling.BICUBIC instead.\n",
      "  pil = transforms.Resize(size=(512, 512), interpolation=Image.BICUBIC)(pil)\n"
     ]
    }
   ],
   "source": [
    "pil = Image.open(f\"./source_pic/lena.png\")\n",
    "ori_size = pil.size[::-1]\n",
    "pil = transforms.Resize(size=(512, 512), interpolation=Image.BICUBIC)(pil)\n",
    "pic = topic(pil).unsqueeze(0).to(device)\n",
    "# pic = torch.ones(1, 3, 512, 512).to(device)\n",
    "pic.requires_grad = False"
   ],
   "metadata": {
    "collapsed": false,
    "pycharm": {
     "name": "#%%\n"
    }
   }
  },
  {
   "cell_type": "code",
   "execution_count": 6,
   "outputs": [],
   "source": [
    "source = \"photo\"\n",
    "# target = \"pop art of night city\"\n",
    "# target = \"starry night by Van Gogh\"\n",
    "# target = \"the scream by Edvard Munch\"\n",
    "target = \"Monet\"\n",
    "# target = \"cyberpunk 2077\"\n",
    "# target = \"Chinese Ink and wash painting\"\n",
    "path = \"result3.jpg\""
   ],
   "metadata": {
    "collapsed": false,
    "pycharm": {
     "name": "#%%\n"
    }
   }
  },
  {
   "cell_type": "code",
   "execution_count": 7,
   "outputs": [
    {
     "name": "stdout",
     "output_type": "stream",
     "text": [
      "iter: 1 loss: 10928.1728515625\n",
      "iter: 2 loss: 10596.74609375\n",
      "iter: 3 loss: 10426.134765625\n",
      "iter: 4 loss: 10142.142578125\n",
      "iter: 5 loss: 9946.2265625\n",
      "iter: 6 loss: 9779.0966796875\n",
      "iter: 7 loss: 9676.64453125\n",
      "iter: 8 loss: 9432.7138671875\n",
      "iter: 9 loss: 9385.7626953125\n",
      "iter: 10 loss: 9269.83984375\n",
      "iter: 11 loss: 9162.8095703125\n",
      "iter: 12 loss: 9081.9580078125\n",
      "iter: 13 loss: 8991.251953125\n",
      "iter: 14 loss: 8944.591796875\n",
      "iter: 15 loss: 8859.8271484375\n",
      "iter: 16 loss: 8785.8994140625\n",
      "iter: 17 loss: 8745.7900390625\n",
      "iter: 18 loss: 8695.6015625\n",
      "iter: 19 loss: 8665.751953125\n",
      "iter: 20 loss: 8643.77734375\n",
      "iter: 21 loss: 8568.58203125\n",
      "iter: 22 loss: 8519.40234375\n",
      "iter: 23 loss: 8500.7890625\n",
      "iter: 24 loss: 8413.59765625\n",
      "iter: 25 loss: 8363.8515625\n",
      "iter: 26 loss: 8428.546875\n",
      "iter: 27 loss: 8341.087890625\n",
      "iter: 28 loss: 8311.71875\n",
      "iter: 29 loss: 8242.994140625\n",
      "iter: 30 loss: 8227.2734375\n",
      "iter: 31 loss: 8233.9453125\n",
      "iter: 32 loss: 8200.765625\n",
      "iter: 33 loss: 8162.28173828125\n",
      "iter: 34 loss: 8140.70458984375\n",
      "iter: 35 loss: 8055.171875\n",
      "iter: 36 loss: 8122.56396484375\n",
      "iter: 37 loss: 8075.25927734375\n",
      "iter: 38 loss: 8013.7861328125\n",
      "iter: 39 loss: 8024.1494140625\n",
      "iter: 40 loss: 8023.82275390625\n",
      "iter: 41 loss: 8004.8212890625\n",
      "iter: 42 loss: 7951.20654296875\n",
      "iter: 43 loss: 7939.6630859375\n",
      "iter: 44 loss: 7877.67919921875\n",
      "iter: 45 loss: 7889.96533203125\n",
      "iter: 46 loss: 7874.49755859375\n",
      "iter: 47 loss: 7813.31201171875\n",
      "iter: 48 loss: 7779.80908203125\n",
      "iter: 49 loss: 7850.74462890625\n",
      "iter: 50 loss: 7798.2451171875\n",
      "iter: 51 loss: 7788.3076171875\n",
      "iter: 52 loss: 7769.3076171875\n",
      "iter: 53 loss: 7752.33203125\n",
      "iter: 54 loss: 7750.3916015625\n",
      "iter: 55 loss: 7764.646484375\n",
      "iter: 56 loss: 7712.73095703125\n",
      "iter: 57 loss: 7712.6640625\n",
      "iter: 58 loss: 7701.17724609375\n",
      "iter: 59 loss: 7621.42529296875\n",
      "iter: 60 loss: 7675.072265625\n",
      "iter: 61 loss: 7668.828125\n",
      "iter: 62 loss: 7656.6181640625\n",
      "iter: 63 loss: 7618.52392578125\n",
      "iter: 64 loss: 7620.8603515625\n",
      "iter: 65 loss: 7623.2724609375\n",
      "iter: 66 loss: 7551.68212890625\n",
      "iter: 67 loss: 7531.06982421875\n",
      "iter: 68 loss: 7534.2431640625\n",
      "iter: 69 loss: 7621.68115234375\n",
      "iter: 70 loss: 7550.6474609375\n",
      "iter: 71 loss: 7540.3544921875\n",
      "iter: 72 loss: 7531.7255859375\n",
      "iter: 73 loss: 7523.2978515625\n",
      "iter: 74 loss: 7508.9677734375\n",
      "iter: 75 loss: 7491.13525390625\n",
      "iter: 76 loss: 7441.87255859375\n",
      "iter: 77 loss: 7488.3828125\n",
      "iter: 78 loss: 7430.77099609375\n",
      "iter: 79 loss: 7422.4853515625\n",
      "iter: 80 loss: 7444.28759765625\n",
      "iter: 81 loss: 7455.57470703125\n",
      "iter: 82 loss: 7453.15185546875\n",
      "iter: 83 loss: 7459.30322265625\n",
      "iter: 84 loss: 7462.74951171875\n",
      "iter: 85 loss: 7410.86181640625\n",
      "iter: 86 loss: 7408.0361328125\n",
      "iter: 87 loss: 7400.18994140625\n",
      "iter: 88 loss: 7412.13720703125\n",
      "iter: 89 loss: 7368.123046875\n",
      "iter: 90 loss: 7391.19384765625\n",
      "iter: 91 loss: 7364.103515625\n",
      "iter: 92 loss: 7360.6015625\n",
      "iter: 93 loss: 7405.6962890625\n",
      "iter: 94 loss: 7331.47021484375\n",
      "iter: 95 loss: 7317.640625\n",
      "iter: 96 loss: 7334.0341796875\n",
      "iter: 97 loss: 7298.17138671875\n",
      "iter: 98 loss: 7341.4140625\n",
      "iter: 99 loss: 7290.96337890625\n",
      "iter: 100 loss: 7317.70068359375\n",
      "iter: 101 loss: 7328.28515625\n",
      "iter: 102 loss: 7299.45751953125\n",
      "iter: 103 loss: 7284.4140625\n",
      "iter: 104 loss: 7261.46875\n",
      "iter: 105 loss: 7167.2587890625\n",
      "iter: 106 loss: 7222.44677734375\n",
      "iter: 107 loss: 7200.03271484375\n",
      "iter: 108 loss: 7230.4287109375\n",
      "iter: 109 loss: 7194.4755859375\n",
      "iter: 110 loss: 7156.1083984375\n",
      "iter: 111 loss: 7168.255859375\n",
      "iter: 112 loss: 7098.96337890625\n",
      "iter: 113 loss: 7185.39306640625\n",
      "iter: 114 loss: 7121.9697265625\n",
      "iter: 115 loss: 7066.74951171875\n",
      "iter: 116 loss: 7138.4833984375\n",
      "iter: 117 loss: 7094.646484375\n",
      "iter: 118 loss: 7102.27392578125\n",
      "iter: 119 loss: 7117.3388671875\n",
      "iter: 120 loss: 7115.2255859375\n",
      "iter: 121 loss: 7032.81396484375\n",
      "iter: 122 loss: 7035.876953125\n",
      "iter: 123 loss: 7052.70263671875\n",
      "iter: 124 loss: 7051.6328125\n",
      "iter: 125 loss: 7055.78466796875\n",
      "iter: 126 loss: 7048.58349609375\n",
      "iter: 127 loss: 7064.8583984375\n",
      "iter: 128 loss: 6997.8837890625\n",
      "iter: 129 loss: 7047.32080078125\n",
      "iter: 130 loss: 7082.509765625\n",
      "iter: 131 loss: 7010.21630859375\n",
      "iter: 132 loss: 7055.591796875\n",
      "iter: 133 loss: 7006.28857421875\n",
      "iter: 134 loss: 7028.27392578125\n",
      "iter: 135 loss: 6971.4150390625\n",
      "iter: 136 loss: 7013.7177734375\n",
      "iter: 137 loss: 7012.67919921875\n",
      "iter: 138 loss: 6994.03466796875\n",
      "iter: 139 loss: 7038.162109375\n",
      "iter: 140 loss: 6963.1455078125\n",
      "iter: 141 loss: 6980.396484375\n",
      "iter: 142 loss: 7004.28515625\n",
      "iter: 143 loss: 6922.59423828125\n",
      "iter: 144 loss: 7035.3984375\n",
      "iter: 145 loss: 6915.40625\n",
      "iter: 146 loss: 6960.009765625\n",
      "iter: 147 loss: 6924.06201171875\n",
      "iter: 148 loss: 6858.7216796875\n",
      "iter: 149 loss: 6930.08349609375\n",
      "iter: 150 loss: 6957.58740234375\n",
      "iter: 151 loss: 6876.8642578125\n",
      "iter: 152 loss: 6908.32958984375\n",
      "iter: 153 loss: 6936.71044921875\n",
      "iter: 154 loss: 6932.251953125\n",
      "iter: 155 loss: 6941.3642578125\n",
      "iter: 156 loss: 6902.04150390625\n",
      "iter: 157 loss: 6881.45947265625\n",
      "iter: 158 loss: 6875.61376953125\n",
      "iter: 159 loss: 6941.54833984375\n",
      "iter: 160 loss: 6942.9384765625\n",
      "iter: 161 loss: 6882.6337890625\n",
      "iter: 162 loss: 6910.43408203125\n",
      "iter: 163 loss: 6896.71728515625\n",
      "iter: 164 loss: 6900.4619140625\n",
      "iter: 165 loss: 6896.93115234375\n",
      "iter: 166 loss: 6883.07861328125\n",
      "iter: 167 loss: 6874.080078125\n",
      "iter: 168 loss: 6829.51953125\n",
      "iter: 169 loss: 6879.97021484375\n",
      "iter: 170 loss: 6807.3408203125\n",
      "iter: 171 loss: 6875.31103515625\n",
      "iter: 172 loss: 6873.818359375\n",
      "iter: 173 loss: 6855.7158203125\n",
      "iter: 174 loss: 6838.6650390625\n",
      "iter: 175 loss: 6837.765625\n",
      "iter: 176 loss: 6855.98046875\n",
      "iter: 177 loss: 6916.99072265625\n",
      "iter: 178 loss: 6846.10400390625\n",
      "iter: 179 loss: 6803.37841796875\n",
      "iter: 180 loss: 6809.70556640625\n",
      "iter: 181 loss: 6802.33642578125\n",
      "iter: 182 loss: 6908.87109375\n",
      "iter: 183 loss: 6808.43212890625\n",
      "iter: 184 loss: 6821.2119140625\n",
      "iter: 185 loss: 6769.578125\n",
      "iter: 186 loss: 6825.49853515625\n",
      "iter: 187 loss: 6826.8935546875\n",
      "iter: 188 loss: 6822.5224609375\n",
      "iter: 189 loss: 6848.853515625\n",
      "iter: 190 loss: 6803.64111328125\n",
      "iter: 191 loss: 6795.1513671875\n",
      "iter: 192 loss: 6810.84033203125\n",
      "iter: 193 loss: 6814.59375\n",
      "iter: 194 loss: 6807.36962890625\n",
      "iter: 195 loss: 6800.13232421875\n",
      "iter: 196 loss: 6817.2705078125\n",
      "iter: 197 loss: 6752.6083984375\n",
      "iter: 198 loss: 6840.537109375\n",
      "iter: 199 loss: 6775.408203125\n",
      "iter: 200 loss: 6790.6240234375\n",
      "usetime: 164.0800597667694\n"
     ]
    }
   ],
   "source": [
    "start = time.time()\n",
    "train(200, 200, pic, source, target, path)\n",
    "end = time.time()\n",
    "usetime = end - start\n",
    "print(f\"usetime: {usetime}\")"
   ],
   "metadata": {
    "collapsed": false,
    "pycharm": {
     "name": "#%%\n"
    }
   }
  },
  {
   "cell_type": "code",
   "execution_count": 8,
   "outputs": [
    {
     "name": "stderr",
     "output_type": "stream",
     "text": [
      "C:\\Users\\win10\\AppData\\Local\\Temp\\ipykernel_34080\\1981065163.py:3: DeprecationWarning: BICUBIC is deprecated and will be removed in Pillow 10 (2023-07-01). Use Resampling.BICUBIC instead.\n",
      "  pil = transforms.Resize(size=ori_size, interpolation=Image.BICUBIC)(pil)\n"
     ]
    }
   ],
   "source": [
    "neo_pic = model(pic)\n",
    "pil = topil(neo_pic.squeeze(0).cpu())\n",
    "pil = transforms.Resize(size=ori_size, interpolation=Image.BICUBIC)(pil)\n",
    "pil.save(path)\n"
   ],
   "metadata": {
    "collapsed": false,
    "pycharm": {
     "name": "#%%\n"
    }
   }
  },
  {
   "cell_type": "code",
   "execution_count": 9,
   "outputs": [],
   "source": [
    "with open(file = \"neo_cmp_outer.txt\", mode = \"w\") as file:\n",
    "    for i in loss_li:\n",
    "        file.write(str(i)+\" \")\n",
    "    file.write(\"\\n\")\n",
    "    file.write(str(cur_times+1))"
   ],
   "metadata": {
    "collapsed": false,
    "pycharm": {
     "name": "#%%\n"
    }
   }
  },
  {
   "cell_type": "code",
   "execution_count": 10,
   "outputs": [
    {
     "data": {
      "text/plain": "[<matplotlib.lines.Line2D at 0x239aff78d00>]"
     },
     "execution_count": 10,
     "metadata": {},
     "output_type": "execute_result"
    },
    {
     "data": {
      "text/plain": "<Figure size 640x480 with 1 Axes>",
      "image/png": "[encoded data removed]"
     },
     "metadata": {},
     "output_type": "display_data"
    }
   ],
   "source": [
    "import matplotlib.pyplot as plt\n",
    "\n",
    "x = [i for i in range(200)]\n",
    "loss_li = [x/(cur_times+1) for x in loss_li]\n",
    "plt.plot(x,loss_li,color=\"red\",marker=\"o\")\n",
    "\n"
   ],
   "metadata": {
    "collapsed": false,
    "pycharm": {
     "name": "#%%\n"
    }
   }
  }
 ],
 "metadata": {
  "kernelspec": {
   "display_name": "Python 3",
   "language": "python",
   "name": "python3"
  },
  "language_info": {
   "codemirror_mode": {
    "name": "ipython",
    "version": 2
   },
   "file_extension": ".py",
   "mimetype": "text/x-python",
   "name": "python",
   "nbconvert_exporter": "python",
   "pygments_lexer": "ipython2",
   "version": "2.7.6"
  }
 },
 "nbformat": 4,
 "nbformat_minor": 0
}