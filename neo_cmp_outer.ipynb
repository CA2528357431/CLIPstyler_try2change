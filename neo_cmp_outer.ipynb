{
 "cells": [
  {
   "cell_type": "code",
   "execution_count": 1,
   "metadata": {
    "collapsed": true
   },
   "outputs": [],
   "source": [
    "import torch\n",
    "import torch.optim as optim\n",
    "import torchvision\n",
    "import torchvision.transforms as transforms\n",
    "from PIL import Image\n",
    "\n",
    "from network.styler import Unet\n",
    "from loss.loss import CLIPLoss\n",
    "from utils.func import get_features,vgg_normalize\n",
    "\n",
    "import time"
   ]
  },
  {
   "cell_type": "code",
   "execution_count": 2,
   "outputs": [],
   "source": [
    "device = \"cuda\" if torch.cuda.is_available() else \"cpu\"\n",
    "\n",
    "lr1 = 0.0001\n",
    "lr2 = 0.0003\n",
    "# model = Unet(device)\n",
    "model = Unet().to(device)\n",
    "cliploss = CLIPLoss(device)\n",
    "# mseloss = torch.nn.MSELoss()\n",
    "vgg = torchvision.models.vgg19(pretrained=True).features.to(device)\n",
    "for x in vgg.parameters():\n",
    "    x.requires_grad = False\n",
    "\n",
    "topil = transforms.ToPILImage()\n",
    "topic = transforms.ToTensor()\n",
    "\n",
    "dir_lambda = 500\n",
    "content_lambda = 150\n",
    "patch_lambda = 9000\n",
    "norm_lambda = 0.002\n",
    "gol_lambda = 300"
   ],
   "metadata": {
    "collapsed": false,
    "pycharm": {
     "name": "#%%\n"
    }
   }
  },
  {
   "cell_type": "code",
   "execution_count": 3,
   "outputs": [],
   "source": [
    "file_cmp_outer = open(\"neo_cmp_outer.txt\", \"r\")\n",
    "loss_li = file_cmp_outer.readline()\n",
    "loss_li = [float(x) for x in loss_li.split()]\n",
    "if not loss_li:\n",
    "    loss_li = [0]*200\n",
    "\n",
    "cur_times = int(file_cmp_outer.readline())"
   ],
   "metadata": {
    "collapsed": false,
    "pycharm": {
     "name": "#%%\n"
    }
   }
  },
  {
   "cell_type": "code",
   "execution_count": 4,
   "outputs": [],
   "source": [
    "def train(iteration1, iteration2, pic, source, target, path):\n",
    "    input = pic\n",
    "\n",
    "    # opt = optim.Adam(model.parameters(), lr=lr1)\n",
    "    # for i in range(iteration1):\n",
    "    #     opt.zero_grad()\n",
    "    #     neo_pic = model(input)\n",
    "    #     loss = mseloss(pic, neo_pic) * 1\n",
    "    #     loss.backward()\n",
    "    #     opt.step()\n",
    "    #     pil = topil(neo_pic.squeeze(0).cpu())\n",
    "    #     print(\"iter:\", i + 1, \"loss:\", loss.item())\n",
    "    #     if ((i + 1) % 50) == 0:\n",
    "    #         pil.save(f\"./pic1/{(i + 1) // 50}.jpg\")\n",
    "    #\n",
    "    #\n",
    "    # torch.save(model,'unet.pth')\n",
    "\n",
    "\n",
    "    # model = torch.load('unet.pth')\n",
    "\n",
    "    pic_f = get_features(vgg_normalize(pic),vgg)\n",
    "\n",
    "    opt = optim.Adam(model.parameters(), lr=lr2)\n",
    "    sch = torch.optim.lr_scheduler.StepLR(opt, step_size=100, gamma=0.5)\n",
    "    for i in range(iteration2):\n",
    "\n",
    "\n",
    "        opt.zero_grad()\n",
    "        neo_pic = model(input)\n",
    "\n",
    "        dir_loss = 0\n",
    "        dir_loss += cliploss.forward_dir(pic, source, neo_pic, target)\n",
    "\n",
    "        gol_loss = 0\n",
    "        gol_loss += cliploss.forward_gol(pic, source, neo_pic, target)\n",
    "\n",
    "        content_loss = 0\n",
    "        neo_pic_f = get_features(vgg_normalize(neo_pic), vgg)\n",
    "        content_loss += torch.mean((pic_f['conv4_2'] - neo_pic_f['conv4_2']) ** 2)\n",
    "        content_loss += torch.mean((pic_f['conv5_2'] - neo_pic_f['conv5_2']) ** 2)\n",
    "\n",
    "        patch_loss = 0\n",
    "        patch_loss += cliploss.forward_patch(pic, source, neo_pic, target)\n",
    "\n",
    "        norm_loss = 0\n",
    "        norm_loss += cliploss.forward_prior(pic, source, neo_pic, target)\n",
    "\n",
    "        loss = dir_loss * dir_lambda + \\\n",
    "               content_loss * content_lambda + \\\n",
    "               patch_loss * patch_lambda + \\\n",
    "               norm_loss * norm_lambda + \\\n",
    "               gol_loss * gol_lambda\n",
    "\n",
    "        loss.backward()\n",
    "        opt.step()\n",
    "        sch.step()\n",
    "\n",
    "        loss_li[i]+=(loss.item())\n",
    "\n",
    "        print(\"iter:\", i + 1, \"loss:\", loss.item())\n",
    "\n",
    "        # pil = topil(neo_pic.squeeze(0).cpu())\n",
    "        # if ((i + 1) % 10) == 0:\n",
    "        #     pil.save(f\"./pic2/{(i + 1) // 10}.jpg\")\n",
    "\n",
    "    # neo_pic = model(input)\n",
    "    # pil = topil(neo_pic.squeeze(0).cpu())\n",
    "    # # pil.save(f\"{source}-{target}.jpg\")\n",
    "    # pil.save(path)"
   ],
   "metadata": {
    "collapsed": false,
    "pycharm": {
     "name": "#%%\n"
    }
   }
  },
  {
   "cell_type": "code",
   "execution_count": 5,
   "outputs": [
    {
     "name": "stderr",
     "output_type": "stream",
     "text": [
      "C:\\Users\\win10\\AppData\\Local\\Temp\\ipykernel_41960\\2585999280.py:3: DeprecationWarning: BICUBIC is deprecated and will be removed in Pillow 10 (2023-07-01). Use Resampling.BICUBIC instead.\n",
      "  pil = transforms.Resize(size=(512, 512), interpolation=Image.BICUBIC)(pil)\n"
     ]
    }
   ],
   "source": [
    "pil = Image.open(f\"./source_pic/boat.jpg\")\n",
    "ori_size = pil.size[::-1]\n",
    "pil = transforms.Resize(size=(512, 512), interpolation=Image.BICUBIC)(pil)\n",
    "pic = topic(pil).unsqueeze(0).to(device)\n",
    "# pic = torch.ones(1, 3, 512, 512).to(device)\n",
    "pic.requires_grad = False"
   ],
   "metadata": {
    "collapsed": false,
    "pycharm": {
     "name": "#%%\n"
    }
   }
  },
  {
   "cell_type": "code",
   "execution_count": 6,
   "outputs": [],
   "source": [
    "# source = \"photo\"\n",
    "source = \"day\"\n",
    "\n",
    "\n",
    "# target = \"pop art of night city\"\n",
    "# target = \"starry night by Van Gogh\"\n",
    "# target = \"the scream by Edvard Munch\"\n",
    "# target = \"Monet\"\n",
    "# target = \"cyberpunk 2077\"\n",
    "# target = \"Chinese Ink and wash painting\"\n",
    "# target = \"fire\"\n",
    "# target = \"woman\"\n",
    "# target = \"man with dark black skin and black hair\"\n",
    "target = \"dark night\"\n",
    "# target = \"The great wave off kanagawa by Hokusai\"\n",
    "# target = \"angry peppa pig\"\n",
    "\n",
    "path = \"result/result3.jpg\""
   ],
   "metadata": {
    "collapsed": false,
    "pycharm": {
     "name": "#%%\n"
    }
   }
  },
  {
   "cell_type": "code",
   "execution_count": 7,
   "outputs": [
    {
     "name": "stdout",
     "output_type": "stream",
     "text": [
      "iter: 1 loss: 10654.1943359375\n",
      "iter: 2 loss: 10439.3125\n",
      "iter: 3 loss: 10372.875\n",
      "iter: 4 loss: 10228.9228515625\n",
      "iter: 5 loss: 10110.677734375\n",
      "iter: 6 loss: 10022.0322265625\n",
      "iter: 7 loss: 9948.1806640625\n",
      "iter: 8 loss: 9913.04296875\n",
      "iter: 9 loss: 9815.681640625\n",
      "iter: 10 loss: 9685.4423828125\n",
      "iter: 11 loss: 9663.93359375\n",
      "iter: 12 loss: 9586.9189453125\n",
      "iter: 13 loss: 9521.5078125\n",
      "iter: 14 loss: 9465.46875\n",
      "iter: 15 loss: 9444.4970703125\n",
      "iter: 16 loss: 9338.109375\n",
      "iter: 17 loss: 9260.29296875\n",
      "iter: 18 loss: 9184.556640625\n",
      "iter: 19 loss: 9180.9755859375\n",
      "iter: 20 loss: 9160.060546875\n",
      "iter: 21 loss: 9129.4921875\n",
      "iter: 22 loss: 8994.56640625\n",
      "iter: 23 loss: 8960.3994140625\n",
      "iter: 24 loss: 8929.4287109375\n",
      "iter: 25 loss: 8826.32421875\n",
      "iter: 26 loss: 8796.431640625\n",
      "iter: 27 loss: 8692.7783203125\n",
      "iter: 28 loss: 8630.9912109375\n",
      "iter: 29 loss: 8641.5205078125\n",
      "iter: 30 loss: 8514.462890625\n",
      "iter: 31 loss: 8416.470703125\n",
      "iter: 32 loss: 8453.7705078125\n",
      "iter: 33 loss: 8328.7685546875\n",
      "iter: 34 loss: 8432.0107421875\n",
      "iter: 35 loss: 8246.841796875\n",
      "iter: 36 loss: 8346.9228515625\n",
      "iter: 37 loss: 8280.513671875\n",
      "iter: 38 loss: 8220.833984375\n",
      "iter: 39 loss: 8066.41015625\n",
      "iter: 40 loss: 7979.31640625\n",
      "iter: 41 loss: 8074.78466796875\n",
      "iter: 42 loss: 7966.3681640625\n",
      "iter: 43 loss: 7943.79248046875\n",
      "iter: 44 loss: 7973.5634765625\n",
      "iter: 45 loss: 8025.83935546875\n",
      "iter: 46 loss: 7889.072265625\n",
      "iter: 47 loss: 7830.83203125\n",
      "iter: 48 loss: 7787.8837890625\n",
      "iter: 49 loss: 7807.25927734375\n",
      "iter: 50 loss: 7791.40576171875\n",
      "iter: 51 loss: 7778.158203125\n",
      "iter: 52 loss: 7780.90869140625\n",
      "iter: 53 loss: 7685.39599609375\n",
      "iter: 54 loss: 7665.310546875\n",
      "iter: 55 loss: 7537.216796875\n",
      "iter: 56 loss: 7644.4736328125\n",
      "iter: 57 loss: 7616.22412109375\n",
      "iter: 58 loss: 7563.69140625\n",
      "iter: 59 loss: 7541.68115234375\n",
      "iter: 60 loss: 7567.12353515625\n",
      "iter: 61 loss: 7333.0693359375\n",
      "iter: 62 loss: 7434.5966796875\n",
      "iter: 63 loss: 7577.8017578125\n",
      "iter: 64 loss: 7443.07080078125\n",
      "iter: 65 loss: 7460.5927734375\n",
      "iter: 66 loss: 7336.05078125\n",
      "iter: 67 loss: 7313.96875\n",
      "iter: 68 loss: 7357.13037109375\n",
      "iter: 69 loss: 7357.31591796875\n",
      "iter: 70 loss: 7342.634765625\n",
      "iter: 71 loss: 7432.87255859375\n",
      "iter: 72 loss: 7283.0322265625\n",
      "iter: 73 loss: 7273.56103515625\n",
      "iter: 74 loss: 7216.0478515625\n",
      "iter: 75 loss: 7237.884765625\n",
      "iter: 76 loss: 7141.5791015625\n",
      "iter: 77 loss: 7104.49267578125\n",
      "iter: 78 loss: 7123.18701171875\n",
      "iter: 79 loss: 7127.9482421875\n",
      "iter: 80 loss: 7145.81787109375\n",
      "iter: 81 loss: 7038.42822265625\n",
      "iter: 82 loss: 7047.97314453125\n",
      "iter: 83 loss: 7178.81201171875\n",
      "iter: 84 loss: 7067.77197265625\n",
      "iter: 85 loss: 7106.83056640625\n",
      "iter: 86 loss: 7002.5849609375\n",
      "iter: 87 loss: 6975.4814453125\n",
      "iter: 88 loss: 7016.54345703125\n",
      "iter: 89 loss: 6897.39404296875\n",
      "iter: 90 loss: 6959.57763671875\n",
      "iter: 91 loss: 6841.13134765625\n",
      "iter: 92 loss: 6901.12255859375\n",
      "iter: 93 loss: 6792.2861328125\n",
      "iter: 94 loss: 6925.2138671875\n",
      "iter: 95 loss: 7023.2578125\n",
      "iter: 96 loss: 6859.31298828125\n",
      "iter: 97 loss: 6732.6767578125\n",
      "iter: 98 loss: 6832.6943359375\n",
      "iter: 99 loss: 6883.9423828125\n",
      "iter: 100 loss: 6793.958984375\n",
      "iter: 101 loss: 6742.36279296875\n",
      "iter: 102 loss: 6824.11962890625\n",
      "iter: 103 loss: 6844.787109375\n",
      "iter: 104 loss: 6808.29296875\n",
      "iter: 105 loss: 6804.08447265625\n",
      "iter: 106 loss: 6710.20751953125\n",
      "iter: 107 loss: 6670.15673828125\n",
      "iter: 108 loss: 6675.5419921875\n",
      "iter: 109 loss: 6624.1552734375\n",
      "iter: 110 loss: 6690.0322265625\n",
      "iter: 111 loss: 6635.1240234375\n",
      "iter: 112 loss: 6739.927734375\n",
      "iter: 113 loss: 6590.736328125\n",
      "iter: 114 loss: 6520.5205078125\n",
      "iter: 115 loss: 6583.33935546875\n",
      "iter: 116 loss: 6589.06689453125\n",
      "iter: 117 loss: 6515.25244140625\n",
      "iter: 118 loss: 6525.55908203125\n",
      "iter: 119 loss: 6462.53466796875\n",
      "iter: 120 loss: 6420.1025390625\n",
      "iter: 121 loss: 6437.63623046875\n",
      "iter: 122 loss: 6482.6279296875\n",
      "iter: 123 loss: 6471.517578125\n",
      "iter: 124 loss: 6471.21728515625\n",
      "iter: 125 loss: 6435.8671875\n",
      "iter: 126 loss: 6451.90966796875\n",
      "iter: 127 loss: 6402.57568359375\n",
      "iter: 128 loss: 6473.2646484375\n",
      "iter: 129 loss: 6456.65869140625\n",
      "iter: 130 loss: 6357.83740234375\n",
      "iter: 131 loss: 6297.33154296875\n",
      "iter: 132 loss: 6394.68115234375\n",
      "iter: 133 loss: 6393.71142578125\n",
      "iter: 134 loss: 6321.6513671875\n",
      "iter: 135 loss: 6237.48046875\n",
      "iter: 136 loss: 6277.2333984375\n",
      "iter: 137 loss: 6291.798828125\n",
      "iter: 138 loss: 6390.482421875\n",
      "iter: 139 loss: 6265.9619140625\n",
      "iter: 140 loss: 6347.19287109375\n",
      "iter: 141 loss: 6370.42919921875\n",
      "iter: 142 loss: 6284.17578125\n",
      "iter: 143 loss: 6261.798828125\n",
      "iter: 144 loss: 6327.837890625\n",
      "iter: 145 loss: 6206.93994140625\n",
      "iter: 146 loss: 6330.796875\n",
      "iter: 147 loss: 6269.1357421875\n",
      "iter: 148 loss: 6303.4033203125\n",
      "iter: 149 loss: 6276.9169921875\n",
      "iter: 150 loss: 6300.48974609375\n",
      "iter: 151 loss: 6294.14404296875\n",
      "iter: 152 loss: 6243.74560546875\n",
      "iter: 153 loss: 6153.7197265625\n",
      "iter: 154 loss: 6204.08984375\n",
      "iter: 155 loss: 6211.7373046875\n",
      "iter: 156 loss: 6238.73095703125\n",
      "iter: 157 loss: 6082.32373046875\n",
      "iter: 158 loss: 6154.63525390625\n",
      "iter: 159 loss: 6235.0791015625\n",
      "iter: 160 loss: 6113.74267578125\n",
      "iter: 161 loss: 6184.7509765625\n",
      "iter: 162 loss: 6072.45556640625\n",
      "iter: 163 loss: 6143.53759765625\n",
      "iter: 164 loss: 5984.224609375\n",
      "iter: 165 loss: 6314.6796875\n",
      "iter: 166 loss: 6218.0576171875\n",
      "iter: 167 loss: 5946.97119140625\n",
      "iter: 168 loss: 6094.20751953125\n",
      "iter: 169 loss: 6291.8427734375\n",
      "iter: 170 loss: 6158.705078125\n",
      "iter: 171 loss: 6034.748046875\n",
      "iter: 172 loss: 6062.857421875\n",
      "iter: 173 loss: 5993.37158203125\n",
      "iter: 174 loss: 6045.939453125\n",
      "iter: 175 loss: 6083.7197265625\n",
      "iter: 176 loss: 6080.40087890625\n",
      "iter: 177 loss: 6013.15966796875\n",
      "iter: 178 loss: 6124.8642578125\n",
      "iter: 179 loss: 5957.1337890625\n",
      "iter: 180 loss: 5940.20703125\n",
      "iter: 181 loss: 6027.30810546875\n",
      "iter: 182 loss: 6025.00439453125\n",
      "iter: 183 loss: 5992.34375\n",
      "iter: 184 loss: 5992.5380859375\n",
      "iter: 185 loss: 5966.03125\n",
      "iter: 186 loss: 6022.09912109375\n",
      "iter: 187 loss: 6107.50244140625\n",
      "iter: 188 loss: 5925.73681640625\n",
      "iter: 189 loss: 5832.501953125\n",
      "iter: 190 loss: 5985.56640625\n",
      "iter: 191 loss: 6118.177734375\n",
      "iter: 192 loss: 5881.04541015625\n",
      "iter: 193 loss: 5943.1142578125\n",
      "iter: 194 loss: 5958.13330078125\n",
      "iter: 195 loss: 5833.19140625\n",
      "iter: 196 loss: 5879.11328125\n",
      "iter: 197 loss: 6020.66064453125\n",
      "iter: 198 loss: 5914.22119140625\n",
      "iter: 199 loss: 5921.24853515625\n",
      "iter: 200 loss: 5940.75146484375\n",
      "usetime: 165.02361130714417\n"
     ]
    }
   ],
   "source": [
    "start = time.time()\n",
    "train(200, 200, pic, source, target, path)\n",
    "end = time.time()\n",
    "usetime = end - start\n",
    "print(f\"usetime: {usetime}\")"
   ],
   "metadata": {
    "collapsed": false,
    "pycharm": {
     "name": "#%%\n"
    }
   }
  },
  {
   "cell_type": "code",
   "execution_count": 8,
   "outputs": [
    {
     "name": "stderr",
     "output_type": "stream",
     "text": [
      "C:\\Users\\win10\\AppData\\Local\\Temp\\ipykernel_41960\\1981065163.py:3: DeprecationWarning: BICUBIC is deprecated and will be removed in Pillow 10 (2023-07-01). Use Resampling.BICUBIC instead.\n",
      "  pil = transforms.Resize(size=ori_size, interpolation=Image.BICUBIC)(pil)\n"
     ]
    }
   ],
   "source": [
    "neo_pic = model(pic)\n",
    "pil = topil(neo_pic.squeeze(0).cpu())\n",
    "pil = transforms.Resize(size=ori_size, interpolation=Image.BICUBIC)(pil)\n",
    "pil.save(path)\n"
   ],
   "metadata": {
    "collapsed": false,
    "pycharm": {
     "name": "#%%\n"
    }
   }
  },
  {
   "cell_type": "code",
   "execution_count": 9,
   "outputs": [],
   "source": [
    "with open(file = \"neo_cmp_outer.txt\", mode = \"w\") as file:\n",
    "    for i in loss_li:\n",
    "        file.write(str(i)+\" \")\n",
    "    file.write(\"\\n\")\n",
    "    file.write(str(cur_times+1))"
   ],
   "metadata": {
    "collapsed": false,
    "pycharm": {
     "name": "#%%\n"
    }
   }
  },
  {
   "cell_type": "code",
   "execution_count": 10,
   "outputs": [
    {
     "data": {
      "text/plain": "[<matplotlib.lines.Line2D at 0x224f797ba60>]"
     },
     "execution_count": 10,
     "metadata": {},
     "output_type": "execute_result"
    },
    {
     "data": {
      "text/plain": "<Figure size 640x480 with 1 Axes>",
      "image/png": "[encoded data removed]"
     },
     "metadata": {},
     "output_type": "display_data"
    }
   ],
   "source": [
    "import matplotlib.pyplot as plt\n",
    "\n",
    "x = [i for i in range(200)]\n",
    "loss_li = [x/(cur_times+1) for x in loss_li]\n",
    "plt.plot(x,loss_li,color=\"red\",marker=\"o\")\n",
    "\n"
   ],
   "metadata": {
    "collapsed": false,
    "pycharm": {
     "name": "#%%\n"
    }
   }
  }
 ],
 "metadata": {
  "kernelspec": {
   "display_name": "Python 3",
   "language": "python",
   "name": "python3"
  },
  "language_info": {
   "codemirror_mode": {
    "name": "ipython",
    "version": 2
   },
   "file_extension": ".py",
   "mimetype": "text/x-python",
   "name": "python",
   "nbconvert_exporter": "python",
   "pygments_lexer": "ipython2",
   "version": "2.7.6"
  }
 },
 "nbformat": 4,
 "nbformat_minor": 0
}