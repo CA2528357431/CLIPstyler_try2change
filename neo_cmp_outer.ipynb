{
 "cells": [
  {
   "cell_type": "code",
   "execution_count": 1,
   "metadata": {
    "collapsed": true
   },
   "outputs": [],
   "source": [
    "import torch\n",
    "import torch.optim as optim\n",
    "import torchvision\n",
    "import torchvision.transforms as transforms\n",
    "from PIL import Image\n",
    "\n",
    "from network.styler import Unet\n",
    "from loss.loss import CLIPLoss\n",
    "from utils.func import get_features,vgg_normalize\n",
    "\n",
    "import time"
   ]
  },
  {
   "cell_type": "code",
   "execution_count": 2,
   "outputs": [],
   "source": [
    "device = \"cuda\" if torch.cuda.is_available() else \"cpu\"\n",
    "\n",
    "lr1 = 0.0001\n",
    "lr2 = 0.0003\n",
    "# model = Unet(device)\n",
    "model = Unet().to(device)\n",
    "cliploss = CLIPLoss(device)\n",
    "# mseloss = torch.nn.MSELoss()\n",
    "vgg = torchvision.models.vgg19(pretrained=True).features.to(device)\n",
    "for x in vgg.parameters():\n",
    "    x.requires_grad = False\n",
    "\n",
    "topil = transforms.ToPILImage()\n",
    "topic = transforms.ToTensor()\n",
    "\n",
    "dir_lambda = 500\n",
    "content_lambda = 150\n",
    "patch_lambda = 9000\n",
    "norm_lambda = 0.002\n",
    "gol_lambda = 300"
   ],
   "metadata": {
    "collapsed": false,
    "pycharm": {
     "name": "#%%\n"
    }
   }
  },
  {
   "cell_type": "code",
   "execution_count": 3,
   "outputs": [],
   "source": [
    "file_cmp_outer = open(\"neo_cmp_outer.txt\", \"r\")\n",
    "loss_li = file_cmp_outer.readline()\n",
    "loss_li = [float(x) for x in loss_li.split()]\n",
    "if not loss_li:\n",
    "    loss_li = [0]*200\n",
    "\n",
    "cur_times = int(file_cmp_outer.readline())"
   ],
   "metadata": {
    "collapsed": false,
    "pycharm": {
     "name": "#%%\n"
    }
   }
  },
  {
   "cell_type": "code",
   "execution_count": 4,
   "outputs": [],
   "source": [
    "def train(iteration1, iteration2, pic, source, target, path):\n",
    "    input = pic\n",
    "\n",
    "    # opt = optim.Adam(model.parameters(), lr=lr1)\n",
    "    # for i in range(iteration1):\n",
    "    #     opt.zero_grad()\n",
    "    #     neo_pic = model(input)\n",
    "    #     loss = mseloss(pic, neo_pic) * 1\n",
    "    #     loss.backward()\n",
    "    #     opt.step()\n",
    "    #     pil = topil(neo_pic.squeeze(0).cpu())\n",
    "    #     print(\"iter:\", i + 1, \"loss:\", loss.item())\n",
    "    #     if ((i + 1) % 50) == 0:\n",
    "    #         pil.save(f\"./pic1/{(i + 1) // 50}.jpg\")\n",
    "    #\n",
    "    #\n",
    "    # torch.save(model,'unet.pth')\n",
    "\n",
    "\n",
    "    # model = torch.load('unet.pth')\n",
    "\n",
    "    pic_f = get_features(vgg_normalize(pic),vgg)\n",
    "\n",
    "    opt = optim.Adam(model.parameters(), lr=lr2)\n",
    "    sch = torch.optim.lr_scheduler.StepLR(opt, step_size=100, gamma=0.5)\n",
    "    for i in range(iteration2):\n",
    "\n",
    "\n",
    "        opt.zero_grad()\n",
    "        neo_pic = model(input)\n",
    "\n",
    "        dir_loss = 0\n",
    "        dir_loss += cliploss.forward_dir(pic, source, neo_pic, target)\n",
    "\n",
    "        gol_loss = 0\n",
    "        gol_loss += cliploss.forward_gol(pic, source, neo_pic, target)\n",
    "\n",
    "        content_loss = 0\n",
    "        neo_pic_f = get_features(vgg_normalize(neo_pic), vgg)\n",
    "        content_loss += torch.mean((pic_f['conv4_2'] - neo_pic_f['conv4_2']) ** 2)\n",
    "        content_loss += torch.mean((pic_f['conv5_2'] - neo_pic_f['conv5_2']) ** 2)\n",
    "\n",
    "        patch_loss = 0\n",
    "        patch_loss += cliploss.forward_patch(pic, source, neo_pic, target)\n",
    "\n",
    "        norm_loss = 0\n",
    "        norm_loss += cliploss.forward_prior(pic, source, neo_pic, target)\n",
    "\n",
    "        loss = dir_loss * dir_lambda + \\\n",
    "               content_loss * content_lambda + \\\n",
    "               patch_loss * patch_lambda + \\\n",
    "               norm_loss * norm_lambda + \\\n",
    "               gol_loss * gol_lambda\n",
    "\n",
    "        loss.backward()\n",
    "        opt.step()\n",
    "        sch.step()\n",
    "\n",
    "        loss_li[i]+=(loss.item())\n",
    "\n",
    "        print(\"iter:\", i + 1, \"loss:\", loss.item())\n",
    "\n",
    "        # pil = topil(neo_pic.squeeze(0).cpu())\n",
    "        # if ((i + 1) % 10) == 0:\n",
    "        #     pil.save(f\"./pic2/{(i + 1) // 10}.jpg\")\n",
    "\n",
    "    # neo_pic = model(input)\n",
    "    # pil = topil(neo_pic.squeeze(0).cpu())\n",
    "    # # pil.save(f\"{source}-{target}.jpg\")\n",
    "    # pil.save(path)"
   ],
   "metadata": {
    "collapsed": false,
    "pycharm": {
     "name": "#%%\n"
    }
   }
  },
  {
   "cell_type": "code",
   "execution_count": 5,
   "outputs": [
    {
     "name": "stderr",
     "output_type": "stream",
     "text": [
      "C:\\Users\\win10\\AppData\\Local\\Temp\\ipykernel_40536\\1855053385.py:3: DeprecationWarning: BICUBIC is deprecated and will be removed in Pillow 10 (2023-07-01). Use Resampling.BICUBIC instead.\n",
      "  pil = transforms.Resize(size=(512, 512), interpolation=Image.BICUBIC)(pil)\n"
     ]
    }
   ],
   "source": [
    "pil = Image.open(f\"./source_pic/church.jpeg\")\n",
    "ori_size = pil.size[::-1]\n",
    "pil = transforms.Resize(size=(512, 512), interpolation=Image.BICUBIC)(pil)\n",
    "pic = topic(pil).unsqueeze(0).to(device)\n",
    "# pic = torch.ones(1, 3, 512, 512).to(device)\n",
    "pic.requires_grad = False"
   ],
   "metadata": {
    "collapsed": false,
    "pycharm": {
     "name": "#%%\n"
    }
   }
  },
  {
   "cell_type": "code",
   "execution_count": 6,
   "outputs": [],
   "source": [
    "source = \"photo\"\n",
    "\n",
    "\n",
    "# target = \"pop art of night city\"\n",
    "# target = \"starry night by Van Gogh\"\n",
    "# target = \"the scream by Edvard Munch\"\n",
    "target = \"Monet\"\n",
    "# target = \"cyberpunk 2077\"\n",
    "# target = \"Chinese Ink and wash painting\"\n",
    "# target = \"fire\"\n",
    "# target = \"woman\"\n",
    "# target = \"man with dark black skin and black hair\"\n",
    "# target = \"groot\"\n",
    "# target = \"The great wave off kanagawa by Hokusai\"\n",
    "# target = \"angry peppa pig\"\n",
    "\n",
    "path = \"result/result3.jpg\""
   ],
   "metadata": {
    "collapsed": false,
    "pycharm": {
     "name": "#%%\n"
    }
   }
  },
  {
   "cell_type": "code",
   "execution_count": 7,
   "outputs": [
    {
     "name": "stdout",
     "output_type": "stream",
     "text": [
      "iter: 1 loss: 10866.4658203125\n",
      "iter: 2 loss: 10636.3486328125\n",
      "iter: 3 loss: 10462.8818359375\n",
      "iter: 4 loss: 10345.044921875\n",
      "iter: 5 loss: 10109.1923828125\n",
      "iter: 6 loss: 9930.16015625\n",
      "iter: 7 loss: 9789.1240234375\n",
      "iter: 8 loss: 9653.787109375\n",
      "iter: 9 loss: 9548.673828125\n",
      "iter: 10 loss: 9417.765625\n",
      "iter: 11 loss: 9323.8359375\n",
      "iter: 12 loss: 9152.236328125\n",
      "iter: 13 loss: 9103.0029296875\n",
      "iter: 14 loss: 8989.1748046875\n",
      "iter: 15 loss: 8969.029296875\n",
      "iter: 16 loss: 8869.76171875\n",
      "iter: 17 loss: 8826.5224609375\n",
      "iter: 18 loss: 8795.1728515625\n",
      "iter: 19 loss: 8737.2353515625\n",
      "iter: 20 loss: 8638.1669921875\n",
      "iter: 21 loss: 8558.0927734375\n",
      "iter: 22 loss: 8523.5146484375\n",
      "iter: 23 loss: 8529.3310546875\n",
      "iter: 24 loss: 8440.625\n",
      "iter: 25 loss: 8450.56640625\n",
      "iter: 26 loss: 8398.08984375\n",
      "iter: 27 loss: 8366.361328125\n",
      "iter: 28 loss: 8367.994140625\n",
      "iter: 29 loss: 8304.193359375\n",
      "iter: 30 loss: 8247.783203125\n",
      "iter: 31 loss: 8222.44921875\n",
      "iter: 32 loss: 8187.3740234375\n",
      "iter: 33 loss: 8095.89501953125\n",
      "iter: 34 loss: 8147.06884765625\n",
      "iter: 35 loss: 8079.7529296875\n",
      "iter: 36 loss: 8125.9208984375\n",
      "iter: 37 loss: 8059.7490234375\n",
      "iter: 38 loss: 8049.77783203125\n",
      "iter: 39 loss: 7975.61572265625\n",
      "iter: 40 loss: 8027.482421875\n",
      "iter: 41 loss: 7993.78759765625\n",
      "iter: 42 loss: 7953.669921875\n",
      "iter: 43 loss: 7905.01904296875\n",
      "iter: 44 loss: 7918.42236328125\n",
      "iter: 45 loss: 7862.95361328125\n",
      "iter: 46 loss: 7787.1982421875\n",
      "iter: 47 loss: 7807.8876953125\n",
      "iter: 48 loss: 7788.24658203125\n",
      "iter: 49 loss: 7843.55517578125\n",
      "iter: 50 loss: 7719.765625\n",
      "iter: 51 loss: 7730.09521484375\n",
      "iter: 52 loss: 7771.36572265625\n",
      "iter: 53 loss: 7768.6298828125\n",
      "iter: 54 loss: 7723.7421875\n",
      "iter: 55 loss: 7721.43408203125\n",
      "iter: 56 loss: 7697.640625\n",
      "iter: 57 loss: 7661.625\n",
      "iter: 58 loss: 7674.3896484375\n",
      "iter: 59 loss: 7620.6796875\n",
      "iter: 60 loss: 7665.79150390625\n",
      "iter: 61 loss: 7575.3994140625\n",
      "iter: 62 loss: 7720.7744140625\n",
      "iter: 63 loss: 7649.251953125\n",
      "iter: 64 loss: 7644.21875\n",
      "iter: 65 loss: 7564.51123046875\n",
      "iter: 66 loss: 7551.787109375\n",
      "iter: 67 loss: 7480.044921875\n",
      "iter: 68 loss: 7568.93701171875\n",
      "iter: 69 loss: 7585.98095703125\n",
      "iter: 70 loss: 7465.20263671875\n",
      "iter: 71 loss: 7475.29345703125\n",
      "iter: 72 loss: 7504.38037109375\n",
      "iter: 73 loss: 7442.3515625\n",
      "iter: 74 loss: 7497.74072265625\n",
      "iter: 75 loss: 7484.767578125\n",
      "iter: 76 loss: 7430.04638671875\n",
      "iter: 77 loss: 7397.509765625\n",
      "iter: 78 loss: 7432.95751953125\n",
      "iter: 79 loss: 7440.76025390625\n",
      "iter: 80 loss: 7440.86767578125\n",
      "iter: 81 loss: 7383.275390625\n",
      "iter: 82 loss: 7340.04150390625\n",
      "iter: 83 loss: 7395.3818359375\n",
      "iter: 84 loss: 7445.2822265625\n",
      "iter: 85 loss: 7408.22216796875\n",
      "iter: 86 loss: 7409.88232421875\n",
      "iter: 87 loss: 7395.3662109375\n",
      "iter: 88 loss: 7401.07666015625\n",
      "iter: 89 loss: 7323.24755859375\n",
      "iter: 90 loss: 7405.8583984375\n",
      "iter: 91 loss: 7329.69873046875\n",
      "iter: 92 loss: 7307.646484375\n",
      "iter: 93 loss: 7369.62255859375\n",
      "iter: 94 loss: 7326.6904296875\n",
      "iter: 95 loss: 7379.9990234375\n",
      "iter: 96 loss: 7406.15380859375\n",
      "iter: 97 loss: 7286.95654296875\n",
      "iter: 98 loss: 7257.24169921875\n",
      "iter: 99 loss: 7306.19287109375\n",
      "iter: 100 loss: 7257.89794921875\n",
      "iter: 101 loss: 7243.94091796875\n",
      "iter: 102 loss: 7231.490234375\n",
      "iter: 103 loss: 7222.83056640625\n",
      "iter: 104 loss: 7245.25390625\n",
      "iter: 105 loss: 7160.82080078125\n",
      "iter: 106 loss: 7193.49169921875\n",
      "iter: 107 loss: 7166.4130859375\n",
      "iter: 108 loss: 7180.35009765625\n",
      "iter: 109 loss: 7116.7890625\n",
      "iter: 110 loss: 7158.015625\n",
      "iter: 111 loss: 7067.31201171875\n",
      "iter: 112 loss: 7122.142578125\n",
      "iter: 113 loss: 7092.1416015625\n",
      "iter: 114 loss: 7116.32373046875\n",
      "iter: 115 loss: 7119.2294921875\n",
      "iter: 116 loss: 7035.0830078125\n",
      "iter: 117 loss: 7069.216796875\n",
      "iter: 118 loss: 7103.5068359375\n",
      "iter: 119 loss: 7063.302734375\n",
      "iter: 120 loss: 7124.5849609375\n",
      "iter: 121 loss: 7033.7783203125\n",
      "iter: 122 loss: 6986.275390625\n",
      "iter: 123 loss: 7003.1845703125\n",
      "iter: 124 loss: 7052.9921875\n",
      "iter: 125 loss: 7032.068359375\n",
      "iter: 126 loss: 7031.02880859375\n",
      "iter: 127 loss: 7023.83154296875\n",
      "iter: 128 loss: 7031.50927734375\n",
      "iter: 129 loss: 6991.1171875\n",
      "iter: 130 loss: 6946.02783203125\n",
      "iter: 131 loss: 6951.13037109375\n",
      "iter: 132 loss: 7050.01513671875\n",
      "iter: 133 loss: 7058.68798828125\n",
      "iter: 134 loss: 7007.927734375\n",
      "iter: 135 loss: 7003.56982421875\n",
      "iter: 136 loss: 6945.533203125\n",
      "iter: 137 loss: 6923.013671875\n",
      "iter: 138 loss: 6938.7802734375\n",
      "iter: 139 loss: 6988.91015625\n",
      "iter: 140 loss: 7001.705078125\n",
      "iter: 141 loss: 6902.966796875\n",
      "iter: 142 loss: 6959.390625\n",
      "iter: 143 loss: 6928.845703125\n",
      "iter: 144 loss: 6924.0361328125\n",
      "iter: 145 loss: 6946.54345703125\n",
      "iter: 146 loss: 6910.3447265625\n",
      "iter: 147 loss: 6896.1201171875\n",
      "iter: 148 loss: 6899.72900390625\n",
      "iter: 149 loss: 6917.4541015625\n",
      "iter: 150 loss: 6886.4208984375\n",
      "iter: 151 loss: 6952.7421875\n",
      "iter: 152 loss: 6905.2060546875\n",
      "iter: 153 loss: 6888.2734375\n",
      "iter: 154 loss: 6911.26318359375\n",
      "iter: 155 loss: 6907.29931640625\n",
      "iter: 156 loss: 6893.0732421875\n",
      "iter: 157 loss: 6896.80224609375\n",
      "iter: 158 loss: 6880.55322265625\n",
      "iter: 159 loss: 6878.5322265625\n",
      "iter: 160 loss: 6878.82080078125\n",
      "iter: 161 loss: 6868.96728515625\n",
      "iter: 162 loss: 6888.31591796875\n",
      "iter: 163 loss: 6963.09228515625\n",
      "iter: 164 loss: 6867.70166015625\n",
      "iter: 165 loss: 6805.96923828125\n",
      "iter: 166 loss: 6883.2763671875\n",
      "iter: 167 loss: 6901.28662109375\n",
      "iter: 168 loss: 6901.0498046875\n",
      "iter: 169 loss: 6892.99462890625\n",
      "iter: 170 loss: 6863.767578125\n",
      "iter: 171 loss: 6879.2607421875\n",
      "iter: 172 loss: 6851.57177734375\n",
      "iter: 173 loss: 6824.2021484375\n",
      "iter: 174 loss: 6791.76611328125\n",
      "iter: 175 loss: 6763.66015625\n",
      "iter: 176 loss: 6833.98095703125\n",
      "iter: 177 loss: 6795.9326171875\n",
      "iter: 178 loss: 6760.20703125\n",
      "iter: 179 loss: 6737.4287109375\n",
      "iter: 180 loss: 6823.7841796875\n",
      "iter: 181 loss: 6839.1533203125\n",
      "iter: 182 loss: 6759.845703125\n",
      "iter: 183 loss: 6858.68115234375\n",
      "iter: 184 loss: 6782.80224609375\n",
      "iter: 185 loss: 6795.8115234375\n",
      "iter: 186 loss: 6796.61181640625\n",
      "iter: 187 loss: 6784.22216796875\n",
      "iter: 188 loss: 6823.0205078125\n",
      "iter: 189 loss: 6769.4140625\n",
      "iter: 190 loss: 6756.72900390625\n",
      "iter: 191 loss: 6739.7197265625\n",
      "iter: 192 loss: 6819.3388671875\n",
      "iter: 193 loss: 6721.404296875\n",
      "iter: 194 loss: 6786.20166015625\n",
      "iter: 195 loss: 6763.9052734375\n",
      "iter: 196 loss: 6784.35546875\n",
      "iter: 197 loss: 6765.97705078125\n",
      "iter: 198 loss: 6743.78076171875\n",
      "iter: 199 loss: 6765.52490234375\n",
      "iter: 200 loss: 6770.28125\n",
      "usetime: 165.23151850700378\n"
     ]
    }
   ],
   "source": [
    "start = time.time()\n",
    "train(200, 200, pic, source, target, path)\n",
    "end = time.time()\n",
    "usetime = end - start\n",
    "print(f\"usetime: {usetime}\")"
   ],
   "metadata": {
    "collapsed": false,
    "pycharm": {
     "name": "#%%\n"
    }
   }
  },
  {
   "cell_type": "code",
   "execution_count": 8,
   "outputs": [
    {
     "name": "stderr",
     "output_type": "stream",
     "text": [
      "C:\\Users\\win10\\AppData\\Local\\Temp\\ipykernel_40536\\1981065163.py:3: DeprecationWarning: BICUBIC is deprecated and will be removed in Pillow 10 (2023-07-01). Use Resampling.BICUBIC instead.\n",
      "  pil = transforms.Resize(size=ori_size, interpolation=Image.BICUBIC)(pil)\n"
     ]
    }
   ],
   "source": [
    "neo_pic = model(pic)\n",
    "pil = topil(neo_pic.squeeze(0).cpu())\n",
    "pil = transforms.Resize(size=ori_size, interpolation=Image.BICUBIC)(pil)\n",
    "pil.save(path)\n"
   ],
   "metadata": {
    "collapsed": false,
    "pycharm": {
     "name": "#%%\n"
    }
   }
  },
  {
   "cell_type": "code",
   "execution_count": 9,
   "outputs": [],
   "source": [
    "with open(file = \"neo_cmp_outer.txt\", mode = \"w\") as file:\n",
    "    for i in loss_li:\n",
    "        file.write(str(i)+\" \")\n",
    "    file.write(\"\\n\")\n",
    "    file.write(str(cur_times+1))"
   ],
   "metadata": {
    "collapsed": false,
    "pycharm": {
     "name": "#%%\n"
    }
   }
  },
  {
   "cell_type": "code",
   "execution_count": 10,
   "outputs": [
    {
     "data": {
      "text/plain": "[<matplotlib.lines.Line2D at 0x26ce873c9a0>]"
     },
     "execution_count": 10,
     "metadata": {},
     "output_type": "execute_result"
    },
    {
     "data": {
      "text/plain": "<Figure size 640x480 with 1 Axes>",
      "image/png": "[encoded data removed]"
     },
     "metadata": {},
     "output_type": "display_data"
    }
   ],
   "source": [
    "import matplotlib.pyplot as plt\n",
    "\n",
    "x = [i for i in range(200)]\n",
    "loss_li = [x/(cur_times+1) for x in loss_li]\n",
    "plt.plot(x,loss_li,color=\"red\",marker=\"o\")\n",
    "\n"
   ],
   "metadata": {
    "collapsed": false,
    "pycharm": {
     "name": "#%%\n"
    }
   }
  }
 ],
 "metadata": {
  "kernelspec": {
   "display_name": "Python 3",
   "language": "python",
   "name": "python3"
  },
  "language_info": {
   "codemirror_mode": {
    "name": "ipython",
    "version": 2
   },
   "file_extension": ".py",
   "mimetype": "text/x-python",
   "name": "python",
   "nbconvert_exporter": "python",
   "pygments_lexer": "ipython2",
   "version": "2.7.6"
  }
 },
 "nbformat": 4,
 "nbformat_minor": 0
}