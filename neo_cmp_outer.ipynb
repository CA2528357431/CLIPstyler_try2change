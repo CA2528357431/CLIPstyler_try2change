{
 "cells": [
  {
   "cell_type": "code",
   "execution_count": 1,
   "metadata": {
    "collapsed": true
   },
   "outputs": [],
   "source": [
    "import torch\n",
    "import torch.optim as optim\n",
    "import torchvision\n",
    "import torchvision.transforms as transforms\n",
    "from PIL import Image\n",
    "\n",
    "from network.styler import Unet\n",
    "from loss.loss import CLIPLoss\n",
    "from utils.func import get_features,vgg_normalize\n",
    "\n",
    "import time"
   ]
  },
  {
   "cell_type": "code",
   "execution_count": 2,
   "outputs": [],
   "source": [
    "device = \"cuda\" if torch.cuda.is_available() else \"cpu\"\n",
    "\n",
    "lr1 = 0.0001\n",
    "lr2 = 0.0005\n",
    "# model = Unet(device)\n",
    "model = Unet().to(device)\n",
    "cliploss = CLIPLoss(device)\n",
    "# mseloss = torch.nn.MSELoss()\n",
    "vgg = torchvision.models.vgg19(pretrained=True).features.to(device)\n",
    "for x in vgg.parameters():\n",
    "    x.requires_grad = False\n",
    "\n",
    "topil = transforms.ToPILImage()\n",
    "topic = transforms.ToTensor()\n",
    "\n",
    "dir_lambda = 500\n",
    "content_lambda = 150\n",
    "patch_lambda = 9000\n",
    "norm_lambda = 0.002\n",
    "gol_lambda = 300"
   ],
   "metadata": {
    "collapsed": false,
    "pycharm": {
     "name": "#%%\n"
    }
   }
  },
  {
   "cell_type": "code",
   "execution_count": 3,
   "outputs": [],
   "source": [
    "loss_li = []"
   ],
   "metadata": {
    "collapsed": false,
    "pycharm": {
     "name": "#%%\n"
    }
   }
  },
  {
   "cell_type": "code",
   "execution_count": 4,
   "outputs": [],
   "source": [
    "def train(iteration1, iteration2, pic, source, target, path):\n",
    "    input = pic\n",
    "\n",
    "    # opt = optim.Adam(model.parameters(), lr=lr1)\n",
    "    # for i in range(iteration1):\n",
    "    #     opt.zero_grad()\n",
    "    #     neo_pic = model(input)\n",
    "    #     loss = mseloss(pic, neo_pic) * 1\n",
    "    #     loss.backward()\n",
    "    #     opt.step()\n",
    "    #     pil = topil(neo_pic.squeeze(0).cpu())\n",
    "    #     print(\"iter:\", i + 1, \"loss:\", loss.item())\n",
    "    #     if ((i + 1) % 50) == 0:\n",
    "    #         pil.save(f\"./pic1/{(i + 1) // 50}.jpg\")\n",
    "    #\n",
    "    #\n",
    "    # torch.save(model,'unet.pth')\n",
    "\n",
    "\n",
    "    # model = torch.load('unet.pth')\n",
    "\n",
    "    pic_f = get_features(vgg_normalize(pic),vgg)\n",
    "\n",
    "    opt = optim.Adam(model.parameters(), lr=lr2)\n",
    "    sch = torch.optim.lr_scheduler.StepLR(opt, step_size=100, gamma=0.5)\n",
    "    for i in range(iteration2):\n",
    "\n",
    "\n",
    "        opt.zero_grad()\n",
    "        neo_pic = model(input)\n",
    "\n",
    "        dir_loss = 0\n",
    "        dir_loss += cliploss.forward_dir(pic, source, neo_pic, target)\n",
    "\n",
    "        gol_loss = 0\n",
    "        gol_loss += cliploss.forward_gol(pic, source, neo_pic, target)\n",
    "\n",
    "        content_loss = 0\n",
    "        neo_pic_f = get_features(vgg_normalize(neo_pic), vgg)\n",
    "        content_loss += torch.mean((pic_f['conv4_2'] - neo_pic_f['conv4_2']) ** 2)\n",
    "        content_loss += torch.mean((pic_f['conv5_2'] - neo_pic_f['conv5_2']) ** 2)\n",
    "\n",
    "        patch_loss = 0\n",
    "        patch_loss += cliploss.forward_patch(pic, source, neo_pic, target)\n",
    "\n",
    "        norm_loss = 0\n",
    "        norm_loss += cliploss.get_image_prior_losses(neo_pic)\n",
    "\n",
    "        loss = dir_loss * dir_lambda + \\\n",
    "               content_loss * content_lambda + \\\n",
    "               patch_loss * patch_lambda + \\\n",
    "               norm_loss * norm_lambda + \\\n",
    "               gol_loss * gol_lambda\n",
    "\n",
    "        loss.backward()\n",
    "        opt.step()\n",
    "        sch.step()\n",
    "\n",
    "        loss_li.append(loss.item())\n",
    "\n",
    "        print(\"iter:\", i + 1, \"loss:\", loss.item())\n",
    "\n",
    "        # pil = topil(neo_pic.squeeze(0).cpu())\n",
    "        # if ((i + 1) % 10) == 0:\n",
    "        #     pil.save(f\"./pic2/{(i + 1) // 10}.jpg\")\n",
    "\n",
    "    # neo_pic = model(input)\n",
    "    # pil = topil(neo_pic.squeeze(0).cpu())\n",
    "    # # pil.save(f\"{source}-{target}.jpg\")\n",
    "    # pil.save(path)"
   ],
   "metadata": {
    "collapsed": false,
    "pycharm": {
     "name": "#%%\n"
    }
   }
  },
  {
   "cell_type": "code",
   "execution_count": 5,
   "outputs": [],
   "source": [
    "pil = Image.open(f\"./source_pic/church.jpeg\")\n",
    "ori_size = pil.size[::-1]\n",
    "pil = transforms.Resize(size=(512, 512), interpolation=Image.BICUBIC)(pil)\n",
    "pic = topic(pil).unsqueeze(0).to(device)\n",
    "# pic = torch.ones(1, 3, 512, 512).to(device)\n",
    "pic.requires_grad = False"
   ],
   "metadata": {
    "collapsed": false,
    "pycharm": {
     "name": "#%%\n"
    }
   }
  },
  {
   "cell_type": "code",
   "execution_count": 6,
   "outputs": [],
   "source": [
    "source = \"photo\"\n",
    "# target = \"Van Gogh\"\n",
    "# target = \"the scream by Edvard Munch\"\n",
    "# target = \"Monet\"\n",
    "# target = \"cyberpunk 2077\"\n",
    "target = \"Chinese Ink and wash painting\"\n",
    "path = \"result3.jpg\""
   ],
   "metadata": {
    "collapsed": false,
    "pycharm": {
     "name": "#%%\n"
    }
   }
  },
  {
   "cell_type": "code",
   "execution_count": 7,
   "outputs": [
    {
     "name": "stdout",
     "output_type": "stream",
     "text": [
      "iter: 1 loss: 11156.1982421875\n",
      "iter: 2 loss: 10851.611328125\n",
      "iter: 3 loss: 10558.4677734375\n",
      "iter: 4 loss: 10279.6298828125\n",
      "iter: 5 loss: 10055.8642578125\n",
      "iter: 6 loss: 9883.3603515625\n",
      "iter: 7 loss: 9661.9814453125\n",
      "iter: 8 loss: 9471.6328125\n",
      "iter: 9 loss: 9326.189453125\n",
      "iter: 10 loss: 9156.0634765625\n",
      "iter: 11 loss: 8957.0966796875\n",
      "iter: 12 loss: 8835.560546875\n",
      "iter: 13 loss: 8618.4921875\n",
      "iter: 14 loss: 8592.3193359375\n",
      "iter: 15 loss: 8455.0712890625\n",
      "iter: 16 loss: 8356.0625\n",
      "iter: 17 loss: 8269.046875\n",
      "iter: 18 loss: 8169.22119140625\n",
      "iter: 19 loss: 8129.978515625\n",
      "iter: 20 loss: 7993.68212890625\n",
      "iter: 21 loss: 7930.646484375\n",
      "iter: 22 loss: 7886.15185546875\n",
      "iter: 23 loss: 7800.1767578125\n",
      "iter: 24 loss: 7739.7041015625\n",
      "iter: 25 loss: 7730.46337890625\n",
      "iter: 26 loss: 7657.7001953125\n",
      "iter: 27 loss: 7593.15380859375\n",
      "iter: 28 loss: 7564.31787109375\n",
      "iter: 29 loss: 7528.9375\n",
      "iter: 30 loss: 7468.74951171875\n",
      "iter: 31 loss: 7436.4736328125\n",
      "iter: 32 loss: 7392.703125\n",
      "iter: 33 loss: 7339.78369140625\n",
      "iter: 34 loss: 7329.6181640625\n",
      "iter: 35 loss: 7286.73876953125\n",
      "iter: 36 loss: 7291.79296875\n",
      "iter: 37 loss: 7224.24755859375\n",
      "iter: 38 loss: 7192.642578125\n",
      "iter: 39 loss: 7158.6123046875\n",
      "iter: 40 loss: 7150.54736328125\n",
      "iter: 41 loss: 7103.43408203125\n",
      "iter: 42 loss: 7080.90673828125\n",
      "iter: 43 loss: 7030.49609375\n",
      "iter: 44 loss: 7019.26904296875\n",
      "iter: 45 loss: 6996.41845703125\n",
      "iter: 46 loss: 7000.42529296875\n",
      "iter: 47 loss: 6963.44091796875\n",
      "iter: 48 loss: 6921.84375\n",
      "iter: 49 loss: 6912.87060546875\n",
      "iter: 50 loss: 6859.8564453125\n",
      "iter: 51 loss: 6832.80322265625\n",
      "iter: 52 loss: 6870.28955078125\n",
      "iter: 53 loss: 6796.05078125\n",
      "iter: 54 loss: 6807.73828125\n",
      "iter: 55 loss: 6784.37646484375\n",
      "iter: 56 loss: 6759.98876953125\n",
      "iter: 57 loss: 6729.81396484375\n",
      "iter: 58 loss: 6730.748046875\n",
      "iter: 59 loss: 6699.41357421875\n",
      "iter: 60 loss: 6698.28125\n",
      "iter: 61 loss: 6694.15966796875\n",
      "iter: 62 loss: 6702.37939453125\n",
      "iter: 63 loss: 6712.40625\n",
      "iter: 64 loss: 6722.06201171875\n",
      "iter: 65 loss: 6653.81884765625\n",
      "iter: 66 loss: 6667.91943359375\n",
      "iter: 67 loss: 6642.4912109375\n",
      "iter: 68 loss: 6637.8486328125\n",
      "iter: 69 loss: 6568.70166015625\n",
      "iter: 70 loss: 6573.99853515625\n",
      "iter: 71 loss: 6544.28662109375\n",
      "iter: 72 loss: 6593.69140625\n",
      "iter: 73 loss: 6532.044921875\n",
      "iter: 74 loss: 6521.2158203125\n",
      "iter: 75 loss: 6531.6611328125\n",
      "iter: 76 loss: 6525.07177734375\n",
      "iter: 77 loss: 6478.564453125\n",
      "iter: 78 loss: 6462.12646484375\n",
      "iter: 79 loss: 6470.74951171875\n",
      "iter: 80 loss: 6464.2666015625\n",
      "iter: 81 loss: 6437.12060546875\n",
      "iter: 82 loss: 6458.15185546875\n",
      "iter: 83 loss: 6439.201171875\n",
      "iter: 84 loss: 6444.01025390625\n",
      "iter: 85 loss: 6408.77734375\n",
      "iter: 86 loss: 6412.87548828125\n",
      "iter: 87 loss: 6379.47802734375\n",
      "iter: 88 loss: 6365.12744140625\n",
      "iter: 89 loss: 6372.68359375\n",
      "iter: 90 loss: 6353.94287109375\n",
      "iter: 91 loss: 6345.12890625\n",
      "iter: 92 loss: 6383.5126953125\n",
      "iter: 93 loss: 6313.85546875\n",
      "iter: 94 loss: 6300.380859375\n",
      "iter: 95 loss: 6308.7685546875\n",
      "iter: 96 loss: 6287.435546875\n",
      "iter: 97 loss: 6294.20556640625\n",
      "iter: 98 loss: 6265.494140625\n",
      "iter: 99 loss: 6263.45849609375\n",
      "iter: 100 loss: 6257.62646484375\n",
      "iter: 101 loss: 6227.50439453125\n",
      "iter: 102 loss: 6241.89794921875\n",
      "iter: 103 loss: 6219.4658203125\n",
      "iter: 104 loss: 6207.23291015625\n",
      "iter: 105 loss: 6190.8310546875\n",
      "iter: 106 loss: 6162.470703125\n",
      "iter: 107 loss: 6194.80517578125\n",
      "iter: 108 loss: 6170.9892578125\n",
      "iter: 109 loss: 6164.05810546875\n",
      "iter: 110 loss: 6152.26171875\n",
      "iter: 111 loss: 6129.0400390625\n",
      "iter: 112 loss: 6095.37451171875\n",
      "iter: 113 loss: 6095.1318359375\n",
      "iter: 114 loss: 6142.578125\n",
      "iter: 115 loss: 6092.455078125\n",
      "iter: 116 loss: 6091.4375\n",
      "iter: 117 loss: 6088.72509765625\n",
      "iter: 118 loss: 6063.9638671875\n",
      "iter: 119 loss: 6076.97607421875\n",
      "iter: 120 loss: 6083.0419921875\n",
      "iter: 121 loss: 6091.0830078125\n",
      "iter: 122 loss: 6036.3603515625\n",
      "iter: 123 loss: 6069.326171875\n",
      "iter: 124 loss: 6068.24755859375\n",
      "iter: 125 loss: 6066.1962890625\n",
      "iter: 126 loss: 6042.76416015625\n",
      "iter: 127 loss: 6044.3798828125\n",
      "iter: 128 loss: 6028.78369140625\n",
      "iter: 129 loss: 6019.3857421875\n",
      "iter: 130 loss: 6007.1904296875\n",
      "iter: 131 loss: 6028.10009765625\n",
      "iter: 132 loss: 6006.52099609375\n",
      "iter: 133 loss: 6021.8603515625\n",
      "iter: 134 loss: 6017.02392578125\n",
      "iter: 135 loss: 5976.41015625\n",
      "iter: 136 loss: 5957.78564453125\n",
      "iter: 137 loss: 5978.88037109375\n",
      "iter: 138 loss: 5961.9482421875\n",
      "iter: 139 loss: 5976.5224609375\n",
      "iter: 140 loss: 5938.04931640625\n",
      "iter: 141 loss: 5950.923828125\n",
      "iter: 142 loss: 6010.5419921875\n",
      "iter: 143 loss: 5965.6513671875\n",
      "iter: 144 loss: 5958.4453125\n",
      "iter: 145 loss: 5966.18408203125\n",
      "iter: 146 loss: 5954.2587890625\n",
      "iter: 147 loss: 5969.1044921875\n",
      "iter: 148 loss: 5948.37939453125\n",
      "iter: 149 loss: 5966.849609375\n",
      "iter: 150 loss: 5999.0546875\n",
      "iter: 151 loss: 5911.47119140625\n",
      "iter: 152 loss: 5927.39306640625\n",
      "iter: 153 loss: 5936.17138671875\n",
      "iter: 154 loss: 5949.14501953125\n",
      "iter: 155 loss: 5940.8193359375\n",
      "iter: 156 loss: 5951.34130859375\n",
      "iter: 157 loss: 5892.74267578125\n",
      "iter: 158 loss: 5910.576171875\n",
      "iter: 159 loss: 5930.99365234375\n",
      "iter: 160 loss: 5925.857421875\n",
      "iter: 161 loss: 5874.1875\n",
      "iter: 162 loss: 5909.060546875\n",
      "iter: 163 loss: 5901.80908203125\n",
      "iter: 164 loss: 5888.197265625\n",
      "iter: 165 loss: 5882.517578125\n",
      "iter: 166 loss: 5890.36328125\n",
      "iter: 167 loss: 5880.88037109375\n",
      "iter: 168 loss: 5889.6572265625\n",
      "iter: 169 loss: 5864.0751953125\n",
      "iter: 170 loss: 5839.63232421875\n",
      "iter: 171 loss: 5832.5625\n",
      "iter: 172 loss: 5813.7470703125\n",
      "iter: 173 loss: 5849.42529296875\n",
      "iter: 174 loss: 5842.04345703125\n",
      "iter: 175 loss: 5867.95556640625\n",
      "iter: 176 loss: 5858.630859375\n",
      "iter: 177 loss: 5878.56884765625\n",
      "iter: 178 loss: 5862.2646484375\n",
      "iter: 179 loss: 5827.17431640625\n",
      "iter: 180 loss: 5858.57666015625\n",
      "iter: 181 loss: 5849.3818359375\n",
      "iter: 182 loss: 5832.9765625\n",
      "iter: 183 loss: 5838.99169921875\n",
      "iter: 184 loss: 5804.61962890625\n",
      "iter: 185 loss: 5845.291015625\n",
      "iter: 186 loss: 5801.96728515625\n",
      "iter: 187 loss: 5809.33251953125\n",
      "iter: 188 loss: 5830.72802734375\n",
      "iter: 189 loss: 5801.6904296875\n",
      "iter: 190 loss: 5826.83349609375\n",
      "iter: 191 loss: 5775.9013671875\n",
      "iter: 192 loss: 5826.29541015625\n",
      "iter: 193 loss: 5808.56103515625\n",
      "iter: 194 loss: 5790.84326171875\n",
      "iter: 195 loss: 5806.9365234375\n",
      "iter: 196 loss: 5851.828125\n",
      "iter: 197 loss: 5813.7744140625\n",
      "iter: 198 loss: 5841.6484375\n",
      "iter: 199 loss: 5798.65625\n",
      "iter: 200 loss: 5761.42431640625\n",
      "usetime: 274.05008721351624\n"
     ]
    }
   ],
   "source": [
    "start = time.time()\n",
    "train(200, 200, pic, source, target, path)\n",
    "end = time.time()\n",
    "usetime = end - start\n",
    "print(f\"usetime: {usetime}\")"
   ],
   "metadata": {
    "collapsed": false,
    "pycharm": {
     "name": "#%%\n"
    }
   }
  },
  {
   "cell_type": "code",
   "execution_count": 8,
   "outputs": [],
   "source": [
    "neo_pic = model(pic)\n",
    "pil = topil(neo_pic.squeeze(0).cpu())\n",
    "pil = transforms.Resize(size=ori_size, interpolation=Image.BICUBIC)(pil)\n",
    "pil.save(path)"
   ],
   "metadata": {
    "collapsed": false,
    "pycharm": {
     "name": "#%%\n"
    }
   }
  },
  {
   "cell_type": "code",
   "execution_count": 9,
   "outputs": [
    {
     "data": {
      "text/plain": "[<matplotlib.lines.Line2D at 0x2fec575ac10>]"
     },
     "execution_count": 9,
     "metadata": {},
     "output_type": "execute_result"
    },
    {
     "data": {
      "text/plain": "<Figure size 640x480 with 1 Axes>",
      "image/png": "[encoded data removed]"
     },
     "metadata": {},
     "output_type": "display_data"
    }
   ],
   "source": [
    "import matplotlib.pyplot as plt\n",
    "\n",
    "x = [i for i in range(200)]\n",
    "plt.plot(x,loss_li,color=\"red\",marker=\"o\")\n"
   ],
   "metadata": {
    "collapsed": false,
    "pycharm": {
     "name": "#%%\n"
    }
   }
  },
  {
   "cell_type": "code",
   "execution_count": 10,
   "outputs": [],
   "source": [
    "with open(file = \"neo_cmp_outer.txt\", mode = \"w\") as file:\n",
    "    for i in loss_li:\n",
    "        file.write(str(i)+\" \")"
   ],
   "metadata": {
    "collapsed": false,
    "pycharm": {
     "name": "#%%\n"
    }
   }
  }
 ],
 "metadata": {
  "kernelspec": {
   "display_name": "Python 3",
   "language": "python",
   "name": "python3"
  },
  "language_info": {
   "codemirror_mode": {
    "name": "ipython",
    "version": 2
   },
   "file_extension": ".py",
   "mimetype": "text/x-python",
   "name": "python",
   "nbconvert_exporter": "python",
   "pygments_lexer": "ipython2",
   "version": "2.7.6"
  }
 },
 "nbformat": 4,
 "nbformat_minor": 0
}