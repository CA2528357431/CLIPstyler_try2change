{
 "cells": [
  {
   "cell_type": "code",
   "execution_count": 1,
   "metadata": {
    "collapsed": true
   },
   "outputs": [],
   "source": [
    "import torch\n",
    "import torch.optim as optim\n",
    "import torchvision\n",
    "import torchvision.transforms as transforms\n",
    "from PIL import Image\n",
    "\n",
    "from network.styler import Unet\n",
    "from loss.loss import CLIPLoss\n",
    "from utils.func import get_features,vgg_normalize\n",
    "\n",
    "import time"
   ]
  },
  {
   "cell_type": "code",
   "execution_count": 2,
   "outputs": [],
   "source": [
    "device = \"cuda\" if torch.cuda.is_available() else \"cpu\"\n",
    "\n",
    "lr1 = 0.0001\n",
    "lr2 = 0.0005\n",
    "# model = Unet(device)\n",
    "model = Unet().to(device)\n",
    "cliploss = CLIPLoss(device)\n",
    "# mseloss = torch.nn.MSELoss()\n",
    "vgg = torchvision.models.vgg19(pretrained=True).features.to(device)\n",
    "for x in vgg.parameters():\n",
    "    x.requires_grad = False\n",
    "\n",
    "\n",
    "topil = transforms.ToPILImage()\n",
    "topic = transforms.ToTensor()\n",
    "\n",
    "dir_lambda = 500\n",
    "content_lambda = 150\n",
    "patch_lambda = 9000\n",
    "norm_lambda = 0.002\n",
    "gol_lambda = 300"
   ],
   "metadata": {
    "collapsed": false,
    "pycharm": {
     "name": "#%%\n"
    }
   }
  },
  {
   "cell_type": "code",
   "execution_count": 3,
   "outputs": [],
   "source": [
    "file_cmp_outer = open(\"neo_cmp_outer.txt\", \"r\")\n",
    "loss_li = file_cmp_outer.readline()\n",
    "loss_li = [float(x) for x in loss_li.split()]\n",
    "if not loss_li:\n",
    "    loss_li = [0]*200\n",
    "\n",
    "cur_times = int(file_cmp_outer.readline())"
   ],
   "metadata": {
    "collapsed": false,
    "pycharm": {
     "name": "#%%\n"
    }
   }
  },
  {
   "cell_type": "code",
   "execution_count": 4,
   "outputs": [],
   "source": [
    "def train(iteration1, iteration2, pic, source, target, path):\n",
    "    input = pic\n",
    "\n",
    "    # opt = optim.Adam(model.parameters(), lr=lr1)\n",
    "    # for i in range(iteration1):\n",
    "    #     opt.zero_grad()\n",
    "    #     neo_pic = model(input)\n",
    "    #     loss = mseloss(pic, neo_pic) * 1\n",
    "    #     loss.backward()\n",
    "    #     opt.step()\n",
    "    #     pil = topil(neo_pic.squeeze(0).cpu())\n",
    "    #     print(\"iter:\", i + 1, \"loss:\", loss.item())\n",
    "    #     if ((i + 1) % 50) == 0:\n",
    "    #         pil.save(f\"./pic1/{(i + 1) // 50}.jpg\")\n",
    "    #\n",
    "    #\n",
    "    # torch.save(model,'unet.pth')\n",
    "\n",
    "\n",
    "    # model = torch.load('unet.pth')\n",
    "\n",
    "    pic_f = get_features(vgg_normalize(pic),vgg)\n",
    "\n",
    "    opt = optim.Adam(model.parameters(), lr=lr2)\n",
    "    sch = torch.optim.lr_scheduler.StepLR(opt, step_size=100, gamma=0.5)\n",
    "    for i in range(iteration2):\n",
    "\n",
    "\n",
    "        opt.zero_grad()\n",
    "        neo_pic = model(input)\n",
    "\n",
    "        dir_loss = 0\n",
    "        dir_loss += cliploss.forward_dir(pic, source, neo_pic, target)\n",
    "\n",
    "        gol_loss = 0\n",
    "        # gol_loss += cliploss.forward_gol(pic, source, neo_pic, target)\n",
    "\n",
    "        content_loss = 0\n",
    "        neo_pic_f = get_features(vgg_normalize(neo_pic), vgg)\n",
    "        content_loss += torch.mean((pic_f['conv4_2'] - neo_pic_f['conv4_2']) ** 2)\n",
    "        content_loss += torch.mean((pic_f['conv5_2'] - neo_pic_f['conv5_2']) ** 2)\n",
    "\n",
    "        patch_loss = 0\n",
    "        patch_loss += cliploss.forward_patch(pic, source, neo_pic, target)\n",
    "\n",
    "        norm_loss = 0\n",
    "        norm_loss += cliploss.forward_prior(pic, source, neo_pic, target)\n",
    "\n",
    "        loss = dir_loss * dir_lambda + \\\n",
    "               content_loss * content_lambda + \\\n",
    "               patch_loss * patch_lambda + \\\n",
    "               norm_loss * norm_lambda + \\\n",
    "               gol_loss * gol_lambda\n",
    "\n",
    "        loss.backward()\n",
    "        opt.step()\n",
    "        sch.step()\n",
    "\n",
    "        loss_li[i]+=(loss.item())\n",
    "\n",
    "        print(\"iter:\", i + 1, \"loss:\", loss.item())\n",
    "\n",
    "        # pil = topil(neo_pic.squeeze(0).cpu())\n",
    "        # if ((i + 1) % 10) == 0:\n",
    "        #     pil.save(f\"./pic2/{(i + 1) // 10}.jpg\")\n",
    "\n",
    "    # neo_pic = model(input)\n",
    "    # pil = topil(neo_pic.squeeze(0).cpu())\n",
    "    # # pil.save(f\"{source}-{target}.jpg\")\n",
    "    # pil.save(path)"
   ],
   "metadata": {
    "collapsed": false,
    "pycharm": {
     "name": "#%%\n"
    }
   }
  },
  {
   "cell_type": "code",
   "execution_count": 5,
   "outputs": [
    {
     "name": "stderr",
     "output_type": "stream",
     "text": [
      "C:\\Users\\win10\\AppData\\Local\\Temp\\ipykernel_8172\\1983139391.py:3: DeprecationWarning: BICUBIC is deprecated and will be removed in Pillow 10 (2023-07-01). Use Resampling.BICUBIC instead.\n",
      "  pil = transforms.Resize(size=(512, 512), interpolation=Image.BICUBIC)(pil)\n",
      "E:\\Anaconda\\envs\\sth\\lib\\site-packages\\torchvision\\transforms\\transforms.py:257: UserWarning: Argument interpolation should be of type InterpolationMode instead of int. Please, use InterpolationMode enum.\n",
      "  warnings.warn(\n"
     ]
    }
   ],
   "source": [
    "pil = Image.open(f\"./source_pic/face2.jpeg\")\n",
    "ori_size = pil.size[::-1]\n",
    "pil = transforms.Resize(size=(512, 512), interpolation=Image.BICUBIC)(pil)\n",
    "pic = topic(pil).unsqueeze(0).to(device)\n",
    "# pic = torch.ones(1, 3, 512, 512).to(device)\n",
    "pic.requires_grad = False"
   ],
   "metadata": {
    "collapsed": false,
    "pycharm": {
     "name": "#%%\n"
    }
   }
  },
  {
   "cell_type": "code",
   "execution_count": 6,
   "outputs": [],
   "source": [
    "source = \"a photo\"\n",
    "# source = \"black swan\"\n",
    "\n",
    "target = \"Neon Light\"\n",
    "# target = \"white swan\"\n",
    "# target = \"Pixar\"\n",
    "# target = \"pop art of night city\"\n",
    "# target = \"Van Gogh\"\n",
    "# target = \"the scream by Edvard Munch\"\n",
    "# target = \"Monet\"\n",
    "# target = \"cyberpunk 2077\"\n",
    "# target = \"Chinese Ink and wash painting\"\n",
    "# target = \"fire\"\n",
    "# target = \"woman\"\n",
    "# target = \"man with dark black skin and black hair\"\n",
    "# target = \"gold boat\"\n",
    "# target = \"The great wave off kanagawa by Hokusai\"\n",
    "# target = \"angry peppa pig\"\n",
    "\n",
    "path = \"result/result3.jpg\""
   ],
   "metadata": {
    "collapsed": false,
    "pycharm": {
     "name": "#%%\n"
    }
   }
  },
  {
   "cell_type": "code",
   "execution_count": 7,
   "outputs": [
    {
     "name": "stdout",
     "output_type": "stream",
     "text": [
      "iter: 1 loss: 9920.3662109375\n",
      "iter: 2 loss: 9596.1142578125\n",
      "iter: 3 loss: 9419.580078125\n",
      "iter: 4 loss: 9218.2158203125\n",
      "iter: 5 loss: 9102.2294921875\n",
      "iter: 6 loss: 8992.1220703125\n",
      "iter: 7 loss: 8905.3701171875\n",
      "iter: 8 loss: 8755.861328125\n",
      "iter: 9 loss: 8655.3134765625\n",
      "iter: 10 loss: 8687.15234375\n",
      "iter: 11 loss: 8537.451171875\n",
      "iter: 12 loss: 8552.8935546875\n",
      "iter: 13 loss: 8394.953125\n",
      "iter: 14 loss: 8394.4755859375\n",
      "iter: 15 loss: 8339.8642578125\n",
      "iter: 16 loss: 8194.6650390625\n",
      "iter: 17 loss: 8124.9130859375\n",
      "iter: 18 loss: 8204.783203125\n",
      "iter: 19 loss: 8035.17578125\n",
      "iter: 20 loss: 8027.1572265625\n",
      "iter: 21 loss: 8009.4423828125\n",
      "iter: 22 loss: 7749.55859375\n",
      "iter: 23 loss: 7836.62841796875\n",
      "iter: 24 loss: 7639.8525390625\n",
      "iter: 25 loss: 7475.65673828125\n",
      "iter: 26 loss: 7357.8828125\n",
      "iter: 27 loss: 7360.11962890625\n",
      "iter: 28 loss: 7085.91455078125\n",
      "iter: 29 loss: 7661.7060546875\n",
      "iter: 30 loss: 7689.88623046875\n",
      "iter: 31 loss: 7073.1982421875\n",
      "iter: 32 loss: 7374.5087890625\n",
      "iter: 33 loss: 6826.05419921875\n",
      "iter: 34 loss: 6608.671875\n",
      "iter: 35 loss: 6831.564453125\n",
      "iter: 36 loss: 5831.451171875\n",
      "iter: 37 loss: 6545.09033203125\n",
      "iter: 38 loss: 6320.90869140625\n",
      "iter: 39 loss: 6082.4970703125\n",
      "iter: 40 loss: 6705.72998046875\n",
      "iter: 41 loss: 5817.5654296875\n",
      "iter: 42 loss: 5427.9716796875\n",
      "iter: 43 loss: 5881.255859375\n",
      "iter: 44 loss: 5513.91650390625\n",
      "iter: 45 loss: 6074.943359375\n",
      "iter: 46 loss: 5358.400390625\n",
      "iter: 47 loss: 5050.021484375\n",
      "iter: 48 loss: 5222.0703125\n",
      "iter: 49 loss: 4809.43505859375\n",
      "iter: 50 loss: 5196.8974609375\n",
      "iter: 51 loss: 5710.1513671875\n",
      "iter: 52 loss: 4787.39404296875\n",
      "iter: 53 loss: 5387.3466796875\n",
      "iter: 54 loss: 5195.11572265625\n",
      "iter: 55 loss: 5354.67724609375\n",
      "iter: 56 loss: 4530.94189453125\n",
      "iter: 57 loss: 5087.6689453125\n",
      "iter: 58 loss: 4596.53662109375\n",
      "iter: 59 loss: 4927.025390625\n",
      "iter: 60 loss: 4688.42822265625\n",
      "iter: 61 loss: 3789.294189453125\n",
      "iter: 62 loss: 3876.2998046875\n",
      "iter: 63 loss: 3678.844482421875\n",
      "iter: 64 loss: 3035.283935546875\n",
      "iter: 65 loss: 4450.791015625\n",
      "iter: 66 loss: 2935.04833984375\n",
      "iter: 67 loss: 3626.561279296875\n",
      "iter: 68 loss: 4136.33251953125\n",
      "iter: 69 loss: 3799.500244140625\n",
      "iter: 70 loss: 2798.14208984375\n",
      "iter: 71 loss: 3205.31640625\n",
      "iter: 72 loss: 3377.152099609375\n",
      "iter: 73 loss: 2568.154052734375\n",
      "iter: 74 loss: 2967.428955078125\n",
      "iter: 75 loss: 3463.596435546875\n",
      "iter: 76 loss: 3550.17529296875\n",
      "iter: 77 loss: 2746.99658203125\n",
      "iter: 78 loss: 2345.33984375\n",
      "iter: 79 loss: 2337.427490234375\n",
      "iter: 80 loss: 2528.706298828125\n",
      "iter: 81 loss: 2220.65087890625\n",
      "iter: 82 loss: 2729.9697265625\n",
      "iter: 83 loss: 3019.701171875\n",
      "iter: 84 loss: 2721.593994140625\n",
      "iter: 85 loss: 2394.72314453125\n",
      "iter: 86 loss: 2103.240966796875\n",
      "iter: 87 loss: 2188.1748046875\n",
      "iter: 88 loss: 2285.551513671875\n",
      "iter: 89 loss: 2189.20458984375\n",
      "iter: 90 loss: 1977.9383544921875\n",
      "iter: 91 loss: 2866.35107421875\n",
      "iter: 92 loss: 2278.003173828125\n",
      "iter: 93 loss: 2852.793701171875\n",
      "iter: 94 loss: 1954.5556640625\n",
      "iter: 95 loss: 2770.24755859375\n",
      "iter: 96 loss: 1674.47802734375\n",
      "iter: 97 loss: 1852.9842529296875\n",
      "iter: 98 loss: 1650.9075927734375\n",
      "iter: 99 loss: 2046.4056396484375\n",
      "iter: 100 loss: 1733.1544189453125\n",
      "iter: 101 loss: 1732.9273681640625\n",
      "iter: 102 loss: 1326.8795166015625\n",
      "iter: 103 loss: 1819.4615478515625\n",
      "iter: 104 loss: 1605.598388671875\n",
      "iter: 105 loss: 1612.7884521484375\n",
      "iter: 106 loss: 2406.156005859375\n",
      "iter: 107 loss: 1205.870849609375\n",
      "iter: 108 loss: 1407.01806640625\n",
      "iter: 109 loss: 1499.8779296875\n",
      "iter: 110 loss: 1593.260498046875\n",
      "iter: 111 loss: 1390.9052734375\n",
      "iter: 112 loss: 1985.145263671875\n",
      "iter: 113 loss: 2187.46630859375\n",
      "iter: 114 loss: 981.5523681640625\n",
      "iter: 115 loss: 1776.130126953125\n",
      "iter: 116 loss: 1172.0477294921875\n",
      "iter: 117 loss: 1284.1895751953125\n",
      "iter: 118 loss: 1472.7286376953125\n",
      "iter: 119 loss: 1262.6591796875\n",
      "iter: 120 loss: 1261.1287841796875\n",
      "iter: 121 loss: 1354.983154296875\n",
      "iter: 122 loss: 1454.31689453125\n",
      "iter: 123 loss: 1254.593994140625\n",
      "iter: 124 loss: 1445.4371337890625\n",
      "iter: 125 loss: 1440.532958984375\n",
      "iter: 126 loss: 1141.69775390625\n",
      "iter: 127 loss: 1442.878173828125\n",
      "iter: 128 loss: 1143.838623046875\n",
      "iter: 129 loss: 1829.9415283203125\n",
      "iter: 130 loss: 1735.5726318359375\n",
      "iter: 131 loss: 1430.0684814453125\n",
      "iter: 132 loss: 1924.724853515625\n",
      "iter: 133 loss: 1526.525634765625\n",
      "iter: 134 loss: 1322.51904296875\n",
      "iter: 135 loss: 1225.1207275390625\n",
      "iter: 136 loss: 1420.342041015625\n",
      "iter: 137 loss: 1515.3426513671875\n",
      "iter: 138 loss: 1317.6690673828125\n",
      "iter: 139 loss: 1413.5269775390625\n",
      "iter: 140 loss: 1315.7762451171875\n",
      "iter: 141 loss: 1213.8443603515625\n",
      "iter: 142 loss: 1014.87451171875\n",
      "iter: 143 loss: 1311.8458251953125\n",
      "iter: 144 loss: 1542.7369384765625\n",
      "iter: 145 loss: 1531.0216064453125\n",
      "iter: 146 loss: 1995.7109375\n",
      "iter: 147 loss: 2751.768798828125\n",
      "iter: 148 loss: 1365.506591796875\n",
      "iter: 149 loss: 1170.9554443359375\n",
      "iter: 150 loss: 1473.7576904296875\n",
      "iter: 151 loss: 2161.975341796875\n",
      "iter: 152 loss: 1841.4158935546875\n",
      "iter: 153 loss: 1451.2967529296875\n",
      "iter: 154 loss: 1868.6376953125\n",
      "iter: 155 loss: 1645.0972900390625\n",
      "iter: 156 loss: 1143.201416015625\n",
      "iter: 157 loss: 1543.2442626953125\n",
      "iter: 158 loss: 1838.97509765625\n",
      "iter: 159 loss: 1034.951171875\n",
      "iter: 160 loss: 1031.8150634765625\n",
      "iter: 161 loss: 1227.2476806640625\n",
      "iter: 162 loss: 1719.651123046875\n",
      "iter: 163 loss: 1017.2622680664062\n",
      "iter: 164 loss: 1512.6966552734375\n",
      "iter: 165 loss: 1208.4439697265625\n",
      "iter: 166 loss: 1205.3426513671875\n",
      "iter: 167 loss: 1101.64501953125\n",
      "iter: 168 loss: 1199.3621826171875\n",
      "iter: 169 loss: 990.4344482421875\n",
      "iter: 170 loss: 1384.1705322265625\n",
      "iter: 171 loss: 1793.6339111328125\n",
      "iter: 172 loss: 1192.1749267578125\n",
      "iter: 173 loss: 1280.6676025390625\n",
      "iter: 174 loss: 1577.7913818359375\n",
      "iter: 175 loss: 1181.4049072265625\n",
      "iter: 176 loss: 782.611083984375\n",
      "iter: 177 loss: 981.46240234375\n",
      "iter: 178 loss: 1172.0751953125\n",
      "iter: 179 loss: 1581.315673828125\n",
      "iter: 180 loss: 878.1424560546875\n",
      "iter: 181 loss: 1282.2943115234375\n",
      "iter: 182 loss: 1473.8494873046875\n",
      "iter: 183 loss: 1072.32373046875\n",
      "iter: 184 loss: 671.5007934570312\n",
      "iter: 185 loss: 966.654052734375\n",
      "iter: 186 loss: 1376.5155029296875\n",
      "iter: 187 loss: 964.4544677734375\n",
      "iter: 188 loss: 1364.0264892578125\n",
      "iter: 189 loss: 1667.4471435546875\n",
      "iter: 190 loss: 1257.1649169921875\n",
      "iter: 191 loss: 857.7621459960938\n",
      "iter: 192 loss: 1057.3604736328125\n",
      "iter: 193 loss: 852.4578857421875\n",
      "iter: 194 loss: 1149.2611083984375\n",
      "iter: 195 loss: 1147.5732421875\n",
      "iter: 196 loss: 948.264892578125\n",
      "iter: 197 loss: 856.8346557617188\n",
      "iter: 198 loss: 1050.427001953125\n",
      "iter: 199 loss: 1143.428955078125\n",
      "iter: 200 loss: 1447.2843017578125\n",
      "usetime: 158.97901511192322\n"
     ]
    }
   ],
   "source": [
    "start = time.time()\n",
    "train(200, 200, pic, source, target, path)\n",
    "end = time.time()\n",
    "usetime = end - start\n",
    "print(f\"usetime: {usetime}\")"
   ],
   "metadata": {
    "collapsed": false,
    "pycharm": {
     "name": "#%%\n"
    }
   }
  },
  {
   "cell_type": "code",
   "execution_count": 8,
   "outputs": [
    {
     "name": "stderr",
     "output_type": "stream",
     "text": [
      "C:\\Users\\win10\\AppData\\Local\\Temp\\ipykernel_8172\\1981065163.py:3: DeprecationWarning: BICUBIC is deprecated and will be removed in Pillow 10 (2023-07-01). Use Resampling.BICUBIC instead.\n",
      "  pil = transforms.Resize(size=ori_size, interpolation=Image.BICUBIC)(pil)\n"
     ]
    }
   ],
   "source": [
    "neo_pic = model(pic)\n",
    "pil = topil(neo_pic.squeeze(0).cpu())\n",
    "pil = transforms.Resize(size=ori_size, interpolation=Image.BICUBIC)(pil)\n",
    "pil.save(path)\n"
   ],
   "metadata": {
    "collapsed": false,
    "pycharm": {
     "name": "#%%\n"
    }
   }
  },
  {
   "cell_type": "code",
   "execution_count": 9,
   "outputs": [],
   "source": [
    "# with open(file = \"neo_cmp_outer.txt\", mode = \"w\") as file:\n",
    "#     for i in loss_li:\n",
    "#         file.write(str(i)+\" \")\n",
    "#     file.write(\"\\n\")\n",
    "#     file.write(str(cur_times+1))"
   ],
   "metadata": {
    "collapsed": false,
    "pycharm": {
     "name": "#%%\n"
    }
   }
  },
  {
   "cell_type": "code",
   "execution_count": 10,
   "outputs": [
    {
     "data": {
      "text/plain": "[<matplotlib.lines.Line2D at 0x22971804b80>]"
     },
     "execution_count": 10,
     "metadata": {},
     "output_type": "execute_result"
    },
    {
     "data": {
      "text/plain": "<Figure size 640x480 with 1 Axes>",
      "image/png": "[encoded data removed]"
     },
     "metadata": {},
     "output_type": "display_data"
    }
   ],
   "source": [
    "import matplotlib.pyplot as plt\n",
    "\n",
    "x = [i for i in range(200)]\n",
    "loss_li = [x/(cur_times+1) for x in loss_li]\n",
    "plt.plot(x,loss_li,color=\"red\",marker=\"o\")\n",
    "\n"
   ],
   "metadata": {
    "collapsed": false,
    "pycharm": {
     "name": "#%%\n"
    }
   }
  }
 ],
 "metadata": {
  "kernelspec": {
   "display_name": "Python 3",
   "language": "python",
   "name": "python3"
  },
  "language_info": {
   "codemirror_mode": {
    "name": "ipython",
    "version": 2
   },
   "file_extension": ".py",
   "mimetype": "text/x-python",
   "name": "python",
   "nbconvert_exporter": "python",
   "pygments_lexer": "ipython2",
   "version": "2.7.6"
  }
 },
 "nbformat": 4,
 "nbformat_minor": 0
}