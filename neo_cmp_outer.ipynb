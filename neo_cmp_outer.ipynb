{
 "cells": [
  {
   "cell_type": "code",
   "execution_count": 1,
   "metadata": {
    "collapsed": true
   },
   "outputs": [],
   "source": [
    "import torch\n",
    "import torch.optim as optim\n",
    "import torchvision\n",
    "import torchvision.transforms as transforms\n",
    "from PIL import Image\n",
    "\n",
    "from network.styler import Unet\n",
    "from loss.loss import CLIPLoss\n",
    "from utils.func import get_features,vgg_normalize\n",
    "\n",
    "import time"
   ]
  },
  {
   "cell_type": "code",
   "execution_count": 2,
   "outputs": [],
   "source": [
    "device = \"cuda\" if torch.cuda.is_available() else \"cpu\"\n",
    "\n",
    "lr1 = 0.0001\n",
    "lr2 = 0.0005\n",
    "# model = Unet(device)\n",
    "model = Unet().to(device)\n",
    "cliploss = CLIPLoss(device)\n",
    "# mseloss = torch.nn.MSELoss()\n",
    "vgg = torchvision.models.vgg19(pretrained=True).features.to(device)\n",
    "for x in vgg.parameters():\n",
    "    x.requires_grad = False\n",
    "\n",
    "topil = transforms.ToPILImage()\n",
    "topic = transforms.ToTensor()\n",
    "\n",
    "dir_lambda = 500\n",
    "content_lambda = 150\n",
    "patch_lambda = 9000\n",
    "norm_lambda = 0.002\n",
    "gol_lambda = 300"
   ],
   "metadata": {
    "collapsed": false,
    "pycharm": {
     "name": "#%%\n"
    }
   }
  },
  {
   "cell_type": "code",
   "execution_count": 3,
   "outputs": [],
   "source": [
    "loss_li = []"
   ],
   "metadata": {
    "collapsed": false,
    "pycharm": {
     "name": "#%%\n"
    }
   }
  },
  {
   "cell_type": "code",
   "execution_count": 4,
   "outputs": [],
   "source": [
    "def train(iteration1, iteration2, pic, source, target, path):\n",
    "    input = pic\n",
    "\n",
    "    # opt = optim.Adam(model.parameters(), lr=lr1)\n",
    "    # for i in range(iteration1):\n",
    "    #     opt.zero_grad()\n",
    "    #     neo_pic = model(input)\n",
    "    #     loss = mseloss(pic, neo_pic) * 1\n",
    "    #     loss.backward()\n",
    "    #     opt.step()\n",
    "    #     pil = topil(neo_pic.squeeze(0).cpu())\n",
    "    #     print(\"iter:\", i + 1, \"loss:\", loss.item())\n",
    "    #     if ((i + 1) % 50) == 0:\n",
    "    #         pil.save(f\"./pic1/{(i + 1) // 50}.jpg\")\n",
    "    #\n",
    "    #\n",
    "    # torch.save(model,'unet.pth')\n",
    "\n",
    "\n",
    "    # model = torch.load('unet.pth')\n",
    "\n",
    "    pic_f = get_features(vgg_normalize(pic),vgg)\n",
    "\n",
    "    opt = optim.Adam(model.parameters(), lr=lr2)\n",
    "    sch = torch.optim.lr_scheduler.StepLR(opt, step_size=100, gamma=0.5)\n",
    "    for i in range(iteration2):\n",
    "\n",
    "\n",
    "        opt.zero_grad()\n",
    "        neo_pic = model(input)\n",
    "\n",
    "        dir_loss = 0\n",
    "        dir_loss += cliploss.forward_dir(pic, source, neo_pic, target)\n",
    "\n",
    "        gol_loss = 0\n",
    "        gol_loss += cliploss.forward_gol(pic, source, neo_pic, target)\n",
    "\n",
    "        content_loss = 0\n",
    "        neo_pic_f = get_features(vgg_normalize(neo_pic), vgg)\n",
    "        content_loss += torch.mean((pic_f['conv4_2'] - neo_pic_f['conv4_2']) ** 2)\n",
    "        content_loss += torch.mean((pic_f['conv5_2'] - neo_pic_f['conv5_2']) ** 2)\n",
    "\n",
    "        patch_loss = 0\n",
    "        patch_loss += cliploss.forward_patch(pic, source, neo_pic, target)\n",
    "\n",
    "        norm_loss = 0\n",
    "        norm_loss += cliploss.get_image_prior_losses(neo_pic)\n",
    "\n",
    "        loss = dir_loss * dir_lambda + \\\n",
    "               content_loss * content_lambda + \\\n",
    "               patch_loss * patch_lambda + \\\n",
    "               norm_loss * norm_lambda + \\\n",
    "               gol_loss * gol_lambda\n",
    "\n",
    "        loss.backward()\n",
    "        opt.step()\n",
    "        sch.step()\n",
    "\n",
    "        loss_li.append(loss.item())\n",
    "\n",
    "        print(\"iter:\", i + 1, \"loss:\", loss.item())\n",
    "\n",
    "        # pil = topil(neo_pic.squeeze(0).cpu())\n",
    "        # if ((i + 1) % 10) == 0:\n",
    "        #     pil.save(f\"./pic2/{(i + 1) // 10}.jpg\")\n",
    "\n",
    "    # neo_pic = model(input)\n",
    "    # pil = topil(neo_pic.squeeze(0).cpu())\n",
    "    # # pil.save(f\"{source}-{target}.jpg\")\n",
    "    # pil.save(path)"
   ],
   "metadata": {
    "collapsed": false,
    "pycharm": {
     "name": "#%%\n"
    }
   }
  },
  {
   "cell_type": "code",
   "execution_count": 5,
   "outputs": [],
   "source": [
    "pil = Image.open(f\"./source_pic/face2.jpeg\")\n",
    "ori_size = pil.size[::-1]\n",
    "pil = transforms.Resize(size=(512, 512), interpolation=Image.BICUBIC)(pil)\n",
    "pic = topic(pil).unsqueeze(0).to(device)\n",
    "# pic = torch.ones(1, 3, 512, 512).to(device)\n",
    "pic.requires_grad = False"
   ],
   "metadata": {
    "collapsed": false,
    "pycharm": {
     "name": "#%%\n"
    }
   }
  },
  {
   "cell_type": "code",
   "execution_count": 6,
   "outputs": [],
   "source": [
    "source = \"photo\"\n",
    "# target = \"Van Gogh\"\n",
    "# target = \"the scream by Edvard Munch\"\n",
    "# target = \"Monet\"\n",
    "# target = \"cyberpunk 2077\"\n",
    "target = \"Chinese Ink and wash painting\"\n",
    "path = \"result3.jpg\""
   ],
   "metadata": {
    "collapsed": false,
    "pycharm": {
     "name": "#%%\n"
    }
   }
  },
  {
   "cell_type": "code",
   "execution_count": 7,
   "outputs": [
    {
     "name": "stdout",
     "output_type": "stream",
     "text": [
      "iter: 1 loss: 10033.3427734375\n",
      "iter: 2 loss: 9781.578125\n",
      "iter: 3 loss: 9478.0029296875\n",
      "iter: 4 loss: 9282.7275390625\n",
      "iter: 5 loss: 9198.666015625\n",
      "iter: 6 loss: 9149.8701171875\n",
      "iter: 7 loss: 8995.1162109375\n",
      "iter: 8 loss: 8908.7275390625\n",
      "iter: 9 loss: 8826.7265625\n",
      "iter: 10 loss: 8755.6337890625\n",
      "iter: 11 loss: 8668.1171875\n",
      "iter: 12 loss: 8625.1513671875\n",
      "iter: 13 loss: 8513.0244140625\n",
      "iter: 14 loss: 8508.822265625\n",
      "iter: 15 loss: 8395.1875\n",
      "iter: 16 loss: 8263.6513671875\n",
      "iter: 17 loss: 8277.0576171875\n",
      "iter: 18 loss: 8184.66552734375\n",
      "iter: 19 loss: 8167.35302734375\n",
      "iter: 20 loss: 8073.88916015625\n",
      "iter: 21 loss: 7991.27685546875\n",
      "iter: 22 loss: 7910.29345703125\n",
      "iter: 23 loss: 7848.21923828125\n",
      "iter: 24 loss: 7819.04150390625\n",
      "iter: 25 loss: 7778.158203125\n",
      "iter: 26 loss: 7709.27685546875\n",
      "iter: 27 loss: 7669.05224609375\n",
      "iter: 28 loss: 7625.09326171875\n",
      "iter: 29 loss: 7608.57568359375\n",
      "iter: 30 loss: 7598.8798828125\n",
      "iter: 31 loss: 7507.84423828125\n",
      "iter: 32 loss: 7480.98046875\n",
      "iter: 33 loss: 7464.95458984375\n",
      "iter: 34 loss: 7439.35009765625\n",
      "iter: 35 loss: 7403.71875\n",
      "iter: 36 loss: 7401.15771484375\n",
      "iter: 37 loss: 7364.15234375\n",
      "iter: 38 loss: 7320.27294921875\n",
      "iter: 39 loss: 7302.0576171875\n",
      "iter: 40 loss: 7240.86767578125\n",
      "iter: 41 loss: 7268.13623046875\n",
      "iter: 42 loss: 7219.173828125\n",
      "iter: 43 loss: 7186.388671875\n",
      "iter: 44 loss: 7202.92333984375\n",
      "iter: 45 loss: 7184.52197265625\n",
      "iter: 46 loss: 7205.19140625\n",
      "iter: 47 loss: 7112.52001953125\n",
      "iter: 48 loss: 7177.6767578125\n",
      "iter: 49 loss: 7178.642578125\n",
      "iter: 50 loss: 7056.25830078125\n",
      "iter: 51 loss: 7053.451171875\n",
      "iter: 52 loss: 7062.201171875\n",
      "iter: 53 loss: 7019.57275390625\n",
      "iter: 54 loss: 7033.18994140625\n",
      "iter: 55 loss: 6991.0595703125\n",
      "iter: 56 loss: 6972.87109375\n",
      "iter: 57 loss: 6986.60888671875\n",
      "iter: 58 loss: 6961.0966796875\n",
      "iter: 59 loss: 6936.08935546875\n",
      "iter: 60 loss: 6940.81787109375\n",
      "iter: 61 loss: 6950.00244140625\n",
      "iter: 62 loss: 6890.71435546875\n",
      "iter: 63 loss: 6892.79833984375\n",
      "iter: 64 loss: 6913.3828125\n",
      "iter: 65 loss: 6941.34130859375\n",
      "iter: 66 loss: 6854.349609375\n",
      "iter: 67 loss: 6861.41748046875\n",
      "iter: 68 loss: 6881.21826171875\n",
      "iter: 69 loss: 6883.54150390625\n",
      "iter: 70 loss: 6851.88330078125\n",
      "iter: 71 loss: 6802.92919921875\n",
      "iter: 72 loss: 6827.27978515625\n",
      "iter: 73 loss: 6801.99462890625\n",
      "iter: 74 loss: 6825.36474609375\n",
      "iter: 75 loss: 6774.1396484375\n",
      "iter: 76 loss: 6755.69482421875\n",
      "iter: 77 loss: 6765.09228515625\n",
      "iter: 78 loss: 6797.328125\n",
      "iter: 79 loss: 6739.07763671875\n",
      "iter: 80 loss: 6756.9189453125\n",
      "iter: 81 loss: 6769.3017578125\n",
      "iter: 82 loss: 6696.4091796875\n",
      "iter: 83 loss: 6687.03955078125\n",
      "iter: 84 loss: 6698.9560546875\n",
      "iter: 85 loss: 6646.8447265625\n",
      "iter: 86 loss: 6674.458984375\n",
      "iter: 87 loss: 6673.681640625\n",
      "iter: 88 loss: 6665.14892578125\n",
      "iter: 89 loss: 6681.87451171875\n",
      "iter: 90 loss: 6653.466796875\n",
      "iter: 91 loss: 6694.80908203125\n",
      "iter: 92 loss: 6610.9013671875\n",
      "iter: 93 loss: 6653.50341796875\n",
      "iter: 94 loss: 6630.3779296875\n",
      "iter: 95 loss: 6616.17529296875\n",
      "iter: 96 loss: 6580.25244140625\n",
      "iter: 97 loss: 6577.45654296875\n",
      "iter: 98 loss: 6586.97705078125\n",
      "iter: 99 loss: 6539.96337890625\n",
      "iter: 100 loss: 6591.6630859375\n",
      "iter: 101 loss: 6582.0693359375\n",
      "iter: 102 loss: 6525.62841796875\n",
      "iter: 103 loss: 6518.87646484375\n",
      "iter: 104 loss: 6494.0771484375\n",
      "iter: 105 loss: 6513.7734375\n",
      "iter: 106 loss: 6496.20166015625\n",
      "iter: 107 loss: 6511.37841796875\n",
      "iter: 108 loss: 6424.44140625\n",
      "iter: 109 loss: 6481.48828125\n",
      "iter: 110 loss: 6483.36669921875\n",
      "iter: 111 loss: 6468.197265625\n",
      "iter: 112 loss: 6460.9501953125\n",
      "iter: 113 loss: 6440.25634765625\n",
      "iter: 114 loss: 6450.75927734375\n",
      "iter: 115 loss: 6394.77685546875\n",
      "iter: 116 loss: 6385.86083984375\n",
      "iter: 117 loss: 6473.85791015625\n",
      "iter: 118 loss: 6378.61376953125\n",
      "iter: 119 loss: 6383.99560546875\n",
      "iter: 120 loss: 6381.1298828125\n",
      "iter: 121 loss: 6398.6240234375\n",
      "iter: 122 loss: 6389.8154296875\n",
      "iter: 123 loss: 6373.0400390625\n",
      "iter: 124 loss: 6329.95458984375\n",
      "iter: 125 loss: 6348.2880859375\n",
      "iter: 126 loss: 6370.2958984375\n",
      "iter: 127 loss: 6357.99853515625\n",
      "iter: 128 loss: 6301.8359375\n",
      "iter: 129 loss: 6368.9697265625\n",
      "iter: 130 loss: 6351.6552734375\n",
      "iter: 131 loss: 6335.48486328125\n",
      "iter: 132 loss: 6309.619140625\n",
      "iter: 133 loss: 6341.78076171875\n",
      "iter: 134 loss: 6328.58203125\n",
      "iter: 135 loss: 6308.3583984375\n",
      "iter: 136 loss: 6302.4287109375\n",
      "iter: 137 loss: 6264.677734375\n",
      "iter: 138 loss: 6308.35693359375\n",
      "iter: 139 loss: 6289.470703125\n",
      "iter: 140 loss: 6344.9228515625\n",
      "iter: 141 loss: 6271.46728515625\n",
      "iter: 142 loss: 6302.66162109375\n",
      "iter: 143 loss: 6254.3427734375\n",
      "iter: 144 loss: 6263.689453125\n",
      "iter: 145 loss: 6198.29296875\n",
      "iter: 146 loss: 6267.41650390625\n",
      "iter: 147 loss: 6261.580078125\n",
      "iter: 148 loss: 6283.01416015625\n",
      "iter: 149 loss: 6300.85400390625\n",
      "iter: 150 loss: 6250.91015625\n",
      "iter: 151 loss: 6226.49951171875\n",
      "iter: 152 loss: 6214.8291015625\n",
      "iter: 153 loss: 6252.71826171875\n",
      "iter: 154 loss: 6192.80810546875\n",
      "iter: 155 loss: 6230.03125\n",
      "iter: 156 loss: 6235.4951171875\n",
      "iter: 157 loss: 6188.1640625\n",
      "iter: 158 loss: 6238.39697265625\n",
      "iter: 159 loss: 6168.31494140625\n",
      "iter: 160 loss: 6203.1376953125\n",
      "iter: 161 loss: 6161.89453125\n",
      "iter: 162 loss: 6175.62060546875\n",
      "iter: 163 loss: 6227.6943359375\n",
      "iter: 164 loss: 6205.18310546875\n",
      "iter: 165 loss: 6174.9521484375\n",
      "iter: 166 loss: 6132.3505859375\n",
      "iter: 167 loss: 6155.48486328125\n",
      "iter: 168 loss: 6197.33447265625\n",
      "iter: 169 loss: 6178.7060546875\n",
      "iter: 170 loss: 6220.09716796875\n",
      "iter: 171 loss: 6124.37109375\n",
      "iter: 172 loss: 6159.533203125\n",
      "iter: 173 loss: 6181.041015625\n",
      "iter: 174 loss: 6172.73876953125\n",
      "iter: 175 loss: 6146.54248046875\n",
      "iter: 176 loss: 6155.36376953125\n",
      "iter: 177 loss: 6192.609375\n",
      "iter: 178 loss: 6137.57080078125\n",
      "iter: 179 loss: 6143.08251953125\n",
      "iter: 180 loss: 6114.13818359375\n",
      "iter: 181 loss: 6180.67822265625\n",
      "iter: 182 loss: 6112.22119140625\n",
      "iter: 183 loss: 6068.607421875\n",
      "iter: 184 loss: 6135.25537109375\n",
      "iter: 185 loss: 6144.65673828125\n",
      "iter: 186 loss: 6117.5341796875\n",
      "iter: 187 loss: 6079.1328125\n",
      "iter: 188 loss: 6086.07958984375\n",
      "iter: 189 loss: 6116.76318359375\n",
      "iter: 190 loss: 6100.67236328125\n",
      "iter: 191 loss: 6081.82421875\n",
      "iter: 192 loss: 6089.07470703125\n",
      "iter: 193 loss: 6121.5458984375\n",
      "iter: 194 loss: 6116.22412109375\n",
      "iter: 195 loss: 6071.87939453125\n",
      "iter: 196 loss: 6097.025390625\n",
      "iter: 197 loss: 6080.32080078125\n",
      "iter: 198 loss: 6065.85888671875\n",
      "iter: 199 loss: 6073.65625\n",
      "iter: 200 loss: 6068.357421875\n",
      "usetime: 275.2380530834198\n"
     ]
    }
   ],
   "source": [
    "start = time.time()\n",
    "train(200, 200, pic, source, target, path)\n",
    "end = time.time()\n",
    "usetime = end - start\n",
    "print(f\"usetime: {usetime}\")"
   ],
   "metadata": {
    "collapsed": false,
    "pycharm": {
     "name": "#%%\n"
    }
   }
  },
  {
   "cell_type": "code",
   "execution_count": 8,
   "outputs": [],
   "source": [
    "neo_pic = model(pic)\n",
    "pil = topil(neo_pic.squeeze(0).cpu())\n",
    "pil = transforms.Resize(size=ori_size, interpolation=Image.BICUBIC)(pil)\n",
    "pil.save(path)"
   ],
   "metadata": {
    "collapsed": false,
    "pycharm": {
     "name": "#%%\n"
    }
   }
  },
  {
   "cell_type": "code",
   "execution_count": 9,
   "outputs": [
    {
     "data": {
      "text/plain": "[<matplotlib.lines.Line2D at 0x215c9d1bc70>]"
     },
     "execution_count": 9,
     "metadata": {},
     "output_type": "execute_result"
    },
    {
     "data": {
      "text/plain": "<Figure size 640x480 with 1 Axes>",
      "image/png": "[encoded data removed]"
     },
     "metadata": {},
     "output_type": "display_data"
    }
   ],
   "source": [
    "import matplotlib.pyplot as plt\n",
    "\n",
    "x = [i for i in range(200)]\n",
    "plt.plot(x,loss_li,color=\"red\",marker=\"o\")\n"
   ],
   "metadata": {
    "collapsed": false,
    "pycharm": {
     "name": "#%%\n"
    }
   }
  },
  {
   "cell_type": "code",
   "execution_count": 10,
   "outputs": [],
   "source": [
    "with open(file = \"neo_cmp_outer.txt\", mode = \"w\") as file:\n",
    "    for i in loss_li:\n",
    "        file.write(str(i)+\" \")"
   ],
   "metadata": {
    "collapsed": false,
    "pycharm": {
     "name": "#%%\n"
    }
   }
  }
 ],
 "metadata": {
  "kernelspec": {
   "display_name": "Python 3",
   "language": "python",
   "name": "python3"
  },
  "language_info": {
   "codemirror_mode": {
    "name": "ipython",
    "version": 2
   },
   "file_extension": ".py",
   "mimetype": "text/x-python",
   "name": "python",
   "nbconvert_exporter": "python",
   "pygments_lexer": "ipython2",
   "version": "2.7.6"
  }
 },
 "nbformat": 4,
 "nbformat_minor": 0
}