{
 "cells": [
  {
   "cell_type": "code",
   "execution_count": 1,
   "outputs": [],
   "source": [
    "import torch\n",
    "import torch.optim as optim\n",
    "import torchvision\n",
    "import torchvision.transforms as transforms\n",
    "from PIL import Image"
   ],
   "metadata": {
    "collapsed": false,
    "pycharm": {
     "name": "#%%\n"
    }
   }
  },
  {
   "cell_type": "code",
   "execution_count": 2,
   "outputs": [],
   "source": [
    "from network.mynetwork_uu import Unet as Uunet\n",
    "from network.mynetwork import Unet\n",
    "from network.mynetwork_cmp import Unet as Unet_cmp\n",
    "from network.styler import Unet as Unet_styler\n",
    "from loss.loss import CLIPLoss\n"
   ],
   "metadata": {
    "collapsed": false,
    "pycharm": {
     "name": "#%%\n"
    }
   }
  },
  {
   "cell_type": "code",
   "execution_count": 3,
   "outputs": [],
   "source": [
    "from thop import profile\n",
    "from torchsummary import summary\n"
   ],
   "metadata": {
    "collapsed": false,
    "pycharm": {
     "name": "#%%\n"
    }
   }
  },
  {
   "cell_type": "code",
   "execution_count": 4,
   "outputs": [],
   "source": [
    "device = \"cuda\" if torch.cuda.is_available() else \"cpu\"\n",
    "# device = \"cpu\"\n",
    "\n",
    "input_pic = torch.ones(1, 3, 512, 512).to(device)\n",
    "input1 = torch.ones(1, 3, 244, 244).to(device).long()\n",
    "input2 = torch.ones(1, 77).to(device).long()"
   ],
   "metadata": {
    "collapsed": false,
    "pycharm": {
     "name": "#%%\n"
    }
   }
  },
  {
   "cell_type": "code",
   "execution_count": 5,
   "outputs": [
    {
     "name": "stdout",
     "output_type": "stream",
     "text": [
      "clip\n",
      "FLOPs = 4.884529152G\n",
      "Params = 84.225024M\n"
     ]
    }
   ],
   "source": [
    "print(\"clip\")\n",
    "model = CLIPLoss(device).to(device)\n",
    "model_clip = model.model\n",
    "clip_flops, clip_params = profile(model_clip, inputs=(input1, input2), verbose=False)\n",
    "print('FLOPs = ' + str(clip_flops/(1000**3)) + 'G')\n",
    "print('Params = ' + str(clip_params/(1000**2)) + 'M')"
   ],
   "metadata": {
    "collapsed": false,
    "pycharm": {
     "name": "#%%\n"
    }
   }
  },
  {
   "cell_type": "code",
   "execution_count": 6,
   "outputs": [
    {
     "name": "stdout",
     "output_type": "stream",
     "text": [
      "vgg19\n",
      "FLOPs = 101.9215872G\n",
      "Params = 20.024384M\n"
     ]
    }
   ],
   "source": [
    "print(\"vgg19\")\n",
    "model_vgg = torchvision.models.vgg19(pretrained=True).features.to(device)\n",
    "vgg_flops, vgg_params = profile(model_vgg, inputs=(input_pic,), verbose=False)\n",
    "print('FLOPs = ' + str(vgg_flops/(1000**3)) + 'G')\n",
    "print('Params = ' + str(vgg_params/(1000**2)) + 'M')"
   ],
   "metadata": {
    "collapsed": false,
    "pycharm": {
     "name": "#%%\n"
    }
   }
  },
  {
   "cell_type": "code",
   "execution_count": 7,
   "outputs": [
    {
     "name": "stdout",
     "output_type": "stream",
     "text": [
      "mine\n",
      "FLOPs = 56.077058048G\n",
      "Params = 86.960163M\n"
     ]
    }
   ],
   "source": [
    "print(\"mine\")\n",
    "model_mine = Uunet(device).to(device)\n",
    "mine_flops, mine_params = profile(model_mine, inputs=(input_pic,), verbose=False)\n",
    "print('FLOPs = ' + str((mine_flops+clip_flops)/(1000**3)) + 'G')\n",
    "print('Params = ' + str((mine_params+clip_params)/(1000**2)) + 'M')\n",
    "\n"
   ],
   "metadata": {
    "collapsed": false,
    "pycharm": {
     "name": "#%%\n"
    }
   }
  },
  {
   "cell_type": "code",
   "execution_count": 8,
   "outputs": [
    {
     "name": "stdout",
     "output_type": "stream",
     "text": [
      "mine_u\n",
      "FLOPs = 58.46990848G\n",
      "Params = 86.858755M\n"
     ]
    }
   ],
   "source": [
    "print(\"mine_u\")\n",
    "model_mine_u = Unet(device).to(device)\n",
    "mine_u_flops, mine_u_params = profile(model_mine_u, inputs=(input_pic,), verbose=False)\n",
    "print('FLOPs = ' + str((mine_u_flops+clip_flops)/(1000**3)) + 'G')\n",
    "print('Params = ' + str((mine_u_params+clip_params)/(1000**2)) + 'M')"
   ],
   "metadata": {
    "collapsed": false,
    "pycharm": {
     "name": "#%%\n"
    }
   }
  },
  {
   "cell_type": "code",
   "execution_count": 9,
   "outputs": [],
   "source": [
    "# print(\"cmp\")\n",
    "# model = Unet_cmp(device).to(device)\n",
    "# cmp_flops, cmp_params = profile(model, inputs=(input_pic,), verbose=False)\n",
    "# print('FLOPs = ' + str((cmp_flops+clip_flops+vgg_flops)/(1000**3)) + 'G')\n",
    "# print('Params = ' + str((cmp_params+clip_params+vgg_params)/(1000**2)) + 'M')"
   ],
   "metadata": {
    "collapsed": false,
    "pycharm": {
     "name": "#%%\n"
    }
   }
  },
  {
   "cell_type": "code",
   "execution_count": 10,
   "outputs": [
    {
     "name": "stdout",
     "output_type": "stream",
     "text": [
      "styler\n",
      "FLOPs = 123.059044352G\n",
      "Params = 104.864675M\n"
     ]
    }
   ],
   "source": [
    "print(\"styler\")\n",
    "model = Unet_styler().to(device)\n",
    "sty_flops, sty_params = profile(model, inputs=(input_pic,), verbose=False)\n",
    "print('FLOPs = ' + str((sty_flops+clip_flops+vgg_flops)/(1000**3)) + 'G')\n",
    "print('Params = ' + str((sty_params+clip_params+vgg_params)/(1000**2)) + 'M')\n",
    "\n"
   ],
   "metadata": {
    "collapsed": false,
    "pycharm": {
     "name": "#%%\n"
    }
   }
  },
  {
   "cell_type": "code",
   "execution_count": 11,
   "outputs": [
    {
     "name": "stdout",
     "output_type": "stream",
     "text": [
      "vgg\n",
      "----------------------------------------------------------------\n",
      "        Layer (type)               Output Shape         Param #\n",
      "================================================================\n",
      "            Conv2d-1         [-1, 64, 512, 512]           1,792\n",
      "              ReLU-2         [-1, 64, 512, 512]               0\n",
      "            Conv2d-3         [-1, 64, 512, 512]          36,928\n",
      "              ReLU-4         [-1, 64, 512, 512]               0\n",
      "         MaxPool2d-5         [-1, 64, 256, 256]               0\n",
      "            Conv2d-6        [-1, 128, 256, 256]          73,856\n",
      "              ReLU-7        [-1, 128, 256, 256]               0\n",
      "            Conv2d-8        [-1, 128, 256, 256]         147,584\n",
      "              ReLU-9        [-1, 128, 256, 256]               0\n",
      "        MaxPool2d-10        [-1, 128, 128, 128]               0\n",
      "           Conv2d-11        [-1, 256, 128, 128]         295,168\n",
      "             ReLU-12        [-1, 256, 128, 128]               0\n",
      "           Conv2d-13        [-1, 256, 128, 128]         590,080\n",
      "             ReLU-14        [-1, 256, 128, 128]               0\n",
      "           Conv2d-15        [-1, 256, 128, 128]         590,080\n",
      "             ReLU-16        [-1, 256, 128, 128]               0\n",
      "           Conv2d-17        [-1, 256, 128, 128]         590,080\n",
      "             ReLU-18        [-1, 256, 128, 128]               0\n",
      "        MaxPool2d-19          [-1, 256, 64, 64]               0\n",
      "           Conv2d-20          [-1, 512, 64, 64]       1,180,160\n",
      "             ReLU-21          [-1, 512, 64, 64]               0\n",
      "           Conv2d-22          [-1, 512, 64, 64]       2,359,808\n",
      "             ReLU-23          [-1, 512, 64, 64]               0\n",
      "           Conv2d-24          [-1, 512, 64, 64]       2,359,808\n",
      "             ReLU-25          [-1, 512, 64, 64]               0\n",
      "           Conv2d-26          [-1, 512, 64, 64]       2,359,808\n",
      "             ReLU-27          [-1, 512, 64, 64]               0\n",
      "        MaxPool2d-28          [-1, 512, 32, 32]               0\n",
      "           Conv2d-29          [-1, 512, 32, 32]       2,359,808\n",
      "             ReLU-30          [-1, 512, 32, 32]               0\n",
      "           Conv2d-31          [-1, 512, 32, 32]       2,359,808\n",
      "             ReLU-32          [-1, 512, 32, 32]               0\n",
      "           Conv2d-33          [-1, 512, 32, 32]       2,359,808\n",
      "             ReLU-34          [-1, 512, 32, 32]               0\n",
      "           Conv2d-35          [-1, 512, 32, 32]       2,359,808\n",
      "             ReLU-36          [-1, 512, 32, 32]               0\n",
      "        MaxPool2d-37          [-1, 512, 16, 16]               0\n",
      "================================================================\n",
      "Total params: 20,024,384\n",
      "Trainable params: 20,024,384\n",
      "Non-trainable params: 0\n",
      "----------------------------------------------------------------\n",
      "Input size (MB): 3.00\n",
      "Forward/backward pass size (MB): 1245.00\n",
      "Params size (MB): 76.39\n",
      "Estimated Total Size (MB): 1324.39\n",
      "----------------------------------------------------------------\n"
     ]
    }
   ],
   "source": [
    "print(\"vgg\")\n",
    "summary(model_vgg,input_size=input_pic.shape[1:])"
   ],
   "metadata": {
    "collapsed": false,
    "pycharm": {
     "name": "#%%\n"
    }
   }
  },
  {
   "cell_type": "code",
   "execution_count": 12,
   "outputs": [
    {
     "name": "stdout",
     "output_type": "stream",
     "text": [
      "mine\n",
      "----------------------------------------------------------------\n",
      "        Layer (type)               Output Shape         Param #\n",
      "================================================================\n",
      "   ReflectionPad2d-1          [-1, 3, 514, 514]               0\n",
      "            Conv2d-2         [-1, 32, 512, 512]             896\n",
      "    InstanceNorm2d-3         [-1, 32, 512, 512]               0\n",
      "              ReLU-4         [-1, 32, 512, 512]               0\n",
      "            Conv2d-5         [-1, 32, 512, 512]           9,248\n",
      "    InstanceNorm2d-6         [-1, 32, 512, 512]               0\n",
      "              ReLU-7         [-1, 32, 512, 512]               0\n",
      "          ResBlock-8         [-1, 32, 512, 512]               0\n",
      "            Conv2d-9         [-1, 64, 512, 512]          18,496\n",
      "   InstanceNorm2d-10         [-1, 64, 512, 512]               0\n",
      "             ReLU-11         [-1, 64, 512, 512]               0\n",
      "        MaxPool2d-12         [-1, 64, 256, 256]               0\n",
      "   InstanceNorm2d-13         [-1, 64, 256, 256]               0\n",
      "             ReLU-14         [-1, 64, 256, 256]               0\n",
      "           Conv2d-15         [-1, 64, 256, 256]           2,112\n",
      "   InstanceNorm2d-16         [-1, 64, 256, 256]               0\n",
      "             ReLU-17         [-1, 64, 256, 256]               0\n",
      "       DownSample-18         [-1, 64, 256, 256]               0\n",
      "   NoiseInjection-19         [-1, 64, 256, 256]               0\n",
      "           Conv2d-20        [-1, 128, 256, 256]          73,856\n",
      "   InstanceNorm2d-21        [-1, 128, 256, 256]               0\n",
      "             ReLU-22        [-1, 128, 256, 256]               0\n",
      "        MaxPool2d-23        [-1, 128, 128, 128]               0\n",
      "   InstanceNorm2d-24        [-1, 128, 128, 128]               0\n",
      "             ReLU-25        [-1, 128, 128, 128]               0\n",
      "           Conv2d-26        [-1, 128, 128, 128]           8,320\n",
      "   InstanceNorm2d-27        [-1, 128, 128, 128]               0\n",
      "             ReLU-28        [-1, 128, 128, 128]               0\n",
      "       DownSample-29        [-1, 128, 128, 128]               0\n",
      "   NoiseInjection-30        [-1, 128, 128, 128]               0\n",
      "           Conv2d-31        [-1, 256, 128, 128]         295,168\n",
      "   InstanceNorm2d-32        [-1, 256, 128, 128]               0\n",
      "             ReLU-33        [-1, 256, 128, 128]               0\n",
      "        MaxPool2d-34          [-1, 256, 64, 64]               0\n",
      "   InstanceNorm2d-35          [-1, 256, 64, 64]               0\n",
      "             ReLU-36          [-1, 256, 64, 64]               0\n",
      "           Conv2d-37          [-1, 256, 64, 64]          33,024\n",
      "   InstanceNorm2d-38          [-1, 256, 64, 64]               0\n",
      "             ReLU-39          [-1, 256, 64, 64]               0\n",
      "       DownSample-40          [-1, 256, 64, 64]               0\n",
      "   NoiseInjection-41          [-1, 256, 64, 64]               0\n",
      "           Conv2d-42          [-1, 256, 64, 64]         590,080\n",
      "   InstanceNorm2d-43          [-1, 256, 64, 64]               0\n",
      "             ReLU-44          [-1, 256, 64, 64]               0\n",
      "         ResBlock-45          [-1, 256, 64, 64]               0\n",
      "   NoiseInjection-46          [-1, 256, 64, 64]               0\n",
      "           Conv2d-47          [-1, 256, 64, 64]         590,080\n",
      "   InstanceNorm2d-48          [-1, 256, 64, 64]               0\n",
      "             ReLU-49          [-1, 256, 64, 64]               0\n",
      "         ResBlock-50          [-1, 256, 64, 64]               0\n",
      "   NoiseInjection-51          [-1, 256, 64, 64]               0\n",
      "  ConvTranspose2d-52          [-1, 128, 64, 64]         295,040\n",
      "   InstanceNorm2d-53          [-1, 128, 64, 64]               0\n",
      "             ReLU-54          [-1, 128, 64, 64]               0\n",
      "         Upsample-55        [-1, 128, 128, 128]               0\n",
      "   InstanceNorm2d-56        [-1, 128, 128, 128]               0\n",
      "             ReLU-57        [-1, 128, 128, 128]               0\n",
      "  ConvTranspose2d-58        [-1, 128, 128, 128]          32,896\n",
      "   InstanceNorm2d-59        [-1, 128, 128, 128]               0\n",
      "             ReLU-60        [-1, 128, 128, 128]               0\n",
      "         UpSample-61        [-1, 128, 128, 128]               0\n",
      "           Conv2d-62        [-1, 128, 128, 128]         147,584\n",
      "   InstanceNorm2d-63        [-1, 128, 128, 128]               0\n",
      "             ReLU-64        [-1, 128, 128, 128]               0\n",
      "         ResBlock-65        [-1, 128, 128, 128]               0\n",
      "   NoiseInjection-66        [-1, 128, 128, 128]               0\n",
      "           Conv2d-67        [-1, 128, 128, 128]         147,584\n",
      "   InstanceNorm2d-68        [-1, 128, 128, 128]               0\n",
      "             ReLU-69        [-1, 128, 128, 128]               0\n",
      "         ResBlock-70        [-1, 128, 128, 128]               0\n",
      "   NoiseInjection-71        [-1, 128, 128, 128]               0\n",
      "           Conv2d-72        [-1, 128, 128, 128]         295,040\n",
      "   InstanceNorm2d-73        [-1, 128, 128, 128]               0\n",
      "             ReLU-74        [-1, 128, 128, 128]               0\n",
      "         ResBlock-75        [-1, 128, 128, 128]               0\n",
      "   NoiseInjection-76        [-1, 128, 128, 128]               0\n",
      "  ConvTranspose2d-77         [-1, 64, 128, 128]          73,792\n",
      "   InstanceNorm2d-78         [-1, 64, 128, 128]               0\n",
      "             ReLU-79         [-1, 64, 128, 128]               0\n",
      "         Upsample-80         [-1, 64, 256, 256]               0\n",
      "   InstanceNorm2d-81         [-1, 64, 256, 256]               0\n",
      "             ReLU-82         [-1, 64, 256, 256]               0\n",
      "  ConvTranspose2d-83         [-1, 64, 256, 256]           8,256\n",
      "   InstanceNorm2d-84         [-1, 64, 256, 256]               0\n",
      "             ReLU-85         [-1, 64, 256, 256]               0\n",
      "         UpSample-86         [-1, 64, 256, 256]               0\n",
      "           Conv2d-87         [-1, 64, 256, 256]          73,792\n",
      "   InstanceNorm2d-88         [-1, 64, 256, 256]               0\n",
      "             ReLU-89         [-1, 64, 256, 256]               0\n",
      "         ResBlock-90         [-1, 64, 256, 256]               0\n",
      "   NoiseInjection-91         [-1, 64, 256, 256]               0\n",
      "  ConvTranspose2d-92         [-1, 32, 256, 256]          18,464\n",
      "   InstanceNorm2d-93         [-1, 32, 256, 256]               0\n",
      "             ReLU-94         [-1, 32, 256, 256]               0\n",
      "         Upsample-95         [-1, 32, 512, 512]               0\n",
      "   InstanceNorm2d-96         [-1, 32, 512, 512]               0\n",
      "             ReLU-97         [-1, 32, 512, 512]               0\n",
      "  ConvTranspose2d-98         [-1, 32, 512, 512]           2,080\n",
      "   InstanceNorm2d-99         [-1, 32, 512, 512]               0\n",
      "            ReLU-100         [-1, 32, 512, 512]               0\n",
      "        UpSample-101         [-1, 32, 512, 512]               0\n",
      "          Conv2d-102         [-1, 32, 512, 512]          18,464\n",
      "  InstanceNorm2d-103         [-1, 32, 512, 512]               0\n",
      "            ReLU-104         [-1, 32, 512, 512]               0\n",
      "        ResBlock-105         [-1, 32, 512, 512]               0\n",
      "  NoiseInjection-106         [-1, 32, 512, 512]               0\n",
      "          Conv2d-107          [-1, 3, 512, 512]             867\n",
      "         Sigmoid-108          [-1, 3, 512, 512]               0\n",
      "================================================================\n",
      "Total params: 2,735,139\n",
      "Trainable params: 2,735,139\n",
      "Non-trainable params: 0\n",
      "----------------------------------------------------------------\n",
      "Input size (MB): 3.00\n",
      "Forward/backward pass size (MB): 3254.05\n",
      "Params size (MB): 10.43\n",
      "Estimated Total Size (MB): 3267.48\n",
      "----------------------------------------------------------------\n"
     ]
    }
   ],
   "source": [
    "print(\"mine\")\n",
    "summary(model_mine,input_size=input_pic.shape[1:])"
   ],
   "metadata": {
    "collapsed": false,
    "pycharm": {
     "name": "#%%\n"
    }
   }
  },
  {
   "cell_type": "code",
   "execution_count": 13,
   "outputs": [
    {
     "name": "stdout",
     "output_type": "stream",
     "text": [
      "mine_u\n",
      "----------------------------------------------------------------\n",
      "        Layer (type)               Output Shape         Param #\n",
      "================================================================\n",
      "   ReflectionPad2d-1          [-1, 3, 514, 514]               0\n",
      "            Conv2d-2         [-1, 32, 512, 512]             896\n",
      "    InstanceNorm2d-3         [-1, 32, 512, 512]               0\n",
      "              ReLU-4         [-1, 32, 512, 512]               0\n",
      "            Conv2d-5         [-1, 32, 512, 512]           9,248\n",
      "    InstanceNorm2d-6         [-1, 32, 512, 512]               0\n",
      "              ReLU-7         [-1, 32, 512, 512]               0\n",
      "          ResBlock-8         [-1, 32, 512, 512]               0\n",
      "   ReflectionPad2d-9         [-1, 32, 514, 514]               0\n",
      "           Conv2d-10         [-1, 64, 512, 512]          18,496\n",
      "   InstanceNorm2d-11         [-1, 64, 512, 512]               0\n",
      "             ReLU-12         [-1, 64, 512, 512]               0\n",
      "           Conv2d-13         [-1, 64, 512, 512]           2,112\n",
      "        MaxPool2d-14         [-1, 64, 256, 256]               0\n",
      "   InstanceNorm2d-15         [-1, 64, 256, 256]               0\n",
      "             ReLU-16         [-1, 64, 256, 256]               0\n",
      "   NoiseInjection-17         [-1, 64, 256, 256]               0\n",
      "       DownSample-18         [-1, 64, 256, 256]               0\n",
      "  ReflectionPad2d-19         [-1, 64, 258, 258]               0\n",
      "           Conv2d-20        [-1, 128, 256, 256]          73,856\n",
      "   InstanceNorm2d-21        [-1, 128, 256, 256]               0\n",
      "             ReLU-22        [-1, 128, 256, 256]               0\n",
      "           Conv2d-23        [-1, 128, 256, 256]           8,320\n",
      "        MaxPool2d-24        [-1, 128, 128, 128]               0\n",
      "   InstanceNorm2d-25        [-1, 128, 128, 128]               0\n",
      "             ReLU-26        [-1, 128, 128, 128]               0\n",
      "   NoiseInjection-27        [-1, 128, 128, 128]               0\n",
      "       DownSample-28        [-1, 128, 128, 128]               0\n",
      "  ReflectionPad2d-29        [-1, 128, 130, 130]               0\n",
      "           Conv2d-30        [-1, 256, 128, 128]         295,168\n",
      "   InstanceNorm2d-31        [-1, 256, 128, 128]               0\n",
      "             ReLU-32        [-1, 256, 128, 128]               0\n",
      "           Conv2d-33        [-1, 256, 128, 128]          33,024\n",
      "        MaxPool2d-34          [-1, 256, 64, 64]               0\n",
      "   InstanceNorm2d-35          [-1, 256, 64, 64]               0\n",
      "             ReLU-36          [-1, 256, 64, 64]               0\n",
      "   NoiseInjection-37          [-1, 256, 64, 64]               0\n",
      "       DownSample-38          [-1, 256, 64, 64]               0\n",
      "           Conv2d-39          [-1, 256, 64, 64]         590,080\n",
      "   InstanceNorm2d-40          [-1, 256, 64, 64]               0\n",
      "             ReLU-41          [-1, 256, 64, 64]               0\n",
      "         ResBlock-42          [-1, 256, 64, 64]               0\n",
      "           Conv2d-43          [-1, 256, 64, 64]         590,080\n",
      "   InstanceNorm2d-44          [-1, 256, 64, 64]               0\n",
      "             ReLU-45          [-1, 256, 64, 64]               0\n",
      "         ResBlock-46          [-1, 256, 64, 64]               0\n",
      "  ConvTranspose2d-47          [-1, 128, 64, 64]         295,040\n",
      "   InstanceNorm2d-48          [-1, 128, 64, 64]               0\n",
      "             ReLU-49          [-1, 128, 64, 64]               0\n",
      "  ConvTranspose2d-50          [-1, 128, 64, 64]          32,896\n",
      "         Upsample-51        [-1, 128, 128, 128]               0\n",
      "   InstanceNorm2d-52        [-1, 128, 128, 128]               0\n",
      "             ReLU-53        [-1, 128, 128, 128]               0\n",
      "         UpSample-54        [-1, 128, 128, 128]               0\n",
      "           Conv2d-55        [-1, 128, 128, 128]         295,040\n",
      "   InstanceNorm2d-56        [-1, 128, 128, 128]               0\n",
      "             ReLU-57        [-1, 128, 128, 128]               0\n",
      "         ResBlock-58        [-1, 128, 128, 128]               0\n",
      "           Conv2d-59        [-1, 128, 128, 128]         147,584\n",
      "   InstanceNorm2d-60        [-1, 128, 128, 128]               0\n",
      "             ReLU-61        [-1, 128, 128, 128]               0\n",
      "         ResBlock-62        [-1, 128, 128, 128]               0\n",
      "  ConvTranspose2d-63         [-1, 64, 128, 128]          73,792\n",
      "   InstanceNorm2d-64         [-1, 64, 128, 128]               0\n",
      "             ReLU-65         [-1, 64, 128, 128]               0\n",
      "  ConvTranspose2d-66         [-1, 64, 128, 128]           8,256\n",
      "         Upsample-67         [-1, 64, 256, 256]               0\n",
      "   InstanceNorm2d-68         [-1, 64, 256, 256]               0\n",
      "             ReLU-69         [-1, 64, 256, 256]               0\n",
      "         UpSample-70         [-1, 64, 256, 256]               0\n",
      "           Conv2d-71         [-1, 64, 256, 256]          73,792\n",
      "   InstanceNorm2d-72         [-1, 64, 256, 256]               0\n",
      "             ReLU-73         [-1, 64, 256, 256]               0\n",
      "         ResBlock-74         [-1, 64, 256, 256]               0\n",
      "           Conv2d-75         [-1, 64, 256, 256]          36,928\n",
      "   InstanceNorm2d-76         [-1, 64, 256, 256]               0\n",
      "             ReLU-77         [-1, 64, 256, 256]               0\n",
      "         ResBlock-78         [-1, 64, 256, 256]               0\n",
      "  ConvTranspose2d-79         [-1, 32, 256, 256]          18,464\n",
      "   InstanceNorm2d-80         [-1, 32, 256, 256]               0\n",
      "             ReLU-81         [-1, 32, 256, 256]               0\n",
      "  ConvTranspose2d-82         [-1, 32, 256, 256]           2,080\n",
      "         Upsample-83         [-1, 32, 512, 512]               0\n",
      "   InstanceNorm2d-84         [-1, 32, 512, 512]               0\n",
      "             ReLU-85         [-1, 32, 512, 512]               0\n",
      "         UpSample-86         [-1, 32, 512, 512]               0\n",
      "           Conv2d-87         [-1, 32, 512, 512]          18,464\n",
      "   InstanceNorm2d-88         [-1, 32, 512, 512]               0\n",
      "             ReLU-89         [-1, 32, 512, 512]               0\n",
      "         ResBlock-90         [-1, 32, 512, 512]               0\n",
      "           Conv2d-91         [-1, 32, 512, 512]           9,248\n",
      "   InstanceNorm2d-92         [-1, 32, 512, 512]               0\n",
      "             ReLU-93         [-1, 32, 512, 512]               0\n",
      "         ResBlock-94         [-1, 32, 512, 512]               0\n",
      "           Conv2d-95          [-1, 3, 512, 512]             867\n",
      "          Sigmoid-96          [-1, 3, 512, 512]               0\n",
      "================================================================\n",
      "Total params: 2,633,731\n",
      "Trainable params: 2,633,731\n",
      "Non-trainable params: 0\n",
      "----------------------------------------------------------------\n",
      "Input size (MB): 3.00\n",
      "Forward/backward pass size (MB): 3275.55\n",
      "Params size (MB): 10.05\n",
      "Estimated Total Size (MB): 3288.60\n",
      "----------------------------------------------------------------\n"
     ]
    }
   ],
   "source": [
    "print(\"mine_u\")\n",
    "summary(model_mine_u,input_size=input_pic.shape[1:])\n"
   ],
   "metadata": {
    "collapsed": false,
    "pycharm": {
     "name": "#%%\n"
    }
   }
  },
  {
   "cell_type": "code",
   "execution_count": 14,
   "outputs": [
    {
     "name": "stdout",
     "output_type": "stream",
     "text": [
      "styler\n",
      "----------------------------------------------------------------\n",
      "        Layer (type)               Output Shape         Param #\n",
      "================================================================\n",
      "            Conv2d-1         [-1, 16, 512, 512]              64\n",
      "            Conv2d-2         [-1, 16, 512, 512]           2,320\n",
      "    InstanceNorm2d-3         [-1, 16, 512, 512]               0\n",
      "              ReLU-4         [-1, 16, 512, 512]               0\n",
      "            Conv2d-5         [-1, 16, 512, 512]           2,320\n",
      "    InstanceNorm2d-6         [-1, 16, 512, 512]               0\n",
      "              ReLU-7         [-1, 16, 512, 512]               0\n",
      "            Conv2d-8         [-1, 16, 512, 512]             272\n",
      "     EncodingBlock-9         [-1, 16, 512, 512]               0\n",
      "           Conv2d-10         [-1, 16, 512, 512]           2,320\n",
      "   InstanceNorm2d-11         [-1, 16, 512, 512]               0\n",
      "             ReLU-12         [-1, 16, 512, 512]               0\n",
      "           Conv2d-13         [-1, 16, 512, 512]           2,320\n",
      "   InstanceNorm2d-14         [-1, 16, 512, 512]               0\n",
      "             ReLU-15         [-1, 16, 512, 512]               0\n",
      "           Conv2d-16         [-1, 16, 512, 512]             272\n",
      "           Conv2d-17         [-1, 16, 256, 256]           4,112\n",
      "        DownBlock-18  [[-1, 16, 256, 256], [-1, 16, 512, 512]]               0\n",
      "           Conv2d-19         [-1, 32, 256, 256]           4,640\n",
      "   InstanceNorm2d-20         [-1, 32, 256, 256]               0\n",
      "             ReLU-21         [-1, 32, 256, 256]               0\n",
      "           Conv2d-22         [-1, 32, 256, 256]           9,248\n",
      "   InstanceNorm2d-23         [-1, 32, 256, 256]               0\n",
      "             ReLU-24         [-1, 32, 256, 256]               0\n",
      "           Conv2d-25         [-1, 32, 256, 256]             544\n",
      "           Conv2d-26         [-1, 32, 128, 128]          16,416\n",
      "        DownBlock-27  [[-1, 32, 128, 128], [-1, 32, 256, 256]]               0\n",
      "           Conv2d-28         [-1, 64, 128, 128]          18,496\n",
      "   InstanceNorm2d-29         [-1, 64, 128, 128]               0\n",
      "             ReLU-30         [-1, 64, 128, 128]               0\n",
      "           Conv2d-31         [-1, 64, 128, 128]          36,928\n",
      "   InstanceNorm2d-32         [-1, 64, 128, 128]               0\n",
      "             ReLU-33         [-1, 64, 128, 128]               0\n",
      "           Conv2d-34         [-1, 64, 128, 128]           2,112\n",
      "           Conv2d-35           [-1, 64, 64, 64]          65,600\n",
      "        DownBlock-36  [[-1, 64, 64, 64], [-1, 64, 128, 128]]               0\n",
      "           Conv2d-37          [-1, 128, 64, 64]          73,856\n",
      "   InstanceNorm2d-38          [-1, 128, 64, 64]               0\n",
      "             ReLU-39          [-1, 128, 64, 64]               0\n",
      "           Conv2d-40          [-1, 128, 64, 64]         147,584\n",
      "   InstanceNorm2d-41          [-1, 128, 64, 64]               0\n",
      "             ReLU-42          [-1, 128, 64, 64]               0\n",
      "           Conv2d-43          [-1, 128, 64, 64]           8,320\n",
      "    EncodingBlock-44          [-1, 128, 64, 64]               0\n",
      "         Upsample-45        [-1, 128, 128, 128]               0\n",
      "           Conv2d-46         [-1, 64, 128, 128]         110,656\n",
      "   InstanceNorm2d-47         [-1, 64, 128, 128]               0\n",
      "             ReLU-48         [-1, 64, 128, 128]               0\n",
      "           Conv2d-49         [-1, 64, 128, 128]          36,928\n",
      "   InstanceNorm2d-50         [-1, 64, 128, 128]               0\n",
      "             ReLU-51         [-1, 64, 128, 128]               0\n",
      "           Conv2d-52         [-1, 64, 128, 128]          12,352\n",
      "          UpBlock-53         [-1, 64, 128, 128]               0\n",
      "         Upsample-54         [-1, 64, 256, 256]               0\n",
      "           Conv2d-55         [-1, 32, 256, 256]          27,680\n",
      "   InstanceNorm2d-56         [-1, 32, 256, 256]               0\n",
      "             ReLU-57         [-1, 32, 256, 256]               0\n",
      "           Conv2d-58         [-1, 32, 256, 256]           9,248\n",
      "   InstanceNorm2d-59         [-1, 32, 256, 256]               0\n",
      "             ReLU-60         [-1, 32, 256, 256]               0\n",
      "           Conv2d-61         [-1, 32, 256, 256]           3,104\n",
      "          UpBlock-62         [-1, 32, 256, 256]               0\n",
      "         Upsample-63         [-1, 32, 512, 512]               0\n",
      "           Conv2d-64         [-1, 16, 512, 512]           6,928\n",
      "   InstanceNorm2d-65         [-1, 16, 512, 512]               0\n",
      "             ReLU-66         [-1, 16, 512, 512]               0\n",
      "           Conv2d-67         [-1, 16, 512, 512]           2,320\n",
      "   InstanceNorm2d-68         [-1, 16, 512, 512]               0\n",
      "             ReLU-69         [-1, 16, 512, 512]               0\n",
      "           Conv2d-70         [-1, 16, 512, 512]             784\n",
      "          UpBlock-71         [-1, 16, 512, 512]               0\n",
      "           Conv2d-72         [-1, 16, 512, 512]           4,624\n",
      "   InstanceNorm2d-73         [-1, 16, 512, 512]               0\n",
      "             ReLU-74         [-1, 16, 512, 512]               0\n",
      "           Conv2d-75         [-1, 16, 512, 512]           2,320\n",
      "   InstanceNorm2d-76         [-1, 16, 512, 512]               0\n",
      "             ReLU-77         [-1, 16, 512, 512]               0\n",
      "           Conv2d-78         [-1, 16, 512, 512]             528\n",
      "    EncodingBlock-79         [-1, 16, 512, 512]               0\n",
      "           Conv2d-80          [-1, 3, 512, 512]              51\n",
      "          Sigmoid-81          [-1, 3, 512, 512]               0\n",
      "================================================================\n",
      "Total params: 615,267\n",
      "Trainable params: 615,267\n",
      "Non-trainable params: 0\n",
      "----------------------------------------------------------------\n",
      "Input size (MB): 3.00\n",
      "Forward/backward pass size (MB): 1554.00\n",
      "Params size (MB): 2.35\n",
      "Estimated Total Size (MB): 1559.35\n",
      "----------------------------------------------------------------\n"
     ]
    }
   ],
   "source": [
    "print(\"styler\")\n",
    "summary(model,input_size=input_pic.shape[1:])\n",
    "\n"
   ],
   "metadata": {
    "collapsed": false,
    "pycharm": {
     "name": "#%%\n"
    }
   }
  }
 ],
 "metadata": {
  "kernelspec": {
   "display_name": "Python 3",
   "language": "python",
   "name": "python3"
  },
  "language_info": {
   "codemirror_mode": {
    "name": "ipython",
    "version": 2
   },
   "file_extension": ".py",
   "mimetype": "text/x-python",
   "name": "python",
   "nbconvert_exporter": "python",
   "pygments_lexer": "ipython2",
   "version": "2.7.6"
  }
 },
 "nbformat": 4,
 "nbformat_minor": 0
}