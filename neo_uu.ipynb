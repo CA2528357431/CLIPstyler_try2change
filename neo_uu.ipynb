{
 "cells": [
  {
   "cell_type": "code",
   "execution_count": 10,
   "metadata": {
    "collapsed": true
   },
   "outputs": [],
   "source": [
    "import torch\n",
    "import torch.optim as optim\n",
    "import torchvision\n",
    "import torchvision.transforms as transforms\n",
    "from PIL import Image\n",
    "\n",
    "from network.mynetwork_uu import Unet\n",
    "from loss.loss import CLIPLoss\n",
    "from utils.func import get_features,vgg_normalize\n",
    "\n",
    "import time"
   ]
  },
  {
   "cell_type": "code",
   "execution_count": 11,
   "outputs": [
    {
     "name": "stdout",
     "output_type": "stream",
     "text": [
      "cuda\n",
      "True\n"
     ]
    }
   ],
   "source": [
    "device = \"cuda\" if torch.cuda.is_available() else \"cpu\"\n",
    "print(device)\n",
    "print(torch.cuda.is_available())"
   ],
   "metadata": {
    "collapsed": false,
    "pycharm": {
     "name": "#%%\n"
    }
   }
  },
  {
   "cell_type": "code",
   "execution_count": 12,
   "outputs": [],
   "source": [
    "model = Unet(device).to(device)\n",
    "# model = Unet().to(device)\n",
    "cliploss = CLIPLoss(device)\n",
    "mseloss = torch.nn.MSELoss()\n",
    "# vgg = torchvision.models.vgg19(pretrained=True).features.to(device)\n",
    "# for x in vgg.parameters():\n",
    "#     x.requires_grad = False\n",
    "\n",
    "topil = transforms.ToPILImage()\n",
    "topic = transforms.ToTensor()"
   ],
   "metadata": {
    "collapsed": false,
    "pycharm": {
     "name": "#%%\n"
    }
   }
  },
  {
   "cell_type": "code",
   "execution_count": 13,
   "outputs": [],
   "source": [
    "lr1 = 0.001\n",
    "lr2 = 0.0003\n",
    "\n",
    "# lr_fast = 0.0003\n",
    "# lr_slow = 0.0004\n",
    "\n",
    "dir_lambda = 500\n",
    "content_lambda = 150\n",
    "patch_lambda = 9000\n",
    "norm_lambda = 0.002\n",
    "gol_lambda = 300\n"
   ],
   "metadata": {
    "collapsed": false,
    "pycharm": {
     "name": "#%%\n"
    }
   }
  },
  {
   "cell_type": "code",
   "execution_count": 14,
   "outputs": [],
   "source": [
    "file_uu = open(\"neo0.txt\", \"r\")\n",
    "loss_li = file_uu.readline()\n",
    "loss_li = [float(x) for x in loss_li.split()]\n",
    "# loss_li = None\n",
    "if not loss_li:\n",
    "    loss_li = [0]*100\n",
    "\n",
    "cur_times = int(file_uu.readline())\n",
    "# cur_times = 0\n",
    "\n",
    "f = open(f\"./data/nums.txt\", mode=\"w\")\n",
    "\n"
   ],
   "metadata": {
    "collapsed": false,
    "pycharm": {
     "name": "#%%\n"
    }
   }
  },
  {
   "cell_type": "code",
   "execution_count": 15,
   "outputs": [
    {
     "name": "stderr",
     "output_type": "stream",
     "text": [
      "C:\\Users\\win10\\AppData\\Local\\Temp\\ipykernel_43908\\3857721032.py:4: DeprecationWarning: BICUBIC is deprecated and will be removed in Pillow 10 (2023-07-01). Use Resampling.BICUBIC instead.\n",
      "  pil = transforms.Resize(size=(512, 512), interpolation=Image.BICUBIC)(pil)\n"
     ]
    }
   ],
   "source": [
    "pil = Image.open(f\"./source_pic/church.jpeg\")\n",
    "# pil = Image.open(f\"resulto.jpg\")\n",
    "ori_size = pil.size[::-1]\n",
    "pil = transforms.Resize(size=(512, 512), interpolation=Image.BICUBIC)(pil)\n",
    "pic = topic(pil).unsqueeze(0).to(device)\n",
    "# pic = torch.ones(1, 3, 512, 512).to(device)\n",
    "pic.requires_grad = False\n",
    "# pic[:,1,:,:] = 0"
   ],
   "metadata": {
    "collapsed": false,
    "pycharm": {
     "name": "#%%\n"
    }
   }
  },
  {
   "cell_type": "code",
   "execution_count": 16,
   "outputs": [],
   "source": [
    "source = \"photo\"\n",
    "# source = \"cat\"\n",
    "# source = \"CG picture\"\n",
    "# source = \"happy\"\n",
    "# source = \"man\"\n",
    "# source = \"cartoon\"\n",
    "\n",
    "# target = \"Mark Elliot Zuckerberg\"\n",
    "# target = \"angry\"\n",
    "# target = \"girl\"\n",
    "# target = \"night\"\n",
    "# target = \"black car\"\n",
    "# target = \"pop art\"\n",
    "# target = \"old man\"\n",
    "# target = \"Watercolor Art with Thick Brush\"\n",
    "# target = \"Pixar\"\n",
    "# target = \"watercolor painting\"\n",
    "# target = \"starry night by Van Gogh\"\n",
    "# target = \"the scream by Edvard Munch\"\n",
    "# target = \"Monet\"\n",
    "# target = \"cyberpunk 2077\"\n",
    "# target = \"oil painting of flowers\"\n",
    "# target = \"man with dark black skin and black hair\"\n",
    "target = \"The great wave off kanagawa by Hokusai\"\n",
    "# target = \"dog\"\n",
    "# target = \"fire\"\n",
    "# target = \"Chinese Brush Painting of mountains in black and white\"\n",
    "# target = \"cubic painting\"\n",
    "# target = \"sketch by Crayon\"\n",
    "# target = \"pop art of night city\"\n",
    "# target = \"watercolor painting\"\n",
    "# target = \"Cartoon\"\n",
    "# target = \"anime\"\n",
    "\n",
    "\n",
    "path = \"result/result02.jpg\"\n",
    "\n",
    "gli = []\n",
    "dli = []\n",
    "nli = []"
   ],
   "metadata": {
    "collapsed": false,
    "pycharm": {
     "name": "#%%\n"
    }
   }
  },
  {
   "cell_type": "code",
   "execution_count": 17,
   "outputs": [],
   "source": [
    "def train(iteration1, iteration2, pic, source, target):\n",
    "    input = pic\n",
    "\n",
    "    # pic_f = get_features(vgg_normalize(pic), vgg)\n",
    "    # print(model.parameters())\n",
    "    opt = optim.Adam(model.parameters(), lr=lr1)\n",
    "    for i in range(iteration1):\n",
    "        opt.zero_grad()\n",
    "        neo_pic = model(input)\n",
    "        loss = mseloss(pic, neo_pic) * 1\n",
    "\n",
    "        # loss = 0\n",
    "        # neo_pic_f = get_features(vgg_normalize(neo_pic), vgg)\n",
    "        # loss += torch.mean((pic_f['conv4_2'] - neo_pic_f['conv4_2']) ** 2)\n",
    "        # loss += torch.mean((pic_f['conv5_2'] - neo_pic_f['conv5_2']) ** 2)\n",
    "\n",
    "        loss.backward()\n",
    "        opt.step()\n",
    "\n",
    "        with torch.no_grad():\n",
    "            print(\"iter:\", i + 1, \"loss:\", loss.item())\n",
    "\n",
    "        # pil = topil(neo_pic.squeeze(0).cpu())\n",
    "        # if ((i + 1) % 50) == 0:\n",
    "        #     pil.save(f\"./pic1/{(i + 1) // 50}.jpg\")\n",
    "    with torch.no_grad():\n",
    "        neo_pic = model(input)\n",
    "        pil = topil(neo_pic.squeeze(0).cpu())\n",
    "        pil = transforms.Resize(size=ori_size, interpolation=Image.BICUBIC)(pil)\n",
    "        pil.save(f\"mid.jpg\")\n",
    "\n",
    "\n",
    "    # torch.save(model,'unet.pth')\n",
    "\n",
    "    # model = torch.load('unet.pth')\n",
    "\n",
    "    # pic_f = get_features(vgg_normalize(pic),vgg)\n",
    "\n",
    "    opt = optim.Adam(model.parameters(), lr=lr2)\n",
    "    # opt_fast = optim.Adam(model.parameters(), lr=lr_fast)\n",
    "    # opt_slow = optim.Adam(model.parameters(), lr=lr_slow)\n",
    "    # opt_loss = optim.Adam(cliploss.parameters(), lr=lr_slow)\n",
    "    cur = 1\n",
    "    for i in range(iteration2):\n",
    "\n",
    "\n",
    "        opt.zero_grad()\n",
    "        # opt_slow.zero_grad()\n",
    "        # opt_fast.zero_grad()\n",
    "\n",
    "        neo_pic = model(input)\n",
    "\n",
    "        dir_loss = 0\n",
    "        dir_loss += cliploss.forward_dir(pic, source, neo_pic, target)\n",
    "\n",
    "        gol_loss = 0\n",
    "        gol_loss += cliploss.forward_gol(pic, source, neo_pic, target)\n",
    "\n",
    "        content_loss = 0\n",
    "        # content_loss += mseloss(pic, neo_pic)\n",
    "        # neo_pic_f = get_features(vgg_normalize(neo_pic), vgg)\n",
    "        # content_loss += torch.mean((pic_f['conv4_2'] - neo_pic_f['conv4_2']) ** 2)\n",
    "        # content_loss += torch.mean((pic_f['conv5_2'] - neo_pic_f['conv5_2']) ** 2)\n",
    "\n",
    "        patch_loss = 0\n",
    "        # patch_loss += cliploss.forward_patch(pic, source, neo_pic, target)\n",
    "\n",
    "        norm_loss = 0\n",
    "        norm_loss += cliploss.forward_prior(pic, source, neo_pic, target)\n",
    "\n",
    "        loss = dir_loss * dir_lambda + \\\n",
    "               content_loss * content_lambda + \\\n",
    "               patch_loss * patch_lambda + \\\n",
    "               norm_loss * norm_lambda + \\\n",
    "               gol_loss * gol_lambda\n",
    "\n",
    "\n",
    "        patch_loss_fast,patch_loss_slow, li = cliploss.forward_patch_sec(pic, source, neo_pic, target)\n",
    "        patch_loss_fast *= patch_lambda\n",
    "        patch_loss_slow *= patch_lambda\n",
    "\n",
    "        for x in model.res2.parameters():\n",
    "            x.requires_grad = False\n",
    "        patch_loss_slow.backward(retain_graph=True)\n",
    "        for x in model.res2.parameters():\n",
    "            x.requires_grad = True\n",
    "\n",
    "        for x in model.res.parameters():\n",
    "            x.requires_grad = False\n",
    "        for x in model.conv3.parameters():\n",
    "            x.requires_grad = False\n",
    "        for x in model.upsample3.parameters():\n",
    "            x.requires_grad = False\n",
    "        for x in model.deconv3.parameters():\n",
    "            x.requires_grad = False\n",
    "        patch_loss_fast.backward(retain_graph=True)\n",
    "        for x in model.res.parameters():\n",
    "            x.requires_grad = True\n",
    "        for x in model.conv3.parameters():\n",
    "            x.requires_grad = True\n",
    "        for x in model.upsample3.parameters():\n",
    "            x.requires_grad = True\n",
    "        for x in model.deconv3.parameters():\n",
    "            x.requires_grad = True\n",
    "\n",
    "        loss.backward()\n",
    "        # (loss+patch_loss_fast+patch_loss_slow).backward()\n",
    "\n",
    "\n",
    "        opt.step()\n",
    "\n",
    "        # opt_fast.step()\n",
    "        # opt_slow.step()\n",
    "\n",
    "        with torch.no_grad():\n",
    "            loss_li[i]+=(loss+patch_loss_fast+patch_loss_slow).item()\n",
    "            # loss_li[i] += (loss+patch_loss).item()\n",
    "            print(\"iter:\", i + 1, \"fast_loss:\", patch_loss_fast.item(), \"slow_loss:\", patch_loss_slow.item())\n",
    "            print(\"iter:\", i + 1, \"loss:\", (loss+patch_loss_fast+patch_loss_slow).item())\n",
    "\n",
    "\n",
    "            for x in li:\n",
    "                f.write(str(x)+\" \")\n",
    "            f.write(\"\\n\")\n",
    "\n",
    "            if (i+1)%10==0  or i==0:\n",
    "                neo_pic = model(input)\n",
    "                pil = topil(neo_pic.squeeze(0).cpu())\n",
    "                pil = transforms.Resize(size=ori_size, interpolation=Image.BICUBIC)(pil)\n",
    "                pil.save(f\"mid/{i//10}.jpg\")\n",
    "\n",
    "            gli.append(gol_loss.item()*gol_lambda)\n",
    "            dli.append(dir_loss.item()*dir_lambda)\n",
    "            nli.append(norm_loss.item()*norm_lambda)\n",
    "\n",
    "            # if (i+1)%4==0 and cliploss.patch_size>=64:\n",
    "            #     cliploss.patch_size-=8\n",
    "\n",
    "\n",
    "\n",
    "        # pil = topil(neo_pic.squeeze(0).cpu())\n",
    "        # if ((i + 1) % 10) == 0:\n",
    "        #     pil.save(f\"./pic2/{(i + 1) // 10}.jpg\")\n",
    "\n",
    "    # return  model(input)\n",
    "    # neo_pic = model(input)\n",
    "    # pil = topil(neo_pic.squeeze(0).cpu())\n",
    "    # # pil.save(f\"{source}-{target}.jpg\")\n",
    "    # pil.save(path)\n",
    "\n",
    "\n",
    "\n"
   ],
   "metadata": {
    "collapsed": false,
    "pycharm": {
     "name": "#%%\n"
    }
   }
  },
  {
   "cell_type": "code",
   "execution_count": 18,
   "outputs": [
    {
     "name": "stdout",
     "output_type": "stream",
     "text": [
      "iter: 1 loss: 0.055932722985744476\n",
      "iter: 2 loss: 0.025814462453126907\n",
      "iter: 3 loss: 0.014588899910449982\n",
      "iter: 4 loss: 0.009952238760888577\n",
      "iter: 5 loss: 0.007396699395030737\n",
      "iter: 6 loss: 0.005726752337068319\n",
      "iter: 7 loss: 0.004661744460463524\n",
      "iter: 8 loss: 0.004022284410893917\n",
      "iter: 9 loss: 0.0036131038796156645\n",
      "iter: 10 loss: 0.0033435493241995573\n",
      "iter: 11 loss: 0.0031240987591445446\n",
      "iter: 12 loss: 0.002914555137977004\n",
      "iter: 13 loss: 0.0027207983657717705\n",
      "iter: 14 loss: 0.0025520389899611473\n",
      "iter: 15 loss: 0.00240304134786129\n",
      "iter: 16 loss: 0.00226821331307292\n",
      "iter: 17 loss: 0.0021468023769557476\n",
      "iter: 18 loss: 0.0020328317768871784\n",
      "iter: 19 loss: 0.0019238488748669624\n",
      "iter: 20 loss: 0.0018259265925735235\n",
      "iter: 21 loss: 0.0017435800982639194\n",
      "iter: 22 loss: 0.0016772076487541199\n",
      "iter: 23 loss: 0.0016226123552769423\n",
      "iter: 24 loss: 0.0015729598235338926\n",
      "iter: 25 loss: 0.0015249013667926192\n",
      "iter: 26 loss: 0.0014765039086341858\n",
      "iter: 27 loss: 0.0014277439331635833\n",
      "iter: 28 loss: 0.0013804164482280612\n",
      "iter: 29 loss: 0.0013349744258448482\n",
      "iter: 30 loss: 0.0012912868987768888\n",
      "iter: 31 loss: 0.001250740373507142\n",
      "iter: 32 loss: 0.0012130478862673044\n",
      "iter: 33 loss: 0.0011774598388001323\n",
      "iter: 34 loss: 0.0011457030195742846\n",
      "iter: 35 loss: 0.001118543790653348\n",
      "iter: 36 loss: 0.001093502389267087\n",
      "iter: 37 loss: 0.0010683805448934436\n",
      "iter: 38 loss: 0.00104254181496799\n",
      "iter: 39 loss: 0.0010161104146391153\n",
      "iter: 40 loss: 0.0009899731958284974\n",
      "iter: 41 loss: 0.0009654361638240516\n",
      "iter: 42 loss: 0.0009428301709704101\n",
      "iter: 43 loss: 0.0009217439219355583\n",
      "iter: 44 loss: 0.0009019699646160007\n",
      "iter: 45 loss: 0.0008831158047541976\n",
      "iter: 46 loss: 0.0008645094931125641\n",
      "iter: 47 loss: 0.0008461556280963123\n",
      "iter: 48 loss: 0.0008283290080726147\n",
      "iter: 49 loss: 0.0008110748021863401\n",
      "iter: 50 loss: 0.0007947944104671478\n",
      "iter: 51 loss: 0.0007798692095093429\n",
      "iter: 52 loss: 0.0007659972179681063\n",
      "iter: 53 loss: 0.0007528364658355713\n",
      "iter: 54 loss: 0.000740200630389154\n",
      "iter: 55 loss: 0.0007277586264535785\n",
      "iter: 56 loss: 0.0007155908970162272\n",
      "iter: 57 loss: 0.0007039210759103298\n",
      "iter: 58 loss: 0.0006926435744389892\n",
      "iter: 59 loss: 0.000681862875353545\n",
      "iter: 60 loss: 0.000671667861752212\n",
      "iter: 61 loss: 0.000661799218505621\n",
      "iter: 62 loss: 0.000652266840916127\n",
      "iter: 63 loss: 0.0006431484362110496\n",
      "iter: 64 loss: 0.0006343233399093151\n",
      "iter: 65 loss: 0.0006258114008232951\n",
      "iter: 66 loss: 0.0006175906746648252\n",
      "iter: 67 loss: 0.000609598821029067\n",
      "iter: 68 loss: 0.0006019007414579391\n",
      "iter: 69 loss: 0.0005944800795987248\n",
      "iter: 70 loss: 0.0005873151239939034\n",
      "iter: 71 loss: 0.0005803267704322934\n",
      "iter: 72 loss: 0.0005733935395255685\n",
      "iter: 73 loss: 0.0005666135111823678\n",
      "iter: 74 loss: 0.0005600329022854567\n",
      "iter: 75 loss: 0.0005536597454920411\n",
      "iter: 76 loss: 0.0005475303623825312\n",
      "iter: 77 loss: 0.0005415835184976459\n",
      "iter: 78 loss: 0.0005358026246540248\n",
      "iter: 79 loss: 0.0005301632336340845\n",
      "iter: 80 loss: 0.0005246427026577294\n",
      "iter: 81 loss: 0.00051927100867033\n",
      "iter: 82 loss: 0.0005140344728715718\n",
      "iter: 83 loss: 0.0005089507903903723\n",
      "iter: 84 loss: 0.0005040197283960879\n",
      "iter: 85 loss: 0.0004992253961972892\n",
      "iter: 86 loss: 0.0004945459077134728\n",
      "iter: 87 loss: 0.0004899452324025333\n",
      "iter: 88 loss: 0.0004854433936998248\n",
      "iter: 89 loss: 0.00048103899462148547\n",
      "iter: 90 loss: 0.0004767384089063853\n",
      "iter: 91 loss: 0.0004725441976916045\n",
      "iter: 92 loss: 0.00046843799646012485\n",
      "iter: 93 loss: 0.0004644138680305332\n",
      "iter: 94 loss: 0.00046046203351579607\n",
      "iter: 95 loss: 0.00045658936141990125\n",
      "iter: 96 loss: 0.0004527924465946853\n",
      "iter: 97 loss: 0.00044906814582645893\n",
      "iter: 98 loss: 0.000445420213509351\n",
      "iter: 99 loss: 0.0004418457392603159\n",
      "iter: 100 loss: 0.0004383439663797617\n",
      "iter: 1 fast_loss: 3450.187744140625 slow_loss: 6019.8212890625\n",
      "iter: 1 loss: 10256.3681640625\n",
      "iter: 2 fast_loss: 4963.96630859375 slow_loss: 4311.7216796875\n",
      "iter: 2 loss: 10054.29296875\n",
      "iter: 3 fast_loss: 4792.16748046875 slow_loss: 4391.029296875\n",
      "iter: 3 loss: 9954.798828125\n",
      "iter: 4 fast_loss: 4153.724609375 slow_loss: 4854.92724609375\n",
      "iter: 4 loss: 9773.5048828125\n",
      "iter: 5 fast_loss: 3827.018798828125 slow_loss: 5065.24658203125\n",
      "iter: 5 loss: 9648.369140625\n",
      "iter: 6 fast_loss: 4433.94482421875 slow_loss: 4364.59375\n",
      "iter: 6 loss: 9546.6416015625\n",
      "iter: 7 fast_loss: 4151.59619140625 slow_loss: 4601.21142578125\n",
      "iter: 7 loss: 9492.908203125\n",
      "iter: 8 fast_loss: 4320.5107421875 slow_loss: 4293.52587890625\n",
      "iter: 8 loss: 9346.634765625\n",
      "iter: 9 fast_loss: 3517.6162109375 slow_loss: 5008.52978515625\n",
      "iter: 9 loss: 9253.490234375\n",
      "iter: 10 fast_loss: 3774.90234375 slow_loss: 4689.92626953125\n",
      "iter: 10 loss: 9190.16796875\n",
      "iter: 11 fast_loss: 3322.12841796875 slow_loss: 5068.6796875\n",
      "iter: 11 loss: 9113.3935546875\n",
      "iter: 12 fast_loss: 3557.990966796875 slow_loss: 4736.75537109375\n",
      "iter: 12 loss: 9014.330078125\n",
      "iter: 13 fast_loss: 3930.290283203125 slow_loss: 4341.93408203125\n",
      "iter: 13 loss: 8988.556640625\n",
      "iter: 14 fast_loss: 3533.683837890625 slow_loss: 4720.27587890625\n",
      "iter: 14 loss: 8967.79296875\n",
      "iter: 15 fast_loss: 4238.044921875 slow_loss: 3907.69970703125\n",
      "iter: 15 loss: 8857.078125\n",
      "iter: 16 fast_loss: 3949.5849609375 slow_loss: 4126.53369140625\n",
      "iter: 16 loss: 8784.953125\n",
      "iter: 17 fast_loss: 3699.43994140625 slow_loss: 4362.32763671875\n",
      "iter: 17 loss: 8768.1025390625\n",
      "iter: 18 fast_loss: 3661.88037109375 slow_loss: 4310.27978515625\n",
      "iter: 18 loss: 8673.494140625\n",
      "iter: 19 fast_loss: 3641.0751953125 slow_loss: 4268.94384765625\n",
      "iter: 19 loss: 8606.6015625\n",
      "iter: 20 fast_loss: 3833.26708984375 slow_loss: 3997.78759765625\n",
      "iter: 20 loss: 8522.13671875\n",
      "iter: 21 fast_loss: 3562.591552734375 slow_loss: 4206.1845703125\n",
      "iter: 21 loss: 8457.1083984375\n",
      "iter: 22 fast_loss: 4005.889892578125 slow_loss: 3687.286376953125\n",
      "iter: 22 loss: 8379.5087890625\n",
      "iter: 23 fast_loss: 3689.07177734375 slow_loss: 3828.18603515625\n",
      "iter: 23 loss: 8202.58984375\n",
      "iter: 24 fast_loss: 3317.253173828125 slow_loss: 4139.6484375\n",
      "iter: 24 loss: 8141.73193359375\n",
      "iter: 25 fast_loss: 3629.8828125 slow_loss: 3774.6962890625\n",
      "iter: 25 loss: 8087.1572265625\n",
      "iter: 26 fast_loss: 3700.8818359375 slow_loss: 3630.63818359375\n",
      "iter: 26 loss: 8009.84912109375\n",
      "iter: 27 fast_loss: 3463.02783203125 slow_loss: 3793.853759765625\n",
      "iter: 27 loss: 7933.2099609375\n",
      "iter: 28 fast_loss: 2767.181396484375 slow_loss: 4424.6064453125\n",
      "iter: 28 loss: 7868.119140625\n",
      "iter: 29 fast_loss: 2955.390869140625 slow_loss: 4174.25537109375\n",
      "iter: 29 loss: 7800.4814453125\n",
      "iter: 30 fast_loss: 3380.012451171875 slow_loss: 3725.8759765625\n",
      "iter: 30 loss: 7774.9765625\n",
      "iter: 31 fast_loss: 4239.96728515625 slow_loss: 2870.521484375\n",
      "iter: 31 loss: 7778.328125\n",
      "iter: 32 fast_loss: 3897.880615234375 slow_loss: 3183.6318359375\n",
      "iter: 32 loss: 7743.1025390625\n",
      "iter: 33 fast_loss: 3542.33544921875 slow_loss: 3452.1103515625\n",
      "iter: 33 loss: 7651.2880859375\n",
      "iter: 34 fast_loss: 3519.8134765625 slow_loss: 3425.811767578125\n",
      "iter: 34 loss: 7599.9697265625\n",
      "iter: 35 fast_loss: 3627.34228515625 slow_loss: 3338.19580078125\n",
      "iter: 35 loss: 7617.6328125\n",
      "iter: 36 fast_loss: 3624.52685546875 slow_loss: 3341.560302734375\n",
      "iter: 36 loss: 7614.9306640625\n",
      "iter: 37 fast_loss: 3773.735107421875 slow_loss: 3101.4404296875\n",
      "iter: 37 loss: 7520.7705078125\n",
      "iter: 38 fast_loss: 3385.505615234375 slow_loss: 3522.62890625\n",
      "iter: 38 loss: 7551.47998046875\n",
      "iter: 39 fast_loss: 3875.9765625 slow_loss: 2998.649658203125\n",
      "iter: 39 loss: 7509.7197265625\n",
      "iter: 40 fast_loss: 3952.6748046875 slow_loss: 2885.833740234375\n",
      "iter: 40 loss: 7469.3525390625\n",
      "iter: 41 fast_loss: 3625.35107421875 slow_loss: 3190.017578125\n",
      "iter: 41 loss: 7447.4658203125\n",
      "iter: 42 fast_loss: 3621.162353515625 slow_loss: 3174.430908203125\n",
      "iter: 42 loss: 7423.4384765625\n",
      "iter: 43 fast_loss: 3304.4814453125 slow_loss: 3470.03173828125\n",
      "iter: 43 loss: 7400.1064453125\n",
      "iter: 44 fast_loss: 3420.18115234375 slow_loss: 3351.997314453125\n",
      "iter: 44 loss: 7398.5224609375\n",
      "iter: 45 fast_loss: 3211.3037109375 slow_loss: 3556.61767578125\n",
      "iter: 45 loss: 7392.2666015625\n",
      "iter: 46 fast_loss: 3300.84228515625 slow_loss: 3434.46337890625\n",
      "iter: 46 loss: 7357.15087890625\n",
      "iter: 47 fast_loss: 2966.5146484375 slow_loss: 3748.39794921875\n",
      "iter: 47 loss: 7331.7578125\n",
      "iter: 48 fast_loss: 3783.416748046875 slow_loss: 2923.8740234375\n",
      "iter: 48 loss: 7323.88720703125\n",
      "iter: 49 fast_loss: 3060.859619140625 slow_loss: 3648.628173828125\n",
      "iter: 49 loss: 7323.33544921875\n",
      "iter: 50 fast_loss: 4210.2353515625 slow_loss: 2578.0791015625\n",
      "iter: 50 loss: 7398.91357421875\n",
      "iter: 51 fast_loss: 4050.178466796875 slow_loss: 2643.44775390625\n",
      "iter: 51 loss: 7302.72802734375\n",
      "iter: 52 fast_loss: 4089.5234375 slow_loss: 2640.97607421875\n",
      "iter: 52 loss: 7340.603515625\n",
      "iter: 53 fast_loss: 3937.431396484375 slow_loss: 2721.65673828125\n",
      "iter: 53 loss: 7269.19482421875\n",
      "iter: 54 fast_loss: 3550.506591796875 slow_loss: 3124.16845703125\n",
      "iter: 54 loss: 7283.78369140625\n",
      "iter: 55 fast_loss: 3755.058349609375 slow_loss: 2916.938720703125\n",
      "iter: 55 loss: 7280.1044921875\n",
      "iter: 56 fast_loss: 3458.908203125 slow_loss: 3237.6708984375\n",
      "iter: 56 loss: 7304.1884765625\n",
      "iter: 57 fast_loss: 3414.55078125 slow_loss: 3193.931640625\n",
      "iter: 57 loss: 7214.34375\n",
      "iter: 58 fast_loss: 3204.780517578125 slow_loss: 3407.40966796875\n",
      "iter: 58 loss: 7216.3017578125\n",
      "iter: 59 fast_loss: 3142.2958984375 slow_loss: 3543.571533203125\n",
      "iter: 59 loss: 7288.73095703125\n",
      "iter: 60 fast_loss: 2941.7265625 slow_loss: 3725.189208984375\n",
      "iter: 60 loss: 7268.2822265625\n",
      "iter: 61 fast_loss: 3524.55126953125 slow_loss: 3144.012451171875\n",
      "iter: 61 loss: 7267.681640625\n",
      "iter: 62 fast_loss: 3527.984619140625 slow_loss: 3170.928955078125\n",
      "iter: 62 loss: 7297.279296875\n",
      "iter: 63 fast_loss: 3530.66259765625 slow_loss: 3144.69921875\n",
      "iter: 63 loss: 7274.97412109375\n",
      "iter: 64 fast_loss: 3395.1875 slow_loss: 3214.874267578125\n",
      "iter: 64 loss: 7208.9228515625\n",
      "iter: 65 fast_loss: 3420.59326171875 slow_loss: 3199.21875\n",
      "iter: 65 loss: 7217.17529296875\n",
      "iter: 66 fast_loss: 3206.840576171875 slow_loss: 3418.9453125\n",
      "iter: 66 loss: 7225.1513671875\n",
      "iter: 67 fast_loss: 2918.93017578125 slow_loss: 3705.55126953125\n",
      "iter: 67 loss: 7221.845703125\n",
      "iter: 68 fast_loss: 3335.517822265625 slow_loss: 3305.23681640625\n",
      "iter: 68 loss: 7235.61865234375\n",
      "iter: 69 fast_loss: 2901.008544921875 slow_loss: 3678.77197265625\n",
      "iter: 69 loss: 7174.3994140625\n",
      "iter: 70 fast_loss: 3109.405517578125 slow_loss: 3470.5810546875\n",
      "iter: 70 loss: 7172.611328125\n",
      "iter: 71 fast_loss: 3307.77734375 slow_loss: 3271.31640625\n",
      "iter: 71 loss: 7172.47265625\n",
      "iter: 72 fast_loss: 3291.84716796875 slow_loss: 3272.62109375\n",
      "iter: 72 loss: 7156.35498046875\n",
      "iter: 73 fast_loss: 3206.977783203125 slow_loss: 3372.184814453125\n",
      "iter: 73 loss: 7169.30615234375\n",
      "iter: 74 fast_loss: 2879.72265625 slow_loss: 3628.852783203125\n",
      "iter: 74 loss: 7097.97265625\n",
      "iter: 75 fast_loss: 3488.365234375 slow_loss: 3049.5986328125\n",
      "iter: 75 loss: 7125.61279296875\n",
      "iter: 76 fast_loss: 3074.6611328125 slow_loss: 3441.192626953125\n",
      "iter: 76 loss: 7100.2568359375\n",
      "iter: 77 fast_loss: 3375.823974609375 slow_loss: 3153.076171875\n",
      "iter: 77 loss: 7112.306640625\n",
      "iter: 78 fast_loss: 3187.202392578125 slow_loss: 3331.7412109375\n",
      "iter: 78 loss: 7101.85107421875\n",
      "iter: 79 fast_loss: 3372.871337890625 slow_loss: 3142.84521484375\n",
      "iter: 79 loss: 7098.12646484375\n",
      "iter: 80 fast_loss: 3085.578857421875 slow_loss: 3446.479736328125\n",
      "iter: 80 loss: 7113.970703125\n",
      "iter: 81 fast_loss: 2981.8955078125 slow_loss: 3539.65771484375\n",
      "iter: 81 loss: 7102.21826171875\n",
      "iter: 82 fast_loss: 3607.498046875 slow_loss: 2967.54443359375\n",
      "iter: 82 loss: 7158.45751953125\n",
      "iter: 83 fast_loss: 3079.536376953125 slow_loss: 3457.328857421875\n",
      "iter: 83 loss: 7117.27978515625\n",
      "iter: 84 fast_loss: 3185.005126953125 slow_loss: 3357.009765625\n",
      "iter: 84 loss: 7118.4306640625\n",
      "iter: 85 fast_loss: 2944.19873046875 slow_loss: 3693.46630859375\n",
      "iter: 85 loss: 7214.5830078125\n",
      "iter: 86 fast_loss: 3082.489013671875 slow_loss: 3444.900390625\n",
      "iter: 86 loss: 7102.0595703125\n",
      "iter: 87 fast_loss: 2974.616943359375 slow_loss: 3561.21826171875\n",
      "iter: 87 loss: 7108.50732421875\n",
      "iter: 88 fast_loss: 2794.853271484375 slow_loss: 3754.646240234375\n",
      "iter: 88 loss: 7120.671875\n",
      "iter: 89 fast_loss: 3316.291748046875 slow_loss: 3273.101806640625\n",
      "iter: 89 loss: 7159.81591796875\n",
      "iter: 90 fast_loss: 2991.02783203125 slow_loss: 3581.3369140625\n",
      "iter: 90 loss: 7142.53955078125\n",
      "iter: 91 fast_loss: 3432.47216796875 slow_loss: 3176.833984375\n",
      "iter: 91 loss: 7180.9814453125\n",
      "iter: 92 fast_loss: 2815.65869140625 slow_loss: 3806.41943359375\n",
      "iter: 92 loss: 7190.755859375\n",
      "iter: 93 fast_loss: 3295.34912109375 slow_loss: 3278.732421875\n",
      "iter: 93 loss: 7147.01025390625\n",
      "iter: 94 fast_loss: 2609.939453125 slow_loss: 3969.90966796875\n",
      "iter: 94 loss: 7151.0263671875\n",
      "iter: 95 fast_loss: 3027.07666015625 slow_loss: 3589.439453125\n",
      "iter: 95 loss: 7188.193359375\n",
      "iter: 96 fast_loss: 3001.533447265625 slow_loss: 3560.11962890625\n",
      "iter: 96 loss: 7127.83251953125\n",
      "iter: 97 fast_loss: 3097.9384765625 slow_loss: 3486.030517578125\n",
      "iter: 97 loss: 7151.1513671875\n",
      "iter: 98 fast_loss: 3012.2451171875 slow_loss: 3609.832763671875\n",
      "iter: 98 loss: 7191.76318359375\n",
      "iter: 99 fast_loss: 3119.842529296875 slow_loss: 3536.63623046875\n",
      "iter: 99 loss: 7224.16796875\n",
      "iter: 100 fast_loss: 3046.9208984375 slow_loss: 3652.61083984375\n",
      "iter: 100 loss: 7264.4716796875\n",
      "usetime: 81.37422609329224\n"
     ]
    },
    {
     "name": "stderr",
     "output_type": "stream",
     "text": [
      "C:\\Users\\win10\\AppData\\Local\\Temp\\ipykernel_43908\\2571563386.py:29: DeprecationWarning: BICUBIC is deprecated and will be removed in Pillow 10 (2023-07-01). Use Resampling.BICUBIC instead.\n",
      "  pil = transforms.Resize(size=ori_size, interpolation=Image.BICUBIC)(pil)\n",
      "C:\\Users\\win10\\AppData\\Local\\Temp\\ipykernel_43908\\2571563386.py:129: DeprecationWarning: BICUBIC is deprecated and will be removed in Pillow 10 (2023-07-01). Use Resampling.BICUBIC instead.\n",
      "  pil = transforms.Resize(size=ori_size, interpolation=Image.BICUBIC)(pil)\n"
     ]
    }
   ],
   "source": [
    "start = time.time()\n",
    "train(100, 100, pic, source, target)\n",
    "end = time.time()\n",
    "usetime = end - start\n",
    "print(f\"usetime: {usetime}\")"
   ],
   "metadata": {
    "collapsed": false,
    "pycharm": {
     "name": "#%%\n"
    }
   }
  },
  {
   "cell_type": "code",
   "execution_count": 19,
   "outputs": [
    {
     "name": "stderr",
     "output_type": "stream",
     "text": [
      "C:\\Users\\win10\\AppData\\Local\\Temp\\ipykernel_43908\\4189447853.py:3: DeprecationWarning: BICUBIC is deprecated and will be removed in Pillow 10 (2023-07-01). Use Resampling.BICUBIC instead.\n",
      "  pil = transforms.Resize(size=ori_size, interpolation=Image.BICUBIC)(pil)\n"
     ]
    }
   ],
   "source": [
    "neo_pic = model(pic)\n",
    "pil = topil(neo_pic.squeeze(0).cpu())\n",
    "pil = transforms.Resize(size=ori_size, interpolation=Image.BICUBIC)(pil)\n",
    "pil.save(path)\n",
    "\n",
    "\n",
    "\n"
   ],
   "metadata": {
    "collapsed": false,
    "pycharm": {
     "name": "#%%\n"
    }
   }
  },
  {
   "cell_type": "code",
   "execution_count": 20,
   "outputs": [],
   "source": [
    "# with open(file = \"neo0.txt\", mode = \"w\") as file:\n",
    "#     for i in loss_li:\n",
    "#         file.write(str(i)+\" \")\n",
    "#     file.write(\"\\n\")\n",
    "#     file.write(str(cur_times+1))\n"
   ],
   "metadata": {
    "collapsed": false,
    "pycharm": {
     "name": "#%%\n"
    }
   }
  },
  {
   "cell_type": "code",
   "execution_count": 21,
   "outputs": [
    {
     "data": {
      "text/plain": "[<matplotlib.lines.Line2D at 0x23f3144ee50>]"
     },
     "execution_count": 21,
     "metadata": {},
     "output_type": "execute_result"
    },
    {
     "data": {
      "text/plain": "<Figure size 640x480 with 1 Axes>",
      "image/png": "[encoded data removed]"
     },
     "metadata": {},
     "output_type": "display_data"
    }
   ],
   "source": [
    "import matplotlib.pyplot as plt\n",
    "\n",
    "x = [i for i in range(100)]\n",
    "loss_li = [x/(cur_times+1) for x in loss_li]\n",
    "plt.plot(x,loss_li,color=\"red\",marker=\"o\")\n",
    "\n",
    "\n",
    "\n"
   ],
   "metadata": {
    "collapsed": false,
    "pycharm": {
     "name": "#%%\n"
    }
   }
  },
  {
   "cell_type": "code",
   "execution_count": 22,
   "outputs": [],
   "source": [
    "f.close()"
   ],
   "metadata": {
    "collapsed": false,
    "pycharm": {
     "name": "#%%\n"
    }
   }
  },
  {
   "cell_type": "code",
   "execution_count": 23,
   "outputs": [
    {
     "data": {
      "text/plain": "[<matplotlib.lines.Line2D at 0x23e8218f670>]"
     },
     "execution_count": 23,
     "metadata": {},
     "output_type": "execute_result"
    },
    {
     "data": {
      "text/plain": "<Figure size 640x480 with 1 Axes>",
      "image/png": "[encoded data removed]"
     },
     "metadata": {},
     "output_type": "display_data"
    }
   ],
   "source": [
    "x = [i for i in range(100)]\n",
    "plt.plot(x,gli,color=\"red\",marker=\"o\")"
   ],
   "metadata": {
    "collapsed": false,
    "pycharm": {
     "name": "#%%\n"
    }
   }
  },
  {
   "cell_type": "code",
   "execution_count": 24,
   "outputs": [
    {
     "data": {
      "text/plain": "[<matplotlib.lines.Line2D at 0x23f39282c10>]"
     },
     "execution_count": 24,
     "metadata": {},
     "output_type": "execute_result"
    },
    {
     "data": {
      "text/plain": "<Figure size 640x480 with 1 Axes>",
      "image/png": "[encoded data removed]"
     },
     "metadata": {},
     "output_type": "display_data"
    }
   ],
   "source": [
    "x = [i for i in range(100)]\n",
    "plt.plot(x,dli,color=\"red\",marker=\"o\")"
   ],
   "metadata": {
    "collapsed": false,
    "pycharm": {
     "name": "#%%\n"
    }
   }
  },
  {
   "cell_type": "code",
   "execution_count": 25,
   "outputs": [
    {
     "data": {
      "text/plain": "[<matplotlib.lines.Line2D at 0x23f392e9310>]"
     },
     "execution_count": 25,
     "metadata": {},
     "output_type": "execute_result"
    },
    {
     "data": {
      "text/plain": "<Figure size 640x480 with 1 Axes>",
      "image/png": "[encoded data removed]"
     },
     "metadata": {},
     "output_type": "display_data"
    }
   ],
   "source": [
    "x = [i for i in range(100)]\n",
    "plt.plot(x,nli,color=\"red\",marker=\"o\")"
   ],
   "metadata": {
    "collapsed": false,
    "pycharm": {
     "name": "#%%\n"
    }
   }
  },
  {
   "cell_type": "code",
   "execution_count": 26,
   "outputs": [
    {
     "data": {
      "text/plain": "[<matplotlib.lines.Line2D at 0x23f43069730>]"
     },
     "execution_count": 26,
     "metadata": {},
     "output_type": "execute_result"
    },
    {
     "data": {
      "text/plain": "<Figure size 640x480 with 1 Axes>",
      "image/png": "[encoded data removed]"
     },
     "metadata": {},
     "output_type": "display_data"
    }
   ],
   "source": [
    "x = [i for i in range(100)]\n",
    "li = [gli[i]+dli[i]+nli[i] for i in range(100)]\n",
    "plt.plot(x,li,color=\"red\",marker=\"o\")"
   ],
   "metadata": {
    "collapsed": false,
    "pycharm": {
     "name": "#%%\n"
    }
   }
  }
 ],
 "metadata": {
  "kernelspec": {
   "display_name": "Python 3",
   "language": "python",
   "name": "python3"
  },
  "language_info": {
   "codemirror_mode": {
    "name": "ipython",
    "version": 2
   },
   "file_extension": ".py",
   "mimetype": "text/x-python",
   "name": "python",
   "nbconvert_exporter": "python",
   "pygments_lexer": "ipython2",
   "version": "2.7.6"
  }
 },
 "nbformat": 4,
 "nbformat_minor": 0
}