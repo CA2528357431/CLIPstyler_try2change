{
 "cells": [
  {
   "cell_type": "code",
   "execution_count": 1,
   "metadata": {
    "collapsed": true
   },
   "outputs": [],
   "source": [
    "import torch\n",
    "import torch.optim as optim\n",
    "import torchvision\n",
    "import torchvision.transforms as transforms\n",
    "from PIL import Image\n",
    "\n",
    "from network.mynetwork_uu import Unet\n",
    "from loss.loss import CLIPLoss\n",
    "from utils.func import get_features,vgg_normalize\n",
    "\n",
    "import time"
   ]
  },
  {
   "cell_type": "code",
   "execution_count": 2,
   "outputs": [
    {
     "name": "stdout",
     "output_type": "stream",
     "text": [
      "cuda\n",
      "True\n"
     ]
    }
   ],
   "source": [
    "device = \"cuda\" if torch.cuda.is_available() else \"cpu\"\n",
    "print(device)\n",
    "print(torch.cuda.is_available())"
   ],
   "metadata": {
    "collapsed": false,
    "pycharm": {
     "name": "#%%\n"
    }
   }
  },
  {
   "cell_type": "code",
   "execution_count": 3,
   "outputs": [],
   "source": [
    "model = Unet(device).to(device)\n",
    "# model = Unet().to(device)\n",
    "cliploss = CLIPLoss(device)\n",
    "mseloss = torch.nn.MSELoss()\n",
    "# vgg = torchvision.models.vgg19(pretrained=True).features.to(device)\n",
    "# for x in vgg.parameters():\n",
    "#     x.requires_grad = False\n",
    "\n",
    "topil = transforms.ToPILImage()\n",
    "topic = transforms.ToTensor()"
   ],
   "metadata": {
    "collapsed": false,
    "pycharm": {
     "name": "#%%\n"
    }
   }
  },
  {
   "cell_type": "code",
   "execution_count": 4,
   "outputs": [],
   "source": [
    "lr1 = 0.001\n",
    "lr2 = 0.0003\n",
    "\n",
    "dir_lambda = 500\n",
    "content_lambda = 150\n",
    "patch_lambda = 9000\n",
    "norm_lambda = 0.002\n",
    "gol_lambda = 300\n"
   ],
   "metadata": {
    "collapsed": false,
    "pycharm": {
     "name": "#%%\n"
    }
   }
  },
  {
   "cell_type": "code",
   "execution_count": 5,
   "outputs": [],
   "source": [
    "loss_li = [0]*100"
   ],
   "metadata": {
    "collapsed": false,
    "pycharm": {
     "name": "#%%\n"
    }
   }
  },
  {
   "cell_type": "code",
   "execution_count": 6,
   "outputs": [
    {
     "name": "stderr",
     "output_type": "stream",
     "text": [
      "C:\\Users\\win10\\AppData\\Local\\Temp\\ipykernel_25716\\902788519.py:4: DeprecationWarning: BICUBIC is deprecated and will be removed in Pillow 10 (2023-07-01). Use Resampling.BICUBIC instead.\n",
      "  pil = transforms.Resize(size=(512, 512), interpolation=Image.BICUBIC)(pil)\n",
      "E:\\Anaconda\\envs\\sth\\lib\\site-packages\\torchvision\\transforms\\transforms.py:257: UserWarning: Argument interpolation should be of type InterpolationMode instead of int. Please, use InterpolationMode enum.\n",
      "  warnings.warn(\n"
     ]
    }
   ],
   "source": [
    "pil = Image.open(f\"./source_pic/emma.jpg\")\n",
    "# pil = Image.open(f\"resulto.jpg\")\n",
    "ori_size = pil.size[::-1]\n",
    "pil = transforms.Resize(size=(512, 512), interpolation=Image.BICUBIC)(pil)\n",
    "pic = topic(pil).unsqueeze(0).to(device)\n",
    "# pic = torch.ones(1, 3, 512, 512).to(device)\n",
    "pic.requires_grad = False\n",
    "# pic[:,1,:,:] = 0\n"
   ],
   "metadata": {
    "collapsed": false,
    "pycharm": {
     "name": "#%%\n"
    }
   }
  },
  {
   "cell_type": "code",
   "execution_count": 7,
   "outputs": [],
   "source": [
    "big11 = torch.nn.Upsample(scale_factor=8, mode='bilinear', align_corners=True)\n",
    "big22 = torch.nn.Upsample(scale_factor=4, mode='bilinear', align_corners=True)\n",
    "\n",
    "list_selected = [4,9,14,19,39,59,79,99]\n",
    "\n",
    "# hot\n",
    "# hot_list = []\n",
    "\n",
    "# box\n",
    "# patch_centers = []\n",
    "# patch_sizes = []\n",
    "# pic_patched = []"
   ],
   "metadata": {
    "collapsed": false,
    "pycharm": {
     "name": "#%%\n"
    }
   }
  },
  {
   "cell_type": "code",
   "execution_count": 8,
   "outputs": [],
   "source": [
    "# source = \"photo\"\n",
    "# source = \"cat\"\n",
    "# source = \"CG picture\"\n",
    "# source = \"happy\"\n",
    "# source = \"woman\"\n",
    "# source = \"flower\"\n",
    "# source = \"white boat\"\n",
    "source = \"brown hair\"\n",
    "\n",
    "\n",
    "target = \"black hair\"\n",
    "# target = \"gold boat\"\n",
    "# target = \"comic art\"\n",
    "# target = \"Barack Obama\"\n",
    "# target = \"joker\"\n",
    "# target = \"Mark Elliot Zuckerberg\"\n",
    "# target = \"Mona Lisa by Leonardo da Vinci\"\n",
    "# target = \"angry\"\n",
    "# target = \"girl\"\n",
    "# target = \"Neon Light\"\n",
    "# target = \"shining gold car\"\n",
    "# target = \"pop art\"\n",
    "# target = \"old man\"\n",
    "# target = \"Watercolor Art with Thick Brush\"\n",
    "# target = \"Pixar\"\n",
    "# target = \"watercolor painting with thick brush\"\n",
    "# target = \"wheat field by Van Gogh\"\n",
    "# target = \"the scream by Edvard Munch\"\n",
    "# target = \"Monet\"\n",
    "# target = \"steampunk\"\n",
    "# target = \"oil painting with thick brush\"\n",
    "# target = \"woman Wearing Raybon Sunglasses\"\n",
    "# target = \"The great wave off kanagawa by Hokusai\"\n",
    "# target = \"mosaic\"\n",
    "# target = \"fire\"\n",
    "# target = \"Chinese Brush Painting of mountains in black and white\"\n",
    "# target = \"snowy\"\n",
    "# target = \"sketch in black and white\"\n",
    "# target = \"pop art of night city\"\n",
    "# target = \"cubism\"\n",
    "# target = \"Cartoon\"\n",
    "# target = \"anime\"\n",
    "# target = \"white marble carving\"\n",
    "# target = \"X-rays picture of skull\"\n",
    "\n"
   ],
   "metadata": {
    "collapsed": false,
    "pycharm": {
     "name": "#%%\n"
    }
   }
  },
  {
   "cell_type": "code",
   "execution_count": 9,
   "outputs": [],
   "source": [
    "# path = \"result/result.jpg\"\n",
    "path = \"500.jpg\""
   ],
   "metadata": {
    "collapsed": false,
    "pycharm": {
     "name": "#%%\n"
    }
   }
  },
  {
   "cell_type": "code",
   "execution_count": 10,
   "outputs": [],
   "source": [
    "dli = []\n",
    "nli = []"
   ],
   "metadata": {
    "collapsed": false,
    "pycharm": {
     "name": "#%%\n"
    }
   }
  },
  {
   "cell_type": "code",
   "execution_count": 11,
   "outputs": [],
   "source": [
    "# patch.eps\n",
    "# patch_file = open(f\"./data/nums.txt\", mode=\"w\")"
   ],
   "metadata": {
    "collapsed": false,
    "pycharm": {
     "name": "#%%\n"
    }
   }
  },
  {
   "cell_type": "code",
   "execution_count": 12,
   "outputs": [],
   "source": [
    "def train(iteration1, iteration2, pic, source, target):\n",
    "\n",
    "\n",
    "    input = pic\n",
    "\n",
    "    # pic_f = get_features(vgg_normalize(pic), vgg)\n",
    "    # print(model.parameters())\n",
    "    opt = optim.Adam(model.parameters(), lr=lr1)\n",
    "    for i in range(iteration1):\n",
    "        opt.zero_grad()\n",
    "        neo_pic = model(input)\n",
    "        loss = mseloss(pic, neo_pic) * 1\n",
    "\n",
    "        # loss = 0\n",
    "        # neo_pic_f = get_features(vgg_normalize(neo_pic), vgg)\n",
    "        # loss += torch.mean((pic_f['conv4_2'] - neo_pic_f['conv4_2']) ** 2)\n",
    "        # loss += torch.mean((pic_f['conv5_2'] - neo_pic_f['conv5_2']) ** 2)\n",
    "\n",
    "        loss.backward()\n",
    "        opt.step()\n",
    "\n",
    "        with torch.no_grad():\n",
    "            print(\"iter:\", i + 1, \"loss:\", loss.item())\n",
    "\n",
    "        # pil = topil(neo_pic.squeeze(0).cpu())\n",
    "        # if ((i + 1) % 50) == 0:\n",
    "        #     pil.save(f\"./pic1/{(i + 1) // 50}.jpg\")\n",
    "    with torch.no_grad():\n",
    "        neo_pic = model(input)\n",
    "        pil = topil(neo_pic.squeeze(0).cpu())\n",
    "        pil = transforms.Resize(size=ori_size, interpolation=Image.BICUBIC)(pil)\n",
    "        pil.save(f\"mid.jpg\")\n",
    "\n",
    "\n",
    "    # torch.save(model,'unet.pth')\n",
    "\n",
    "    # model = torch.load('unet.pth')\n",
    "\n",
    "    # pic_f = get_features(vgg_normalize(pic),vgg)\n",
    "\n",
    "    opt = optim.Adam(model.parameters(), lr=lr2)\n",
    "    # opt_fast = optim.Adam(model.parameters(), lr=lr_fast)\n",
    "    # opt_slow = optim.Adam(model.parameters(), lr=lr_slow)\n",
    "    # opt_loss = optim.Adam(cliploss.parameters(), lr=lr_slow)\n",
    "\n",
    "    for i in range(iteration2):\n",
    "\n",
    "\n",
    "        opt.zero_grad()\n",
    "        # opt_slow.zero_grad()\n",
    "        # opt_fast.zero_grad()\n",
    "\n",
    "        neo_pic = model(input)\n",
    "\n",
    "        dir_loss = 0\n",
    "        dir_loss += cliploss.forward_dir(pic, source, neo_pic, target)\n",
    "\n",
    "        gol_loss = 0\n",
    "        # gol_loss += cliploss.forward_gol(pic, source, neo_pic, target)\n",
    "\n",
    "        content_loss = 0\n",
    "        # content_loss += mseloss(pic, neo_pic)\n",
    "        # neo_pic_f = get_features(vgg_normalize(neo_pic), vgg)\n",
    "        # content_loss += torch.mean((pic_f['conv4_2'] - neo_pic_f['conv4_2']) ** 2)\n",
    "        # content_loss += torch.mean((pic_f['conv5_2'] - neo_pic_f['conv5_2']) ** 2)\n",
    "\n",
    "        patch_loss = 0\n",
    "        # patch_loss += cliploss.forward_patch(pic, source, neo_pic, target)\n",
    "\n",
    "        norm_loss = 0\n",
    "        norm_loss += cliploss.forward_prior(pic, source, neo_pic, target)\n",
    "\n",
    "        loss = dir_loss * dir_lambda + \\\n",
    "               content_loss * content_lambda + \\\n",
    "               patch_loss * patch_lambda + \\\n",
    "               norm_loss * norm_lambda + \\\n",
    "               gol_loss * gol_lambda\n",
    "\n",
    "\n",
    "        patch_loss_fast,patch_loss_slow, li = cliploss.forward_patch_sec(pic, source, neo_pic, target)\n",
    "        patch_loss_fast *= patch_lambda\n",
    "        patch_loss_slow *= patch_lambda\n",
    "\n",
    "        for x in model.res2.parameters():\n",
    "            x.requires_grad = False\n",
    "        patch_loss_slow.backward(retain_graph=True)\n",
    "        for x in model.res2.parameters():\n",
    "            x.requires_grad = True\n",
    "\n",
    "        for x in model.res.parameters():\n",
    "            x.requires_grad = False\n",
    "        for x in model.conv3.parameters():\n",
    "            x.requires_grad = False\n",
    "        for x in model.upsample3.parameters():\n",
    "            x.requires_grad = False\n",
    "        for x in model.deconv3.parameters():\n",
    "            x.requires_grad = False\n",
    "        patch_loss_fast.backward(retain_graph=True)\n",
    "        for x in model.res.parameters():\n",
    "            x.requires_grad = True\n",
    "        for x in model.conv3.parameters():\n",
    "            x.requires_grad = True\n",
    "        for x in model.upsample3.parameters():\n",
    "            x.requires_grad = True\n",
    "        for x in model.deconv3.parameters():\n",
    "            x.requires_grad = True\n",
    "\n",
    "        loss.backward()\n",
    "        # (loss+patch_loss_fast+patch_loss_slow).backward()\n",
    "\n",
    "\n",
    "        opt.step()\n",
    "\n",
    "        # opt_fast.step()\n",
    "        # opt_slow.step()\n",
    "\n",
    "        with torch.no_grad():\n",
    "            loss_li[i]+=(loss+patch_loss_fast+patch_loss_slow).item()\n",
    "            print(\"iter:\", i + 1, \"fast_loss:\", patch_loss_fast.item(), \"slow_loss:\", patch_loss_slow.item())\n",
    "            print(\"iter:\", i + 1, \"loss:\", (loss+patch_loss_fast+patch_loss_slow).item())\n",
    "\n",
    "\n",
    "            # patch.eps\n",
    "\n",
    "            # for x in li:\n",
    "            #     patch_file.write(str(x)+\" \")\n",
    "            #\n",
    "            # patch_file.write(\"\\n\")\n",
    "\n",
    "            if (i+1)%10==0  or i==0:\n",
    "                neo_pic = model(input)\n",
    "                pil = topil(neo_pic.squeeze(0).cpu())\n",
    "                pil = transforms.Resize(size=ori_size, interpolation=Image.BICUBIC)(pil)\n",
    "                pil.save(f\"mid/{i//10}.jpg\")\n",
    "\n",
    "            # show loss\n",
    "\n",
    "            # dli.append(dir_loss.item()*dir_lambda)\n",
    "            # nli.append(norm_loss.item()*norm_lambda)\n",
    "\n",
    "\n",
    "\n",
    "\n",
    "            if i in list_selected:\n",
    "\n",
    "                # hot\n",
    "\n",
    "                # a1 = model.res[0].block[0].spatialattention.hot.detach()\n",
    "                # a2 = model.res[2].block[0].spatialattention.hot.detach()\n",
    "                # a3 = model.res2[0].block[0].spatialattention.hot.detach()\n",
    "                # a4 = model.res2[2].block[0].spatialattention.hot.detach()\n",
    "                #\n",
    "                # hot1 = big11(a1)[0,0,:,:]\n",
    "                # hot2 = big11(a2)[0,0,:,:]\n",
    "                # hot3 = big22(a3)[0,0,:,:]\n",
    "                # hot4 = big22(a4)[0,0,:,:]\n",
    "                #\n",
    "                # hot = hot1+hot2+hot3+hot4\n",
    "                #\n",
    "                # hot = hot.cpu().numpy()\n",
    "                #\n",
    "                # hot_list.append(hot)\n",
    "\n",
    "\n",
    "                # box\n",
    "                # patch_centers.append(cliploss.patch_points.tolist())\n",
    "                # patch_sizes.append(cliploss.patch_size)\n",
    "                #\n",
    "                # pic_patched.append(model(input))\n",
    "\n",
    "                pass\n",
    "\n",
    "\n",
    "\n",
    "\n",
    "    # return  model(input)\n",
    "    # neo_pic = model(input)\n",
    "    # pil = topil(neo_pic.squeeze(0).cpu())\n",
    "    # # pil.save(f\"{source}-{target}.jpg\")\n",
    "    # pil.save(path)\n",
    "\n",
    "\n",
    "\n"
   ],
   "metadata": {
    "collapsed": false,
    "pycharm": {
     "name": "#%%\n"
    }
   }
  },
  {
   "cell_type": "code",
   "execution_count": 13,
   "outputs": [
    {
     "name": "stdout",
     "output_type": "stream",
     "text": [
      "iter: 1 loss: 0.07643882930278778\n",
      "iter: 2 loss: 0.036234065890312195\n",
      "iter: 3 loss: 0.020669732242822647\n",
      "iter: 4 loss: 0.01294673141092062\n",
      "iter: 5 loss: 0.00898760836571455\n",
      "iter: 6 loss: 0.006363959517329931\n",
      "iter: 7 loss: 0.004624814726412296\n",
      "iter: 8 loss: 0.003473344026133418\n",
      "iter: 9 loss: 0.002706014085561037\n",
      "iter: 10 loss: 0.0022000917233526707\n",
      "iter: 11 loss: 0.0018744789995253086\n",
      "iter: 12 loss: 0.0016694634687155485\n",
      "iter: 13 loss: 0.0015359390527009964\n",
      "iter: 14 loss: 0.0014406394911929965\n",
      "iter: 15 loss: 0.0013631874462589622\n",
      "iter: 16 loss: 0.0012931417440995574\n",
      "iter: 17 loss: 0.0012258937349542975\n",
      "iter: 18 loss: 0.0011601311853155494\n",
      "iter: 19 loss: 0.0011041159741580486\n",
      "iter: 20 loss: 0.0010709917405620217\n",
      "iter: 21 loss: 0.0010512062581256032\n",
      "iter: 22 loss: 0.0010294762905687094\n",
      "iter: 23 loss: 0.0010077523766085505\n",
      "iter: 24 loss: 0.0009884354658424854\n",
      "iter: 25 loss: 0.000969158485531807\n",
      "iter: 26 loss: 0.000945486593991518\n",
      "iter: 27 loss: 0.0009160058107227087\n",
      "iter: 28 loss: 0.0008835191838443279\n",
      "iter: 29 loss: 0.0008522762800566852\n",
      "iter: 30 loss: 0.0008252753759734333\n",
      "iter: 31 loss: 0.0008020193781703711\n",
      "iter: 32 loss: 0.000779620255343616\n",
      "iter: 33 loss: 0.0007557515054941177\n",
      "iter: 34 loss: 0.0007306573679670691\n",
      "iter: 35 loss: 0.000706060032825917\n",
      "iter: 36 loss: 0.0006832383805885911\n",
      "iter: 37 loss: 0.0006625025416724384\n",
      "iter: 38 loss: 0.0006438029231503606\n",
      "iter: 39 loss: 0.00062725500902161\n",
      "iter: 40 loss: 0.000612810195889324\n",
      "iter: 41 loss: 0.0005997685366310179\n",
      "iter: 42 loss: 0.0005869668675586581\n",
      "iter: 43 loss: 0.0005733980797231197\n",
      "iter: 44 loss: 0.0005588802741840482\n",
      "iter: 45 loss: 0.000544254609849304\n",
      "iter: 46 loss: 0.0005308641120791435\n",
      "iter: 47 loss: 0.0005196504644118249\n",
      "iter: 48 loss: 0.000510489335283637\n",
      "iter: 49 loss: 0.0005024015554226935\n",
      "iter: 50 loss: 0.0004944105166941881\n",
      "iter: 51 loss: 0.00048610445810481906\n",
      "iter: 52 loss: 0.00047766658826731145\n",
      "iter: 53 loss: 0.0004694536910392344\n",
      "iter: 54 loss: 0.00046164478408172727\n",
      "iter: 55 loss: 0.00045424519339576364\n",
      "iter: 56 loss: 0.0004472188593354076\n",
      "iter: 57 loss: 0.0004405248328112066\n",
      "iter: 58 loss: 0.00043402714072726667\n",
      "iter: 59 loss: 0.00042751184082590044\n",
      "iter: 60 loss: 0.00042086499161086977\n",
      "iter: 61 loss: 0.000414190290030092\n",
      "iter: 62 loss: 0.00040774792432785034\n",
      "iter: 63 loss: 0.00040167756378650665\n",
      "iter: 64 loss: 0.00039590601227246225\n",
      "iter: 65 loss: 0.0003902821335941553\n",
      "iter: 66 loss: 0.00038474920438602567\n",
      "iter: 67 loss: 0.00037935812724754214\n",
      "iter: 68 loss: 0.0003741436521522701\n",
      "iter: 69 loss: 0.0003690889570862055\n",
      "iter: 70 loss: 0.000364177132723853\n",
      "iter: 71 loss: 0.0003594052395783365\n",
      "iter: 72 loss: 0.0003547738306224346\n",
      "iter: 73 loss: 0.0003502386389300227\n",
      "iter: 74 loss: 0.0003457599668763578\n",
      "iter: 75 loss: 0.0003413586819078773\n",
      "iter: 76 loss: 0.0003371125494595617\n",
      "iter: 77 loss: 0.00033307180274277925\n",
      "iter: 78 loss: 0.0003292218898423016\n",
      "iter: 79 loss: 0.00032551822368986905\n",
      "iter: 80 loss: 0.0003219334757886827\n",
      "iter: 81 loss: 0.00031845562625676394\n",
      "iter: 82 loss: 0.0003150657285004854\n",
      "iter: 83 loss: 0.00031174783362075686\n",
      "iter: 84 loss: 0.00030850077746436\n",
      "iter: 85 loss: 0.0003053350083064288\n",
      "iter: 86 loss: 0.00030224703368730843\n",
      "iter: 87 loss: 0.0002992074587382376\n",
      "iter: 88 loss: 0.00029619329143315554\n",
      "iter: 89 loss: 0.0002932078787125647\n",
      "iter: 90 loss: 0.0002902710693888366\n",
      "iter: 91 loss: 0.00028739109984599054\n",
      "iter: 92 loss: 0.000284558511339128\n",
      "iter: 93 loss: 0.0002817613712977618\n",
      "iter: 94 loss: 0.0002790011640172452\n",
      "iter: 95 loss: 0.0002762846415862441\n",
      "iter: 96 loss: 0.0002736085734795779\n",
      "iter: 97 loss: 0.00027097100974060595\n",
      "iter: 98 loss: 0.0002683724742382765\n",
      "iter: 99 loss: 0.00026581529527902603\n",
      "iter: 100 loss: 0.0002632982796058059\n",
      "iter: 1 fast_loss: 4755.9814453125 slow_loss: 4072.76904296875\n",
      "iter: 1 loss: 9298.181640625\n",
      "iter: 2 fast_loss: 4272.5830078125 slow_loss: 4122.7568359375\n",
      "iter: 2 loss: 8843.771484375\n",
      "iter: 3 fast_loss: 3947.73095703125 slow_loss: 4068.511962890625\n",
      "iter: 3 loss: 8437.4267578125\n",
      "iter: 4 fast_loss: 3581.474365234375 slow_loss: 4178.44384765625\n",
      "iter: 4 loss: 8170.3564453125\n",
      "iter: 5 fast_loss: 3621.917724609375 slow_loss: 3961.12060546875\n",
      "iter: 5 loss: 7987.48046875\n",
      "iter: 6 fast_loss: 3396.697998046875 slow_loss: 3973.548828125\n",
      "iter: 6 loss: 7765.9423828125\n",
      "iter: 7 fast_loss: 3011.833251953125 slow_loss: 4224.10595703125\n",
      "iter: 7 loss: 7617.63818359375\n",
      "iter: 8 fast_loss: 2940.69677734375 slow_loss: 4050.727783203125\n",
      "iter: 8 loss: 7361.3759765625\n",
      "iter: 9 fast_loss: 3310.5927734375 slow_loss: 3426.017822265625\n",
      "iter: 9 loss: 7093.56591796875\n",
      "iter: 10 fast_loss: 2120.429931640625 slow_loss: 3651.374755859375\n",
      "iter: 10 loss: 6116.76416015625\n",
      "iter: 11 fast_loss: 1201.629638671875 slow_loss: 3693.672119140625\n",
      "iter: 11 loss: 5232.51513671875\n",
      "iter: 12 fast_loss: 106.08673095703125 slow_loss: 3891.975341796875\n",
      "iter: 12 loss: 4326.529296875\n",
      "iter: 13 fast_loss: 101.7608642578125 slow_loss: 3662.773193359375\n",
      "iter: 13 loss: 4081.75439453125\n",
      "iter: 14 fast_loss: 97.0916748046875 slow_loss: 3645.12646484375\n",
      "iter: 14 loss: 4049.19091796875\n",
      "iter: 15 fast_loss: 95.7183837890625 slow_loss: 3373.35205078125\n",
      "iter: 15 loss: 3768.044921875\n",
      "iter: 16 fast_loss: 181.1370849609375 slow_loss: 3365.043701171875\n",
      "iter: 16 loss: 3836.40625\n",
      "iter: 17 fast_loss: 92.07916259765625 slow_loss: 3219.818115234375\n",
      "iter: 17 loss: 3595.373291015625\n",
      "iter: 18 fast_loss: 173.51531982421875 slow_loss: 2824.516357421875\n",
      "iter: 18 loss: 3275.008544921875\n",
      "iter: 19 fast_loss: 92.90313720703125 slow_loss: 2745.4833984375\n",
      "iter: 19 loss: 3108.61376953125\n",
      "iter: 20 fast_loss: 162.7349853515625 slow_loss: 2823.8984375\n",
      "iter: 20 loss: 3250.6103515625\n",
      "iter: 21 fast_loss: 83.70208740234375 slow_loss: 2768.142578125\n",
      "iter: 21 loss: 3113.8212890625\n",
      "iter: 22 fast_loss: 88.3026123046875 slow_loss: 2963.97412109375\n",
      "iter: 22 loss: 3309.253173828125\n",
      "iter: 23 fast_loss: 235.7940673828125 slow_loss: 2408.271728515625\n",
      "iter: 23 loss: 2895.04248046875\n",
      "iter: 24 fast_loss: 85.07537841796875 slow_loss: 2736.83154296875\n",
      "iter: 24 loss: 3069.00927734375\n",
      "iter: 25 fast_loss: 298.4161376953125 slow_loss: 2483.66552734375\n",
      "iter: 25 loss: 3026.9345703125\n",
      "iter: 26 fast_loss: 78.55224609375 slow_loss: 2384.033203125\n",
      "iter: 26 loss: 2704.0634765625\n",
      "iter: 27 fast_loss: 147.3541259765625 slow_loss: 2431.343017578125\n",
      "iter: 27 loss: 2815.30029296875\n",
      "iter: 28 fast_loss: 147.0794677734375 slow_loss: 2412.46044921875\n",
      "iter: 28 loss: 2792.141845703125\n",
      "iter: 29 fast_loss: 77.45361328125 slow_loss: 2464.302001953125\n",
      "iter: 29 loss: 2771.98095703125\n",
      "iter: 30 fast_loss: 78.826904296875 slow_loss: 2730.65185546875\n",
      "iter: 30 loss: 3037.70166015625\n",
      "iter: 31 fast_loss: 78.20892333984375 slow_loss: 2402.36669921875\n",
      "iter: 31 loss: 2706.421142578125\n",
      "iter: 32 fast_loss: 76.2176513671875 slow_loss: 2302.116455078125\n",
      "iter: 32 loss: 2601.92822265625\n",
      "iter: 33 fast_loss: 75.9429931640625 slow_loss: 2219.0322265625\n",
      "iter: 33 loss: 2517.318603515625\n",
      "iter: 34 fast_loss: 72.71575927734375 slow_loss: 2405.45654296875\n",
      "iter: 34 loss: 2699.639404296875\n",
      "iter: 35 fast_loss: 73.1964111328125 slow_loss: 2324.981689453125\n",
      "iter: 35 loss: 2619.394287109375\n",
      "iter: 36 fast_loss: 77.8656005859375 slow_loss: 2131.072998046875\n",
      "iter: 36 loss: 2431.02978515625\n",
      "iter: 37 fast_loss: 76.080322265625 slow_loss: 2132.65234375\n",
      "iter: 37 loss: 2429.198486328125\n",
      "iter: 38 fast_loss: 76.4923095703125 slow_loss: 2241.623046875\n",
      "iter: 38 loss: 2534.82958984375\n",
      "iter: 39 fast_loss: 141.38031005859375 slow_loss: 2302.734375\n",
      "iter: 39 loss: 2657.9541015625\n",
      "iter: 40 fast_loss: 73.4710693359375 slow_loss: 2040.435791015625\n",
      "iter: 40 loss: 2326.24609375\n",
      "iter: 41 fast_loss: 76.629638671875 slow_loss: 2313.17138671875\n",
      "iter: 41 loss: 2601.01416015625\n",
      "iter: 42 fast_loss: 75.9429931640625 slow_loss: 2055.748046875\n",
      "iter: 42 loss: 2342.65283203125\n",
      "iter: 43 fast_loss: 76.7669677734375 slow_loss: 2194.244384765625\n",
      "iter: 43 loss: 2486.09716796875\n",
      "iter: 44 fast_loss: 70.86181640625 slow_loss: 2267.3720703125\n",
      "iter: 44 loss: 2549.819091796875\n",
      "iter: 45 fast_loss: 74.50103759765625 slow_loss: 2108.207763671875\n",
      "iter: 45 loss: 2393.419921875\n",
      "iter: 46 fast_loss: 72.784423828125 slow_loss: 2104.84326171875\n",
      "iter: 46 loss: 2386.589111328125\n",
      "iter: 47 fast_loss: 74.0203857421875 slow_loss: 2094.818115234375\n",
      "iter: 47 loss: 2377.049072265625\n",
      "iter: 48 fast_loss: 77.728271484375 slow_loss: 2001.8463134765625\n",
      "iter: 48 loss: 2286.283935546875\n",
      "iter: 49 fast_loss: 73.6083984375 slow_loss: 2105.94189453125\n",
      "iter: 49 loss: 2383.63330078125\n",
      "iter: 50 fast_loss: 75.3936767578125 slow_loss: 2371.673583984375\n",
      "iter: 50 loss: 2654.272705078125\n",
      "iter: 51 fast_loss: 74.15771484375 slow_loss: 2296.8291015625\n",
      "iter: 51 loss: 2580.440673828125\n",
      "iter: 52 fast_loss: 77.178955078125 slow_loss: 2387.947021484375\n",
      "iter: 52 loss: 2670.955078125\n",
      "iter: 53 fast_loss: 74.2950439453125 slow_loss: 2448.234619140625\n",
      "iter: 53 loss: 2725.3583984375\n",
      "iter: 54 fast_loss: 76.2176513671875 slow_loss: 2264.96875\n",
      "iter: 54 loss: 2547.014892578125\n",
      "iter: 55 fast_loss: 83.0841064453125 slow_loss: 2436.767578125\n",
      "iter: 55 loss: 2723.18212890625\n",
      "iter: 56 fast_loss: 84.93804931640625 slow_loss: 2237.091064453125\n",
      "iter: 56 loss: 2520.23486328125\n",
      "iter: 57 fast_loss: 86.6546630859375 slow_loss: 2208.59521484375\n",
      "iter: 57 loss: 2494.95458984375\n",
      "iter: 58 fast_loss: 92.83447265625 slow_loss: 2226.37939453125\n",
      "iter: 58 loss: 2522.54248046875\n",
      "iter: 59 fast_loss: 92.559814453125 slow_loss: 2262.84033203125\n",
      "iter: 59 loss: 2560.97802734375\n",
      "iter: 60 fast_loss: 90.7745361328125 slow_loss: 2376.20556640625\n",
      "iter: 60 loss: 2673.93408203125\n",
      "iter: 61 fast_loss: 91.94183349609375 slow_loss: 2100.5859375\n",
      "iter: 61 loss: 2393.609375\n",
      "iter: 62 fast_loss: 92.1478271484375 slow_loss: 2013.6566162109375\n",
      "iter: 62 loss: 2307.63720703125\n",
      "iter: 63 fast_loss: 153.05328369140625 slow_loss: 1873.786865234375\n",
      "iter: 63 loss: 2231.172607421875\n",
      "iter: 64 fast_loss: 94.3450927734375 slow_loss: 2314.8193359375\n",
      "iter: 64 loss: 2616.37255859375\n",
      "iter: 65 fast_loss: 95.306396484375 slow_loss: 2314.338623046875\n",
      "iter: 65 loss: 2613.978759765625\n",
      "iter: 66 fast_loss: 91.94183349609375 slow_loss: 2313.239990234375\n",
      "iter: 66 loss: 2609.016357421875\n",
      "iter: 67 fast_loss: 89.9505615234375 slow_loss: 2200.21826171875\n",
      "iter: 67 loss: 2492.75537109375\n",
      "iter: 68 fast_loss: 89.1265869140625 slow_loss: 2649.627685546875\n",
      "iter: 68 loss: 2943.59130859375\n",
      "iter: 69 fast_loss: 82.74078369140625 slow_loss: 2227.68408203125\n",
      "iter: 69 loss: 2515.762939453125\n",
      "iter: 70 fast_loss: 80.40618896484375 slow_loss: 2769.378662109375\n",
      "iter: 70 loss: 3056.24755859375\n",
      "iter: 71 fast_loss: 85.0067138671875 slow_loss: 2455.58154296875\n",
      "iter: 71 loss: 2750.050048828125\n",
      "iter: 72 fast_loss: 96.954345703125 slow_loss: 2329.44482421875\n",
      "iter: 72 loss: 2638.4853515625\n",
      "iter: 73 fast_loss: 89.4012451171875 slow_loss: 2456.130859375\n",
      "iter: 73 loss: 2751.493408203125\n",
      "iter: 74 fast_loss: 89.6759033203125 slow_loss: 2508.453369140625\n",
      "iter: 74 loss: 2801.215576171875\n",
      "iter: 75 fast_loss: 93.7957763671875 slow_loss: 2530.01416015625\n",
      "iter: 75 loss: 2825.646240234375\n",
      "iter: 76 fast_loss: 94.0704345703125 slow_loss: 2519.439697265625\n",
      "iter: 76 loss: 2817.595947265625\n",
      "iter: 77 fast_loss: 96.6796875 slow_loss: 2871.894775390625\n",
      "iter: 77 loss: 3171.41015625\n",
      "iter: 78 fast_loss: 94.82574462890625 slow_loss: 2564.96435546875\n",
      "iter: 78 loss: 2860.8759765625\n",
      "iter: 79 fast_loss: 93.109130859375 slow_loss: 2874.0234375\n",
      "iter: 79 loss: 3171.968505859375\n",
      "iter: 80 fast_loss: 92.9718017578125 slow_loss: 2420.15087890625\n",
      "iter: 80 loss: 2719.833984375\n",
      "iter: 81 fast_loss: 168.64013671875 slow_loss: 2587.966796875\n",
      "iter: 81 loss: 2964.0693359375\n",
      "iter: 82 fast_loss: 103.6834716796875 slow_loss: 2650.520263671875\n",
      "iter: 82 loss: 2964.166748046875\n",
      "iter: 83 fast_loss: 104.16412353515625 slow_loss: 2763.542236328125\n",
      "iter: 83 loss: 3079.29443359375\n",
      "iter: 84 fast_loss: 96.2677001953125 slow_loss: 2896.13330078125\n",
      "iter: 84 loss: 3203.11328125\n",
      "iter: 85 fast_loss: 99.8382568359375 slow_loss: 3173.19482421875\n",
      "iter: 85 loss: 3483.74462890625\n",
      "iter: 86 fast_loss: 99.42626953125 slow_loss: 2462.310791015625\n",
      "iter: 86 loss: 2766.5732421875\n",
      "iter: 87 fast_loss: 102.5848388671875 slow_loss: 2783.04296875\n",
      "iter: 87 loss: 3087.7138671875\n",
      "iter: 88 fast_loss: 99.8382568359375 slow_loss: 2498.703125\n",
      "iter: 88 loss: 2797.751953125\n",
      "iter: 89 fast_loss: 92.9718017578125 slow_loss: 2624.77099609375\n",
      "iter: 89 loss: 2917.703125\n",
      "iter: 90 fast_loss: 90.7745361328125 slow_loss: 2991.5771484375\n",
      "iter: 90 loss: 3286.9365234375\n",
      "iter: 91 fast_loss: 91.39251708984375 slow_loss: 3226.34130859375\n",
      "iter: 91 loss: 3523.5673828125\n",
      "iter: 92 fast_loss: 93.93310546875 slow_loss: 2739.715576171875\n",
      "iter: 92 loss: 3041.85595703125\n",
      "iter: 93 fast_loss: 96.954345703125 slow_loss: 2720.626953125\n",
      "iter: 93 loss: 3026.53857421875\n",
      "iter: 94 fast_loss: 176.33056640625 slow_loss: 3003.4560546875\n",
      "iter: 94 loss: 3386.49365234375\n",
      "iter: 95 fast_loss: 101.07421875 slow_loss: 2889.335693359375\n",
      "iter: 95 loss: 3194.9921875\n",
      "iter: 96 fast_loss: 94.6197509765625 slow_loss: 3140.78515625\n",
      "iter: 96 loss: 3439.7373046875\n",
      "iter: 97 fast_loss: 96.2677001953125 slow_loss: 3373.283447265625\n",
      "iter: 97 loss: 3676.509765625\n",
      "iter: 98 fast_loss: 174.2706298828125 slow_loss: 3460.35009765625\n",
      "iter: 98 loss: 3839.20556640625\n",
      "iter: 99 fast_loss: 102.3101806640625 slow_loss: 3316.63525390625\n",
      "iter: 99 loss: 3619.78125\n",
      "iter: 100 fast_loss: 99.0142822265625 slow_loss: 3113.86865234375\n",
      "iter: 100 loss: 3417.46826171875\n",
      "usetime: 78.65507388114929\n"
     ]
    },
    {
     "name": "stderr",
     "output_type": "stream",
     "text": [
      "C:\\Users\\win10\\AppData\\Local\\Temp\\ipykernel_25716\\704315284.py:31: DeprecationWarning: BICUBIC is deprecated and will be removed in Pillow 10 (2023-07-01). Use Resampling.BICUBIC instead.\n",
      "  pil = transforms.Resize(size=ori_size, interpolation=Image.BICUBIC)(pil)\n",
      "C:\\Users\\win10\\AppData\\Local\\Temp\\ipykernel_25716\\704315284.py:133: DeprecationWarning: BICUBIC is deprecated and will be removed in Pillow 10 (2023-07-01). Use Resampling.BICUBIC instead.\n",
      "  pil = transforms.Resize(size=ori_size, interpolation=Image.BICUBIC)(pil)\n"
     ]
    }
   ],
   "source": [
    "start = time.time()\n",
    "train(100, 100, pic, source, target)\n",
    "end = time.time()\n",
    "usetime = end - start\n",
    "print(f\"usetime: {usetime}\")"
   ],
   "metadata": {
    "collapsed": false,
    "pycharm": {
     "name": "#%%\n"
    }
   }
  },
  {
   "cell_type": "code",
   "execution_count": 14,
   "outputs": [
    {
     "name": "stderr",
     "output_type": "stream",
     "text": [
      "C:\\Users\\win10\\AppData\\Local\\Temp\\ipykernel_25716\\1981065163.py:3: DeprecationWarning: BICUBIC is deprecated and will be removed in Pillow 10 (2023-07-01). Use Resampling.BICUBIC instead.\n",
      "  pil = transforms.Resize(size=ori_size, interpolation=Image.BICUBIC)(pil)\n"
     ]
    }
   ],
   "source": [
    "neo_pic = model(pic)\n",
    "pil = topil(neo_pic.squeeze(0).cpu())\n",
    "pil = transforms.Resize(size=ori_size, interpolation=Image.BICUBIC)(pil)\n",
    "pil.save(path)\n"
   ],
   "metadata": {
    "collapsed": false,
    "pycharm": {
     "name": "#%%\n"
    }
   }
  },
  {
   "cell_type": "code",
   "execution_count": 15,
   "outputs": [],
   "source": [
    "# patch.eps\n",
    "# patch_file.close()"
   ],
   "metadata": {
    "collapsed": false,
    "pycharm": {
     "name": "#%%\n"
    }
   }
  },
  {
   "cell_type": "code",
   "execution_count": 16,
   "outputs": [],
   "source": [
    "file_uu = open(\"neo_uu.txt\", \"r\")\n",
    "read_loss_li = file_uu.readline()\n",
    "read_loss_li = [float(x) for x in read_loss_li.split()]\n",
    "if not read_loss_li:\n",
    "    read_loss_li = [0]*100\n",
    "cur_times = int(file_uu.readline())\n",
    "file_uu.close()"
   ],
   "metadata": {
    "collapsed": false,
    "pycharm": {
     "name": "#%%\n"
    }
   }
  },
  {
   "cell_type": "code",
   "execution_count": 17,
   "outputs": [
    {
     "data": {
      "text/plain": "[<matplotlib.lines.Line2D at 0x29f77ac98e0>]"
     },
     "execution_count": 17,
     "metadata": {},
     "output_type": "execute_result"
    },
    {
     "data": {
      "text/plain": "<Figure size 640x480 with 1 Axes>",
      "image/png": "[encoded data removed]"
     },
     "metadata": {},
     "output_type": "display_data"
    }
   ],
   "source": [
    "import matplotlib.pyplot as plt\n",
    "x = [i for i in range(100)]\n",
    "plt.plot(x,loss_li[:100],color=\"red\",marker=\"o\")\n",
    "\n"
   ],
   "metadata": {
    "collapsed": false,
    "pycharm": {
     "name": "#%%\n"
    }
   }
  },
  {
   "cell_type": "code",
   "execution_count": 18,
   "outputs": [],
   "source": [
    "# for i in range(100):\n",
    "#     loss_li[i]+=read_loss_li[i]\n",
    "# with open(file = \"neo_uu.txt\", mode = \"w\") as file:\n",
    "#     for i in loss_li:\n",
    "#         file.write(str(i)+\" \")\n",
    "#     file.write(\"\\n\")\n",
    "#     file.write(str(cur_times+1))\n"
   ],
   "metadata": {
    "collapsed": false,
    "pycharm": {
     "name": "#%%\n"
    }
   }
  },
  {
   "cell_type": "code",
   "execution_count": 19,
   "outputs": [],
   "source": [
    "# x = [i for i in range(100)]\n",
    "# plt.plot(x,gli,color=\"red\",marker=\"o\")"
   ],
   "metadata": {
    "collapsed": false,
    "pycharm": {
     "name": "#%%\n"
    }
   }
  },
  {
   "cell_type": "code",
   "execution_count": 20,
   "outputs": [],
   "source": [
    "# show loss\n",
    "\n",
    "# x = [i for i in range(100)]\n",
    "# plt.plot(x,dli,color=\"red\",marker=\"o\")"
   ],
   "metadata": {
    "collapsed": false,
    "pycharm": {
     "name": "#%%\n"
    }
   }
  },
  {
   "cell_type": "code",
   "execution_count": 21,
   "outputs": [],
   "source": [
    "# show loss\n",
    "\n",
    "# x = [i for i in range(100)]\n",
    "# plt.plot(x,nli,color=\"red\",marker=\"o\")"
   ],
   "metadata": {
    "collapsed": false,
    "pycharm": {
     "name": "#%%\n"
    }
   }
  },
  {
   "cell_type": "code",
   "execution_count": 22,
   "outputs": [],
   "source": [
    "# show loss\n",
    "\n",
    "# x = [i for i in range(100)]\n",
    "# li = [dli[i]+nli[i] for i in range(100)]\n",
    "# plt.plot(x,li,color=\"red\",marker=\"o\")"
   ],
   "metadata": {
    "collapsed": false,
    "pycharm": {
     "name": "#%%\n"
    }
   }
  },
  {
   "cell_type": "code",
   "execution_count": 23,
   "outputs": [],
   "source": [
    "# show loss\n",
    "\n",
    "# x = [i for i in range(100)]\n",
    "# li = [x/64 for x in cliploss.right_patch]\n",
    "# plt.plot(x,li,color=\"red\",marker=\"o\")"
   ],
   "metadata": {
    "collapsed": false,
    "pycharm": {
     "name": "#%%\n"
    }
   }
  },
  {
   "cell_type": "code",
   "execution_count": 24,
   "outputs": [],
   "source": [
    "# show loss\n",
    "\n",
    "# print(sum(cliploss.right_patch)/6400)"
   ],
   "metadata": {
    "collapsed": false,
    "pycharm": {
     "name": "#%%\n"
    }
   }
  },
  {
   "cell_type": "code",
   "execution_count": 25,
   "outputs": [],
   "source": [
    "# show hot\n",
    "\n",
    "# i = 0\n",
    "# for hot in hot_list:\n",
    "#     fig,_ = plt.subplots()\n",
    "#     plt.imshow(hot)\n",
    "#     plt.tight_layout()\n",
    "#     plt.show()\n",
    "#     fig.savefig(f'./hot/{i}.eps',dpi=600,format='eps')\n",
    "#     i+=1"
   ],
   "metadata": {
    "collapsed": false,
    "pycharm": {
     "name": "#%%\n"
    }
   }
  },
  {
   "cell_type": "code",
   "execution_count": 26,
   "outputs": [
    {
     "name": "stderr",
     "output_type": "stream",
     "text": [
      "C:\\Users\\win10\\AppData\\Local\\Temp\\ipykernel_25716\\3158203136.py:26: DeprecationWarning: BICUBIC is deprecated and will be removed in Pillow 10 (2023-07-01). Use Resampling.BICUBIC instead.\n",
      "  pil = transforms.Resize(size=ori_size, interpolation=Image.BICUBIC)(pil)\n",
      "E:\\Anaconda\\envs\\sth\\lib\\site-packages\\torchvision\\transforms\\transforms.py:257: UserWarning: Argument interpolation should be of type InterpolationMode instead of int. Please, use InterpolationMode enum.\n",
      "  warnings.warn(\n"
     ]
    }
   ],
   "source": [
    "# box\n",
    "\n",
    "# for j in range(8):\n",
    "#     pic = pic_patched[j]\n",
    "#     size = patch_sizes[j]\n",
    "#     points = patch_centers[j]\n",
    "# \n",
    "#     hsize = size//2\n",
    "# \n",
    "#     for y,x in points:\n",
    "#         for i in range(-hsize, hsize+1):\n",
    "#             pic[0][0][y+i][x+hsize] = 1\n",
    "#             pic[0][0][y+i][x-hsize] = 1\n",
    "#             pic[0][0][y+hsize][x+i] = 1\n",
    "#             pic[0][0][y-hsize][x+i] = 1\n",
    "# \n",
    "#             pic[0][1][y+i][x+hsize] = 0\n",
    "#             pic[0][1][y+i][x-hsize] = 0\n",
    "#             pic[0][1][y+hsize][x+i] = 0\n",
    "#             pic[0][1][y-hsize][x+i] = 0\n",
    "# \n",
    "#             pic[0][2][y+i][x+hsize] = 0\n",
    "#             pic[0][2][y+i][x-hsize] = 0\n",
    "#             pic[0][2][y+hsize][x+i] = 0\n",
    "#             pic[0][2][y-hsize][x+i] = 0\n",
    "# \n",
    "#     pil = topil(pic.squeeze(0).cpu())\n",
    "#     pil = transforms.Resize(size=ori_size, interpolation=Image.BICUBIC)(pil)\n",
    "# \n",
    "#     pil.save(f\"box/{list_selected[j]+1}.jpg\")"
   ],
   "metadata": {
    "collapsed": false,
    "pycharm": {
     "name": "#%%\n"
    }
   }
  }
 ],
 "metadata": {
  "kernelspec": {
   "display_name": "Python 3",
   "language": "python",
   "name": "python3"
  },
  "language_info": {
   "codemirror_mode": {
    "name": "ipython",
    "version": 2
   },
   "file_extension": ".py",
   "mimetype": "text/x-python",
   "name": "python",
   "nbconvert_exporter": "python",
   "pygments_lexer": "ipython2",
   "version": "2.7.6"
  }
 },
 "nbformat": 4,
 "nbformat_minor": 0
}