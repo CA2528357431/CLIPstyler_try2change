{
 "cells": [
  {
   "cell_type": "code",
   "execution_count": 1,
   "metadata": {
    "collapsed": true
   },
   "outputs": [],
   "source": [
    "import torch\n",
    "import torch.optim as optim\n",
    "import torchvision\n",
    "import torchvision.transforms as transforms\n",
    "from PIL import Image\n",
    "\n",
    "from network.mynetwork_uu import Unet\n",
    "from loss.loss import CLIPLoss\n",
    "from utils.func import get_features,vgg_normalize\n",
    "\n",
    "import time"
   ]
  },
  {
   "cell_type": "code",
   "execution_count": 2,
   "outputs": [
    {
     "name": "stdout",
     "output_type": "stream",
     "text": [
      "cuda\n",
      "True\n"
     ]
    }
   ],
   "source": [
    "device = \"cuda\" if torch.cuda.is_available() else \"cpu\"\n",
    "print(device)\n",
    "print(torch.cuda.is_available())"
   ],
   "metadata": {
    "collapsed": false,
    "pycharm": {
     "name": "#%%\n"
    }
   }
  },
  {
   "cell_type": "code",
   "execution_count": 3,
   "outputs": [],
   "source": [
    "model = Unet(device).to(device)\n",
    "# model = Unet().to(device)\n",
    "cliploss = CLIPLoss(device)\n",
    "mseloss = torch.nn.MSELoss()\n",
    "# vgg = torchvision.models.vgg19(pretrained=True).features.to(device)\n",
    "# for x in vgg.parameters():\n",
    "#     x.requires_grad = False\n",
    "\n",
    "topil = transforms.ToPILImage()\n",
    "topic = transforms.ToTensor()"
   ],
   "metadata": {
    "collapsed": false,
    "pycharm": {
     "name": "#%%\n"
    }
   }
  },
  {
   "cell_type": "code",
   "execution_count": 4,
   "outputs": [],
   "source": [
    "lr1 = 0.001\n",
    "lr2 = 0.0003\n",
    "\n",
    "# lr_fast = 0.0003\n",
    "# lr_slow = 0.0004\n",
    "\n",
    "dir_lambda = 500\n",
    "content_lambda = 150\n",
    "patch_lambda = 9000\n",
    "norm_lambda = 0.002\n",
    "gol_lambda = 300\n"
   ],
   "metadata": {
    "collapsed": false,
    "pycharm": {
     "name": "#%%\n"
    }
   }
  },
  {
   "cell_type": "code",
   "execution_count": 5,
   "outputs": [],
   "source": [
    "file_uu = open(\"neo0.txt\", \"r\")\n",
    "loss_li = file_uu.readline()\n",
    "loss_li = [float(x) for x in loss_li.split()]\n",
    "# loss_li = None\n",
    "if not loss_li:\n",
    "    loss_li = [0]*100\n",
    "\n",
    "cur_times = int(file_uu.readline())\n",
    "# cur_times = 0\n",
    "\n",
    "f = open(f\"./data/nums.txt\", mode=\"w\")\n",
    "\n"
   ],
   "metadata": {
    "collapsed": false,
    "pycharm": {
     "name": "#%%\n"
    }
   }
  },
  {
   "cell_type": "code",
   "execution_count": 6,
   "outputs": [
    {
     "name": "stderr",
     "output_type": "stream",
     "text": [
      "C:\\Users\\win10\\AppData\\Local\\Temp\\ipykernel_33972\\3157900915.py:4: DeprecationWarning: BICUBIC is deprecated and will be removed in Pillow 10 (2023-07-01). Use Resampling.BICUBIC instead.\n",
      "  pil = transforms.Resize(size=(512, 512), interpolation=Image.BICUBIC)(pil)\n",
      "E:\\Anaconda\\envs\\sth\\lib\\site-packages\\torchvision\\transforms\\transforms.py:257: UserWarning: Argument interpolation should be of type InterpolationMode instead of int. Please, use InterpolationMode enum.\n",
      "  warnings.warn(\n"
     ]
    }
   ],
   "source": [
    "pil = Image.open(f\"./source_pic/face2.jpeg\")\n",
    "# pil = Image.open(f\"resulto.jpg\")\n",
    "ori_size = pil.size[::-1]\n",
    "pil = transforms.Resize(size=(512, 512), interpolation=Image.BICUBIC)(pil)\n",
    "pic = topic(pil).unsqueeze(0).to(device)\n",
    "# pic = torch.ones(1, 3, 512, 512).to(device)\n",
    "pic.requires_grad = False\n",
    "# pic[:,1,:,:] = 0"
   ],
   "metadata": {
    "collapsed": false,
    "pycharm": {
     "name": "#%%\n"
    }
   }
  },
  {
   "cell_type": "code",
   "execution_count": 7,
   "outputs": [],
   "source": [
    "source = \"photo\"\n",
    "# source = \"cat\"\n",
    "# source = \"CG picture\"\n",
    "# source = \"happy\"\n",
    "# source = \"man\"\n",
    "# source = \"cartoon\"\n",
    "# source = \"white swan\"\n",
    "\n",
    "# target = \"black swan\"\n",
    "# target = \"Mark Elliot Zuckerberg\"\n",
    "# target = \"angry\"\n",
    "# target = \"girl\"\n",
    "# target = \"Neon Light\"\n",
    "# target = \"black car\"\n",
    "# target = \"pop art\"\n",
    "# target = \"old man\"\n",
    "# target = \"Watercolor Art with Thick Brush\"\n",
    "# target = \"Pixar\"\n",
    "# target = \"watercolor painting\"\n",
    "# target = \"starry night by Van Gogh\"\n",
    "# target = \"the scream by Edvard Munch\"\n",
    "# target = \"Monet\"\n",
    "# target = \"cyberpunk 2077\"\n",
    "# target = \"oil painting of flowers\"\n",
    "# target = \"man with dark black skin and black hair\"\n",
    "# target = \"The great wave off kanagawa by Hokusai\"\n",
    "# target = \"mosaic\"\n",
    "# target = \"fire\"\n",
    "# target = \"Chinese Brush Painting of mountains in black and white\"\n",
    "# target = \"gold\"\n",
    "# target = \"sketch by Crayon\"\n",
    "target = \"pop art of night city\"\n",
    "# target = \"a cubism style painting\"\n",
    "# target = \"Cartoon\"\n",
    "# target = \"anime\"\n"
   ],
   "metadata": {
    "collapsed": false,
    "pycharm": {
     "name": "#%%\n"
    }
   }
  },
  {
   "cell_type": "code",
   "execution_count": 8,
   "outputs": [],
   "source": [
    "path = \"result/result01.jpg\""
   ],
   "metadata": {
    "collapsed": false,
    "pycharm": {
     "name": "#%%\n"
    }
   }
  },
  {
   "cell_type": "code",
   "execution_count": 9,
   "outputs": [],
   "source": [
    "gli = []\n",
    "dli = []\n",
    "nli = []"
   ],
   "metadata": {
    "collapsed": false,
    "pycharm": {
     "name": "#%%\n"
    }
   }
  },
  {
   "cell_type": "code",
   "execution_count": 10,
   "outputs": [],
   "source": [
    "def train(iteration1, iteration2, pic, source, target):\n",
    "\n",
    "\n",
    "    input = pic\n",
    "\n",
    "    # pic_f = get_features(vgg_normalize(pic), vgg)\n",
    "    # print(model.parameters())\n",
    "    opt = optim.Adam(model.parameters(), lr=lr1)\n",
    "    for i in range(iteration1):\n",
    "        opt.zero_grad()\n",
    "        neo_pic = model(input)\n",
    "        loss = mseloss(pic, neo_pic) * 1\n",
    "\n",
    "        # loss = 0\n",
    "        # neo_pic_f = get_features(vgg_normalize(neo_pic), vgg)\n",
    "        # loss += torch.mean((pic_f['conv4_2'] - neo_pic_f['conv4_2']) ** 2)\n",
    "        # loss += torch.mean((pic_f['conv5_2'] - neo_pic_f['conv5_2']) ** 2)\n",
    "\n",
    "        loss.backward()\n",
    "        opt.step()\n",
    "\n",
    "        with torch.no_grad():\n",
    "            print(\"iter:\", i + 1, \"loss:\", loss.item())\n",
    "\n",
    "        # pil = topil(neo_pic.squeeze(0).cpu())\n",
    "        # if ((i + 1) % 50) == 0:\n",
    "        #     pil.save(f\"./pic1/{(i + 1) // 50}.jpg\")\n",
    "    with torch.no_grad():\n",
    "        neo_pic = model(input)\n",
    "        pil = topil(neo_pic.squeeze(0).cpu())\n",
    "        pil = transforms.Resize(size=ori_size, interpolation=Image.BICUBIC)(pil)\n",
    "        pil.save(f\"mid.jpg\")\n",
    "\n",
    "\n",
    "    # torch.save(model,'unet.pth')\n",
    "\n",
    "    # model = torch.load('unet.pth')\n",
    "\n",
    "    # pic_f = get_features(vgg_normalize(pic),vgg)\n",
    "\n",
    "    opt = optim.Adam(model.parameters(), lr=lr2)\n",
    "    # opt_fast = optim.Adam(model.parameters(), lr=lr_fast)\n",
    "    # opt_slow = optim.Adam(model.parameters(), lr=lr_slow)\n",
    "    # opt_loss = optim.Adam(cliploss.parameters(), lr=lr_slow)\n",
    "\n",
    "    for i in range(iteration2):\n",
    "\n",
    "\n",
    "        opt.zero_grad()\n",
    "        # opt_slow.zero_grad()\n",
    "        # opt_fast.zero_grad()\n",
    "\n",
    "        neo_pic = model(input)\n",
    "\n",
    "        dir_loss = 0\n",
    "        dir_loss += cliploss.forward_dir(pic, source, neo_pic, target)\n",
    "\n",
    "        gol_loss = 0\n",
    "        gol_loss += cliploss.forward_gol(pic, source, neo_pic, target)\n",
    "\n",
    "        content_loss = 0\n",
    "        # content_loss += mseloss(pic, neo_pic)\n",
    "        # neo_pic_f = get_features(vgg_normalize(neo_pic), vgg)\n",
    "        # content_loss += torch.mean((pic_f['conv4_2'] - neo_pic_f['conv4_2']) ** 2)\n",
    "        # content_loss += torch.mean((pic_f['conv5_2'] - neo_pic_f['conv5_2']) ** 2)\n",
    "\n",
    "        patch_loss = 0\n",
    "        # patch_loss += cliploss.forward_patch(pic, source, neo_pic, target)\n",
    "\n",
    "        norm_loss = 0\n",
    "        norm_loss += cliploss.forward_prior(pic, source, neo_pic, target)\n",
    "\n",
    "        loss = dir_loss * dir_lambda + \\\n",
    "               content_loss * content_lambda + \\\n",
    "               patch_loss * patch_lambda + \\\n",
    "               norm_loss * norm_lambda + \\\n",
    "               gol_loss * gol_lambda\n",
    "\n",
    "\n",
    "        patch_loss_fast,patch_loss_slow, li = cliploss.forward_patch_sec(pic, source, neo_pic, target)\n",
    "        patch_loss_fast *= patch_lambda\n",
    "        patch_loss_slow *= patch_lambda\n",
    "\n",
    "        for x in model.res2.parameters():\n",
    "            x.requires_grad = False\n",
    "        patch_loss_slow.backward(retain_graph=True)\n",
    "        for x in model.res2.parameters():\n",
    "            x.requires_grad = True\n",
    "\n",
    "        for x in model.res.parameters():\n",
    "            x.requires_grad = False\n",
    "        for x in model.conv3.parameters():\n",
    "            x.requires_grad = False\n",
    "        for x in model.upsample3.parameters():\n",
    "            x.requires_grad = False\n",
    "        for x in model.deconv3.parameters():\n",
    "            x.requires_grad = False\n",
    "        patch_loss_fast.backward(retain_graph=True)\n",
    "        for x in model.res.parameters():\n",
    "            x.requires_grad = True\n",
    "        for x in model.conv3.parameters():\n",
    "            x.requires_grad = True\n",
    "        for x in model.upsample3.parameters():\n",
    "            x.requires_grad = True\n",
    "        for x in model.deconv3.parameters():\n",
    "            x.requires_grad = True\n",
    "\n",
    "        loss.backward()\n",
    "        # (loss+patch_loss_fast+patch_loss_slow).backward()\n",
    "\n",
    "\n",
    "        opt.step()\n",
    "\n",
    "        # opt_fast.step()\n",
    "        # opt_slow.step()\n",
    "\n",
    "        with torch.no_grad():\n",
    "            loss_li[i]+=(loss+patch_loss_fast+patch_loss_slow).item()\n",
    "            # loss_li[i] += (loss+patch_loss).item()\n",
    "            print(\"iter:\", i + 1, \"fast_loss:\", patch_loss_fast.item(), \"slow_loss:\", patch_loss_slow.item())\n",
    "            print(\"iter:\", i + 1, \"loss:\", (loss+patch_loss_fast+patch_loss_slow).item())\n",
    "\n",
    "\n",
    "            for x in li:\n",
    "                f.write(str(x)+\" \")\n",
    "\n",
    "            f.write(\"\\n\")\n",
    "\n",
    "            if (i+1)%10==0  or i==0:\n",
    "                neo_pic = model(input)\n",
    "                pil = topil(neo_pic.squeeze(0).cpu())\n",
    "                pil = transforms.Resize(size=ori_size, interpolation=Image.BICUBIC)(pil)\n",
    "                pil.save(f\"mid/{i//10}.jpg\")\n",
    "\n",
    "            gli.append(gol_loss.item()*gol_lambda)\n",
    "            dli.append(dir_loss.item()*dir_lambda)\n",
    "            nli.append(norm_loss.item()*norm_lambda)\n",
    "\n",
    "            # if (i+1)%4==0 and cliploss.patch_size>=64:\n",
    "            #     cliploss.patch_size-=8\n",
    "\n",
    "\n",
    "\n",
    "        # pil = topil(neo_pic.squeeze(0).cpu())\n",
    "        # if ((i + 1) % 10) == 0:\n",
    "        #     pil.save(f\"./pic2/{(i + 1) // 10}.jpg\")\n",
    "\n",
    "    # return  model(input)\n",
    "    # neo_pic = model(input)\n",
    "    # pil = topil(neo_pic.squeeze(0).cpu())\n",
    "    # # pil.save(f\"{source}-{target}.jpg\")\n",
    "    # pil.save(path)\n",
    "\n",
    "\n",
    "\n"
   ],
   "metadata": {
    "collapsed": false,
    "pycharm": {
     "name": "#%%\n"
    }
   }
  },
  {
   "cell_type": "code",
   "execution_count": 11,
   "outputs": [
    {
     "name": "stdout",
     "output_type": "stream",
     "text": [
      "iter: 1 loss: 0.11862993240356445\n",
      "iter: 2 loss: 0.06759309768676758\n",
      "iter: 3 loss: 0.05223268270492554\n",
      "iter: 4 loss: 0.04303372651338577\n",
      "iter: 5 loss: 0.035929352045059204\n",
      "iter: 6 loss: 0.02985069714486599\n",
      "iter: 7 loss: 0.024548836052417755\n",
      "iter: 8 loss: 0.02015857957303524\n",
      "iter: 9 loss: 0.016486678272485733\n",
      "iter: 10 loss: 0.013420804403722286\n",
      "iter: 11 loss: 0.010894267819821835\n",
      "iter: 12 loss: 0.008831830695271492\n",
      "iter: 13 loss: 0.007140410132706165\n",
      "iter: 14 loss: 0.005743382032960653\n",
      "iter: 15 loss: 0.004582746885716915\n",
      "iter: 16 loss: 0.0035872305743396282\n",
      "iter: 17 loss: 0.0026726871728897095\n",
      "iter: 18 loss: 0.0020678057335317135\n",
      "iter: 19 loss: 0.0017315929289907217\n",
      "iter: 20 loss: 0.0014938050881028175\n",
      "iter: 21 loss: 0.0013026862870901823\n",
      "iter: 22 loss: 0.001157317659817636\n",
      "iter: 23 loss: 0.0010586014250293374\n",
      "iter: 24 loss: 0.0010003987699747086\n",
      "iter: 25 loss: 0.0009712032042443752\n",
      "iter: 26 loss: 0.000953997194301337\n",
      "iter: 27 loss: 0.0009329881286248565\n",
      "iter: 28 loss: 0.0009050443768501282\n",
      "iter: 29 loss: 0.0008801803924143314\n",
      "iter: 30 loss: 0.0008680829196237028\n",
      "iter: 31 loss: 0.0008631473174318671\n",
      "iter: 32 loss: 0.0008554455707781017\n",
      "iter: 33 loss: 0.000844225287437439\n",
      "iter: 34 loss: 0.0008290068944916129\n",
      "iter: 35 loss: 0.0008125139283947647\n",
      "iter: 36 loss: 0.0007996474741958082\n",
      "iter: 37 loss: 0.0007879164768382907\n",
      "iter: 38 loss: 0.0007722594309598207\n",
      "iter: 39 loss: 0.0007546235574409366\n",
      "iter: 40 loss: 0.0007386710494756699\n",
      "iter: 41 loss: 0.0007229390321299434\n",
      "iter: 42 loss: 0.0007052021101117134\n",
      "iter: 43 loss: 0.0006867661140859127\n",
      "iter: 44 loss: 0.0006690392619930208\n",
      "iter: 45 loss: 0.0006510511739179492\n",
      "iter: 46 loss: 0.0006324684945866466\n",
      "iter: 47 loss: 0.0006143709761090577\n",
      "iter: 48 loss: 0.0005961169954389334\n",
      "iter: 49 loss: 0.0005766816902905703\n",
      "iter: 50 loss: 0.0005573264788836241\n",
      "iter: 51 loss: 0.0005394666222855449\n",
      "iter: 52 loss: 0.0005223802872933447\n",
      "iter: 53 loss: 0.0005051904590800405\n",
      "iter: 54 loss: 0.0004886134411208332\n",
      "iter: 55 loss: 0.000472846208140254\n",
      "iter: 56 loss: 0.00045727542601525784\n",
      "iter: 57 loss: 0.0004424857906997204\n",
      "iter: 58 loss: 0.0004292819066904485\n",
      "iter: 59 loss: 0.00041705401963554323\n",
      "iter: 60 loss: 0.00040561240166425705\n",
      "iter: 61 loss: 0.0003954679414164275\n",
      "iter: 62 loss: 0.0003861713921651244\n",
      "iter: 63 loss: 0.00037793611409142613\n",
      "iter: 64 loss: 0.0003711096942424774\n",
      "iter: 65 loss: 0.00036471523344516754\n",
      "iter: 66 loss: 0.00035855028545483947\n",
      "iter: 67 loss: 0.0003528744855429977\n",
      "iter: 68 loss: 0.00034714475623331964\n",
      "iter: 69 loss: 0.00034141610376536846\n",
      "iter: 70 loss: 0.00033612234983593225\n",
      "iter: 71 loss: 0.00033108022762462497\n",
      "iter: 72 loss: 0.0003261827805545181\n",
      "iter: 73 loss: 0.0003214870812371373\n",
      "iter: 74 loss: 0.00031692543416284025\n",
      "iter: 75 loss: 0.00031261262483894825\n",
      "iter: 76 loss: 0.00030847612651996315\n",
      "iter: 77 loss: 0.00030422882991842926\n",
      "iter: 78 loss: 0.00030005647568032146\n",
      "iter: 79 loss: 0.0002962211729027331\n",
      "iter: 80 loss: 0.00029252085369080305\n",
      "iter: 81 loss: 0.0002888341841753572\n",
      "iter: 82 loss: 0.00028523613582365215\n",
      "iter: 83 loss: 0.0002817019703797996\n",
      "iter: 84 loss: 0.0002782281953841448\n",
      "iter: 85 loss: 0.00027486408362165093\n",
      "iter: 86 loss: 0.0002716059098020196\n",
      "iter: 87 loss: 0.0002684433711692691\n",
      "iter: 88 loss: 0.00026534649077802896\n",
      "iter: 89 loss: 0.0002623039181344211\n",
      "iter: 90 loss: 0.0002593564277049154\n",
      "iter: 91 loss: 0.0002564877213444561\n",
      "iter: 92 loss: 0.0002536521933507174\n",
      "iter: 93 loss: 0.0002508921315893531\n",
      "iter: 94 loss: 0.00024823553394526243\n",
      "iter: 95 loss: 0.00024564957129769027\n",
      "iter: 96 loss: 0.00024313338508363813\n",
      "iter: 97 loss: 0.00024068295897450298\n",
      "iter: 98 loss: 0.00023829456767998636\n",
      "iter: 99 loss: 0.00023598129337187856\n",
      "iter: 100 loss: 0.00023372417490463704\n",
      "iter: 1 fast_loss: 4816.2001953125 slow_loss: 4450.767578125\n",
      "iter: 1 loss: 10057.2099609375\n",
      "iter: 2 fast_loss: 4776.5810546875 slow_loss: 4134.1552734375\n",
      "iter: 2 loss: 9686.4921875\n",
      "iter: 3 fast_loss: 4430.03076171875 slow_loss: 4150.3603515625\n",
      "iter: 3 loss: 9326.16015625\n",
      "iter: 4 fast_loss: 4824.16552734375 slow_loss: 3498.7333984375\n",
      "iter: 4 loss: 9056.923828125\n",
      "iter: 5 fast_loss: 4763.32861328125 slow_loss: 3431.236328125\n",
      "iter: 5 loss: 8923.08984375\n",
      "iter: 6 fast_loss: 3952.880859375 slow_loss: 4120.9716796875\n",
      "iter: 6 loss: 8794.8759765625\n",
      "iter: 7 fast_loss: 4305.61083984375 slow_loss: 3733.085693359375\n",
      "iter: 7 loss: 8750.720703125\n",
      "iter: 8 fast_loss: 4047.5693359375 slow_loss: 3964.82861328125\n",
      "iter: 8 loss: 8716.923828125\n",
      "iter: 9 fast_loss: 3755.126953125 slow_loss: 4180.84716796875\n",
      "iter: 9 loss: 8637.0009765625\n",
      "iter: 10 fast_loss: 3713.72216796875 slow_loss: 4141.50244140625\n",
      "iter: 10 loss: 8554.75\n",
      "iter: 11 fast_loss: 4047.1572265625 slow_loss: 3740.29541015625\n",
      "iter: 11 loss: 8485.7294921875\n",
      "iter: 12 fast_loss: 3770.027099609375 slow_loss: 3928.5048828125\n",
      "iter: 12 loss: 8394.0595703125\n",
      "iter: 13 fast_loss: 3399.444580078125 slow_loss: 4242.78271484375\n",
      "iter: 13 loss: 8335.255859375\n",
      "iter: 14 fast_loss: 3379.53173828125 slow_loss: 4217.51416015625\n",
      "iter: 14 loss: 8288.57421875\n",
      "iter: 15 fast_loss: 3012.31396484375 slow_loss: 4523.8955078125\n",
      "iter: 15 loss: 8225.4873046875\n",
      "iter: 16 fast_loss: 3329.9560546875 slow_loss: 4157.8447265625\n",
      "iter: 16 loss: 8174.57763671875\n",
      "iter: 17 fast_loss: 3197.98291015625 slow_loss: 4231.6591796875\n",
      "iter: 17 loss: 8114.92236328125\n",
      "iter: 18 fast_loss: 3303.1767578125 slow_loss: 4089.66064453125\n",
      "iter: 18 loss: 8076.1240234375\n",
      "iter: 19 fast_loss: 3520.912109375 slow_loss: 3851.6005859375\n",
      "iter: 19 loss: 8052.55419921875\n",
      "iter: 20 fast_loss: 3237.6708984375 slow_loss: 4042.7626953125\n",
      "iter: 20 loss: 7956.7265625\n",
      "iter: 21 fast_loss: 3701.019287109375 slow_loss: 3574.2646484375\n",
      "iter: 21 loss: 7948.5771484375\n",
      "iter: 22 fast_loss: 3222.770751953125 slow_loss: 3984.809814453125\n",
      "iter: 22 loss: 7878.376953125\n",
      "iter: 23 fast_loss: 3108.71875 slow_loss: 4084.5107421875\n",
      "iter: 23 loss: 7862.529296875\n",
      "iter: 24 fast_loss: 3396.97265625 slow_loss: 3737.9609375\n",
      "iter: 24 loss: 7802.9873046875\n",
      "iter: 25 fast_loss: 3389.48828125 slow_loss: 3712.760986328125\n",
      "iter: 25 loss: 7769.05615234375\n",
      "iter: 26 fast_loss: 3060.516357421875 slow_loss: 4034.31689453125\n",
      "iter: 26 loss: 7759.142578125\n",
      "iter: 27 fast_loss: 3035.591064453125 slow_loss: 4013.031005859375\n",
      "iter: 27 loss: 7709.6845703125\n",
      "iter: 28 fast_loss: 3267.951904296875 slow_loss: 3790.557861328125\n",
      "iter: 28 loss: 7718.326171875\n",
      "iter: 29 fast_loss: 3016.364990234375 slow_loss: 3965.995849609375\n",
      "iter: 29 loss: 7640.4306640625\n",
      "iter: 30 fast_loss: 3431.16748046875 slow_loss: 3520.500244140625\n",
      "iter: 30 loss: 7608.4892578125\n",
      "iter: 31 fast_loss: 2995.353759765625 slow_loss: 3933.036865234375\n",
      "iter: 31 loss: 7583.21142578125\n",
      "iter: 32 fast_loss: 3514.732421875 slow_loss: 3400.40576171875\n",
      "iter: 32 loss: 7565.9580078125\n",
      "iter: 33 fast_loss: 3192.07763671875 slow_loss: 3702.5986328125\n",
      "iter: 33 loss: 7542.7451171875\n",
      "iter: 34 fast_loss: 2737.24365234375 slow_loss: 4091.30859375\n",
      "iter: 34 loss: 7475.12158203125\n",
      "iter: 35 fast_loss: 3268.29541015625 slow_loss: 3571.861328125\n",
      "iter: 35 loss: 7486.2255859375\n",
      "iter: 36 fast_loss: 2737.79296875 slow_loss: 4078.399658203125\n",
      "iter: 36 loss: 7459.7607421875\n",
      "iter: 37 fast_loss: 2935.68408203125 slow_loss: 3846.588134765625\n",
      "iter: 37 loss: 7421.8388671875\n",
      "iter: 38 fast_loss: 3559.158203125 slow_loss: 3227.851806640625\n",
      "iter: 38 loss: 7424.32421875\n",
      "iter: 39 fast_loss: 3093.818603515625 slow_loss: 3598.091064453125\n",
      "iter: 39 loss: 7328.72265625\n",
      "iter: 40 fast_loss: 2884.04833984375 slow_loss: 3773.66650390625\n",
      "iter: 40 loss: 7295.279296875\n",
      "iter: 41 fast_loss: 3174.018798828125 slow_loss: 3455.818115234375\n",
      "iter: 41 loss: 7265.150390625\n",
      "iter: 42 fast_loss: 3062.85107421875 slow_loss: 3555.793701171875\n",
      "iter: 42 loss: 7252.9541015625\n",
      "iter: 43 fast_loss: 3045.27294921875 slow_loss: 3540.13818359375\n",
      "iter: 43 loss: 7218.9658203125\n",
      "iter: 44 fast_loss: 2915.5654296875 slow_loss: 3606.60546875\n",
      "iter: 44 loss: 7153.97216796875\n",
      "iter: 45 fast_loss: 2736.48828125 slow_loss: 3807.929931640625\n",
      "iter: 45 loss: 7174.2197265625\n",
      "iter: 46 fast_loss: 3105.354248046875 slow_loss: 3388.664306640625\n",
      "iter: 46 loss: 7120.07177734375\n",
      "iter: 47 fast_loss: 3084.82373046875 slow_loss: 3369.781494140625\n",
      "iter: 47 loss: 7078.408203125\n",
      "iter: 48 fast_loss: 2791.900634765625 slow_loss: 3655.90673828125\n",
      "iter: 48 loss: 7070.85888671875\n",
      "iter: 49 fast_loss: 3440.986572265625 slow_loss: 2951.68310546875\n",
      "iter: 49 loss: 7016.21826171875\n",
      "iter: 50 fast_loss: 2769.2412109375 slow_loss: 3629.470703125\n",
      "iter: 50 loss: 7023.75537109375\n",
      "iter: 51 fast_loss: 3041.015625 slow_loss: 3331.39794921875\n",
      "iter: 51 loss: 6995.4521484375\n",
      "iter: 52 fast_loss: 3239.8681640625 slow_loss: 3137.9013671875\n",
      "iter: 52 loss: 6999.05712890625\n",
      "iter: 53 fast_loss: 2832.756103515625 slow_loss: 3494.682373046875\n",
      "iter: 53 loss: 6943.728515625\n",
      "iter: 54 fast_loss: 2931.083740234375 slow_loss: 3408.50830078125\n",
      "iter: 54 loss: 6956.88671875\n",
      "iter: 55 fast_loss: 3013.1376953125 slow_loss: 3292.05322265625\n",
      "iter: 55 loss: 6925.2353515625\n",
      "iter: 56 fast_loss: 2880.889892578125 slow_loss: 3353.37060546875\n",
      "iter: 56 loss: 6851.80078125\n",
      "iter: 57 fast_loss: 3079.399169921875 slow_loss: 3164.131103515625\n",
      "iter: 57 loss: 6857.8203125\n",
      "iter: 58 fast_loss: 2864.5478515625 slow_loss: 3329.61279296875\n",
      "iter: 58 loss: 6804.4501953125\n",
      "iter: 59 fast_loss: 2946.807861328125 slow_loss: 3244.12548828125\n",
      "iter: 59 loss: 6801.22509765625\n",
      "iter: 60 fast_loss: 2858.4365234375 slow_loss: 3318.00830078125\n",
      "iter: 60 loss: 6788.23779296875\n",
      "iter: 61 fast_loss: 2844.22314453125 slow_loss: 3320.2744140625\n",
      "iter: 61 loss: 6773.294921875\n",
      "iter: 62 fast_loss: 2746.44482421875 slow_loss: 3394.63818359375\n",
      "iter: 62 loss: 6749.63720703125\n",
      "iter: 63 fast_loss: 2618.659912109375 slow_loss: 3470.787109375\n",
      "iter: 63 loss: 6696.25390625\n",
      "iter: 64 fast_loss: 2990.13525390625 slow_loss: 3091.827392578125\n",
      "iter: 64 loss: 6688.27001953125\n",
      "iter: 65 fast_loss: 2973.5869140625 slow_loss: 3066.42138671875\n",
      "iter: 65 loss: 6646.06640625\n",
      "iter: 66 fast_loss: 3058.181640625 slow_loss: 2978.73681640625\n",
      "iter: 66 loss: 6643.4736328125\n",
      "iter: 67 fast_loss: 2766.5634765625 slow_loss: 3217.75830078125\n",
      "iter: 67 loss: 6588.8779296875\n",
      "iter: 68 fast_loss: 2648.66650390625 slow_loss: 3302.6962890625\n",
      "iter: 68 loss: 6554.91796875\n",
      "iter: 69 fast_loss: 3008.81201171875 slow_loss: 2931.70166015625\n",
      "iter: 69 loss: 6540.5673828125\n",
      "iter: 70 fast_loss: 2634.590087890625 slow_loss: 3260.467529296875\n",
      "iter: 70 loss: 6493.61279296875\n",
      "iter: 71 fast_loss: 3273.78857421875 slow_loss: 2658.34814453125\n",
      "iter: 71 loss: 6528.6884765625\n",
      "iter: 72 fast_loss: 2879.37939453125 slow_loss: 2995.62841796875\n",
      "iter: 72 loss: 6468.3115234375\n",
      "iter: 73 fast_loss: 2809.2041015625 slow_loss: 3082.0771484375\n",
      "iter: 73 loss: 6484.58544921875\n",
      "iter: 74 fast_loss: 3127.6015625 slow_loss: 2716.36962890625\n",
      "iter: 74 loss: 6439.28466796875\n",
      "iter: 75 fast_loss: 3138.24462890625 slow_loss: 2698.9287109375\n",
      "iter: 75 loss: 6432.4853515625\n",
      "iter: 76 fast_loss: 2757.91162109375 slow_loss: 3059.211669921875\n",
      "iter: 76 loss: 6416.68115234375\n",
      "iter: 77 fast_loss: 2870.452880859375 slow_loss: 2965.141357421875\n",
      "iter: 77 loss: 6434.8994140625\n",
      "iter: 78 fast_loss: 2935.546875 slow_loss: 2869.76611328125\n",
      "iter: 78 loss: 6399.1171875\n",
      "iter: 79 fast_loss: 2739.44091796875 slow_loss: 3036.208984375\n",
      "iter: 79 loss: 6366.95703125\n",
      "iter: 80 fast_loss: 2631.77490234375 slow_loss: 3100.5478515625\n",
      "iter: 80 loss: 6320.3818359375\n",
      "iter: 81 fast_loss: 2536.7431640625 slow_loss: 3176.1474609375\n",
      "iter: 81 loss: 6301.1953125\n",
      "iter: 82 fast_loss: 2667.549072265625 slow_loss: 2981.27734375\n",
      "iter: 82 loss: 6236.62890625\n",
      "iter: 83 fast_loss: 2589.82080078125 slow_loss: 3039.36767578125\n",
      "iter: 83 loss: 6213.9951171875\n",
      "iter: 84 fast_loss: 2392.06689453125 slow_loss: 3186.859130859375\n",
      "iter: 84 loss: 6162.4853515625\n",
      "iter: 85 fast_loss: 2625.801025390625 slow_loss: 2910.484375\n",
      "iter: 85 loss: 6116.3330078125\n",
      "iter: 86 fast_loss: 3011.283935546875 slow_loss: 2639.6025390625\n",
      "iter: 86 loss: 6252.185546875\n",
      "iter: 87 fast_loss: 2736.213623046875 slow_loss: 2850.40283203125\n",
      "iter: 87 loss: 6180.66650390625\n",
      "iter: 88 fast_loss: 3048.84326171875 slow_loss: 2510.444580078125\n",
      "iter: 88 loss: 6150.5908203125\n",
      "iter: 89 fast_loss: 2763.542236328125 slow_loss: 2759.490966796875\n",
      "iter: 89 loss: 6106.583984375\n",
      "iter: 90 fast_loss: 2726.325927734375 slow_loss: 2683.82275390625\n",
      "iter: 90 loss: 5994.19384765625\n",
      "iter: 91 fast_loss: 2926.689208984375 slow_loss: 2432.098388671875\n",
      "iter: 91 loss: 5943.83740234375\n",
      "iter: 92 fast_loss: 2855.827392578125 slow_loss: 2530.975341796875\n",
      "iter: 92 loss: 5975.103515625\n",
      "iter: 93 fast_loss: 2291.61083984375 slow_loss: 3085.09814453125\n",
      "iter: 93 loss: 5962.00048828125\n",
      "iter: 94 fast_loss: 2511.33740234375 slow_loss: 2775.28369140625\n",
      "iter: 94 loss: 5859.41748046875\n",
      "iter: 95 fast_loss: 2397.834716796875 slow_loss: 2837.63134765625\n",
      "iter: 95 loss: 5800.51953125\n",
      "iter: 96 fast_loss: 2624.97705078125 slow_loss: 2583.915771484375\n",
      "iter: 96 loss: 5775.69775390625\n",
      "iter: 97 fast_loss: 2765.190185546875 slow_loss: 2447.75390625\n",
      "iter: 97 loss: 5783.2451171875\n",
      "iter: 98 fast_loss: 2279.80029296875 slow_loss: 2814.422607421875\n",
      "iter: 98 loss: 5660.52392578125\n",
      "iter: 99 fast_loss: 2426.811279296875 slow_loss: 2546.4248046875\n",
      "iter: 99 loss: 5540.53125\n",
      "iter: 100 fast_loss: 2610.076904296875 slow_loss: 2463.752685546875\n",
      "iter: 100 loss: 5642.1240234375\n",
      "usetime: 80.40458869934082\n"
     ]
    },
    {
     "name": "stderr",
     "output_type": "stream",
     "text": [
      "C:\\Users\\win10\\AppData\\Local\\Temp\\ipykernel_33972\\4187812.py:31: DeprecationWarning: BICUBIC is deprecated and will be removed in Pillow 10 (2023-07-01). Use Resampling.BICUBIC instead.\n",
      "  pil = transforms.Resize(size=ori_size, interpolation=Image.BICUBIC)(pil)\n",
      "C:\\Users\\win10\\AppData\\Local\\Temp\\ipykernel_33972\\4187812.py:132: DeprecationWarning: BICUBIC is deprecated and will be removed in Pillow 10 (2023-07-01). Use Resampling.BICUBIC instead.\n",
      "  pil = transforms.Resize(size=ori_size, interpolation=Image.BICUBIC)(pil)\n"
     ]
    }
   ],
   "source": [
    "start = time.time()\n",
    "train(100, 100, pic, source, target)\n",
    "end = time.time()\n",
    "usetime = end - start\n",
    "print(f\"usetime: {usetime}\")"
   ],
   "metadata": {
    "collapsed": false,
    "pycharm": {
     "name": "#%%\n"
    }
   }
  },
  {
   "cell_type": "code",
   "execution_count": 12,
   "outputs": [
    {
     "name": "stderr",
     "output_type": "stream",
     "text": [
      "C:\\Users\\win10\\AppData\\Local\\Temp\\ipykernel_33972\\4189447853.py:3: DeprecationWarning: BICUBIC is deprecated and will be removed in Pillow 10 (2023-07-01). Use Resampling.BICUBIC instead.\n",
      "  pil = transforms.Resize(size=ori_size, interpolation=Image.BICUBIC)(pil)\n"
     ]
    }
   ],
   "source": [
    "neo_pic = model(pic)\n",
    "pil = topil(neo_pic.squeeze(0).cpu())\n",
    "pil = transforms.Resize(size=ori_size, interpolation=Image.BICUBIC)(pil)\n",
    "pil.save(path)\n",
    "\n",
    "\n",
    "\n"
   ],
   "metadata": {
    "collapsed": false,
    "pycharm": {
     "name": "#%%\n"
    }
   }
  },
  {
   "cell_type": "code",
   "execution_count": 13,
   "outputs": [],
   "source": [
    "# with open(file = \"neo0.txt\", mode = \"w\") as file:\n",
    "#     for i in loss_li:\n",
    "#         file.write(str(i)+\" \")\n",
    "#     file.write(\"\\n\")\n",
    "#     file.write(str(cur_times+1))\n"
   ],
   "metadata": {
    "collapsed": false,
    "pycharm": {
     "name": "#%%\n"
    }
   }
  },
  {
   "cell_type": "code",
   "execution_count": 14,
   "outputs": [
    {
     "data": {
      "text/plain": "[<matplotlib.lines.Line2D at 0x2457d55ec70>]"
     },
     "execution_count": 14,
     "metadata": {},
     "output_type": "execute_result"
    },
    {
     "data": {
      "text/plain": "<Figure size 640x480 with 1 Axes>",
      "image/png": "[encoded data removed]"
     },
     "metadata": {},
     "output_type": "display_data"
    }
   ],
   "source": [
    "import matplotlib.pyplot as plt\n",
    "\n",
    "x = [i for i in range(100)]\n",
    "loss_li = [x/(cur_times+1) for x in loss_li]\n",
    "plt.plot(x,loss_li,color=\"red\",marker=\"o\")\n",
    "\n",
    "\n",
    "\n"
   ],
   "metadata": {
    "collapsed": false,
    "pycharm": {
     "name": "#%%\n"
    }
   }
  },
  {
   "cell_type": "code",
   "execution_count": 15,
   "outputs": [],
   "source": [
    "f.close()"
   ],
   "metadata": {
    "collapsed": false,
    "pycharm": {
     "name": "#%%\n"
    }
   }
  },
  {
   "cell_type": "code",
   "execution_count": 16,
   "outputs": [
    {
     "data": {
      "text/plain": "[<matplotlib.lines.Line2D at 0x245277c8c40>]"
     },
     "execution_count": 16,
     "metadata": {},
     "output_type": "execute_result"
    },
    {
     "data": {
      "text/plain": "<Figure size 640x480 with 1 Axes>",
      "image/png": "[encoded data removed]"
     },
     "metadata": {},
     "output_type": "display_data"
    }
   ],
   "source": [
    "x = [i for i in range(100)]\n",
    "plt.plot(x,gli,color=\"red\",marker=\"o\")"
   ],
   "metadata": {
    "collapsed": false,
    "pycharm": {
     "name": "#%%\n"
    }
   }
  },
  {
   "cell_type": "code",
   "execution_count": 17,
   "outputs": [
    {
     "data": {
      "text/plain": "[<matplotlib.lines.Line2D at 0x2457da634f0>]"
     },
     "execution_count": 17,
     "metadata": {},
     "output_type": "execute_result"
    },
    {
     "data": {
      "text/plain": "<Figure size 640x480 with 1 Axes>",
      "image/png": "[encoded data removed]"
     },
     "metadata": {},
     "output_type": "display_data"
    }
   ],
   "source": [
    "x = [i for i in range(100)]\n",
    "plt.plot(x,dli,color=\"red\",marker=\"o\")"
   ],
   "metadata": {
    "collapsed": false,
    "pycharm": {
     "name": "#%%\n"
    }
   }
  },
  {
   "cell_type": "code",
   "execution_count": 18,
   "outputs": [
    {
     "data": {
      "text/plain": "[<matplotlib.lines.Line2D at 0x245a1b273d0>]"
     },
     "execution_count": 18,
     "metadata": {},
     "output_type": "execute_result"
    },
    {
     "data": {
      "text/plain": "<Figure size 640x480 with 1 Axes>",
      "image/png": "[encoded data removed]"
     },
     "metadata": {},
     "output_type": "display_data"
    }
   ],
   "source": [
    "x = [i for i in range(100)]\n",
    "plt.plot(x,nli,color=\"red\",marker=\"o\")"
   ],
   "metadata": {
    "collapsed": false,
    "pycharm": {
     "name": "#%%\n"
    }
   }
  },
  {
   "cell_type": "code",
   "execution_count": 19,
   "outputs": [
    {
     "data": {
      "text/plain": "[<matplotlib.lines.Line2D at 0x245a1b90a60>]"
     },
     "execution_count": 19,
     "metadata": {},
     "output_type": "execute_result"
    },
    {
     "data": {
      "text/plain": "<Figure size 640x480 with 1 Axes>",
      "image/png": "[encoded data removed]"
     },
     "metadata": {},
     "output_type": "display_data"
    }
   ],
   "source": [
    "x = [i for i in range(100)]\n",
    "li = [gli[i]+dli[i]+nli[i] for i in range(100)]\n",
    "plt.plot(x,li,color=\"red\",marker=\"o\")"
   ],
   "metadata": {
    "collapsed": false,
    "pycharm": {
     "name": "#%%\n"
    }
   }
  },
  {
   "cell_type": "code",
   "execution_count": 20,
   "outputs": [
    {
     "name": "stdout",
     "output_type": "stream",
     "text": [
      "accurate rate: 0.49859375\n"
     ]
    }
   ],
   "source": [
    "print(f\"accurate rate: {cliploss.right_patch/6400}\")"
   ],
   "metadata": {
    "collapsed": false,
    "pycharm": {
     "name": "#%%\n"
    }
   }
  }
 ],
 "metadata": {
  "kernelspec": {
   "display_name": "Python 3",
   "language": "python",
   "name": "python3"
  },
  "language_info": {
   "codemirror_mode": {
    "name": "ipython",
    "version": 2
   },
   "file_extension": ".py",
   "mimetype": "text/x-python",
   "name": "python",
   "nbconvert_exporter": "python",
   "pygments_lexer": "ipython2",
   "version": "2.7.6"
  }
 },
 "nbformat": 4,
 "nbformat_minor": 0
}