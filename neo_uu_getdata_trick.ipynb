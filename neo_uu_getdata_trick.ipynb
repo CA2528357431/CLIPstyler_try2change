{
 "cells": [
  {
   "cell_type": "code",
   "execution_count": 1,
   "metadata": {
    "collapsed": true
   },
   "outputs": [],
   "source": [
    "import torch\n",
    "import torch.optim as optim\n",
    "import torchvision\n",
    "import torchvision.transforms as transforms\n",
    "from PIL import Image\n",
    "\n",
    "from network.mynetwork_uu import Unet\n",
    "from loss.loss import CLIPLoss\n",
    "from utils.func import get_features,vgg_normalize\n",
    "\n",
    "import time"
   ]
  },
  {
   "cell_type": "code",
   "execution_count": 2,
   "outputs": [
    {
     "name": "stdout",
     "output_type": "stream",
     "text": [
      "cuda\n",
      "True\n"
     ]
    }
   ],
   "source": [
    "device = \"cuda\" if torch.cuda.is_available() else \"cpu\"\n",
    "print(device)\n",
    "print(torch.cuda.is_available())"
   ],
   "metadata": {
    "collapsed": false,
    "pycharm": {
     "name": "#%%\n"
    }
   }
  },
  {
   "cell_type": "code",
   "execution_count": 3,
   "outputs": [],
   "source": [
    "model = Unet(device).to(device)\n",
    "# model = Unet().to(device)\n",
    "cliploss = CLIPLoss(device)\n",
    "mseloss = torch.nn.MSELoss()\n",
    "vgg = torchvision.models.vgg19(pretrained=True).features.to(device)\n",
    "for x in vgg.parameters():\n",
    "    x.requires_grad = False\n",
    "\n",
    "topil = transforms.ToPILImage()\n",
    "topic = transforms.ToTensor()"
   ],
   "metadata": {
    "collapsed": false,
    "pycharm": {
     "name": "#%%\n"
    }
   }
  },
  {
   "cell_type": "code",
   "execution_count": 4,
   "outputs": [],
   "source": [
    "lr1 = 0.001\n",
    "lr2 = 0.0003\n",
    "\n",
    "# lr_fast = 0.0003\n",
    "# lr_slow = 0.0004\n",
    "\n",
    "dir_lambda = 500\n",
    "content_lambda = 150\n",
    "patch_lambda = 9000\n",
    "norm_lambda = 0.002\n",
    "gol_lambda = 300\n"
   ],
   "metadata": {
    "collapsed": false,
    "pycharm": {
     "name": "#%%\n"
    }
   }
  },
  {
   "cell_type": "code",
   "execution_count": 5,
   "outputs": [],
   "source": [
    "loss_li = [0]*200\n"
   ],
   "metadata": {
    "collapsed": false,
    "pycharm": {
     "name": "#%%\n"
    }
   }
  },
  {
   "cell_type": "code",
   "execution_count": 6,
   "outputs": [
    {
     "name": "stderr",
     "output_type": "stream",
     "text": [
      "C:\\Users\\win10\\AppData\\Local\\Temp\\ipykernel_37492\\3857721032.py:4: DeprecationWarning: BICUBIC is deprecated and will be removed in Pillow 10 (2023-07-01). Use Resampling.BICUBIC instead.\n",
      "  pil = transforms.Resize(size=(512, 512), interpolation=Image.BICUBIC)(pil)\n",
      "E:\\Anaconda\\envs\\sth\\lib\\site-packages\\torchvision\\transforms\\transforms.py:257: UserWarning: Argument interpolation should be of type InterpolationMode instead of int. Please, use InterpolationMode enum.\n",
      "  warnings.warn(\n"
     ]
    }
   ],
   "source": [
    "pil = Image.open(f\"./source_pic/church.jpeg\")\n",
    "# pil = Image.open(f\"resulto.jpg\")\n",
    "ori_size = pil.size[::-1]\n",
    "pil = transforms.Resize(size=(512, 512), interpolation=Image.BICUBIC)(pil)\n",
    "pic = topic(pil).unsqueeze(0).to(device)\n",
    "# pic = torch.ones(1, 3, 512, 512).to(device)\n",
    "pic.requires_grad = False\n",
    "# pic[:,1,:,:] = 0"
   ],
   "metadata": {
    "collapsed": false,
    "pycharm": {
     "name": "#%%\n"
    }
   }
  },
  {
   "cell_type": "code",
   "execution_count": 7,
   "outputs": [],
   "source": [
    "source = \"photo\"\n",
    "# source = \"cat\"\n",
    "# source = \"CG picture\"\n",
    "# source = \"happy\"\n",
    "# source = \"woman\"\n",
    "# source = \"cartoon\"\n",
    "# source = \"red car\"\n",
    "\n",
    "# target = \"gold car\"\n",
    "# target = \"Mark Elliot Zuckerberg\"\n",
    "# target = \"Barack Obama\"\n",
    "# target = \"Mona Lisa by Leonardo da Vinci\"\n",
    "# target = \"angry\"\n",
    "# target = \"girl\"\n",
    "# target = \"Neon Light\"\n",
    "# target = \"black car\"\n",
    "# target = \"pop art\"\n",
    "# target = \"baby girl\"\n",
    "# target = \"Watercolor Art with Thick Brush\"\n",
    "# target = \"Pixar\"\n",
    "# target = \"watercolor painting with thick brush\"\n",
    "# target = \"starry night by Van Gogh\"\n",
    "# target = \"the scream by Edvard Munch\"\n",
    "# target = \"Monet\"\n",
    "# target = \"cyberpunk 2077\"\n",
    "# target = \"oil painting with thick brush\"\n",
    "# target = \"man with dark black skin and black hair\"\n",
    "# target = \"The great wave off kanagawa by Hokusai\"\n",
    "# target = \"mosaic\"\n",
    "# target = \"fire\"\n",
    "# target = \"Chinese Brush Painting of mountains in black and white\"\n",
    "# target = \"snowy\"\n",
    "# target = \"sketch with pencil\"\n",
    "target = \"pop art of night city\"\n",
    "# target = \"cubism\"\n",
    "# target = \"Cartoon\"\n",
    "# target = \"anime\"\n",
    "# target = \"white marble carving\"\n",
    "# target = \"steampunk\"\n"
   ],
   "metadata": {
    "collapsed": false,
    "pycharm": {
     "name": "#%%\n"
    }
   }
  },
  {
   "cell_type": "code",
   "execution_count": 8,
   "outputs": [],
   "source": [
    "path = \"result/result02.jpg\""
   ],
   "metadata": {
    "collapsed": false,
    "pycharm": {
     "name": "#%%\n"
    }
   }
  },
  {
   "cell_type": "code",
   "execution_count": 9,
   "outputs": [],
   "source": [
    "dli = []\n",
    "nli = []"
   ],
   "metadata": {
    "collapsed": false,
    "pycharm": {
     "name": "#%%\n"
    }
   }
  },
  {
   "cell_type": "code",
   "execution_count": 10,
   "outputs": [],
   "source": [
    "patch_file = open(f\"./data/nums.txt\", mode=\"w\")"
   ],
   "metadata": {
    "collapsed": false,
    "pycharm": {
     "name": "#%%\n"
    }
   }
  },
  {
   "cell_type": "code",
   "execution_count": 11,
   "outputs": [],
   "source": [
    "def train(iteration1, iteration2, pic, source, target):\n",
    "\n",
    "\n",
    "    input = pic\n",
    "\n",
    "    # pic_f = get_features(vgg_normalize(pic), vgg)\n",
    "    # print(model.parameters())\n",
    "    opt = optim.Adam(model.parameters(), lr=lr1)\n",
    "    for i in range(iteration1):\n",
    "        opt.zero_grad()\n",
    "        neo_pic = model(input)\n",
    "        loss = mseloss(pic, neo_pic) * 1\n",
    "\n",
    "        # loss = 0\n",
    "        # neo_pic_f = get_features(vgg_normalize(neo_pic), vgg)\n",
    "        # loss += torch.mean((pic_f['conv4_2'] - neo_pic_f['conv4_2']) ** 2)\n",
    "        # loss += torch.mean((pic_f['conv5_2'] - neo_pic_f['conv5_2']) ** 2)\n",
    "\n",
    "        loss.backward()\n",
    "        opt.step()\n",
    "\n",
    "        with torch.no_grad():\n",
    "            print(\"iter:\", i + 1, \"loss:\", loss.item())\n",
    "\n",
    "        # pil = topil(neo_pic.squeeze(0).cpu())\n",
    "        # if ((i + 1) % 50) == 0:\n",
    "        #     pil.save(f\"./pic1/{(i + 1) // 50}.jpg\")\n",
    "    with torch.no_grad():\n",
    "        neo_pic = model(input)\n",
    "        pil = topil(neo_pic.squeeze(0).cpu())\n",
    "        pil = transforms.Resize(size=ori_size, interpolation=Image.BICUBIC)(pil)\n",
    "        pil.save(f\"mid.jpg\")\n",
    "\n",
    "\n",
    "    # torch.save(model,'unet.pth')\n",
    "\n",
    "    # model = torch.load('unet.pth')\n",
    "\n",
    "    pic_f = get_features(vgg_normalize(pic),vgg)\n",
    "\n",
    "    opt = optim.Adam(model.parameters(), lr=lr2)\n",
    "    # opt_fast = optim.Adam(model.parameters(), lr=lr_fast)\n",
    "    # opt_slow = optim.Adam(model.parameters(), lr=lr_slow)\n",
    "    # opt_loss = optim.Adam(cliploss.parameters(), lr=lr_slow)\n",
    "\n",
    "    for i in range(iteration2):\n",
    "\n",
    "\n",
    "        opt.zero_grad()\n",
    "        # opt_slow.zero_grad()\n",
    "        # opt_fast.zero_grad()\n",
    "\n",
    "        neo_pic = model(input)\n",
    "\n",
    "        dir_loss = 0\n",
    "        dir_loss += cliploss.forward_dir(pic, source, neo_pic, target)\n",
    "\n",
    "        gol_loss = 0\n",
    "        # gol_loss += cliploss.forward_gol(pic, source, neo_pic, target)\n",
    "\n",
    "        content_loss = 0\n",
    "        # content_loss += mseloss(pic, neo_pic)\n",
    "        neo_pic_f = get_features(vgg_normalize(neo_pic), vgg)\n",
    "        content_loss += torch.mean((pic_f['conv4_2'] - neo_pic_f['conv4_2']) ** 2)\n",
    "        content_loss += torch.mean((pic_f['conv5_2'] - neo_pic_f['conv5_2']) ** 2)\n",
    "\n",
    "        patch_loss = 0\n",
    "        # patch_loss += cliploss.forward_patch(pic, source, neo_pic, target)\n",
    "\n",
    "        norm_loss = 0\n",
    "        norm_loss += cliploss.forward_prior(pic, source, neo_pic, target)\n",
    "\n",
    "        loss = dir_loss * dir_lambda + \\\n",
    "               content_loss * content_lambda + \\\n",
    "               patch_loss * patch_lambda + \\\n",
    "               norm_loss * norm_lambda + \\\n",
    "               gol_loss * gol_lambda\n",
    "\n",
    "\n",
    "        patch_loss_fast,patch_loss_slow, li = cliploss.forward_patch_sec(pic, source, neo_pic, target)\n",
    "        patch_loss_fast *= patch_lambda\n",
    "        patch_loss_slow *= patch_lambda\n",
    "\n",
    "        for x in model.res2.parameters():\n",
    "            x.requires_grad = False\n",
    "        patch_loss_slow.backward(retain_graph=True)\n",
    "        for x in model.res2.parameters():\n",
    "            x.requires_grad = True\n",
    "\n",
    "        for x in model.res.parameters():\n",
    "            x.requires_grad = False\n",
    "        for x in model.conv3.parameters():\n",
    "            x.requires_grad = False\n",
    "        for x in model.upsample3.parameters():\n",
    "            x.requires_grad = False\n",
    "        for x in model.deconv3.parameters():\n",
    "            x.requires_grad = False\n",
    "        patch_loss_fast.backward(retain_graph=True)\n",
    "        for x in model.res.parameters():\n",
    "            x.requires_grad = True\n",
    "        for x in model.conv3.parameters():\n",
    "            x.requires_grad = True\n",
    "        for x in model.upsample3.parameters():\n",
    "            x.requires_grad = True\n",
    "        for x in model.deconv3.parameters():\n",
    "            x.requires_grad = True\n",
    "\n",
    "        loss.backward()\n",
    "        # (loss+patch_loss_fast+patch_loss_slow).backward()\n",
    "\n",
    "\n",
    "        opt.step()\n",
    "\n",
    "        # opt_fast.step()\n",
    "        # opt_slow.step()\n",
    "\n",
    "        with torch.no_grad():\n",
    "            # loss_li[i]+=(loss+patch_loss_fast+patch_loss_slow).item()\n",
    "            # print(\"iter:\", i + 1, \"fast_loss:\", patch_loss_fast.item(), \"slow_loss:\", patch_loss_slow.item())\n",
    "            # print(\"iter:\", i + 1, \"loss:\", (loss+patch_loss_fast+patch_loss_slow).item())\n",
    "\n",
    "            patch_loss += cliploss.forward_patch(pic, source, neo_pic, target)*patch_lambda\n",
    "            loss_li[i] += (loss+patch_loss).item()\n",
    "            print(\"iter:\", i + 1, \"loss:\", (loss+patch_loss).item())\n",
    "\n",
    "\n",
    "            for x in li:\n",
    "                patch_file.write(str(x)+\" \")\n",
    "\n",
    "            patch_file.write(\"\\n\")\n",
    "\n",
    "            if (i+1)%10==0  or i==0:\n",
    "                neo_pic = model(input)\n",
    "                pil = topil(neo_pic.squeeze(0).cpu())\n",
    "                pil = transforms.Resize(size=ori_size, interpolation=Image.BICUBIC)(pil)\n",
    "                pil.save(f\"mid/{i//10}.jpg\")\n",
    "\n",
    "            # gli.append(gol_loss.item()*gol_lambda)\n",
    "            dli.append(dir_loss.item()*dir_lambda)\n",
    "            nli.append(norm_loss.item()*norm_lambda)\n",
    "\n",
    "            # if (i+1)%4==0 and cliploss.patch_size>=64:\n",
    "            #     cliploss.patch_size-=8\n",
    "\n",
    "\n",
    "\n",
    "        # pil = topil(neo_pic.squeeze(0).cpu())\n",
    "        # if ((i + 1) % 10) == 0:\n",
    "        #     pil.save(f\"./pic2/{(i + 1) // 10}.jpg\")\n",
    "\n",
    "    # return  model(input)\n",
    "    # neo_pic = model(input)\n",
    "    # pil = topil(neo_pic.squeeze(0).cpu())\n",
    "    # # pil.save(f\"{source}-{target}.jpg\")\n",
    "    # pil.save(path)\n",
    "\n",
    "\n",
    "\n"
   ],
   "metadata": {
    "collapsed": false,
    "pycharm": {
     "name": "#%%\n"
    }
   }
  },
  {
   "cell_type": "code",
   "execution_count": 12,
   "outputs": [
    {
     "name": "stderr",
     "output_type": "stream",
     "text": [
      "C:\\Users\\win10\\AppData\\Local\\Temp\\ipykernel_37492\\1932571386.py:31: DeprecationWarning: BICUBIC is deprecated and will be removed in Pillow 10 (2023-07-01). Use Resampling.BICUBIC instead.\n",
      "  pil = transforms.Resize(size=ori_size, interpolation=Image.BICUBIC)(pil)\n",
      "C:\\Users\\win10\\AppData\\Local\\Temp\\ipykernel_37492\\1932571386.py:135: DeprecationWarning: BICUBIC is deprecated and will be removed in Pillow 10 (2023-07-01). Use Resampling.BICUBIC instead.\n",
      "  pil = transforms.Resize(size=ori_size, interpolation=Image.BICUBIC)(pil)\n"
     ]
    },
    {
     "name": "stdout",
     "output_type": "stream",
     "text": [
      "iter: 1 loss: 10462.8984375\n",
      "iter: 2 loss: 10109.412109375\n",
      "iter: 3 loss: 9909.2626953125\n",
      "iter: 4 loss: 9795.353515625\n",
      "iter: 5 loss: 9674.1494140625\n",
      "iter: 6 loss: 9596.2578125\n",
      "iter: 7 loss: 9631.3935546875\n",
      "iter: 8 loss: 9548.908203125\n",
      "iter: 9 loss: 9538.4326171875\n",
      "iter: 10 loss: 9415.6572265625\n",
      "iter: 11 loss: 9457.4091796875\n",
      "iter: 12 loss: 9358.30859375\n",
      "iter: 13 loss: 9328.4970703125\n",
      "iter: 14 loss: 9368.763671875\n",
      "iter: 15 loss: 9354.515625\n",
      "iter: 16 loss: 9291.587890625\n",
      "iter: 17 loss: 9254.3857421875\n",
      "iter: 18 loss: 9139.2626953125\n",
      "iter: 19 loss: 9171.2138671875\n",
      "iter: 20 loss: 9133.2919921875\n",
      "iter: 21 loss: 9161.0341796875\n",
      "iter: 22 loss: 9118.384765625\n",
      "iter: 23 loss: 9123.73828125\n",
      "iter: 24 loss: 9104.66796875\n",
      "iter: 25 loss: 9152.77734375\n",
      "iter: 26 loss: 9116.6396484375\n",
      "iter: 27 loss: 9044.6298828125\n",
      "iter: 28 loss: 9020.93359375\n",
      "iter: 29 loss: 9094.1796875\n",
      "iter: 30 loss: 9001.181640625\n",
      "iter: 31 loss: 9129.4580078125\n",
      "iter: 32 loss: 8954.0888671875\n",
      "iter: 33 loss: 8978.330078125\n",
      "iter: 34 loss: 8897.8369140625\n",
      "iter: 35 loss: 8822.5390625\n",
      "iter: 36 loss: 8972.5224609375\n",
      "iter: 37 loss: 8918.43359375\n",
      "iter: 38 loss: 8845.8681640625\n",
      "iter: 39 loss: 8891.3486328125\n",
      "iter: 40 loss: 8913.31640625\n",
      "iter: 41 loss: 8826.8798828125\n",
      "iter: 42 loss: 8896.830078125\n",
      "iter: 43 loss: 8877.0791015625\n",
      "iter: 44 loss: 8784.6630859375\n",
      "iter: 45 loss: 8760.38671875\n",
      "iter: 46 loss: 8708.7470703125\n",
      "iter: 47 loss: 8791.009765625\n",
      "iter: 48 loss: 8741.1337890625\n",
      "iter: 49 loss: 8769.220703125\n",
      "iter: 50 loss: 8721.681640625\n",
      "iter: 51 loss: 8652.77734375\n",
      "iter: 52 loss: 8664.7568359375\n",
      "iter: 53 loss: 8743.2861328125\n",
      "iter: 54 loss: 8671.3681640625\n",
      "iter: 55 loss: 8623.095703125\n",
      "iter: 56 loss: 8704.681640625\n",
      "iter: 57 loss: 8685.564453125\n",
      "iter: 58 loss: 8571.357421875\n",
      "iter: 59 loss: 8579.205078125\n",
      "iter: 60 loss: 8672.91796875\n",
      "iter: 61 loss: 8518.830078125\n",
      "iter: 62 loss: 8661.9716796875\n",
      "iter: 63 loss: 8543.671875\n",
      "iter: 64 loss: 8650.216796875\n",
      "iter: 65 loss: 8511.4931640625\n",
      "iter: 66 loss: 8503.03515625\n",
      "iter: 67 loss: 8531.318359375\n",
      "iter: 68 loss: 8508.44921875\n",
      "iter: 69 loss: 8440.8359375\n",
      "iter: 70 loss: 8418.0009765625\n",
      "iter: 71 loss: 8416.8369140625\n",
      "iter: 72 loss: 8339.322265625\n",
      "iter: 73 loss: 8417.029296875\n",
      "iter: 74 loss: 8364.0234375\n",
      "iter: 75 loss: 8305.8095703125\n",
      "iter: 76 loss: 8375.56640625\n",
      "iter: 77 loss: 8431.689453125\n",
      "iter: 78 loss: 8301.3564453125\n",
      "iter: 79 loss: 8219.57421875\n",
      "iter: 80 loss: 8259.84765625\n",
      "iter: 81 loss: 8298.896484375\n",
      "iter: 82 loss: 8195.482421875\n",
      "iter: 83 loss: 8265.41796875\n",
      "iter: 84 loss: 8140.2783203125\n",
      "iter: 85 loss: 8149.18212890625\n",
      "iter: 86 loss: 8034.919921875\n",
      "iter: 87 loss: 8166.4130859375\n",
      "iter: 88 loss: 8139.21728515625\n",
      "iter: 89 loss: 8011.587890625\n",
      "iter: 90 loss: 8020.294921875\n",
      "iter: 91 loss: 7985.7685546875\n",
      "iter: 92 loss: 7935.25634765625\n",
      "iter: 93 loss: 7849.0712890625\n",
      "iter: 94 loss: 7955.9345703125\n",
      "iter: 95 loss: 7883.49365234375\n",
      "iter: 96 loss: 7822.8935546875\n",
      "iter: 97 loss: 7890.34814453125\n",
      "iter: 98 loss: 7804.42529296875\n",
      "iter: 99 loss: 7747.72900390625\n",
      "iter: 100 loss: 7867.04150390625\n",
      "iter: 101 loss: 7781.6025390625\n",
      "iter: 102 loss: 7707.7587890625\n",
      "iter: 103 loss: 7637.44677734375\n",
      "iter: 104 loss: 7618.8837890625\n",
      "iter: 105 loss: 7533.9794921875\n",
      "iter: 106 loss: 7568.19140625\n",
      "iter: 107 loss: 7570.76123046875\n",
      "iter: 108 loss: 7539.4189453125\n",
      "iter: 109 loss: 7544.541015625\n",
      "iter: 110 loss: 7454.77734375\n",
      "iter: 111 loss: 7416.521484375\n",
      "iter: 112 loss: 7274.14013671875\n",
      "iter: 113 loss: 7353.1904296875\n",
      "iter: 114 loss: 7235.7333984375\n",
      "iter: 115 loss: 7202.0859375\n",
      "iter: 116 loss: 7188.91796875\n",
      "iter: 117 loss: 7104.4140625\n",
      "iter: 118 loss: 7049.65966796875\n",
      "iter: 119 loss: 7104.318359375\n",
      "iter: 120 loss: 7021.37841796875\n",
      "iter: 121 loss: 6991.0478515625\n",
      "iter: 122 loss: 6943.63916015625\n",
      "iter: 123 loss: 7004.7431640625\n",
      "iter: 124 loss: 6933.21826171875\n",
      "iter: 125 loss: 6954.7470703125\n",
      "iter: 126 loss: 6934.2802734375\n",
      "iter: 127 loss: 6934.5380859375\n",
      "iter: 128 loss: 6841.240234375\n",
      "iter: 129 loss: 6867.4169921875\n",
      "iter: 130 loss: 6795.44775390625\n",
      "iter: 131 loss: 6815.0341796875\n",
      "iter: 132 loss: 6781.93896484375\n",
      "iter: 133 loss: 6828.69384765625\n",
      "iter: 134 loss: 6776.455078125\n",
      "iter: 135 loss: 6759.2431640625\n",
      "iter: 136 loss: 6710.0322265625\n",
      "iter: 137 loss: 6697.208984375\n",
      "iter: 138 loss: 6721.41650390625\n",
      "iter: 139 loss: 6663.404296875\n",
      "iter: 140 loss: 6662.6337890625\n",
      "iter: 141 loss: 6647.4833984375\n",
      "iter: 142 loss: 6610.55517578125\n",
      "iter: 143 loss: 6637.31201171875\n",
      "iter: 144 loss: 6602.37939453125\n",
      "iter: 145 loss: 6597.3701171875\n",
      "iter: 146 loss: 6595.78173828125\n",
      "iter: 147 loss: 6555.98583984375\n",
      "iter: 148 loss: 6587.248046875\n",
      "iter: 149 loss: 6554.35888671875\n",
      "iter: 150 loss: 6572.515625\n",
      "iter: 151 loss: 6502.1611328125\n",
      "iter: 152 loss: 6472.16796875\n",
      "iter: 153 loss: 6471.3525390625\n",
      "iter: 154 loss: 6468.849609375\n",
      "iter: 155 loss: 6520.75341796875\n",
      "iter: 156 loss: 6476.87939453125\n",
      "iter: 157 loss: 6461.55908203125\n",
      "iter: 158 loss: 6467.15673828125\n",
      "iter: 159 loss: 6449.12939453125\n",
      "iter: 160 loss: 6410.51025390625\n",
      "iter: 161 loss: 6403.81396484375\n",
      "iter: 162 loss: 6420.02587890625\n",
      "iter: 163 loss: 6429.931640625\n",
      "iter: 164 loss: 6397.49072265625\n",
      "iter: 165 loss: 6369.76806640625\n",
      "iter: 166 loss: 6416.39453125\n",
      "iter: 167 loss: 6416.91845703125\n",
      "iter: 168 loss: 6342.2939453125\n",
      "iter: 169 loss: 6380.4833984375\n",
      "iter: 170 loss: 6345.462890625\n",
      "iter: 171 loss: 6382.97119140625\n",
      "iter: 172 loss: 6370.13818359375\n",
      "iter: 173 loss: 6356.84619140625\n",
      "iter: 174 loss: 6382.3203125\n",
      "iter: 175 loss: 6361.94384765625\n",
      "iter: 176 loss: 6334.22509765625\n",
      "iter: 177 loss: 6307.115234375\n",
      "iter: 178 loss: 6302.767578125\n",
      "iter: 179 loss: 6284.4033203125\n",
      "iter: 180 loss: 6282.6455078125\n",
      "iter: 181 loss: 6306.6669921875\n",
      "iter: 182 loss: 6256.93408203125\n",
      "iter: 183 loss: 6251.41259765625\n",
      "iter: 184 loss: 6285.1171875\n",
      "iter: 185 loss: 6276.87890625\n",
      "iter: 186 loss: 6226.06396484375\n",
      "iter: 187 loss: 6214.68994140625\n",
      "iter: 188 loss: 6256.85693359375\n",
      "iter: 189 loss: 6242.453125\n",
      "iter: 190 loss: 6192.99658203125\n",
      "iter: 191 loss: 6169.97509765625\n",
      "iter: 192 loss: 6212.81298828125\n",
      "iter: 193 loss: 6226.55126953125\n",
      "iter: 194 loss: 6202.54931640625\n",
      "iter: 195 loss: 6216.3046875\n",
      "iter: 196 loss: 6200.34423828125\n",
      "iter: 197 loss: 6196.31396484375\n",
      "iter: 198 loss: 6152.9501953125\n",
      "iter: 199 loss: 6194.3076171875\n",
      "iter: 200 loss: 6194.69189453125\n",
      "usetime: 189.27813291549683\n"
     ]
    }
   ],
   "source": [
    "start = time.time()\n",
    "train(0, 200, pic, source, target)\n",
    "end = time.time()\n",
    "usetime = end - start\n",
    "print(f\"usetime: {usetime}\")"
   ],
   "metadata": {
    "collapsed": false,
    "pycharm": {
     "name": "#%%\n"
    }
   }
  },
  {
   "cell_type": "code",
   "execution_count": 13,
   "outputs": [
    {
     "name": "stderr",
     "output_type": "stream",
     "text": [
      "C:\\Users\\win10\\AppData\\Local\\Temp\\ipykernel_37492\\3219620664.py:3: DeprecationWarning: BICUBIC is deprecated and will be removed in Pillow 10 (2023-07-01). Use Resampling.BICUBIC instead.\n",
      "  pil = transforms.Resize(size=ori_size, interpolation=Image.BICUBIC)(pil)\n"
     ]
    }
   ],
   "source": [
    "neo_pic = model(pic)\n",
    "pil = topil(neo_pic.squeeze(0).cpu())\n",
    "pil = transforms.Resize(size=ori_size, interpolation=Image.BICUBIC)(pil)\n",
    "pil.save(path)"
   ],
   "metadata": {
    "collapsed": false,
    "pycharm": {
     "name": "#%%\n"
    }
   }
  },
  {
   "cell_type": "code",
   "execution_count": 14,
   "outputs": [],
   "source": [
    "patch_file.close()"
   ],
   "metadata": {
    "collapsed": false,
    "pycharm": {
     "name": "#%%\n"
    }
   }
  },
  {
   "cell_type": "code",
   "execution_count": 15,
   "outputs": [],
   "source": [
    "file_uu = open(\"neo_uu_trick.txt\", \"r\")\n",
    "read_loss_li = file_uu.readline()\n",
    "read_loss_li = [float(x) for x in read_loss_li.split()]\n",
    "if not read_loss_li:\n",
    "    read_loss_li = [0]*200\n",
    "\n",
    "cur_times = int(file_uu.readline())\n",
    "file_uu.close()"
   ],
   "metadata": {
    "collapsed": false,
    "pycharm": {
     "name": "#%%\n"
    }
   }
  },
  {
   "cell_type": "code",
   "execution_count": 16,
   "outputs": [
    {
     "data": {
      "text/plain": "[<matplotlib.lines.Line2D at 0x124f0721b50>]"
     },
     "execution_count": 16,
     "metadata": {},
     "output_type": "execute_result"
    },
    {
     "data": {
      "text/plain": "<Figure size 640x480 with 1 Axes>",
      "image/png": "[encoded data removed]"
     },
     "metadata": {},
     "output_type": "display_data"
    }
   ],
   "source": [
    "import matplotlib.pyplot as plt\n",
    "x = [i for i in range(200)]\n",
    "plt.plot(x,loss_li,color=\"red\",marker=\"o\")\n"
   ],
   "metadata": {
    "collapsed": false,
    "pycharm": {
     "name": "#%%\n"
    }
   }
  },
  {
   "cell_type": "code",
   "execution_count": 17,
   "outputs": [],
   "source": [
    "for i in range(200):\n",
    "    loss_li[i]+=read_loss_li[i]\n",
    "with open(file = \"neo_uu_trick.txt\", mode = \"w\") as file:\n",
    "    for i in loss_li:\n",
    "        file.write(str(i)+\" \")\n",
    "    file.write(\"\\n\")\n",
    "    file.write(str(cur_times+1))\n"
   ],
   "metadata": {
    "collapsed": false,
    "pycharm": {
     "name": "#%%\n"
    }
   }
  },
  {
   "cell_type": "code",
   "execution_count": 18,
   "outputs": [],
   "source": [
    "# x = [i for i in range(200)]\n",
    "# plt.plot(x,gli,color=\"red\",marker=\"o\")"
   ],
   "metadata": {
    "collapsed": false,
    "pycharm": {
     "name": "#%%\n"
    }
   }
  },
  {
   "cell_type": "code",
   "execution_count": 19,
   "outputs": [
    {
     "data": {
      "text/plain": "[<matplotlib.lines.Line2D at 0x124f6c09af0>]"
     },
     "execution_count": 19,
     "metadata": {},
     "output_type": "execute_result"
    },
    {
     "data": {
      "text/plain": "<Figure size 640x480 with 1 Axes>",
      "image/png": "[encoded data removed]"
     },
     "metadata": {},
     "output_type": "display_data"
    }
   ],
   "source": [
    "x = [i for i in range(200)]\n",
    "plt.plot(x,dli,color=\"red\",marker=\"o\")"
   ],
   "metadata": {
    "collapsed": false,
    "pycharm": {
     "name": "#%%\n"
    }
   }
  },
  {
   "cell_type": "code",
   "execution_count": 20,
   "outputs": [
    {
     "data": {
      "text/plain": "[<matplotlib.lines.Line2D at 0x125130734f0>]"
     },
     "execution_count": 20,
     "metadata": {},
     "output_type": "execute_result"
    },
    {
     "data": {
      "text/plain": "<Figure size 640x480 with 1 Axes>",
      "image/png": "[encoded data removed]"
     },
     "metadata": {},
     "output_type": "display_data"
    }
   ],
   "source": [
    "x = [i for i in range(200)]\n",
    "plt.plot(x,nli,color=\"red\",marker=\"o\")"
   ],
   "metadata": {
    "collapsed": false,
    "pycharm": {
     "name": "#%%\n"
    }
   }
  },
  {
   "cell_type": "code",
   "execution_count": 21,
   "outputs": [
    {
     "data": {
      "text/plain": "[<matplotlib.lines.Line2D at 0x1251efa4a90>]"
     },
     "execution_count": 21,
     "metadata": {},
     "output_type": "execute_result"
    },
    {
     "data": {
      "text/plain": "<Figure size 640x480 with 1 Axes>",
      "image/png": "[encoded data removed]"
     },
     "metadata": {},
     "output_type": "display_data"
    }
   ],
   "source": [
    "x = [i for i in range(200)]\n",
    "# li = [gli[i]+dli[i]+nli[i] for i in range(200)]\n",
    "li = [dli[i]+nli[i] for i in range(200)]\n",
    "plt.plot(x,li,color=\"red\",marker=\"o\")"
   ],
   "metadata": {
    "collapsed": false,
    "pycharm": {
     "name": "#%%\n"
    }
   }
  },
  {
   "cell_type": "code",
   "execution_count": 22,
   "outputs": [
    {
     "name": "stdout",
     "output_type": "stream",
     "text": [
      "0.510078125\n"
     ]
    },
    {
     "data": {
      "text/plain": "<Figure size 640x480 with 1 Axes>",
      "image/png": "[encoded data removed]"
     },
     "metadata": {},
     "output_type": "display_data"
    }
   ],
   "source": [
    "x = [i for i in range(200)]\n",
    "li = [x/64 for x in cliploss.right_patch]\n",
    "plt.plot(x,li,color=\"red\",marker=\"o\")\n",
    "print(sum(cliploss.right_patch)/12800)"
   ],
   "metadata": {
    "collapsed": false,
    "pycharm": {
     "name": "#%%\n"
    }
   }
  }
 ],
 "metadata": {
  "kernelspec": {
   "display_name": "Python 3",
   "language": "python",
   "name": "python3"
  },
  "language_info": {
   "codemirror_mode": {
    "name": "ipython",
    "version": 2
   },
   "file_extension": ".py",
   "mimetype": "text/x-python",
   "name": "python",
   "nbconvert_exporter": "python",
   "pygments_lexer": "ipython2",
   "version": "2.7.6"
  }
 },
 "nbformat": 4,
 "nbformat_minor": 0
}